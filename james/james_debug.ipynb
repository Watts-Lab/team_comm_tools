{
 "cells": [
  {
   "cell_type": "markdown",
   "metadata": {},
   "source": [
    "# A Notebook for Debugging Issues with James"
   ]
  },
  {
   "cell_type": "code",
   "execution_count": 1,
   "metadata": {},
   "outputs": [],
   "source": [
    "# Uncomment and run this line of code if you need to install the package\n",
    "# !pip install team_comm_tools"
   ]
  },
  {
   "cell_type": "markdown",
   "metadata": {},
   "source": [
    "Here, we confirm that we have successfully installed the package!"
   ]
  },
  {
   "cell_type": "code",
   "execution_count": 2,
   "metadata": {},
   "outputs": [
    {
     "name": "stdout",
     "output_type": "stream",
     "text": [
      "team_comm_tools         0.1.4.post2\n"
     ]
    }
   ],
   "source": [
    "!pip list | grep team_comm_tools"
   ]
  },
  {
   "cell_type": "markdown",
   "metadata": {},
   "source": [
    "Now let's import the package along with other packages we will need to run the demo."
   ]
  },
  {
   "cell_type": "code",
   "execution_count": 3,
   "metadata": {},
   "outputs": [
    {
     "name": "stderr",
     "output_type": "stream",
     "text": [
      "[nltk_data] Downloading package wordnet to /Users/xehu/nltk_data...\n",
      "[nltk_data]   Package wordnet is already up-to-date!\n"
     ]
    }
   ],
   "source": [
    "import pandas as pd\n",
    "import numpy as np\n",
    "import matplotlib.pyplot as plt\n",
    "# import seaborn as sns\n",
    "import textwrap\n",
    "from team_comm_tools import FeatureBuilder"
   ]
  },
  {
   "cell_type": "code",
   "execution_count": 4,
   "metadata": {},
   "outputs": [],
   "source": [
    "uber_transcript = pd.read_csv('all_utterances.csv')"
   ]
  },
  {
   "cell_type": "code",
   "execution_count": 5,
   "metadata": {},
   "outputs": [
    {
     "data": {
      "text/html": [
       "<div>\n",
       "<style scoped>\n",
       "    .dataframe tbody tr th:only-of-type {\n",
       "        vertical-align: middle;\n",
       "    }\n",
       "\n",
       "    .dataframe tbody tr th {\n",
       "        vertical-align: top;\n",
       "    }\n",
       "\n",
       "    .dataframe thead th {\n",
       "        text-align: right;\n",
       "    }\n",
       "</style>\n",
       "<table border=\"1\" class=\"dataframe\">\n",
       "  <thead>\n",
       "    <tr style=\"text-align: right;\">\n",
       "      <th></th>\n",
       "      <th>raw_start</th>\n",
       "      <th>raw_end</th>\n",
       "      <th>confidence</th>\n",
       "      <th>transcript</th>\n",
       "      <th>filepath_start</th>\n",
       "      <th>filepath_end</th>\n",
       "      <th>timestamp_start</th>\n",
       "      <th>timestamp_end</th>\n",
       "      <th>file</th>\n",
       "      <th>gameId</th>\n",
       "      <th>position</th>\n",
       "      <th>deliberationId</th>\n",
       "      <th>sampleId</th>\n",
       "    </tr>\n",
       "  </thead>\n",
       "  <tbody>\n",
       "    <tr>\n",
       "      <th>0</th>\n",
       "      <td>8.080000</td>\n",
       "      <td>9.300000</td>\n",
       "      <td>0.994489</td>\n",
       "      <td>hey can you hear me</td>\n",
       "      <td>8.568000</td>\n",
       "      <td>9.788000</td>\n",
       "      <td>8.562000</td>\n",
       "      <td>9.782000</td>\n",
       "      <td>recordings/20241001_1844_ctt_w1V35R4E/17278117...</td>\n",
       "      <td>01J94SKS2GJ71CT03G7XV35R4E</td>\n",
       "      <td>1</td>\n",
       "      <td>a125d806-2bcf-496a-a9ae-f727a2803d2f</td>\n",
       "      <td>0be567b7-cda5-42eb-9098-c0187b0225c3</td>\n",
       "    </tr>\n",
       "    <tr>\n",
       "      <th>1</th>\n",
       "      <td>8.559999</td>\n",
       "      <td>9.620000</td>\n",
       "      <td>0.708329</td>\n",
       "      <td>yes i can</td>\n",
       "      <td>10.291999</td>\n",
       "      <td>11.352000</td>\n",
       "      <td>10.277999</td>\n",
       "      <td>11.338000</td>\n",
       "      <td>recordings/20241001_1844_ctt_w1V35R4E/17278117...</td>\n",
       "      <td>01J94SKS2GJ71CT03G7XV35R4E</td>\n",
       "      <td>0</td>\n",
       "      <td>4c923fdd-fd15-4780-9f16-5a60e040def6</td>\n",
       "      <td>667c2bfe-8401-4272-9ea6-44f0aef7c38c</td>\n",
       "    </tr>\n",
       "    <tr>\n",
       "      <th>2</th>\n",
       "      <td>11.440000</td>\n",
       "      <td>11.940000</td>\n",
       "      <td>0.995984</td>\n",
       "      <td>okay</td>\n",
       "      <td>11.928000</td>\n",
       "      <td>12.428000</td>\n",
       "      <td>11.922000</td>\n",
       "      <td>12.422000</td>\n",
       "      <td>recordings/20241001_1844_ctt_w1V35R4E/17278117...</td>\n",
       "      <td>01J94SKS2GJ71CT03G7XV35R4E</td>\n",
       "      <td>1</td>\n",
       "      <td>a125d806-2bcf-496a-a9ae-f727a2803d2f</td>\n",
       "      <td>0be567b7-cda5-42eb-9098-c0187b0225c3</td>\n",
       "    </tr>\n",
       "    <tr>\n",
       "      <th>3</th>\n",
       "      <td>13.655000</td>\n",
       "      <td>15.514999</td>\n",
       "      <td>0.984508</td>\n",
       "      <td>so what are we talking about the</td>\n",
       "      <td>14.143000</td>\n",
       "      <td>16.002999</td>\n",
       "      <td>14.137000</td>\n",
       "      <td>15.996999</td>\n",
       "      <td>recordings/20241001_1844_ctt_w1V35R4E/17278117...</td>\n",
       "      <td>01J94SKS2GJ71CT03G7XV35R4E</td>\n",
       "      <td>1</td>\n",
       "      <td>a125d806-2bcf-496a-a9ae-f727a2803d2f</td>\n",
       "      <td>0be567b7-cda5-42eb-9098-c0187b0225c3</td>\n",
       "    </tr>\n",
       "    <tr>\n",
       "      <th>4</th>\n",
       "      <td>14.945001</td>\n",
       "      <td>15.445001</td>\n",
       "      <td>0.650629</td>\n",
       "      <td>yeah</td>\n",
       "      <td>16.677001</td>\n",
       "      <td>17.177001</td>\n",
       "      <td>16.663001</td>\n",
       "      <td>17.163001</td>\n",
       "      <td>recordings/20241001_1844_ctt_w1V35R4E/17278117...</td>\n",
       "      <td>01J94SKS2GJ71CT03G7XV35R4E</td>\n",
       "      <td>0</td>\n",
       "      <td>4c923fdd-fd15-4780-9f16-5a60e040def6</td>\n",
       "      <td>667c2bfe-8401-4272-9ea6-44f0aef7c38c</td>\n",
       "    </tr>\n",
       "    <tr>\n",
       "      <th>5</th>\n",
       "      <td>16.775000</td>\n",
       "      <td>18.075000</td>\n",
       "      <td>0.992440</td>\n",
       "      <td>us government funded</td>\n",
       "      <td>17.263000</td>\n",
       "      <td>18.563000</td>\n",
       "      <td>17.257000</td>\n",
       "      <td>18.557000</td>\n",
       "      <td>recordings/20241001_1844_ctt_w1V35R4E/17278117...</td>\n",
       "      <td>01J94SKS2GJ71CT03G7XV35R4E</td>\n",
       "      <td>1</td>\n",
       "      <td>a125d806-2bcf-496a-a9ae-f727a2803d2f</td>\n",
       "      <td>0be567b7-cda5-42eb-9098-c0187b0225c3</td>\n",
       "    </tr>\n",
       "    <tr>\n",
       "      <th>6</th>\n",
       "      <td>18.535000</td>\n",
       "      <td>19.835000</td>\n",
       "      <td>0.977487</td>\n",
       "      <td>needle exchange programs</td>\n",
       "      <td>19.023000</td>\n",
       "      <td>20.323000</td>\n",
       "      <td>19.017000</td>\n",
       "      <td>20.317000</td>\n",
       "      <td>recordings/20241001_1844_ctt_w1V35R4E/17278117...</td>\n",
       "      <td>01J94SKS2GJ71CT03G7XV35R4E</td>\n",
       "      <td>1</td>\n",
       "      <td>a125d806-2bcf-496a-a9ae-f727a2803d2f</td>\n",
       "      <td>0be567b7-cda5-42eb-9098-c0187b0225c3</td>\n",
       "    </tr>\n",
       "    <tr>\n",
       "      <th>7</th>\n",
       "      <td>19.585000</td>\n",
       "      <td>20.085000</td>\n",
       "      <td>0.691941</td>\n",
       "      <td>yep</td>\n",
       "      <td>21.317000</td>\n",
       "      <td>21.817000</td>\n",
       "      <td>21.303000</td>\n",
       "      <td>21.803000</td>\n",
       "      <td>recordings/20241001_1844_ctt_w1V35R4E/17278117...</td>\n",
       "      <td>01J94SKS2GJ71CT03G7XV35R4E</td>\n",
       "      <td>0</td>\n",
       "      <td>4c923fdd-fd15-4780-9f16-5a60e040def6</td>\n",
       "      <td>667c2bfe-8401-4272-9ea6-44f0aef7c38c</td>\n",
       "    </tr>\n",
       "    <tr>\n",
       "      <th>8</th>\n",
       "      <td>22.855000</td>\n",
       "      <td>24.395000</td>\n",
       "      <td>0.868140</td>\n",
       "      <td>or are you a pro</td>\n",
       "      <td>23.343000</td>\n",
       "      <td>24.883000</td>\n",
       "      <td>23.337000</td>\n",
       "      <td>24.877000</td>\n",
       "      <td>recordings/20241001_1844_ctt_w1V35R4E/17278117...</td>\n",
       "      <td>01J94SKS2GJ71CT03G7XV35R4E</td>\n",
       "      <td>1</td>\n",
       "      <td>a125d806-2bcf-496a-a9ae-f727a2803d2f</td>\n",
       "      <td>0be567b7-cda5-42eb-9098-c0187b0225c3</td>\n",
       "    </tr>\n",
       "    <tr>\n",
       "      <th>9</th>\n",
       "      <td>24.775000</td>\n",
       "      <td>25.675000</td>\n",
       "      <td>0.999360</td>\n",
       "      <td>needle exchange</td>\n",
       "      <td>25.263000</td>\n",
       "      <td>26.163000</td>\n",
       "      <td>25.257000</td>\n",
       "      <td>26.157000</td>\n",
       "      <td>recordings/20241001_1844_ctt_w1V35R4E/17278117...</td>\n",
       "      <td>01J94SKS2GJ71CT03G7XV35R4E</td>\n",
       "      <td>1</td>\n",
       "      <td>a125d806-2bcf-496a-a9ae-f727a2803d2f</td>\n",
       "      <td>0be567b7-cda5-42eb-9098-c0187b0225c3</td>\n",
       "    </tr>\n",
       "  </tbody>\n",
       "</table>\n",
       "</div>"
      ],
      "text/plain": [
       "   raw_start    raw_end  confidence                        transcript  \\\n",
       "0   8.080000   9.300000    0.994489               hey can you hear me   \n",
       "1   8.559999   9.620000    0.708329                         yes i can   \n",
       "2  11.440000  11.940000    0.995984                              okay   \n",
       "3  13.655000  15.514999    0.984508  so what are we talking about the   \n",
       "4  14.945001  15.445001    0.650629                              yeah   \n",
       "5  16.775000  18.075000    0.992440              us government funded   \n",
       "6  18.535000  19.835000    0.977487          needle exchange programs   \n",
       "7  19.585000  20.085000    0.691941                               yep   \n",
       "8  22.855000  24.395000    0.868140                  or are you a pro   \n",
       "9  24.775000  25.675000    0.999360                   needle exchange   \n",
       "\n",
       "   filepath_start  filepath_end  timestamp_start  timestamp_end  \\\n",
       "0        8.568000      9.788000         8.562000       9.782000   \n",
       "1       10.291999     11.352000        10.277999      11.338000   \n",
       "2       11.928000     12.428000        11.922000      12.422000   \n",
       "3       14.143000     16.002999        14.137000      15.996999   \n",
       "4       16.677001     17.177001        16.663001      17.163001   \n",
       "5       17.263000     18.563000        17.257000      18.557000   \n",
       "6       19.023000     20.323000        19.017000      20.317000   \n",
       "7       21.317000     21.817000        21.303000      21.803000   \n",
       "8       23.343000     24.883000        23.337000      24.877000   \n",
       "9       25.263000     26.163000        25.257000      26.157000   \n",
       "\n",
       "                                                file  \\\n",
       "0  recordings/20241001_1844_ctt_w1V35R4E/17278117...   \n",
       "1  recordings/20241001_1844_ctt_w1V35R4E/17278117...   \n",
       "2  recordings/20241001_1844_ctt_w1V35R4E/17278117...   \n",
       "3  recordings/20241001_1844_ctt_w1V35R4E/17278117...   \n",
       "4  recordings/20241001_1844_ctt_w1V35R4E/17278117...   \n",
       "5  recordings/20241001_1844_ctt_w1V35R4E/17278117...   \n",
       "6  recordings/20241001_1844_ctt_w1V35R4E/17278117...   \n",
       "7  recordings/20241001_1844_ctt_w1V35R4E/17278117...   \n",
       "8  recordings/20241001_1844_ctt_w1V35R4E/17278117...   \n",
       "9  recordings/20241001_1844_ctt_w1V35R4E/17278117...   \n",
       "\n",
       "                       gameId  position                        deliberationId  \\\n",
       "0  01J94SKS2GJ71CT03G7XV35R4E         1  a125d806-2bcf-496a-a9ae-f727a2803d2f   \n",
       "1  01J94SKS2GJ71CT03G7XV35R4E         0  4c923fdd-fd15-4780-9f16-5a60e040def6   \n",
       "2  01J94SKS2GJ71CT03G7XV35R4E         1  a125d806-2bcf-496a-a9ae-f727a2803d2f   \n",
       "3  01J94SKS2GJ71CT03G7XV35R4E         1  a125d806-2bcf-496a-a9ae-f727a2803d2f   \n",
       "4  01J94SKS2GJ71CT03G7XV35R4E         0  4c923fdd-fd15-4780-9f16-5a60e040def6   \n",
       "5  01J94SKS2GJ71CT03G7XV35R4E         1  a125d806-2bcf-496a-a9ae-f727a2803d2f   \n",
       "6  01J94SKS2GJ71CT03G7XV35R4E         1  a125d806-2bcf-496a-a9ae-f727a2803d2f   \n",
       "7  01J94SKS2GJ71CT03G7XV35R4E         0  4c923fdd-fd15-4780-9f16-5a60e040def6   \n",
       "8  01J94SKS2GJ71CT03G7XV35R4E         1  a125d806-2bcf-496a-a9ae-f727a2803d2f   \n",
       "9  01J94SKS2GJ71CT03G7XV35R4E         1  a125d806-2bcf-496a-a9ae-f727a2803d2f   \n",
       "\n",
       "                               sampleId  \n",
       "0  0be567b7-cda5-42eb-9098-c0187b0225c3  \n",
       "1  667c2bfe-8401-4272-9ea6-44f0aef7c38c  \n",
       "2  0be567b7-cda5-42eb-9098-c0187b0225c3  \n",
       "3  0be567b7-cda5-42eb-9098-c0187b0225c3  \n",
       "4  667c2bfe-8401-4272-9ea6-44f0aef7c38c  \n",
       "5  0be567b7-cda5-42eb-9098-c0187b0225c3  \n",
       "6  0be567b7-cda5-42eb-9098-c0187b0225c3  \n",
       "7  667c2bfe-8401-4272-9ea6-44f0aef7c38c  \n",
       "8  0be567b7-cda5-42eb-9098-c0187b0225c3  \n",
       "9  0be567b7-cda5-42eb-9098-c0187b0225c3  "
      ]
     },
     "execution_count": 5,
     "metadata": {},
     "output_type": "execute_result"
    }
   ],
   "source": [
    "uber_transcript.head(10)"
   ]
  },
  {
   "cell_type": "markdown",
   "metadata": {},
   "source": [
    "# Run the FeatureBuilder"
   ]
  },
  {
   "cell_type": "code",
   "execution_count": 6,
   "metadata": {},
   "outputs": [
    {
     "name": "stdout",
     "output_type": "stream",
     "text": [
      "Initializing Featurization...\n",
      "Confirmed that data has conversation_id: gameId, speaker_id: sampleId and message: transcript columns!\n",
      "Generating SBERT sentence vectors...\n"
     ]
    },
    {
     "name": "stderr",
     "output_type": "stream",
     "text": [
      "100%|██████████| 9460/9460 [00:00<00:00, 85446.89it/s]\n"
     ]
    },
    {
     "name": "stdout",
     "output_type": "stream",
     "text": [
      "Generating RoBERTa sentiments...\n"
     ]
    },
    {
     "name": "stderr",
     "output_type": "stream",
     "text": [
      "100%|██████████| 148/148 [02:16<00:00,  1.08it/s]\n"
     ]
    },
    {
     "name": "stdout",
     "output_type": "stream",
     "text": [
      "Chat Level Features ...\n"
     ]
    },
    {
     "name": "stderr",
     "output_type": "stream",
     "text": [
      "100%|██████████| 17/17 [04:06<00:00, 14.49s/it]\n"
     ]
    },
    {
     "name": "stdout",
     "output_type": "stream",
     "text": [
      "Generating features for the first 100.0% of messages...\n",
      "Generating User Level Features ...\n",
      "Generating Conversation Level Features ...\n",
      "All Done!\n"
     ]
    }
   ],
   "source": [
    "transcript_featurizer = FeatureBuilder(\n",
    "    input_df = uber_transcript,\n",
    "    conversation_id_col = \"gameId\",\n",
    "    speaker_id_col = \"sampleId\",\n",
    "    message_col = \"transcript\",\n",
    "    timestamp_col= (\"filepath_start\", \"filepath_end\"),    \n",
    "    turns = True, # if true, this will combine successive turns by the same speaker.\n",
    "    # these features depend on sentence vectors, so they take longer to generate on larger datasets. Add them in manually if you are interested in adding them to your output!\n",
    "    custom_features =  [\n",
    "        \"(BERT) Mimicry\",\n",
    "        \"Moving Mimicry\",\n",
    "        \"Forward Flow\",\n",
    "        \"Discursive Diversity\"\n",
    "    ],\n",
    "    )\n",
    "# this line of code runs the FeatureBuilder on your data\n",
    "transcript_featurizer.featurize()"
   ]
  }
 ],
 "metadata": {
  "kernelspec": {
   "display_name": "tct_test_env",
   "language": "python",
   "name": "python3"
  },
  "language_info": {
   "codemirror_mode": {
    "name": "ipython",
    "version": 3
   },
   "file_extension": ".py",
   "mimetype": "text/x-python",
   "name": "python",
   "nbconvert_exporter": "python",
   "pygments_lexer": "ipython3",
   "version": "3.12.2"
  }
 },
 "nbformat": 4,
 "nbformat_minor": 2
}
