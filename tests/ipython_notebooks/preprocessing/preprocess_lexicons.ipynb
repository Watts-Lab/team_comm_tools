{
 "cells": [
  {
   "attachments": {},
   "cell_type": "markdown",
   "metadata": {},
   "source": [
    "# Imports"
   ]
  },
  {
   "cell_type": "code",
   "execution_count": 10,
   "metadata": {},
   "outputs": [],
   "source": [
    "import os\n",
    "import pickle\n",
    "import re"
   ]
  },
  {
   "attachments": {},
   "cell_type": "markdown",
   "metadata": {},
   "source": [
    "# Preprocessing Lexicons\n",
    "\n",
    "Here, we take the following steps:\n",
    "- Read all the lexicon files\n",
    "- Replace and clean up the special characters\n",
    "- Express all lexicons in the following regular expression format: \n",
    "  ```\n",
    "  <String Begining or whitespace>lexicon<Any character for any number of times><Line End or whitespace>\n",
    "  ```\n",
    "\n",
    "- Finally, we join all these individual regular expressions into one master regex usinf the or operator `(\"|\")`"
   ]
  },
  {
   "cell_type": "code",
   "execution_count": 11,
   "metadata": {},
   "outputs": [],
   "source": [
    "lexicons_dict = {}"
   ]
  },
  {
   "cell_type": "code",
   "execution_count": 12,
   "metadata": {},
   "outputs": [],
   "source": [
    "def read_in_lexicons(directory):\n",
    "    for filename in os.listdir(directory):\n",
    "        with open(directory+filename, encoding = \"mac_roman\") as lexicons:\n",
    "            if filename.startswith(\".\"):\n",
    "                continue\n",
    "            lines = []\n",
    "            for lexicon in lexicons:\n",
    "                # get rid of parentheses\n",
    "                lexicon = lexicon.replace('(', '')\n",
    "                lexicon = lexicon.replace(')', '')\n",
    "                if '*' not in lexicon:\n",
    "                    lines.append(r\"\\b\" + lexicon.replace(\"\\n\", \"\") + r\"\\b\")\n",
    "                else:\n",
    "                    # get rid of any cases of multiple repeat -- e.g., '**'\n",
    "                    lexicon = lexicon.replace('\\**', '\\*')\n",
    "\n",
    "                    # build the final lexicon\n",
    "                    lines.append(r\"\\b\" + lexicon.replace(\"\\n\", \"\").replace(\"*\", \"\") + r\"\\S*\\b\")\n",
    "        clean_name = re.sub('.txt', '', filename)\n",
    "        lexicons_dict[clean_name] = \"|\".join(lines)"
   ]
  },
  {
   "cell_type": "code",
   "execution_count": 13,
   "metadata": {},
   "outputs": [],
   "source": [
    "read_in_lexicons(directory=\"../lexicons/liwc_lexicons/\") # Reads in LIWC Lexicons\n",
    "read_in_lexicons(directory=\"../lexicons/other_lexicons/\") # Reads in Other Lexicons"
   ]
  },
  {
   "attachments": {},
   "cell_type": "markdown",
   "metadata": {},
   "source": [
    "# Saving Preprocessed Lexicons Dictionary"
   ]
  },
  {
   "cell_type": "code",
   "execution_count": 14,
   "metadata": {},
   "outputs": [
    {
     "data": {
      "text/plain": [
       "True"
      ]
     },
     "execution_count": 14,
     "metadata": {},
     "output_type": "execute_result"
    }
   ],
   "source": [
    "with open(\"../lexicons_dict.pkl\", \"wb\") as lexicons_pickle_file:\n",
    "    pickle.dump(lexicons_dict, lexicons_pickle_file)\n",
    "\n",
    "with open(\"../lexicons_dict.pkl\", \"rb\") as lexicons_pickle_file:\n",
    "    lexicons_dict_loaded = pickle.load(lexicons_pickle_file)\n",
    "\n",
    "lexicons_dict_loaded == lexicons_dict"
   ]
  }
 ],
 "metadata": {
  "kernelspec": {
   "display_name": "team_process_map",
   "language": "python",
   "name": "python3"
  },
  "language_info": {
   "codemirror_mode": {
    "name": "ipython",
    "version": 3
   },
   "file_extension": ".py",
   "mimetype": "text/x-python",
   "name": "python",
   "nbconvert_exporter": "python",
   "pygments_lexer": "ipython3",
   "version": "3.11.3"
  },
  "orig_nbformat": 4,
  "vscode": {
   "interpreter": {
    "hash": "4308115ec36d55d4bd05e5164490d17bc30a5f7275b0a0d4f3922ff237a9eaea"
   }
  }
 },
 "nbformat": 4,
 "nbformat_minor": 2
}
