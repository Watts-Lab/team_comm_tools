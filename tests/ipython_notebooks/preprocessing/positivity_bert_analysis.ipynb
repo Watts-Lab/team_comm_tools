{
 "cells": [
  {
   "cell_type": "code",
   "execution_count": 1,
   "metadata": {},
   "outputs": [],
   "source": [
    "import pandas as pd\n",
    "import numpy as np\n",
    "from transformers import pipeline\n",
    "from transformers import AutoTokenizer\n",
    "from transformers import AutoModelForSequenceClassification\n",
    "from scipy.special import softmax\n",
    "import matplotlib.pyplot as plt\n",
    "import math"
   ]
  },
  {
   "cell_type": "code",
   "execution_count": 2,
   "metadata": {},
   "outputs": [],
   "source": [
    "# this is in utils - copying here for ease of access lol\n",
    "def preprocess_conversation_columns(df):\n",
    "\t# remove all special characters from df\n",
    "\tdf.columns = df.columns.str.replace('[^A-Za-z0-9_]', '', regex=True)\n",
    "\t\n",
    "\t# If data is grouped by batch/round, add a conversation num\n",
    "\tif {'batch_num', 'round_num'}.issubset(df.columns):\n",
    "\t\tdf['conversation_num'] = df.groupby(['batch_num', 'round_num']).ngroup()\n",
    "\t\tdf = df[df.columns.tolist()[-1:] + df.columns.tolist()[0:-1]] # make the new column first\n",
    "\n",
    "\treturn(df)\n",
    "\n",
    "def get_sentiment(text):\n",
    "\n",
    "    if (pd.isnull(text)):\n",
    "        return({'positive': np.nan, 'negative': np.nan, 'neutral': np.nan})\n",
    "    \n",
    "    encoded = tokenizer(text, return_tensors='pt')\n",
    "    output = model(**encoded)\n",
    "\n",
    "    scores = output[0][0].detach().numpy()\n",
    "    scores = softmax(scores)\n",
    "\n",
    "    # sample output format\n",
    "    return({'positive': scores[2], 'negative': scores[0], 'neutral': scores[1]})"
   ]
  },
  {
   "cell_type": "code",
   "execution_count": 3,
   "metadata": {},
   "outputs": [
    {
     "data": {
      "application/vnd.jupyter.widget-view+json": {
       "model_id": "cccd7c3c093a41ebb4d0be883ce2b106",
       "version_major": 2,
       "version_minor": 0
      },
      "text/plain": [
       "Downloading (…)lve/main/config.json:   0%|          | 0.00/929 [00:00<?, ?B/s]"
      ]
     },
     "metadata": {},
     "output_type": "display_data"
    },
    {
     "data": {
      "application/vnd.jupyter.widget-view+json": {
       "model_id": "b7915d65687f435a95766d54ab1342ac",
       "version_major": 2,
       "version_minor": 0
      },
      "text/plain": [
       "Downloading (…)olve/main/vocab.json:   0%|          | 0.00/899k [00:00<?, ?B/s]"
      ]
     },
     "metadata": {},
     "output_type": "display_data"
    },
    {
     "data": {
      "application/vnd.jupyter.widget-view+json": {
       "model_id": "9a90d2d9d1af42fdb88779311bc395c0",
       "version_major": 2,
       "version_minor": 0
      },
      "text/plain": [
       "Downloading (…)olve/main/merges.txt:   0%|          | 0.00/456k [00:00<?, ?B/s]"
      ]
     },
     "metadata": {},
     "output_type": "display_data"
    },
    {
     "data": {
      "application/vnd.jupyter.widget-view+json": {
       "model_id": "be51e7f68d1745e2baae77e57b165c89",
       "version_major": 2,
       "version_minor": 0
      },
      "text/plain": [
       "Downloading (…)cial_tokens_map.json:   0%|          | 0.00/239 [00:00<?, ?B/s]"
      ]
     },
     "metadata": {},
     "output_type": "display_data"
    },
    {
     "data": {
      "application/vnd.jupyter.widget-view+json": {
       "model_id": "585522d3c74d4c799ae581c282889e1a",
       "version_major": 2,
       "version_minor": 0
      },
      "text/plain": [
       "Downloading pytorch_model.bin:   0%|          | 0.00/501M [00:00<?, ?B/s]"
      ]
     },
     "metadata": {},
     "output_type": "display_data"
    },
    {
     "name": "stderr",
     "output_type": "stream",
     "text": [
      "Some weights of the model checkpoint at cardiffnlp/twitter-roberta-base-sentiment-latest were not used when initializing RobertaForSequenceClassification: ['roberta.pooler.dense.bias', 'roberta.pooler.dense.weight']\n",
      "- This IS expected if you are initializing RobertaForSequenceClassification from the checkpoint of a model trained on another task or with another architecture (e.g. initializing a BertForSequenceClassification model from a BertForPreTraining model).\n",
      "- This IS NOT expected if you are initializing RobertaForSequenceClassification from the checkpoint of a model that you expect to be exactly identical (initializing a BertForSequenceClassification model from a BertForSequenceClassification model).\n"
     ]
    }
   ],
   "source": [
    "MODEL  = f\"cardiffnlp/twitter-roberta-base-sentiment-latest\"\n",
    "tokenizer = AutoTokenizer.from_pretrained(MODEL)\n",
    "model = AutoModelForSequenceClassification.from_pretrained(MODEL)"
   ]
  },
  {
   "cell_type": "code",
   "execution_count": 6,
   "metadata": {},
   "outputs": [],
   "source": [
    "dataset_names = [\"juries_tiny_for_testing\", \"jury_conversations_with_outcome_var\", \"csop_conversations_withblanks\", \"csopII_conversations_withblanks\", \"DAT_conversations_withblanks\", \"pgg_conversations_withblanks\", \"gurcay2015_group_estimation\", \"becker_group_estimation\"]\n",
    "\n",
    "directory=\"../../data/raw_data/\"\n",
    "\n",
    "for dataset in dataset_names:\n",
    "    csv_path = directory + dataset + '.csv'\n",
    "    messages = pd.read_csv(csv_path, encoding='mac_roman')['message'].astype(str)\n",
    "    \n",
    "    sentiments = messages.apply(get_sentiment)\n",
    "\n",
    "    sent_arr = [list(dict.values()) for dict in sentiments]\n",
    "\n",
    "    sent_df = pd.DataFrame(sent_arr, columns =['positive_bert', 'negative_bert', 'neutral_bert']) \n",
    "    \n",
    "    output_csv_folder = '../../sentiment_bert/'\n",
    "\n",
    "    sent_df.to_csv(output_csv_folder + dataset + '.csv')"
   ]
  }
 ],
 "metadata": {
  "kernelspec": {
   "display_name": "Python 3",
   "language": "python",
   "name": "python3"
  },
  "language_info": {
   "codemirror_mode": {
    "name": "ipython",
    "version": 3
   },
   "file_extension": ".py",
   "mimetype": "text/x-python",
   "name": "python",
   "nbconvert_exporter": "python",
   "pygments_lexer": "ipython3",
   "version": "3.11.3"
  },
  "orig_nbformat": 4
 },
 "nbformat": 4,
 "nbformat_minor": 2
}
