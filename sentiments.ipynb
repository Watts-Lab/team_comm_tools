{
 "cells": [
  {
   "cell_type": "code",
   "execution_count": 12,
   "metadata": {},
   "outputs": [],
   "source": [
    "import pandas as pd\n",
    "from textblob import TextBlob\n",
    "import statistics as stat"
   ]
  },
  {
   "cell_type": "code",
   "execution_count": 3,
   "metadata": {},
   "outputs": [],
   "source": [
    "'''\n",
    "@param text \n",
    "@return gets the average polarity score for the entire conversation\n",
    "'''\n",
    "\n",
    "def get_avg_polarity_score(text):\n",
    "    return TextBlob(text).sentiment.polarity"
   ]
  },
  {
   "cell_type": "code",
   "execution_count": 11,
   "metadata": {},
   "outputs": [],
   "source": [
    "'''\n",
    "@param text \n",
    "@return polarity score of the most polarizing speaker\n",
    "'''\n",
    "\n",
    "def get_highest_polarity_individual_score(text):\n",
    "    speaker_polarity = TextBlob(text).groupby([\"speaker_nickname\"]).sentiment.polarity\n",
    "    speaker_polarity.sort()\n",
    "    return  speaker_polarity[0]\n"
   ]
  },
  {
   "cell_type": "code",
   "execution_count": 9,
   "metadata": {},
   "outputs": [],
   "source": [
    "'''\n",
    "@param text \n",
    "@return polarity score of the least polarizing speaker\n",
    "'''\n",
    "\n",
    "def get_lowest_polarity_individual_score(text):\n",
    "    speaker_polarity = TextBlob(text).groupby([\"speaker_nickname\"]).sentiment.polarity\n",
    "    speaker_polarity.sort()\n",
    "    return  speaker_polarity[-1]"
   ]
  },
  {
   "cell_type": "code",
   "execution_count": 13,
   "metadata": {},
   "outputs": [],
   "source": [
    "'''\n",
    "@param text \n",
    "@return Standard Deviation in the polarity scores of all the speakers\n",
    "'''\n",
    "\n",
    "def get_polarity_variation(text):\n",
    "    speaker_polarity = TextBlob(text).groupby([\"speaker_nickname\"]).sentiment.polarity\n",
    "    speaker_polarity.sort()\n",
    "    return  stat.pstdev(speaker_polarity )"
   ]
  },
  {
   "cell_type": "code",
   "execution_count": 4,
   "metadata": {},
   "outputs": [],
   "source": [
    "'''\n",
    "@param text \n",
    "@return gets the average subjectivity score for the entire conversation\n",
    "'''\n",
    "def get_avg_subjectivity_score(text):\n",
    "    return TextBlob(text).sentiment.subjectivity"
   ]
  },
  {
   "cell_type": "code",
   "execution_count": 14,
   "metadata": {},
   "outputs": [],
   "source": [
    "'''\n",
    "@param text \n",
    "@return subjectivity score of the most subjective speaker\n",
    "'''\n",
    "\n",
    "def get_highest_subjectivity_individual_score(text):\n",
    "    speaker_subjectivity = TextBlob(text).groupby([\"speaker_nickname\"]).sentiment.subjectivity\n",
    "    speaker_subjectivity.sort()\n",
    "    return  speaker_subjectivity[0]"
   ]
  },
  {
   "cell_type": "code",
   "execution_count": 15,
   "metadata": {},
   "outputs": [],
   "source": [
    "'''\n",
    "@param text \n",
    "@return subjectivity score of the least subjective speaker\n",
    "'''\n",
    "\n",
    "def get_highest_subjectivity_individual_score(text):\n",
    "    speaker_subjectivity = TextBlob(text).groupby([\"speaker_nickname\"]).sentiment.subjectivity\n",
    "    speaker_subjectivity.sort()\n",
    "    return  speaker_subjectivity[-1]"
   ]
  },
  {
   "cell_type": "code",
   "execution_count": null,
   "metadata": {},
   "outputs": [],
   "source": [
    "'''\n",
    "@param text \n",
    "@return Standard Deviation in the subjectivity scores of all the speakers\n",
    "'''\n",
    "\n",
    "def get_highest_subjectivity_individual_score(text):\n",
    "    speaker_subjectivity = TextBlob(text).groupby([\"speaker_nickname\"]).sentiment.subjectivity\n",
    "    speaker_subjectivity.sort()\n",
    "    return  stat.pstdev(speaker_subjectivity)"
   ]
  }
 ],
 "metadata": {
  "kernelspec": {
   "display_name": "Python 3.10.7 64-bit",
   "language": "python",
   "name": "python3"
  },
  "language_info": {
   "codemirror_mode": {
    "name": "ipython",
    "version": 3
   },
   "file_extension": ".py",
   "mimetype": "text/x-python",
   "name": "python",
   "nbconvert_exporter": "python",
   "pygments_lexer": "ipython3",
   "version": "3.10.7"
  },
  "orig_nbformat": 4,
  "vscode": {
   "interpreter": {
    "hash": "aee8b7b246df8f9039afb4144a1f6fd8d2ca17a180786b69acc140d282b71a49"
   }
  }
 },
 "nbformat": 4,
 "nbformat_minor": 2
}
