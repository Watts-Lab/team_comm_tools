{
 "cells": [
  {
   "attachments": {},
   "cell_type": "markdown",
   "metadata": {},
   "source": [
    "# Imports"
   ]
  },
  {
   "cell_type": "code",
   "execution_count": 1,
   "metadata": {},
   "outputs": [],
   "source": [
    "import os\n",
    "import pandas as pd\n",
    "import torch\n",
    "from sentence_transformers import SentenceTransformer, util"
   ]
  },
  {
   "attachments": {},
   "cell_type": "markdown",
   "metadata": {},
   "source": [
    "# Preprocessing Sentence Vectors\n",
    "\n",
    "Some features require the use of sentence vectors --- for example, calculating cosine similarity between how people speak; Discursive Diversity, etc.\n",
    "\n",
    "The goal of this notebook is to pre-process all vectors *once*, so that all features that require vectors can access the same set of saved vectors, without having to constantly re-calculate the same vectors.\n",
    "\n",
    "Everything will be saved in the folder `embeddings` at the top level."
   ]
  },
  {
   "cell_type": "code",
   "execution_count": 2,
   "metadata": {},
   "outputs": [],
   "source": [
    "# source - https://www.sbert.net/\n",
    "# https://www.sbert.net/docs/usage/semantic_textual_similarity.html\n",
    "# https://huggingface.co/blog/how-to-train-sentence-transformers\n",
    "\n",
    "model = SentenceTransformer('all-MiniLM-L6-v2')"
   ]
  },
  {
   "cell_type": "code",
   "execution_count": 3,
   "metadata": {},
   "outputs": [],
   "source": [
    "# list of datasets\n",
    "dataset_names = [\"juries_tiny_for_testing\", \"jury_conversations_with_outcome_var\", \"csop_conversations_withblanks\", \"csopII_conversations_withblanks\", \"DAT_conversations_withblanks\", \"pgg_conversations_withblanks\", \"gurcay2015_group_estimation\", \"becker_group_estimation\"]"
   ]
  },
  {
   "cell_type": "code",
   "execution_count": 4,
   "metadata": {},
   "outputs": [],
   "source": [
    "directory=\"../../data/raw_data/\"\n",
    "\n",
    "for dataset in dataset_names:\n",
    "    csv_path = directory + dataset + '.csv'\n",
    "    messages = pd.read_csv(csv_path, encoding='mac_roman')['message'].astype(str)\n",
    "    embedding_arr = [row.tolist() for row in model.encode(messages)]\n",
    "    embedding_df = pd.DataFrame({'message': messages, 'message_embedding': embedding_arr})\n",
    "\n",
    "    output_csv_folder = '../../embeddings/'\n",
    "    embedding_df.to_csv(output_csv_folder + dataset + '.csv')"
   ]
  },
  {
   "attachments": {},
   "cell_type": "markdown",
   "metadata": {},
   "source": [
    "Once we have the embeddings, we can recall them from this folder and use them to obtain things like cosine similarity:\n",
    "\n",
    "```\n",
    "embeddings = model.encode(sentences, convert_to_tensor=True)\n",
    "\n",
    "#Compute cosine-similarities for each sentence with each other sentence\n",
    "cosine_scores = util.cos_sim(embeddings, embeddings)\n",
    "```"
   ]
  }
 ],
 "metadata": {
  "kernelspec": {
   "display_name": "team_process_map",
   "language": "python",
   "name": "python3"
  },
  "language_info": {
   "codemirror_mode": {
    "name": "ipython",
    "version": 3
   },
   "file_extension": ".py",
   "mimetype": "text/x-python",
   "name": "python",
   "nbconvert_exporter": "python",
   "pygments_lexer": "ipython3",
   "version": "3.11.3"
  },
  "orig_nbformat": 4,
  "vscode": {
   "interpreter": {
    "hash": "4308115ec36d55d4bd05e5164490d17bc30a5f7275b0a0d4f3922ff237a9eaea"
   }
  }
 },
 "nbformat": 4,
 "nbformat_minor": 2
}
