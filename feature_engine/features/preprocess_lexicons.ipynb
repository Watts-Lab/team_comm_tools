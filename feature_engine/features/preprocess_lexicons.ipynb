{
 "cells": [
  {
   "attachments": {},
   "cell_type": "markdown",
   "metadata": {},
   "source": [
    "# Imports"
   ]
  },
  {
   "cell_type": "code",
   "execution_count": 1,
   "metadata": {},
   "outputs": [],
   "source": [
    "import os\n",
    "import pickle"
   ]
  },
  {
   "attachments": {},
   "cell_type": "markdown",
   "metadata": {},
   "source": [
    "# Preprocessing Lexicons\n",
    "\n",
    "Here, we take the following steps:\n",
    "- Read all the lexicon files\n",
    "- Replace and clean up the special characters\n",
    "- Express all lexicons in the following regular expression format: \n",
    "  ```\n",
    "  <String Begining or whitespace>lexicon<Any character for any number of times><Line End or whitespace>\n",
    "  ```\n",
    "\n",
    "- Finally, we join all these individual regular expressions into one master regex usinf the or operator `(\"|\")`"
   ]
  },
  {
   "cell_type": "code",
   "execution_count": 2,
   "metadata": {},
   "outputs": [],
   "source": [
    "lexicons_dict = {}\n",
    "directory = \"lexicons/liwc_lexicons/\"\n",
    "for filename in os.listdir(directory):\n",
    "    with open(directory+filename) as lexicons:\n",
    "        lines = [r\"\\b\" + line.replace(\"\\n\", \"\").replace(\"*\", \"\") + r\"\\S*\\b\" for line in lexicons]\n",
    "    lexicons_dict[filename] = \"|\".join(lines)"
   ]
  },
  {
   "attachments": {},
   "cell_type": "markdown",
   "metadata": {},
   "source": [
    "# Saving Preprocessed Lexicons Dictionary"
   ]
  },
  {
   "cell_type": "code",
   "execution_count": 3,
   "metadata": {},
   "outputs": [
    {
     "data": {
      "text/plain": [
       "True"
      ]
     },
     "execution_count": 3,
     "metadata": {},
     "output_type": "execute_result"
    }
   ],
   "source": [
    "with open(\"lexicons_dict.pkl\", \"wb\") as lexicons_pickle_file:\n",
    "    pickle.dump(lexicons_dict, lexicons_pickle_file)\n",
    "\n",
    "with open(\"lexicons_dict.pkl\", \"rb\") as lexicons_pickle_file:\n",
    "    lexicons_dict_loaded = pickle.load(lexicons_pickle_file)\n",
    "\n",
    "lexicons_dict_loaded == lexicons_dict"
   ]
  }
 ],
 "metadata": {
  "kernelspec": {
   "display_name": "team_process_map",
   "language": "python",
   "name": "python3"
  },
  "language_info": {
   "codemirror_mode": {
    "name": "ipython",
    "version": 3
   },
   "file_extension": ".py",
   "mimetype": "text/x-python",
   "name": "python",
   "nbconvert_exporter": "python",
   "pygments_lexer": "ipython3",
   "version": "3.11.3"
  },
  "orig_nbformat": 4,
  "vscode": {
   "interpreter": {
    "hash": "4308115ec36d55d4bd05e5164490d17bc30a5f7275b0a0d4f3922ff237a9eaea"
   }
  }
 },
 "nbformat": 4,
 "nbformat_minor": 2
}
