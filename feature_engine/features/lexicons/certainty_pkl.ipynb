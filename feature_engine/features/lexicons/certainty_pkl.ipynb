{
 "cells": [
  {
   "cell_type": "code",
   "execution_count": 1,
   "metadata": {},
   "outputs": [],
   "source": [
    "import pickle\n",
    "\n",
    "# Read the contents of the text file\n",
    "with open(\"certainty.txt\", \"r\") as file:\n",
    "    text_content = file.read()\n",
    "\n",
    "# Pickle the text content\n",
    "with open(\"certainty.pkl\", \"wb\") as file:\n",
    "    pickle.dump(text_content, file)"
   ]
  }
 ],
 "metadata": {
  "kernelspec": {
   "display_name": "Python 3",
   "language": "python",
   "name": "python3"
  },
  "language_info": {
   "codemirror_mode": {
    "name": "ipython",
    "version": 3
   },
   "file_extension": ".py",
   "mimetype": "text/x-python",
   "name": "python",
   "nbconvert_exporter": "python",
   "pygments_lexer": "ipython3",
   "version": "3.11.6"
  }
 },
 "nbformat": 4,
 "nbformat_minor": 2
}
