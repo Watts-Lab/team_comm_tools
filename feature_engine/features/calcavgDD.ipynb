{
 "cells": [
  {
   "cell_type": "code",
   "execution_count": 1,
   "metadata": {},
   "outputs": [],
   "source": [
    "import pandas as pd\n",
    "import numpy as np"
   ]
  },
  {
   "cell_type": "code",
   "execution_count": 2,
   "metadata": {},
   "outputs": [],
   "source": [
    "output_names = ['beckerestimation', 'csopII', 'DAT', 'gurcay2015estimation', 'jury', 'jury_TINY', 'pgg']"
   ]
  },
  {
   "cell_type": "code",
   "execution_count": 9,
   "metadata": {},
   "outputs": [
    {
     "name": "stdout",
     "output_type": "stream",
     "text": [
      "beckerestimation: 0.5549970523316429\n",
      "csopII: 0.643433754406302\n",
      "DAT: 0.5958520491707279\n",
      "gurcay2015estimation: 0.5945824035668794\n",
      "jury: 0.4269552462902284\n",
      "jury_TINY: 0.3846901364054913\n",
      "pgg: 0.5845007521581473\n"
     ]
    }
   ],
   "source": [
    "directory=\"../output/\"\n",
    "for dataset in output_names:\n",
    "    csv_path = directory + dataset + '_output_conversation_level.csv'\n",
    "    df = pd.read_csv(csv_path)\n",
    "    print(dataset + \": \" + str(df['discursive_diversity'].mean()))\n",
    "    # mean_df = pd.DataFrame({'dataset': dataset, 'discursive mean': df['discursive_diversity'].mean()})\n",
    "\n",
    "    # mean_df.to_csv('step1_DD_means.csv')\n",
    "\n"
   ]
  }
 ],
 "metadata": {
  "kernelspec": {
   "display_name": "Python 3",
   "language": "python",
   "name": "python3"
  },
  "language_info": {
   "codemirror_mode": {
    "name": "ipython",
    "version": 3
   },
   "file_extension": ".py",
   "mimetype": "text/x-python",
   "name": "python",
   "nbconvert_exporter": "python",
   "pygments_lexer": "ipython3",
   "version": "3.11.3"
  },
  "orig_nbformat": 4
 },
 "nbformat": 4,
 "nbformat_minor": 2
}
