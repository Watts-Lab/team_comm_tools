{
 "cells": [
  {
   "cell_type": "code",
   "execution_count": 3,
   "metadata": {},
   "outputs": [],
   "source": [
    "import pandas as pd\n",
    "from readability import Readability"
   ]
  },
  {
   "cell_type": "code",
   "execution_count": 4,
   "metadata": {},
   "outputs": [],
   "source": [
    "'''\n",
    "@param text\n",
    "'''\n",
    "\n",
    "def get_readability(text):\n",
    "    read = Readability(text)\n",
    "    return read.dale_chall()"
   ]
  },
  {
   "cell_type": "code",
   "execution_count": null,
   "metadata": {},
   "outputs": [],
   "source": [
    "'''\n",
    "The Dale–Chall readability formula is a readability test that provides a numeric gauge of \n",
    "the comprehension difficulty that readers come upon when reading a text. It uses a list of \n",
    "3000 words that groups of fourth-grade American students could reliably understand, \n",
    "considering any word not on that list to be difficult.\n",
    "\n",
    "Details: https://en.wikipedia.org/wiki/Dale%E2%80%93Chall_readability_formula\n",
    "\n",
    "Credits: Wikipedia\n",
    "'''"
   ]
  }
 ],
 "metadata": {
  "kernelspec": {
   "display_name": "Python 3.10.7 64-bit",
   "language": "python",
   "name": "python3"
  },
  "language_info": {
   "codemirror_mode": {
    "name": "ipython",
    "version": 3
   },
   "file_extension": ".py",
   "mimetype": "text/x-python",
   "name": "python",
   "nbconvert_exporter": "python",
   "pygments_lexer": "ipython3",
   "version": "3.10.7"
  },
  "orig_nbformat": 4,
  "vscode": {
   "interpreter": {
    "hash": "aee8b7b246df8f9039afb4144a1f6fd8d2ca17a180786b69acc140d282b71a49"
   }
  }
 },
 "nbformat": 4,
 "nbformat_minor": 2
}
