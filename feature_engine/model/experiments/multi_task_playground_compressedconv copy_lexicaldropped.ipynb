{
 "cells": [
  {
   "cell_type": "code",
   "execution_count": 45,
   "metadata": {},
   "outputs": [],
   "source": [
    "from model_builder import ModelBuilder\n",
    "from sklearn.linear_model import Lasso, Ridge, LassoCV, RidgeCV\n",
    "from sklearn.preprocessing import StandardScaler\n",
    "from sklearn.model_selection import train_test_split\n",
    "from sklearn.metrics import mean_absolute_error, mean_squared_error, r2_score\n",
    "import json\n",
    "import os\n",
    "from model_utils import *\n",
    "import scipy.stats as stats \n",
    "import numpy as np\n",
    "import random\n",
    "import statsmodels.stats.api as sms\n",
    "from statsmodels.stats.multitest import multipletests"
   ]
  },
  {
   "cell_type": "markdown",
   "metadata": {},
   "source": [
    "## Multi-Task Modeling Playground"
   ]
  },
  {
   "cell_type": "markdown",
   "metadata": {},
   "source": [
    "The goal of this notebook is to prototype the modeling process for the team ingredient horse race project on the multi-task data.\n",
    "\n",
    "For *each task* ...\n",
    "\n",
    "We want to understand the effect of different \"ingredients of a team\" (Composition, Task, and Conversation) on its ultimate performance.\n",
    "\n",
    "Team Composition:\n",
    "- ['birth_year', 'CRT', 'income_max', 'income_min', 'IRCS_GS', 'IRCS_GV', 'IRCS_IB', 'IRCS_IR', 'IRCS_IV', 'IRCS_RS', 'political_fiscal', 'political_social', 'RME', 'country', 'education_level', 'gender', 'marital_status', 'political_party', 'race']\n",
    "- Number of players: 'playerCount'\n",
    "\n",
    "Task Features:\n",
    "- Need to append from the Task Map\n",
    "- ['complexity', 'task']\n",
    "\n",
    "Conversation Features (All)\n",
    "- Everything else that is NOT an ID or a dependent variable"
   ]
  },
  {
   "cell_type": "markdown",
   "metadata": {},
   "source": [
    "# Read and Preprocess Data\n",
    "The function below reads in the dataframe and preprocesses each group of features:\n",
    "\n",
    "- Composition\n",
    "- Task\n",
    "- Conversation\n",
    "\n",
    "And also parses out the possible dependent variables."
   ]
  },
  {
   "cell_type": "code",
   "execution_count": 2,
   "metadata": {},
   "outputs": [],
   "source": [
    "def drop_invariant_columns(df):\n",
    "    \"\"\"\n",
    "    Certain features are invariant throughout the training data (e.g., the entire column is 0 throughout).\n",
    "\n",
    "    These feature obviously won't be very useful predictors, so we drop them.\n",
    "    \n",
    "    This function works by identifying columns that only have 1 unique value throughout the entire column,\n",
    "    and then dropping them.\n",
    "\n",
    "    @df: the dataframe containing the features (this should be X).\n",
    "    \"\"\"\n",
    "    nunique = df.nunique()\n",
    "    cols_to_drop = nunique[nunique == 1].index\n",
    "    return(df.drop(cols_to_drop, axis=1))\n"
   ]
  },
  {
   "cell_type": "code",
   "execution_count": 25,
   "metadata": {},
   "outputs": [],
   "source": [
    "def read_and_preprocess_data(path, min_num_chats):\n",
    "    conv_data  = pd.read_csv(path)\n",
    "\n",
    "    # Fill NA with mean\n",
    "    conv_data.fillna(conv_data.mean(), inplace=True) \n",
    "\n",
    "    # Filter this down to teams that have at least min_num of chats\n",
    "    # Can also comment this out to re-run results on *all* conversations!\n",
    "    conv_data = conv_data[conv_data[\"sum_num_messages\"] >= min_num_chats]\n",
    "\n",
    "\n",
    "    # Save the important information\n",
    "\n",
    "    # DV\n",
    "    dvs = conv_data[[\"score\",\"speed\",\"efficiency\",\"raw_duration_min\",\"default_duration_min\"]]\n",
    "\n",
    "    # Team Composition\n",
    "    composition_colnames = ['birth_year', 'CRT', 'income_max', 'income_min', 'IRCS_GS', 'IRCS_GV', 'IRCS_IB', 'IRCS_IR',\n",
    "                'IRCS_IV', 'IRCS_RS', 'political_fiscal', 'political_social', 'RME', 'country', 'education_level',\n",
    "                'gender', 'marital_status', 'political_party', 'race', 'playerCount']\n",
    "    \n",
    "    # Select columns that contain the specified keywords\n",
    "    composition = conv_data[[col for col in conv_data.columns if any(keyword in col for keyword in composition_colnames)]]\n",
    "\n",
    "    # Task\n",
    "    task = conv_data[['task', 'complexity']].copy()\n",
    "\n",
    "    task_map_path = '../utils/task_map.csv' # get task map\n",
    "    task_map = pd.read_csv(task_map_path)\n",
    "\n",
    "    task_name_mapping = {\n",
    "        \"Moral Reasoning\": \"Moral Reasoning (Disciplinary Action Case)\",\n",
    "        \"Wolf Goat Cabbage\": \"Wolf, goat and cabbage transfer\",\n",
    "        \"Guess the Correlation\": \"Guessing the correlation\",\n",
    "        \"Writing Story\": \"Writing story\",\n",
    "        \"Room Assignment\": \"Room assignment task\",\n",
    "        \"Allocating Resources\": \"Allocating resources to programs\",\n",
    "        \"Divergent Association\": \"Divergent Association Task\",\n",
    "        \"Word Construction\": \"Word construction from a subset of letters\",\n",
    "        \"Whac a Mole\": \"Whac-A-Mole\"\n",
    "    }\n",
    "    task.loc[:, 'task'] = task['task'].replace(task_name_mapping)\n",
    "    task = pd.merge(left=task, right=task_map, on = \"task\", how='left')\n",
    "    \n",
    "    # Create dummy columns for 'complexity'\n",
    "    complexity_dummies = pd.get_dummies(task['complexity'])\n",
    "    task = pd.concat([task, complexity_dummies], axis=1)   \n",
    "    task.drop(['complexity', 'task'], axis=1, inplace=True)\n",
    "\n",
    "    # Conversation\n",
    "    conversation = conv_data.drop(columns=list(dvs.columns) + list(composition.columns) + ['task', 'complexity', 'stageId', 'roundId', 'cumulative_stageId', 'gameId', 'message', 'message_lower_with_punc', 'speaker_nickname', 'conversation_num', 'timestamp'])\n",
    "    conversation = drop_invariant_columns(conversation) # drop invariant conv features\n",
    "\n",
    "    # experiment: drop lexical columns\n",
    "    conversation = conversation.drop(columns=[col for col in conversation.columns if \"lexical\" in col], axis=1)\n",
    "\n",
    "    # additional preprocess --- get PC's of conversation to reduce dimensionality issues\n",
    "    pca = PCA(n_components=20)\n",
    "    pca_result = pca.fit_transform(conversation.transform(lambda x: (x - x.mean()) / x.std()))\n",
    "    print(\"PCA explained variance:\")\n",
    "    print(np.sum(pca.explained_variance_ratio_))\n",
    "    conversation = pd.DataFrame(pca_result, columns=[f'PC{i+1}' for i in range(pca_result.shape[1])])\n",
    "\n",
    "    return composition, task, conversation, dvs"
   ]
  },
  {
   "cell_type": "code",
   "execution_count": 8,
   "metadata": {},
   "outputs": [],
   "source": [
    "tiny_multitask = 'conv/multi_task_TINY_output_conversation_level_stageId_cumulative.csv'\n",
    "multitask_cumulative_by_stage = 'conv/multi_task_output_conversation_level_stageId_cumulative.csv'\n",
    "multitask_cumulative_by_stage_and_task = 'conv/multi_task_output_conversation_level_stageId_cumulative_within_task.csv'"
   ]
  },
  {
   "cell_type": "code",
   "execution_count": 9,
   "metadata": {},
   "outputs": [],
   "source": [
    "# PARAMETERS\n",
    "min_num_chats = 0\n",
    "desired_target = \"score\"\n",
    "data_path = \"../output/\"\n",
    "output_path = \"./results/multi_task_cumulative_stage/\" + \"min=\" + str(min_num_chats) + \"/\" + desired_target + \"/\""
   ]
  },
  {
   "cell_type": "code",
   "execution_count": 26,
   "metadata": {},
   "outputs": [
    {
     "name": "stderr",
     "output_type": "stream",
     "text": [
      "The default value of numeric_only in DataFrame.mean is deprecated. In a future version, it will default to False. In addition, specifying 'numeric_only=None' is deprecated. Select only valid columns or specify the value of numeric_only to silence this warning.\n"
     ]
    },
    {
     "name": "stdout",
     "output_type": "stream",
     "text": [
      "PCA explained variance:\n",
      "0.6319643237290705\n"
     ]
    },
    {
     "data": {
      "text/plain": [
       "1018"
      ]
     },
     "execution_count": 26,
     "metadata": {},
     "output_type": "execute_result"
    }
   ],
   "source": [
    "team_composition_features, task_features, conv_features, targets = read_and_preprocess_data(data_path + multitask_cumulative_by_stage, min_num_chats=min_num_chats)\n",
    "\n",
    "# Number of points in dataset\n",
    "len(conv_features)"
   ]
  },
  {
   "cell_type": "markdown",
   "metadata": {},
   "source": [
    "# Set up X's and y's"
   ]
  },
  {
   "cell_type": "code",
   "execution_count": 27,
   "metadata": {},
   "outputs": [],
   "source": [
    "X_train = pd.concat([team_composition_features, task_features, conv_features], axis = 1)\n",
    "y_train = targets"
   ]
  },
  {
   "cell_type": "markdown",
   "metadata": {},
   "source": [
    "## Try LASSO/Ridge Regression, one Set of Features at a Time"
   ]
  },
  {
   "cell_type": "markdown",
   "metadata": {},
   "source": [
    "Here, we want to implement *leave-one-out cross-validation*, and use Q^2 as our metric.\n",
    "\n"
   ]
  },
  {
   "cell_type": "markdown",
   "metadata": {},
   "source": [
    "Two updates to make here:\n",
    "\n",
    "1. For nested LASSO/Ridge models, add the ability to initialize the model using the previous weights\n",
    "2. Visualize importance using another library, like SHAP"
   ]
  },
  {
   "cell_type": "code",
   "execution_count": 11,
   "metadata": {},
   "outputs": [],
   "source": [
    "# Note --- this uses k-fold cross-validation with k = 5 (the default)\n",
    "# We are testing 10,000 different alphas, so I feel like this is an OK heuristic\n",
    "def get_optimal_alpha(X_train, y_train, y_target, feature_columns_list, lasso):\n",
    "\n",
    "    if(lasso == True):\n",
    "        model = LassoCV(n_alphas = 10000)\n",
    "        model.fit(X_train[feature_columns_list], y_train[y_target])\n",
    "    else:\n",
    "        model = RidgeCV(n_alphas = 10000)\n",
    "        model.fit(X_train[feature_columns_list], y_train[y_target])\n",
    "        \n",
    "    return model.alpha_ # optimal alpha"
   ]
  },
  {
   "cell_type": "code",
   "execution_count": 12,
   "metadata": {},
   "outputs": [],
   "source": [
    "def fit_regularized_linear_model(X_train, y_train, y_target, feature_columns_list, lasso=True, tune_alpha=False, prev_coefs = None, prev_alpha = None):\n",
    "\n",
    "    if not tune_alpha:\n",
    "        alpha = 1.0\n",
    "    if (prev_alpha is not None):\n",
    "        alpha = prev_alpha # use previous alpha\n",
    "        print(\"Setting alpha to previous...\")\n",
    "        print(alpha)\n",
    "    else:\n",
    "        # Hyperparameter tune the alpha\n",
    "        alpha = get_optimal_alpha(X_train, y_train, y_target, feature_columns_list, lasso=True)\n",
    "\n",
    "    if lasso:\n",
    "        model = Lasso(alpha=alpha)\n",
    "    else:\n",
    "        model = Ridge(alpha=alpha)\n",
    "\n",
    "    if(prev_coefs is not None): # set weights to previous coefficients\n",
    "        print(\"Setting coefficients ....\")\n",
    "        model.coef_ = prev_coefs\n",
    "\n",
    "        print(model.coef_)\n",
    "\n",
    "    # Calculation of Q^2 metric\n",
    "    squared_model_prediction_errors = []\n",
    "    squared_average_prediction_errors = []\n",
    "\n",
    "    # Initialize a list to store coefficients\n",
    "    coefficients_list = []\n",
    "\n",
    "    # Leave one out -- iterate through the entire length of the dataset\n",
    "    for i in range(len(y_train)):\n",
    "        # Store the evaluation datapoint\n",
    "        evaluation_X = X_train.iloc[[i]]\n",
    "        evaluation_y = y_train.iloc[[i]][y_target]\n",
    "\n",
    "        # Drop the ith datapoint (leave this one out)\n",
    "        X_train_fold = X_train.drop(X_train.index[i])\n",
    "        y_train_fold = y_train.drop(y_train.index[i])[y_target]\n",
    "\n",
    "        # Fit the model\n",
    "        model.fit(X_train_fold[feature_columns_list], y_train_fold)\n",
    "\n",
    "        # Save the Prediction Error\n",
    "        prediction = model.predict(evaluation_X[feature_columns_list])[0]\n",
    "        squared_model_prediction_errors.append((evaluation_y - prediction) ** 2)\n",
    "\n",
    "        # Save the Total Error for this fold\n",
    "        squared_average_prediction_errors.append((evaluation_y - np.mean(y_train_fold)) ** 2)\n",
    "\n",
    "        # Append the coefficients to the list\n",
    "        coefficients_list.append(model.coef_)\n",
    "\n",
    "    # Create a DataFrame with feature names as rows and iteration results as columns\n",
    "    feature_coefficients = pd.DataFrame(coefficients_list, columns=feature_columns_list).T\n",
    "\n",
    "    q_squared = 1 - (np.sum(squared_model_prediction_errors) / np.sum(squared_average_prediction_errors))\n",
    "    print(\"Q^2: \" + str(q_squared))\n",
    "\n",
    "    return model, q_squared, feature_coefficients\n"
   ]
  },
  {
   "cell_type": "code",
   "execution_count": 13,
   "metadata": {},
   "outputs": [],
   "source": [
    "def display_feature_coefficients(feature_coef_df):\n",
    "    # Initialize a list to store DataFrames for each feature\n",
    "    dfs = []\n",
    "\n",
    "    # Iterate through the rows of the input DataFrame\n",
    "    for feature_name, coefficients in feature_coef_df.iterrows():\n",
    "        # Calculate the confidence interval without NaN values\n",
    "        non_nan_coefficients = coefficients[~np.isnan(coefficients)]\n",
    "        if len(non_nan_coefficients) == 0:\n",
    "            # Handle the case where there are no valid coefficients\n",
    "            continue\n",
    "\n",
    "        mean_coef = non_nan_coefficients.mean()\n",
    "\n",
    "        # Check if all coefficients in the row are the same\n",
    "        if len(coefficients.unique()) == 1:\n",
    "            # If all coefficients are the same, set the lower and upper CI to the mean\n",
    "            confidence_interval = (mean_coef, mean_coef)\n",
    "        else:\n",
    "            std_error = non_nan_coefficients.sem()\n",
    "            confidence_interval = stats.t.interval(0.95, len(non_nan_coefficients) - 1, loc=mean_coef, scale=std_error)\n",
    "\n",
    "        # Create a DataFrame for the summary data\n",
    "        temp_df = pd.DataFrame({\n",
    "            \"Feature\": [feature_name],\n",
    "            \"Mean\": [mean_coef],\n",
    "            \"Lower_CI\": [confidence_interval[0]],\n",
    "            \"Upper_CI\": [confidence_interval[1]]\n",
    "        })\n",
    "\n",
    "        # Append the temporary DataFrame to the list\n",
    "        dfs.append(temp_df)\n",
    "\n",
    "    # Concatenate all the DataFrames in the list into the final summary DataFrame\n",
    "    summary_df = pd.concat(dfs, ignore_index=True)\n",
    "\n",
    "    return summary_df"
   ]
  },
  {
   "cell_type": "code",
   "execution_count": 14,
   "metadata": {},
   "outputs": [],
   "source": [
    "def sort_by_mean_abs(df):\n",
    "    return df.reindex(df[\"Mean\"].abs().sort_values(ascending=False).index)"
   ]
  },
  {
   "cell_type": "code",
   "execution_count": 15,
   "metadata": {},
   "outputs": [],
   "source": [
    "# Go through the different types of features and fit models\n",
    "\n",
    "# First, create a data structure that saves the result\n",
    "result = {\n",
    "    \"model\": [],\n",
    "    \"model_type\": [],\n",
    "    \"features_included\": [],\n",
    "    \"alpha\": [],\n",
    "    \"q_squared\": []\n",
    "}\n",
    "\n",
    "result_df = pd.DataFrame(result)"
   ]
  },
  {
   "cell_type": "markdown",
   "metadata": {},
   "source": [
    "# Function to Run all Experiments in 1 Go"
   ]
  },
  {
   "cell_type": "code",
   "execution_count": 29,
   "metadata": {},
   "outputs": [],
   "source": [
    "def get_sample_with_replacement(df):\n",
    "    num_rows = len(df)\n",
    "    resampled_indices = pd.Series(range(num_rows)).sample(n=num_rows, replace=True).reset_index(drop=True)\n",
    "    resampled_dataframe = df.iloc[resampled_indices]\n",
    "\n",
    "    return resampled_dataframe"
   ]
  },
  {
   "cell_type": "code",
   "execution_count": 30,
   "metadata": {},
   "outputs": [],
   "source": [
    "def resample():\n",
    "    total_data = pd.concat([X_train, y_train], axis = 1)\n",
    "    resampled_data = get_sample_with_replacement(total_data)\n",
    "    resampled_X_train = resampled_data[list(X_train.columns)]\n",
    "    resampled_y_train = resampled_data[list(y_train.columns)]\n",
    "\n",
    "    return resampled_X_train, resampled_y_train"
   ]
  },
  {
   "cell_type": "code",
   "execution_count": 31,
   "metadata": {},
   "outputs": [],
   "source": [
    "def train_and_evaluate_three_models(random_seed):\n",
    "    random.seed(random_seed)\n",
    "\n",
    "    # Set up the dataset by drawing 1,000 samples\n",
    "    resampled_X_train, resampled_y_train = resample()\n",
    "\n",
    "    # Composition Features\n",
    "    model_ridge_composition, mrc_q2, mrc_feature_coefficients = fit_regularized_linear_model(resampled_X_train, resampled_y_train, desired_target, team_composition_features.columns, lasso = False, tune_alpha = True)\n",
    "\n",
    "    # Composition + Task\n",
    "    task_comp_features = list(task_features.columns) + list(team_composition_features.columns)\n",
    "    model_ridge_taskcomp, mrtc_q2, mrtc_feature_coefficients = fit_regularized_linear_model(resampled_X_train, resampled_y_train, desired_target, task_comp_features, lasso = False, tune_alpha = True)\n",
    "\n",
    "    # Composition + Task + Conversation\n",
    "    all_features = list(task_features.columns) + list(team_composition_features.columns) + list(conv_features.columns)\n",
    "    model_ridge_all, mrall_q2, mrall_feature_coefficients = fit_regularized_linear_model(resampled_X_train, resampled_y_train, desired_target, all_features, lasso = False, tune_alpha = True)\n",
    "\n",
    "    return mrc_q2, mrtc_q2, mrall_q2"
   ]
  },
  {
   "cell_type": "code",
   "execution_count": 32,
   "metadata": {},
   "outputs": [
    {
     "name": "stderr",
     "output_type": "stream",
     "text": [
      "Seeding based on hashing is deprecated\n",
      "since Python 3.9 and will be removed in a subsequent version. The only \n",
      "supported seed types are: None, int, float, str, bytes, and bytearray.\n"
     ]
    },
    {
     "name": "stdout",
     "output_type": "stream",
     "text": [
      "Q^2: 0.12775782505021316\n",
      "Q^2: 0.24221931859314916\n",
      "Q^2: 0.09165992891017505\n"
     ]
    },
    {
     "name": "stderr",
     "output_type": "stream",
     "text": [
      "Seeding based on hashing is deprecated\n",
      "since Python 3.9 and will be removed in a subsequent version. The only \n",
      "supported seed types are: None, int, float, str, bytes, and bytearray.\n"
     ]
    },
    {
     "name": "stdout",
     "output_type": "stream",
     "text": [
      "Q^2: 0.09469336253387961\n",
      "Q^2: 0.18317987220140097\n",
      "Q^2: 0.08648172904480445\n"
     ]
    },
    {
     "name": "stderr",
     "output_type": "stream",
     "text": [
      "Seeding based on hashing is deprecated\n",
      "since Python 3.9 and will be removed in a subsequent version. The only \n",
      "supported seed types are: None, int, float, str, bytes, and bytearray.\n"
     ]
    },
    {
     "name": "stdout",
     "output_type": "stream",
     "text": [
      "Q^2: 0.1335761909183809\n",
      "Q^2: 0.20903152370619715\n",
      "Q^2: 0.02042748518698534\n"
     ]
    },
    {
     "name": "stderr",
     "output_type": "stream",
     "text": [
      "Seeding based on hashing is deprecated\n",
      "since Python 3.9 and will be removed in a subsequent version. The only \n",
      "supported seed types are: None, int, float, str, bytes, and bytearray.\n"
     ]
    },
    {
     "name": "stdout",
     "output_type": "stream",
     "text": [
      "Q^2: 0.07154225760023047\n",
      "Q^2: 0.2102316747779408\n",
      "Q^2: 0.19800820849781775\n"
     ]
    },
    {
     "name": "stderr",
     "output_type": "stream",
     "text": [
      "Seeding based on hashing is deprecated\n",
      "since Python 3.9 and will be removed in a subsequent version. The only \n",
      "supported seed types are: None, int, float, str, bytes, and bytearray.\n"
     ]
    },
    {
     "name": "stdout",
     "output_type": "stream",
     "text": [
      "Q^2: 0.10697909288823693\n",
      "Q^2: 0.22044907627932053\n",
      "Q^2: 0.2104610840509844\n"
     ]
    },
    {
     "name": "stderr",
     "output_type": "stream",
     "text": [
      "Seeding based on hashing is deprecated\n",
      "since Python 3.9 and will be removed in a subsequent version. The only \n",
      "supported seed types are: None, int, float, str, bytes, and bytearray.\n"
     ]
    },
    {
     "name": "stdout",
     "output_type": "stream",
     "text": [
      "Q^2: 0.11763993881519397\n",
      "Q^2: 0.23698421736476338\n",
      "Q^2: 0.21988915999871272\n"
     ]
    },
    {
     "name": "stderr",
     "output_type": "stream",
     "text": [
      "Seeding based on hashing is deprecated\n",
      "since Python 3.9 and will be removed in a subsequent version. The only \n",
      "supported seed types are: None, int, float, str, bytes, and bytearray.\n"
     ]
    },
    {
     "name": "stdout",
     "output_type": "stream",
     "text": [
      "Q^2: 0.11774292890480265\n",
      "Q^2: 0.26085934567553004\n",
      "Q^2: 0.07102377917393943\n"
     ]
    },
    {
     "name": "stderr",
     "output_type": "stream",
     "text": [
      "Seeding based on hashing is deprecated\n",
      "since Python 3.9 and will be removed in a subsequent version. The only \n",
      "supported seed types are: None, int, float, str, bytes, and bytearray.\n"
     ]
    },
    {
     "name": "stdout",
     "output_type": "stream",
     "text": [
      "Q^2: 0.04934288324659164\n",
      "Q^2: 0.06944837670713366\n",
      "Q^2: 0.06985968476421345\n"
     ]
    },
    {
     "name": "stderr",
     "output_type": "stream",
     "text": [
      "Seeding based on hashing is deprecated\n",
      "since Python 3.9 and will be removed in a subsequent version. The only \n",
      "supported seed types are: None, int, float, str, bytes, and bytearray.\n"
     ]
    },
    {
     "name": "stdout",
     "output_type": "stream",
     "text": [
      "Q^2: 0.10940302194321472\n",
      "Q^2: 0.25308533658845367\n",
      "Q^2: 0.27366207981305024\n"
     ]
    },
    {
     "name": "stderr",
     "output_type": "stream",
     "text": [
      "Seeding based on hashing is deprecated\n",
      "since Python 3.9 and will be removed in a subsequent version. The only \n",
      "supported seed types are: None, int, float, str, bytes, and bytearray.\n"
     ]
    },
    {
     "name": "stdout",
     "output_type": "stream",
     "text": [
      "Q^2: 0.14412593557673814\n",
      "Q^2: 0.2630629704963626\n",
      "Q^2: 0.007383598710319905\n"
     ]
    },
    {
     "name": "stderr",
     "output_type": "stream",
     "text": [
      "Seeding based on hashing is deprecated\n",
      "since Python 3.9 and will be removed in a subsequent version. The only \n",
      "supported seed types are: None, int, float, str, bytes, and bytearray.\n"
     ]
    },
    {
     "name": "stdout",
     "output_type": "stream",
     "text": [
      "Q^2: 0.13143765660540419\n",
      "Q^2: 0.2636025637306959\n",
      "Q^2: -0.015084078365373621\n"
     ]
    },
    {
     "name": "stderr",
     "output_type": "stream",
     "text": [
      "Seeding based on hashing is deprecated\n",
      "since Python 3.9 and will be removed in a subsequent version. The only \n",
      "supported seed types are: None, int, float, str, bytes, and bytearray.\n"
     ]
    },
    {
     "name": "stdout",
     "output_type": "stream",
     "text": [
      "Q^2: 0.1091879716877513\n",
      "Q^2: 0.25694422209460377\n",
      "Q^2: 0.26401840388863396\n"
     ]
    },
    {
     "name": "stderr",
     "output_type": "stream",
     "text": [
      "Seeding based on hashing is deprecated\n",
      "since Python 3.9 and will be removed in a subsequent version. The only \n",
      "supported seed types are: None, int, float, str, bytes, and bytearray.\n"
     ]
    },
    {
     "name": "stdout",
     "output_type": "stream",
     "text": [
      "Q^2: 0.09032030287630621\n",
      "Q^2: 0.2246073190707183\n",
      "Q^2: 0.25259781557519356\n"
     ]
    },
    {
     "name": "stderr",
     "output_type": "stream",
     "text": [
      "Seeding based on hashing is deprecated\n",
      "since Python 3.9 and will be removed in a subsequent version. The only \n",
      "supported seed types are: None, int, float, str, bytes, and bytearray.\n"
     ]
    },
    {
     "name": "stdout",
     "output_type": "stream",
     "text": [
      "Q^2: 0.039985534658930844\n",
      "Q^2: 0.04159908295349757\n",
      "Q^2: 0.08119494952729811\n"
     ]
    },
    {
     "name": "stderr",
     "output_type": "stream",
     "text": [
      "Seeding based on hashing is deprecated\n",
      "since Python 3.9 and will be removed in a subsequent version. The only \n",
      "supported seed types are: None, int, float, str, bytes, and bytearray.\n"
     ]
    },
    {
     "name": "stdout",
     "output_type": "stream",
     "text": [
      "Q^2: 0.05030681609662879\n",
      "Q^2: 0.0520630187618788\n",
      "Q^2: 0.08229793354667736\n"
     ]
    },
    {
     "name": "stderr",
     "output_type": "stream",
     "text": [
      "Seeding based on hashing is deprecated\n",
      "since Python 3.9 and will be removed in a subsequent version. The only \n",
      "supported seed types are: None, int, float, str, bytes, and bytearray.\n"
     ]
    },
    {
     "name": "stdout",
     "output_type": "stream",
     "text": [
      "Q^2: 0.11654524537191024\n",
      "Q^2: 0.2488706075986138\n",
      "Q^2: -0.26761750492927705\n"
     ]
    },
    {
     "name": "stderr",
     "output_type": "stream",
     "text": [
      "Seeding based on hashing is deprecated\n",
      "since Python 3.9 and will be removed in a subsequent version. The only \n",
      "supported seed types are: None, int, float, str, bytes, and bytearray.\n"
     ]
    },
    {
     "name": "stdout",
     "output_type": "stream",
     "text": [
      "Q^2: 0.06154815002650804\n",
      "Q^2: 0.11201234592274367\n",
      "Q^2: 0.10816418678327322\n"
     ]
    },
    {
     "name": "stderr",
     "output_type": "stream",
     "text": [
      "Seeding based on hashing is deprecated\n",
      "since Python 3.9 and will be removed in a subsequent version. The only \n",
      "supported seed types are: None, int, float, str, bytes, and bytearray.\n"
     ]
    },
    {
     "name": "stdout",
     "output_type": "stream",
     "text": [
      "Q^2: 0.06438871886690323\n",
      "Q^2: 0.06633153256437974\n",
      "Q^2: 0.08612654122661079\n"
     ]
    },
    {
     "name": "stderr",
     "output_type": "stream",
     "text": [
      "Seeding based on hashing is deprecated\n",
      "since Python 3.9 and will be removed in a subsequent version. The only \n",
      "supported seed types are: None, int, float, str, bytes, and bytearray.\n"
     ]
    },
    {
     "name": "stdout",
     "output_type": "stream",
     "text": [
      "Q^2: 0.14809254668662786\n",
      "Q^2: 0.2505669545026916\n",
      "Q^2: 0.26914246457751123\n"
     ]
    },
    {
     "name": "stderr",
     "output_type": "stream",
     "text": [
      "Seeding based on hashing is deprecated\n",
      "since Python 3.9 and will be removed in a subsequent version. The only \n",
      "supported seed types are: None, int, float, str, bytes, and bytearray.\n"
     ]
    },
    {
     "name": "stdout",
     "output_type": "stream",
     "text": [
      "Q^2: 0.034769745925977036\n",
      "Q^2: 0.036801944651685514\n",
      "Q^2: 0.05377629062125533\n"
     ]
    }
   ],
   "source": [
    "composition_only = []\n",
    "composition_task = []\n",
    "all = []\n",
    "random_seeds = np.random.randint(999999999999, size=20)\n",
    "\n",
    "for seed in random_seeds: # bootstrap 20 times\n",
    "    comp, taskcomp, taskcompconv = train_and_evaluate_three_models(seed)\n",
    "    composition_only.append(comp)\n",
    "    composition_task.append(taskcomp)\n",
    "    all.append(taskcompconv)"
   ]
  },
  {
   "cell_type": "code",
   "execution_count": 33,
   "metadata": {},
   "outputs": [
    {
     "data": {
      "text/plain": [
       "(0.07915873724414574, 0.11277987538389725)"
      ]
     },
     "execution_count": 33,
     "metadata": {},
     "output_type": "execute_result"
    }
   ],
   "source": [
    "sms.DescrStatsW(composition_only).tconfint_mean()"
   ]
  },
  {
   "cell_type": "code",
   "execution_count": 34,
   "metadata": {},
   "outputs": [
    {
     "data": {
      "text/plain": [
       "(0.1450389244365196, 0.22515620598765645)"
      ]
     },
     "execution_count": 34,
     "metadata": {},
     "output_type": "execute_result"
    }
   ],
   "source": [
    "sms.DescrStatsW(composition_task).tconfint_mean()"
   ]
  },
  {
   "cell_type": "code",
   "execution_count": 35,
   "metadata": {},
   "outputs": [
    {
     "data": {
      "text/plain": [
       "(0.048184768544317684, 0.16816260551596285)"
      ]
     },
     "execution_count": 35,
     "metadata": {},
     "output_type": "execute_result"
    }
   ],
   "source": [
    "sms.DescrStatsW(all).tconfint_mean()"
   ]
  },
  {
   "cell_type": "code",
   "execution_count": 124,
   "metadata": {},
   "outputs": [],
   "source": [
    "def plot_means_with_confidence_intervals_and_ttests(observation_lists, labels, confidence_level=0.95, alpha=0.05):\n",
    "    # Calculate means and confidence intervals\n",
    "    means = [np.mean(observation) for observation in observation_lists]\n",
    "    errors = [(sms.DescrStatsW(observation).tconfint_mean()[1]-sms.DescrStatsW(observation).tconfint_mean()[0])/2. for observation in observation_lists]\n",
    "    colors = plt.cm.tab20(np.arange(len(labels)))\n",
    "\n",
    "    # Plot the bar graph with error bars\n",
    "    plt.bar(range(len(means)), means, yerr=errors, align='center', alpha=0.7, ecolor='black', color = colors, capsize=10)\n",
    "    \n",
    "    # Add labels and title\n",
    "    plt.xticks(range(len(means)), labels)\n",
    "    plt.xlabel('Model')\n",
    "    plt.ylabel('Prediction Q^2')\n",
    "    plt.title('Predictive Power of Models; Pairwise t-test with B-H Correction')\n",
    "\n",
    "    # Perform pairwise t-tests\n",
    "    p_values = []\n",
    "    line_height = np.mean(max(observation_lists))*0.1\n",
    "    for i in range(len(observation_lists)):\n",
    "        for j in range(i + 1, len(observation_lists)):\n",
    "            t_stat, p_value = stats.ttest_ind(observation_lists[i], observation_lists[j])\n",
    "            p_values.append(p_value)\n",
    "\n",
    "            # Draw horizontal bar between compared groups\n",
    "            line_y = max(means) + max(errors) + np.mean(max(observation_lists))*0.03 + (i + j) * line_height\n",
    "            plt.plot([i, j], [line_y, line_y], color='black')\n",
    "\n",
    "            # Display significance stars or 'n.s.' based on corrected p-values\n",
    "            significance_label = '*' if p_value < alpha else 'n.s.'\n",
    "\n",
    "            # Display significance labels on the plot\n",
    "            plt.text((i + j) / 2, line_y + np.mean(max(observation_lists))*0.05, significance_label, ha='center', va='center')\n",
    "\n",
    "    # Correct p-values for multiple comparisons using Benjamini-Hochberg procedure\n",
    "    _, p_values_corrected, _, _ = multipletests(p_values, alpha=alpha, method='fdr_bh')\n",
    "\n",
    "    # Show the plot\n",
    "    plt.show()"
   ]
  },
  {
   "cell_type": "code",
   "execution_count": 123,
   "metadata": {},
   "outputs": [
    {
     "data": {
      "image/png": "[encoded data removed]",
      "text/plain": [
       "<Figure size 432x288 with 1 Axes>"
      ]
     },
     "metadata": {
      "needs_background": "light"
     },
     "output_type": "display_data"
    }
   ],
   "source": [
    "plot_means_with_confidence_intervals_and_ttests([composition_only, composition_task, all], [\"Composition Only\", \"Composition + Task\", \"All\"])"
   ]
  },
  {
   "cell_type": "markdown",
   "metadata": {},
   "source": [
    "# Dataframe that summarizes all these experiments!"
   ]
  },
  {
   "cell_type": "code",
   "execution_count": 219,
   "metadata": {},
   "outputs": [
    {
     "data": {
      "text/html": [
       "<div>\n",
       "<style scoped>\n",
       "    .dataframe tbody tr th:only-of-type {\n",
       "        vertical-align: middle;\n",
       "    }\n",
       "\n",
       "    .dataframe tbody tr th {\n",
       "        vertical-align: top;\n",
       "    }\n",
       "\n",
       "    .dataframe thead th {\n",
       "        text-align: right;\n",
       "    }\n",
       "</style>\n",
       "<table border=\"1\" class=\"dataframe\">\n",
       "  <thead>\n",
       "    <tr style=\"text-align: right;\">\n",
       "      <th></th>\n",
       "      <th>model</th>\n",
       "      <th>model_type</th>\n",
       "      <th>features_included</th>\n",
       "      <th>alpha</th>\n",
       "      <th>q_squared</th>\n",
       "    </tr>\n",
       "  </thead>\n",
       "  <tbody>\n",
       "    <tr>\n",
       "      <th>2</th>\n",
       "      <td>Ridge(alpha=0.002904485249183131)</td>\n",
       "      <td>Ridge</td>\n",
       "      <td>All Features</td>\n",
       "      <td>0.0029</td>\n",
       "      <td>1.00000</td>\n",
       "    </tr>\n",
       "    <tr>\n",
       "      <th>1</th>\n",
       "      <td>Ridge(alpha=0.002904485249183131)</td>\n",
       "      <td>Ridge</td>\n",
       "      <td>Team Composition + Task Complexity</td>\n",
       "      <td>0.0029</td>\n",
       "      <td>0.67973</td>\n",
       "    </tr>\n",
       "    <tr>\n",
       "      <th>0</th>\n",
       "      <td>Ridge(alpha=0.011839413838757983)</td>\n",
       "      <td>Ridge</td>\n",
       "      <td>Team Composition</td>\n",
       "      <td>0.0118</td>\n",
       "      <td>0.49604</td>\n",
       "    </tr>\n",
       "  </tbody>\n",
       "</table>\n",
       "</div>"
      ],
      "text/plain": [
       "                               model model_type  \\\n",
       "2  Ridge(alpha=0.002904485249183131)      Ridge   \n",
       "1  Ridge(alpha=0.002904485249183131)      Ridge   \n",
       "0  Ridge(alpha=0.011839413838757983)      Ridge   \n",
       "\n",
       "                    features_included   alpha  q_squared  \n",
       "2                        All Features  0.0029    1.00000  \n",
       "1  Team Composition + Task Complexity  0.0029    0.67973  \n",
       "0                    Team Composition  0.0118    0.49604  "
      ]
     },
     "execution_count": 219,
     "metadata": {},
     "output_type": "execute_result"
    }
   ],
   "source": [
    "result_df.sort_values(by = \"q_squared\", ascending = False)"
   ]
  },
  {
   "cell_type": "markdown",
   "metadata": {},
   "source": [
    "# Feature Importance"
   ]
  },
  {
   "cell_type": "code",
   "execution_count": null,
   "metadata": {},
   "outputs": [],
   "source": [
    "sort_by_mean_abs(display_feature_coefficients(mrall_feature_coefficients))"
   ]
  },
  {
   "cell_type": "code",
   "execution_count": null,
   "metadata": {},
   "outputs": [],
   "source": [
    "def plot_top_n_features(data, n, filepath):\n",
    "    # Calculate the absolute mean value and sort the DataFrame in descending order\n",
    "    data['Absolute_Mean'] = data['Mean'].abs()\n",
    "    top_n_features = data.sort_values(by='Absolute_Mean', ascending=False).head(n)\n",
    "\n",
    "    # Define color mapping for the features\n",
    "    color_map = {}\n",
    "    name_map = {}\n",
    "    for feature in task_features.columns:\n",
    "        color_map[feature] = 'yellowgreen'\n",
    "        name_map[feature] = \"Task Feature\"\n",
    "    for feature in conv_features.columns:\n",
    "        color_map[feature] = 'powderblue'\n",
    "        name_map[feature] = \"Conversation Feature\"\n",
    "    for feature in team_composition_features.columns:\n",
    "        color_map[feature] = 'lightpink'\n",
    "        name_map[feature] = \"Team Composition Feature\"\n",
    "\n",
    "    # Create a horizontal bar graph\n",
    "    plt.figure(figsize=(10, 6))\n",
    "\n",
    "    handles = []\n",
    "\n",
    "    for feature in top_n_features['Feature']:\n",
    "        color = color_map.get(feature, 'k')  # Default to black if not in any list\n",
    "        bars = plt.barh(feature, top_n_features[top_n_features['Feature'] == feature]['Mean'], color=color)\n",
    "        handles.append(bars[0])\n",
    "\n",
    "    # Customize the plot\n",
    "    plt.xlabel('Mean Coefficient (Across LOO Cross Validation)', fontsize = 14)\n",
    "    plt.title(f'Top {n} features for {desired_target} (min chats = {min_num_chats})', fontsize=20)\n",
    "    plt.gca().invert_yaxis()  # Invert the y-axis to display the highest value at the top\n",
    "\n",
    "    plt.xticks(fontsize=14)\n",
    "    plt.yticks(fontsize=14)\n",
    "\n",
    "    # Create a legend outside the plot area with unique labels\n",
    "    unique_features = []\n",
    "    unique_labels = []\n",
    "    for feature in top_n_features['Feature']:\n",
    "        if name_map.get(feature, feature) not in unique_labels:\n",
    "            unique_labels.append(name_map.get(feature, feature))\n",
    "            unique_features.append(feature)\n",
    "\n",
    "    legend_handles = [plt.Line2D([0], [0], color=color_map.get(feature, 'k'), lw=4, label=name_map.get(feature, feature)) for feature in unique_features]\n",
    "    plt.legend(handles=legend_handles, loc='center left', fontsize = 14, bbox_to_anchor=(1, 0.5))\n",
    "\n",
    "    # Add labels to the bars with increased text size and Mean rounded to 2 decimals, consistently inside the bar\n",
    "    label_offset = 0.4  # Adjust this value for proper spacing\n",
    "    for bar, value, feature in zip(handles, top_n_features['Mean'], top_n_features['Feature']):\n",
    "        label_x = (max(value, 0) if value >= 0 else min(value, 0))\n",
    "        bbox = bar.get_bbox()\n",
    "        label_y = bbox.bounds[1] + label_offset\n",
    "        if value >= 0:\n",
    "            plt.text(label_x, label_y, f'{value:.2f}', va='center', fontsize=12)\n",
    "        else:\n",
    "            plt.text(label_x, label_y, f'{value:.2f}', ha='right', va='center', fontsize=12)\n",
    "\n",
    "    # Show the plot\n",
    "    plt.savefig(filepath + \".svg\")\n",
    "    plt.savefig(filepath + \".png\")\n",
    "    plt.show()"
   ]
  },
  {
   "cell_type": "code",
   "execution_count": null,
   "metadata": {},
   "outputs": [],
   "source": [
    "plot_top_n_features(display_feature_coefficients(mlall_feature_coefficients), 10, filepath = \"./figures/multi_task_cumulative_stage\" + \"_\" + desired_target + \"_min_chat_num_\" + str(min_num_chats))"
   ]
  },
  {
   "cell_type": "markdown",
   "metadata": {},
   "source": [
    "Questions:\n",
    "- More deeply understand difference between LASSO and Ridge\n",
    "- Better understand `alpha` hyperparameter\n",
    "- Why doesn't more features mean a better R^2? (Wouldn't the model 'throw out' features that don't work?)"
   ]
  }
 ],
 "metadata": {
  "kernelspec": {
   "display_name": "Python 3",
   "language": "python",
   "name": "python3"
  },
  "language_info": {
   "codemirror_mode": {
    "name": "ipython",
    "version": 3
   },
   "file_extension": ".py",
   "mimetype": "text/x-python",
   "name": "python",
   "nbconvert_exporter": "python",
   "pygments_lexer": "ipython3",
   "version": "3.9.16"
  },
  "orig_nbformat": 4
 },
 "nbformat": 4,
 "nbformat_minor": 2
}
