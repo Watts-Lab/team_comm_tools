{
 "cells": [
  {
   "cell_type": "code",
   "execution_count": 11,
   "metadata": {},
   "outputs": [],
   "source": [
    "from model_builder import ModelBuilder\n",
    "from sklearn.linear_model import Lasso, Ridge, LassoCV, RidgeCV\n",
    "from sklearn.preprocessing import StandardScaler\n",
    "from sklearn.model_selection import train_test_split\n",
    "from sklearn.metrics import mean_absolute_error, mean_squared_error, r2_score\n",
    "import json\n",
    "from model_utils import *"
   ]
  },
  {
   "cell_type": "markdown",
   "metadata": {},
   "source": [
    "## Model Deep Dive: CSOP"
   ]
  },
  {
   "cell_type": "markdown",
   "metadata": {},
   "source": [
    "Using the CSOP Dataset, build a model that progressively accounts for different aspects of the data...\n",
    "\n",
    "Team Composition:\n",
    "- skill\n",
    "- social_perceptivness\n",
    "- cogStyleDiversity\n",
    "- cogStyleSpeed\n",
    "\n",
    "Task Features:\n",
    "- complexity\n",
    "\n",
    "Conversation Features (All)"
   ]
  },
  {
   "cell_type": "code",
   "execution_count": 12,
   "metadata": {},
   "outputs": [],
   "source": [
    "# PARAMETERS\n",
    "min_num_chats = 0\n",
    "desired_target = \"efficiency\"\n",
    "data_path = \"../output/\"\n",
    "validation_results_output_name = \"./csop_lasso_ridge_experiments_min_0_chats.csv\"\n",
    "test_results_output_name = \"./csop_lasso_ridge_experiments_min_0_chats_test.csv\""
   ]
  },
  {
   "cell_type": "code",
   "execution_count": 15,
   "metadata": {},
   "outputs": [],
   "source": [
    "def read_and_preprocess_data(path, min_num_chats):\n",
    "    csop_conv_data  = pd.read_csv(path)\n",
    "\n",
    "    # Filter this down to teams that have at least min_num of chats\n",
    "    # Can also comment this out to re-run results on *all* conversations!\n",
    "    csop_conv_data = csop_conv_data[csop_conv_data[\"sum_num_messages\"] >= min_num_chats]\n",
    "\n",
    "    # Save the important information\n",
    "\n",
    "    # Task and Composition features\n",
    "    task_features = pd.get_dummies(csop_conv_data[\"complexity\"])\n",
    "    team_composition_features = csop_conv_data[[\"skill\", \"social_perceptiveness\", \"cogStyleDiversity\", \"skill_diversity\"]]\n",
    "\n",
    "    # possible targets to try\n",
    "    targets = csop_conv_data[[desired_target,\"score\",\"normalized_score\",\"duration\"]]\n",
    "\n",
    "    # Read in the config file and use that the drop the extraneous columns\n",
    "    with open('./config.json', \"rb\") as json_file:\n",
    "        config = json.load(json_file)\n",
    "\n",
    "    conv_features = csop_conv_data.drop(config[\"csop\"]['cols_to_ignore'], axis = 1)\n",
    "\n",
    "    # Normalization\n",
    "    team_composition_features = pd.DataFrame(StandardScaler().fit_transform(team_composition_features), columns = team_composition_features.columns)\n",
    "    conv_features = pd.DataFrame(StandardScaler().fit_transform(conv_features), columns = conv_features.columns)\n",
    "    # drop na cols\n",
    "    conv_features = conv_features.dropna(axis = 1)\n",
    "\n",
    "    targets = pd.DataFrame(StandardScaler().fit_transform(targets), columns = targets.columns)\n",
    "\n",
    "    return team_composition_features, task_features, conv_features, targets"
   ]
  },
  {
   "cell_type": "code",
   "execution_count": 16,
   "metadata": {},
   "outputs": [],
   "source": [
    "team_composition_features, task_features, conv_features, targets = read_and_preprocess_data(data_path + 'conv/csop_output_conversation_level.csv', min_num_chats=min_num_chats)"
   ]
  },
  {
   "cell_type": "markdown",
   "metadata": {},
   "source": [
    "## Train-Test Split"
   ]
  },
  {
   "cell_type": "code",
   "execution_count": 17,
   "metadata": {},
   "outputs": [],
   "source": [
    "X = pd.concat([task_features.reset_index(drop=True), team_composition_features.reset_index(drop=True), conv_features.reset_index(drop=True)], axis=1)"
   ]
  },
  {
   "cell_type": "code",
   "execution_count": 18,
   "metadata": {},
   "outputs": [],
   "source": [
    "X_train, X_test, y_train, y_test = train_test_split(X, targets, random_state=42, test_size=0.2)"
   ]
  },
  {
   "cell_type": "markdown",
   "metadata": {},
   "source": [
    "## Try LASSO/Ridge Regression, one Set of Features at a Time"
   ]
  },
  {
   "cell_type": "markdown",
   "metadata": {},
   "source": [
    "Here, we want to implement *leave-one-out cross-validation*, and use Q^2 as our metric.\n",
    "\n"
   ]
  },
  {
   "cell_type": "code",
   "execution_count": null,
   "metadata": {},
   "outputs": [],
   "source": [
    "def get_optimal_alpha(y_target, feature_columns_list, lasso):\n",
    "\n",
    "    if(lasso == True):\n",
    "        model = LassoCV(n_alphas = 10000)\n",
    "        model.fit(X_train[feature_columns_list], y_train[y_target])\n",
    "    else:\n",
    "        model = RidgeCV(n_alphas = 10000)\n",
    "        model.fit(X_train[feature_columns_list], y_train[y_target])\n",
    "        \n",
    "    return model.alpha_ # optimal alpha"
   ]
  },
  {
   "cell_type": "code",
   "execution_count": null,
   "metadata": {},
   "outputs": [],
   "source": [
    "def fit_regularized_linear_model(y_target, feature_columns_list, lasso = True, tune_alpha = False):\n",
    "\n",
    "    if(tune_alpha == False):\n",
    "        alpha = 1.0\n",
    "    else:\n",
    "        # Hyperparameter tune the alpha\n",
    "        alpha = get_optimal_alpha(y_target, feature_columns_list, lasso = True)\n",
    "\n",
    "    if(lasso == True):\n",
    "        model = Lasso(alpha=alpha)\n",
    "    else:\n",
    "        model = Ridge(alpha=alpha)\n",
    "\n",
    "    # Calculation of Q^2 metric\n",
    "    \n",
    "\n",
    "    \n",
    "    model.fit(X_train[feature_columns_list], y_train[y_target])\n",
    "    r2 = r2_score(y_true=y_test[y_target], y_pred=model.predict(X_test[feature_columns_list])).round(4)\n",
    "    rmse = np.sqrt(mean_squared_error(y_true=y_test[y_target], y_pred=model.predict(X_test[feature_columns_list])).round(4)).round(4)\n",
    "\n",
    "    print(\"R2: \" + str(r2))\n",
    "    print(\"RMSE: \" + str(rmse))\n",
    "\n",
    "    return (model, r2, rmse)"
   ]
  },
  {
   "cell_type": "code",
   "execution_count": null,
   "metadata": {},
   "outputs": [],
   "source": [
    "def display_feature_coefficients(feature_columns_list, model):\n",
    "    return(pd.DataFrame({'Feature': feature_columns_list, 'Coefficient': model.coef_}).sort_values('Coefficient'))"
   ]
  },
  {
   "cell_type": "code",
   "execution_count": null,
   "metadata": {},
   "outputs": [],
   "source": [
    "# Go through the different types of features and fit models\n",
    "\n",
    "# First, create a data structure that saves the result\n",
    "result = {\n",
    "    \"model\": [],\n",
    "    \"model_type\": [],\n",
    "    \"features_included\": [],\n",
    "    \"alpha\": [],\n",
    "    \"r2\": [],\n",
    "    \"rmse\": []\n",
    "}\n",
    "\n",
    "result_df = pd.DataFrame(result)"
   ]
  },
  {
   "cell_type": "markdown",
   "metadata": {},
   "source": [
    "## Team composition features"
   ]
  },
  {
   "cell_type": "code",
   "execution_count": null,
   "metadata": {},
   "outputs": [
    {
     "name": "stdout",
     "output_type": "stream",
     "text": [
      "R2: -0.045\n",
      "RMSE: 1.064\n"
     ]
    }
   ],
   "source": [
    "model_ridge_composition, mrc_r2, mrc_rmse = fit_regularized_linear_model(desired_target, team_composition_features.columns, lasso = False, tune_alpha = True)\n",
    "\n",
    "result_df = pd.concat([result_df, pd.DataFrame({\"model\": [model_ridge_composition], \"model_type\": [\"Ridge\"], \"features_included\": [\"Team Composition\"], \"alpha\": [model_ridge_composition.alpha.round(4)], \"r2\": [mrc_r2], \"rmse\": [mrc_rmse]})], ignore_index=True)"
   ]
  },
  {
   "cell_type": "code",
   "execution_count": null,
   "metadata": {},
   "outputs": [
    {
     "data": {
      "text/html": [
       "<div>\n",
       "<style scoped>\n",
       "    .dataframe tbody tr th:only-of-type {\n",
       "        vertical-align: middle;\n",
       "    }\n",
       "\n",
       "    .dataframe tbody tr th {\n",
       "        vertical-align: top;\n",
       "    }\n",
       "\n",
       "    .dataframe thead th {\n",
       "        text-align: right;\n",
       "    }\n",
       "</style>\n",
       "<table border=\"1\" class=\"dataframe\">\n",
       "  <thead>\n",
       "    <tr style=\"text-align: right;\">\n",
       "      <th></th>\n",
       "      <th>Feature</th>\n",
       "      <th>Coefficient</th>\n",
       "    </tr>\n",
       "  </thead>\n",
       "  <tbody>\n",
       "    <tr>\n",
       "      <th>0</th>\n",
       "      <td>skill</td>\n",
       "      <td>-0.108107</td>\n",
       "    </tr>\n",
       "    <tr>\n",
       "      <th>1</th>\n",
       "      <td>social_perceptiveness</td>\n",
       "      <td>0.055363</td>\n",
       "    </tr>\n",
       "    <tr>\n",
       "      <th>2</th>\n",
       "      <td>cogStyleDiversity</td>\n",
       "      <td>0.120761</td>\n",
       "    </tr>\n",
       "    <tr>\n",
       "      <th>3</th>\n",
       "      <td>cogStyleSpeed</td>\n",
       "      <td>0.134163</td>\n",
       "    </tr>\n",
       "  </tbody>\n",
       "</table>\n",
       "</div>"
      ],
      "text/plain": [
       "                 Feature  Coefficient\n",
       "0                  skill    -0.108107\n",
       "1  social_perceptiveness     0.055363\n",
       "2      cogStyleDiversity     0.120761\n",
       "3          cogStyleSpeed     0.134163"
      ]
     },
     "execution_count": 65,
     "metadata": {},
     "output_type": "execute_result"
    }
   ],
   "source": [
    "display_feature_coefficients(team_composition_features.columns, model_ridge_composition)"
   ]
  },
  {
   "cell_type": "code",
   "execution_count": null,
   "metadata": {},
   "outputs": [
    {
     "name": "stdout",
     "output_type": "stream",
     "text": [
      "R2: -0.0449\n",
      "RMSE: 1.0639\n"
     ]
    }
   ],
   "source": [
    "model_lasso_composition, mlc_r2, mlc_rmse = fit_regularized_linear_model(desired_target, team_composition_features.columns, lasso = True, tune_alpha = True)\n",
    "result_df = pd.concat([result_df, pd.DataFrame({\"model\": [model_lasso_composition], \"model_type\": [\"Lasso\"], \"features_included\": [\"Team Composition\"], \"alpha\": [model_lasso_composition.alpha.round(4)], \"r2\": [mlc_r2], \"rmse\": [mlc_rmse]})], ignore_index=True)"
   ]
  },
  {
   "cell_type": "markdown",
   "metadata": {},
   "source": [
    "## Task Features"
   ]
  },
  {
   "cell_type": "code",
   "execution_count": null,
   "metadata": {},
   "outputs": [
    {
     "name": "stdout",
     "output_type": "stream",
     "text": [
      "R2: 0.2919\n",
      "RMSE: 0.8758\n"
     ]
    }
   ],
   "source": [
    "model_ridge_task, mrt_r2, mrt_rmse = fit_regularized_linear_model(desired_target, task_features.columns, lasso = False, tune_alpha = True)\n",
    "result_df = pd.concat([result_df, pd.DataFrame({\"model\": [model_ridge_task], \"model_type\": [\"Ridge\"], \"features_included\": [\"Task Complexity\"], \"alpha\": [model_ridge_task.alpha.round(4)], \"r2\": [mrt_r2], \"rmse\": [mrt_rmse]})], ignore_index=True)"
   ]
  },
  {
   "cell_type": "code",
   "execution_count": null,
   "metadata": {},
   "outputs": [
    {
     "data": {
      "text/html": [
       "<div>\n",
       "<style scoped>\n",
       "    .dataframe tbody tr th:only-of-type {\n",
       "        vertical-align: middle;\n",
       "    }\n",
       "\n",
       "    .dataframe tbody tr th {\n",
       "        vertical-align: top;\n",
       "    }\n",
       "\n",
       "    .dataframe thead th {\n",
       "        text-align: right;\n",
       "    }\n",
       "</style>\n",
       "<table border=\"1\" class=\"dataframe\">\n",
       "  <thead>\n",
       "    <tr style=\"text-align: right;\">\n",
       "      <th></th>\n",
       "      <th>Feature</th>\n",
       "      <th>Coefficient</th>\n",
       "    </tr>\n",
       "  </thead>\n",
       "  <tbody>\n",
       "    <tr>\n",
       "      <th>3</th>\n",
       "      <td>Very high</td>\n",
       "      <td>-0.645227</td>\n",
       "    </tr>\n",
       "    <tr>\n",
       "      <th>0</th>\n",
       "      <td>High</td>\n",
       "      <td>-0.419309</td>\n",
       "    </tr>\n",
       "    <tr>\n",
       "      <th>2</th>\n",
       "      <td>Moderate</td>\n",
       "      <td>-0.163190</td>\n",
       "    </tr>\n",
       "    <tr>\n",
       "      <th>1</th>\n",
       "      <td>Low</td>\n",
       "      <td>0.399339</td>\n",
       "    </tr>\n",
       "    <tr>\n",
       "      <th>4</th>\n",
       "      <td>Very low</td>\n",
       "      <td>0.828387</td>\n",
       "    </tr>\n",
       "  </tbody>\n",
       "</table>\n",
       "</div>"
      ],
      "text/plain": [
       "     Feature  Coefficient\n",
       "3  Very high    -0.645227\n",
       "0       High    -0.419309\n",
       "2   Moderate    -0.163190\n",
       "1        Low     0.399339\n",
       "4   Very low     0.828387"
      ]
     },
     "execution_count": 68,
     "metadata": {},
     "output_type": "execute_result"
    }
   ],
   "source": [
    "display_feature_coefficients(task_features.columns, model_ridge_task)"
   ]
  },
  {
   "cell_type": "code",
   "execution_count": null,
   "metadata": {},
   "outputs": [
    {
     "name": "stdout",
     "output_type": "stream",
     "text": [
      "R2: 0.292\n",
      "RMSE: 0.8758\n"
     ]
    }
   ],
   "source": [
    "model_lasso_task, mlt_r2, mlt_rmse = fit_regularized_linear_model(desired_target, task_features.columns, lasso = True, tune_alpha = True)\n",
    "result_df = pd.concat([result_df, pd.DataFrame({\"model\": [model_lasso_task], \"model_type\": [\"Lasso\"], \"features_included\": [\"Task Complexity\"], \"alpha\": [model_lasso_task.alpha.round(4)], \"r2\": [mlt_r2], \"rmse\": [mlt_rmse]})], ignore_index=True)"
   ]
  },
  {
   "cell_type": "code",
   "execution_count": null,
   "metadata": {},
   "outputs": [
    {
     "data": {
      "text/html": [
       "<div>\n",
       "<style scoped>\n",
       "    .dataframe tbody tr th:only-of-type {\n",
       "        vertical-align: middle;\n",
       "    }\n",
       "\n",
       "    .dataframe tbody tr th {\n",
       "        vertical-align: top;\n",
       "    }\n",
       "\n",
       "    .dataframe thead th {\n",
       "        text-align: right;\n",
       "    }\n",
       "</style>\n",
       "<table border=\"1\" class=\"dataframe\">\n",
       "  <thead>\n",
       "    <tr style=\"text-align: right;\">\n",
       "      <th></th>\n",
       "      <th>Feature</th>\n",
       "      <th>Coefficient</th>\n",
       "    </tr>\n",
       "  </thead>\n",
       "  <tbody>\n",
       "    <tr>\n",
       "      <th>3</th>\n",
       "      <td>Very high</td>\n",
       "      <td>-0.480173</td>\n",
       "    </tr>\n",
       "    <tr>\n",
       "      <th>0</th>\n",
       "      <td>High</td>\n",
       "      <td>-0.254428</td>\n",
       "    </tr>\n",
       "    <tr>\n",
       "      <th>2</th>\n",
       "      <td>Moderate</td>\n",
       "      <td>-0.000000</td>\n",
       "    </tr>\n",
       "    <tr>\n",
       "      <th>1</th>\n",
       "      <td>Low</td>\n",
       "      <td>0.560582</td>\n",
       "    </tr>\n",
       "    <tr>\n",
       "      <th>4</th>\n",
       "      <td>Very low</td>\n",
       "      <td>0.989660</td>\n",
       "    </tr>\n",
       "  </tbody>\n",
       "</table>\n",
       "</div>"
      ],
      "text/plain": [
       "     Feature  Coefficient\n",
       "3  Very high    -0.480173\n",
       "0       High    -0.254428\n",
       "2   Moderate    -0.000000\n",
       "1        Low     0.560582\n",
       "4   Very low     0.989660"
      ]
     },
     "execution_count": 70,
     "metadata": {},
     "output_type": "execute_result"
    }
   ],
   "source": [
    "display_feature_coefficients(task_features.columns, model_lasso_task)"
   ]
  },
  {
   "cell_type": "markdown",
   "metadata": {},
   "source": [
    "## Task + Composition Together"
   ]
  },
  {
   "cell_type": "code",
   "execution_count": null,
   "metadata": {},
   "outputs": [
    {
     "name": "stdout",
     "output_type": "stream",
     "text": [
      "R2: 0.2683\n",
      "RMSE: 0.8903\n"
     ]
    }
   ],
   "source": [
    "task_comp_features = list(task_features.columns) + list(team_composition_features.columns)\n",
    "\n",
    "model_ridge_taskcomp, mrtc_r2, mrtc_rmse = fit_regularized_linear_model(desired_target, task_comp_features, lasso = False, tune_alpha = True)\n",
    "result_df = pd.concat([result_df, pd.DataFrame({\"model\": [model_ridge_taskcomp], \"model_type\": [\"Ridge\"], \"features_included\": [\"Team Composition + Task Complexity\"], \"alpha\": [model_ridge_taskcomp.alpha.round(4)], \"r2\": [mrtc_r2], \"rmse\": [mrtc_rmse]})], ignore_index=True)"
   ]
  },
  {
   "cell_type": "code",
   "execution_count": null,
   "metadata": {},
   "outputs": [
    {
     "data": {
      "text/html": [
       "<div>\n",
       "<style scoped>\n",
       "    .dataframe tbody tr th:only-of-type {\n",
       "        vertical-align: middle;\n",
       "    }\n",
       "\n",
       "    .dataframe tbody tr th {\n",
       "        vertical-align: top;\n",
       "    }\n",
       "\n",
       "    .dataframe thead th {\n",
       "        text-align: right;\n",
       "    }\n",
       "</style>\n",
       "<table border=\"1\" class=\"dataframe\">\n",
       "  <thead>\n",
       "    <tr style=\"text-align: right;\">\n",
       "      <th></th>\n",
       "      <th>Feature</th>\n",
       "      <th>Coefficient</th>\n",
       "    </tr>\n",
       "  </thead>\n",
       "  <tbody>\n",
       "    <tr>\n",
       "      <th>3</th>\n",
       "      <td>Very high</td>\n",
       "      <td>-0.640408</td>\n",
       "    </tr>\n",
       "    <tr>\n",
       "      <th>0</th>\n",
       "      <td>High</td>\n",
       "      <td>-0.419650</td>\n",
       "    </tr>\n",
       "    <tr>\n",
       "      <th>2</th>\n",
       "      <td>Moderate</td>\n",
       "      <td>-0.159932</td>\n",
       "    </tr>\n",
       "    <tr>\n",
       "      <th>5</th>\n",
       "      <td>skill</td>\n",
       "      <td>-0.098085</td>\n",
       "    </tr>\n",
       "    <tr>\n",
       "      <th>6</th>\n",
       "      <td>social_perceptiveness</td>\n",
       "      <td>0.053602</td>\n",
       "    </tr>\n",
       "    <tr>\n",
       "      <th>7</th>\n",
       "      <td>cogStyleDiversity</td>\n",
       "      <td>0.120557</td>\n",
       "    </tr>\n",
       "    <tr>\n",
       "      <th>8</th>\n",
       "      <td>cogStyleSpeed</td>\n",
       "      <td>0.123390</td>\n",
       "    </tr>\n",
       "    <tr>\n",
       "      <th>1</th>\n",
       "      <td>Low</td>\n",
       "      <td>0.405379</td>\n",
       "    </tr>\n",
       "    <tr>\n",
       "      <th>4</th>\n",
       "      <td>Very low</td>\n",
       "      <td>0.814612</td>\n",
       "    </tr>\n",
       "  </tbody>\n",
       "</table>\n",
       "</div>"
      ],
      "text/plain": [
       "                 Feature  Coefficient\n",
       "3              Very high    -0.640408\n",
       "0                   High    -0.419650\n",
       "2               Moderate    -0.159932\n",
       "5                  skill    -0.098085\n",
       "6  social_perceptiveness     0.053602\n",
       "7      cogStyleDiversity     0.120557\n",
       "8          cogStyleSpeed     0.123390\n",
       "1                    Low     0.405379\n",
       "4               Very low     0.814612"
      ]
     },
     "execution_count": 72,
     "metadata": {},
     "output_type": "execute_result"
    }
   ],
   "source": [
    "display_feature_coefficients(task_comp_features, model_ridge_taskcomp)"
   ]
  },
  {
   "cell_type": "code",
   "execution_count": null,
   "metadata": {},
   "outputs": [
    {
     "name": "stdout",
     "output_type": "stream",
     "text": [
      "R2: 0.2688\n",
      "RMSE: 0.89\n"
     ]
    }
   ],
   "source": [
    "model_lasso_taskcomp, mltc_r2, mltc_rmse = fit_regularized_linear_model(desired_target, task_comp_features, lasso = True, tune_alpha = True)\n",
    "result_df = pd.concat([result_df, pd.DataFrame({\"model\": [model_lasso_taskcomp], \"model_type\": [\"Lasso\"], \"features_included\": [\"Team Composition + Task Complexity\"], \"alpha\": [model_lasso_taskcomp.alpha.round(4)], \"r2\": [mltc_r2], \"rmse\": [mltc_rmse]})], ignore_index=True)"
   ]
  },
  {
   "cell_type": "code",
   "execution_count": null,
   "metadata": {},
   "outputs": [
    {
     "data": {
      "text/html": [
       "<div>\n",
       "<style scoped>\n",
       "    .dataframe tbody tr th:only-of-type {\n",
       "        vertical-align: middle;\n",
       "    }\n",
       "\n",
       "    .dataframe tbody tr th {\n",
       "        vertical-align: top;\n",
       "    }\n",
       "\n",
       "    .dataframe thead th {\n",
       "        text-align: right;\n",
       "    }\n",
       "</style>\n",
       "<table border=\"1\" class=\"dataframe\">\n",
       "  <thead>\n",
       "    <tr style=\"text-align: right;\">\n",
       "      <th></th>\n",
       "      <th>Feature</th>\n",
       "      <th>Coefficient</th>\n",
       "    </tr>\n",
       "  </thead>\n",
       "  <tbody>\n",
       "    <tr>\n",
       "      <th>3</th>\n",
       "      <td>Very high</td>\n",
       "      <td>-0.476300</td>\n",
       "    </tr>\n",
       "    <tr>\n",
       "      <th>0</th>\n",
       "      <td>High</td>\n",
       "      <td>-0.255886</td>\n",
       "    </tr>\n",
       "    <tr>\n",
       "      <th>5</th>\n",
       "      <td>skill</td>\n",
       "      <td>-0.097181</td>\n",
       "    </tr>\n",
       "    <tr>\n",
       "      <th>2</th>\n",
       "      <td>Moderate</td>\n",
       "      <td>-0.000000</td>\n",
       "    </tr>\n",
       "    <tr>\n",
       "      <th>6</th>\n",
       "      <td>social_perceptiveness</td>\n",
       "      <td>0.052634</td>\n",
       "    </tr>\n",
       "    <tr>\n",
       "      <th>7</th>\n",
       "      <td>cogStyleDiversity</td>\n",
       "      <td>0.119719</td>\n",
       "    </tr>\n",
       "    <tr>\n",
       "      <th>8</th>\n",
       "      <td>cogStyleSpeed</td>\n",
       "      <td>0.122639</td>\n",
       "    </tr>\n",
       "    <tr>\n",
       "      <th>1</th>\n",
       "      <td>Low</td>\n",
       "      <td>0.561024</td>\n",
       "    </tr>\n",
       "    <tr>\n",
       "      <th>4</th>\n",
       "      <td>Very low</td>\n",
       "      <td>0.970398</td>\n",
       "    </tr>\n",
       "  </tbody>\n",
       "</table>\n",
       "</div>"
      ],
      "text/plain": [
       "                 Feature  Coefficient\n",
       "3              Very high    -0.476300\n",
       "0                   High    -0.255886\n",
       "5                  skill    -0.097181\n",
       "2               Moderate    -0.000000\n",
       "6  social_perceptiveness     0.052634\n",
       "7      cogStyleDiversity     0.119719\n",
       "8          cogStyleSpeed     0.122639\n",
       "1                    Low     0.561024\n",
       "4               Very low     0.970398"
      ]
     },
     "execution_count": 74,
     "metadata": {},
     "output_type": "execute_result"
    }
   ],
   "source": [
    "display_feature_coefficients(task_comp_features, model_lasso_taskcomp)"
   ]
  },
  {
   "cell_type": "markdown",
   "metadata": {},
   "source": [
    "## Conversation Alone"
   ]
  },
  {
   "cell_type": "code",
   "execution_count": null,
   "metadata": {},
   "outputs": [
    {
     "name": "stderr",
     "output_type": "stream",
     "text": [
      "Objective did not converge. You might want to increase the number of iterations, check the scale of the features or consider increasing regularisation. Duality gap: 6.545e-02, tolerance: 6.401e-02\n",
      "Objective did not converge. You might want to increase the number of iterations, check the scale of the features or consider increasing regularisation. Duality gap: 1.045e-01, tolerance: 6.401e-02\n",
      "Objective did not converge. You might want to increase the number of iterations, check the scale of the features or consider increasing regularisation. Duality gap: 1.054e-01, tolerance: 6.401e-02\n",
      "Objective did not converge. You might want to increase the number of iterations, check the scale of the features or consider increasing regularisation. Duality gap: 6.710e-02, tolerance: 6.401e-02\n",
      "Objective did not converge. You might want to increase the number of iterations, check the scale of the features or consider increasing regularisation. Duality gap: 1.075e-01, tolerance: 6.401e-02\n",
      "Objective did not converge. You might want to increase the number of iterations, check the scale of the features or consider increasing regularisation. Duality gap: 7.458e-02, tolerance: 6.401e-02\n",
      "Objective did not converge. You might want to increase the number of iterations, check the scale of the features or consider increasing regularisation. Duality gap: 9.047e-02, tolerance: 6.401e-02\n",
      "Objective did not converge. You might want to increase the number of iterations, check the scale of the features or consider increasing regularisation. Duality gap: 7.212e-02, tolerance: 6.401e-02\n",
      "Objective did not converge. You might want to increase the number of iterations, check the scale of the features or consider increasing regularisation. Duality gap: 8.851e-02, tolerance: 6.401e-02\n",
      "Objective did not converge. You might want to increase the number of iterations, check the scale of the features or consider increasing regularisation. Duality gap: 8.122e-02, tolerance: 6.401e-02\n",
      "Objective did not converge. You might want to increase the number of iterations, check the scale of the features or consider increasing regularisation. Duality gap: 6.853e-02, tolerance: 6.401e-02\n",
      "Objective did not converge. You might want to increase the number of iterations, check the scale of the features or consider increasing regularisation. Duality gap: 6.576e-02, tolerance: 6.401e-02\n",
      "Objective did not converge. You might want to increase the number of iterations, check the scale of the features or consider increasing regularisation. Duality gap: 6.627e-02, tolerance: 6.401e-02\n",
      "Objective did not converge. You might want to increase the number of iterations, check the scale of the features or consider increasing regularisation. Duality gap: 6.702e-02, tolerance: 6.401e-02\n",
      "Objective did not converge. You might want to increase the number of iterations, check the scale of the features or consider increasing regularisation. Duality gap: 6.591e-02, tolerance: 6.401e-02\n",
      "Objective did not converge. You might want to increase the number of iterations, check the scale of the features or consider increasing regularisation. Duality gap: 6.038e-02, tolerance: 5.716e-02\n",
      "Objective did not converge. You might want to increase the number of iterations, check the scale of the features or consider increasing regularisation. Duality gap: 6.027e-02, tolerance: 5.716e-02\n",
      "Objective did not converge. You might want to increase the number of iterations, check the scale of the features or consider increasing regularisation. Duality gap: 7.590e-02, tolerance: 6.392e-02\n",
      "Objective did not converge. You might want to increase the number of iterations, check the scale of the features or consider increasing regularisation. Duality gap: 7.442e-02, tolerance: 6.392e-02\n",
      "Objective did not converge. You might want to increase the number of iterations, check the scale of the features or consider increasing regularisation. Duality gap: 6.934e-02, tolerance: 6.392e-02\n",
      "Objective did not converge. You might want to increase the number of iterations, check the scale of the features or consider increasing regularisation. Duality gap: 6.447e-02, tolerance: 6.392e-02\n",
      "Objective did not converge. You might want to increase the number of iterations, check the scale of the features or consider increasing regularisation. Duality gap: 6.545e-02, tolerance: 6.392e-02\n",
      "Objective did not converge. You might want to increase the number of iterations, check the scale of the features or consider increasing regularisation. Duality gap: 6.463e-02, tolerance: 6.110e-02\n",
      "Objective did not converge. You might want to increase the number of iterations, check the scale of the features or consider increasing regularisation. Duality gap: 6.672e-02, tolerance: 6.110e-02\n",
      "Objective did not converge. You might want to increase the number of iterations, check the scale of the features or consider increasing regularisation. Duality gap: 6.244e-02, tolerance: 6.110e-02\n",
      "Objective did not converge. You might want to increase the number of iterations, check the scale of the features or consider increasing regularisation. Duality gap: 7.530e-02, tolerance: 6.110e-02\n",
      "Objective did not converge. You might want to increase the number of iterations, check the scale of the features or consider increasing regularisation. Duality gap: 6.975e-02, tolerance: 6.110e-02\n",
      "Objective did not converge. You might want to increase the number of iterations, check the scale of the features or consider increasing regularisation. Duality gap: 6.957e-02, tolerance: 6.110e-02\n",
      "Objective did not converge. You might want to increase the number of iterations, check the scale of the features or consider increasing regularisation. Duality gap: 6.417e-02, tolerance: 6.110e-02\n",
      "Objective did not converge. You might want to increase the number of iterations, check the scale of the features or consider increasing regularisation. Duality gap: 7.191e-02, tolerance: 6.110e-02\n",
      "Objective did not converge. You might want to increase the number of iterations, check the scale of the features or consider increasing regularisation. Duality gap: 6.279e-02, tolerance: 6.110e-02\n",
      "Objective did not converge. You might want to increase the number of iterations, check the scale of the features or consider increasing regularisation. Duality gap: 6.815e-02, tolerance: 6.110e-02\n",
      "Objective did not converge. You might want to increase the number of iterations, check the scale of the features or consider increasing regularisation. Duality gap: 6.874e-02, tolerance: 6.110e-02\n",
      "Objective did not converge. You might want to increase the number of iterations, check the scale of the features or consider increasing regularisation. Duality gap: 7.381e-02, tolerance: 6.110e-02\n",
      "Objective did not converge. You might want to increase the number of iterations, check the scale of the features or consider increasing regularisation. Duality gap: 7.218e-02, tolerance: 6.110e-02\n",
      "Objective did not converge. You might want to increase the number of iterations, check the scale of the features or consider increasing regularisation. Duality gap: 9.581e-02, tolerance: 6.110e-02\n",
      "Objective did not converge. You might want to increase the number of iterations, check the scale of the features or consider increasing regularisation. Duality gap: 6.505e-02, tolerance: 6.110e-02\n",
      "Objective did not converge. You might want to increase the number of iterations, check the scale of the features or consider increasing regularisation. Duality gap: 1.082e-01, tolerance: 6.110e-02\n",
      "Objective did not converge. You might want to increase the number of iterations, check the scale of the features or consider increasing regularisation. Duality gap: 9.284e-02, tolerance: 6.110e-02\n",
      "Objective did not converge. You might want to increase the number of iterations, check the scale of the features or consider increasing regularisation. Duality gap: 9.489e-02, tolerance: 6.110e-02\n",
      "Objective did not converge. You might want to increase the number of iterations, check the scale of the features or consider increasing regularisation. Duality gap: 8.573e-02, tolerance: 6.110e-02\n",
      "Objective did not converge. You might want to increase the number of iterations, check the scale of the features or consider increasing regularisation. Duality gap: 7.236e-02, tolerance: 6.110e-02\n",
      "Objective did not converge. You might want to increase the number of iterations, check the scale of the features or consider increasing regularisation. Duality gap: 6.347e-02, tolerance: 6.110e-02\n",
      "Objective did not converge. You might want to increase the number of iterations, check the scale of the features or consider increasing regularisation. Duality gap: 7.273e-02, tolerance: 6.110e-02\n",
      "Objective did not converge. You might want to increase the number of iterations, check the scale of the features or consider increasing regularisation. Duality gap: 7.032e-02, tolerance: 6.110e-02\n",
      "Objective did not converge. You might want to increase the number of iterations, check the scale of the features or consider increasing regularisation. Duality gap: 7.330e-02, tolerance: 6.110e-02\n",
      "Objective did not converge. You might want to increase the number of iterations, check the scale of the features or consider increasing regularisation. Duality gap: 6.238e-02, tolerance: 6.110e-02\n",
      "Objective did not converge. You might want to increase the number of iterations, check the scale of the features or consider increasing regularisation. Duality gap: 6.285e-02, tolerance: 6.110e-02\n",
      "Objective did not converge. You might want to increase the number of iterations, check the scale of the features or consider increasing regularisation. Duality gap: 6.839e-02, tolerance: 6.110e-02\n",
      "Objective did not converge. You might want to increase the number of iterations, check the scale of the features or consider increasing regularisation. Duality gap: 6.985e-02, tolerance: 6.110e-02\n",
      "Objective did not converge. You might want to increase the number of iterations, check the scale of the features or consider increasing regularisation. Duality gap: 6.942e-02, tolerance: 6.110e-02\n",
      "Objective did not converge. You might want to increase the number of iterations, check the scale of the features or consider increasing regularisation. Duality gap: 6.603e-02, tolerance: 6.110e-02\n",
      "Objective did not converge. You might want to increase the number of iterations, check the scale of the features or consider increasing regularisation. Duality gap: 6.396e-02, tolerance: 6.110e-02\n",
      "Objective did not converge. You might want to increase the number of iterations, check the scale of the features or consider increasing regularisation. Duality gap: 6.541e-02, tolerance: 6.081e-02\n",
      "Objective did not converge. You might want to increase the number of iterations, check the scale of the features or consider increasing regularisation. Duality gap: 6.895e-02, tolerance: 6.081e-02\n",
      "Objective did not converge. You might want to increase the number of iterations, check the scale of the features or consider increasing regularisation. Duality gap: 6.902e-02, tolerance: 6.081e-02\n",
      "Objective did not converge. You might want to increase the number of iterations, check the scale of the features or consider increasing regularisation. Duality gap: 6.792e-02, tolerance: 6.081e-02\n",
      "Objective did not converge. You might want to increase the number of iterations, check the scale of the features or consider increasing regularisation. Duality gap: 6.668e-02, tolerance: 6.081e-02\n",
      "Objective did not converge. You might want to increase the number of iterations, check the scale of the features or consider increasing regularisation. Duality gap: 6.460e-02, tolerance: 6.081e-02\n",
      "Objective did not converge. You might want to increase the number of iterations, check the scale of the features or consider increasing regularisation. Duality gap: 6.206e-02, tolerance: 6.081e-02\n",
      "Objective did not converge. You might want to increase the number of iterations, check the scale of the features or consider increasing regularisation. Duality gap: 6.858e-02, tolerance: 6.081e-02\n",
      "Objective did not converge. You might want to increase the number of iterations, check the scale of the features or consider increasing regularisation. Duality gap: 7.062e-02, tolerance: 6.081e-02\n",
      "Objective did not converge. You might want to increase the number of iterations, check the scale of the features or consider increasing regularisation. Duality gap: 6.559e-02, tolerance: 6.081e-02\n",
      "Objective did not converge. You might want to increase the number of iterations, check the scale of the features or consider increasing regularisation. Duality gap: 6.606e-02, tolerance: 6.081e-02\n",
      "Objective did not converge. You might want to increase the number of iterations, check the scale of the features or consider increasing regularisation. Duality gap: 7.049e-02, tolerance: 6.081e-02\n",
      "Objective did not converge. You might want to increase the number of iterations, check the scale of the features or consider increasing regularisation. Duality gap: 6.730e-02, tolerance: 6.081e-02\n",
      "Objective did not converge. You might want to increase the number of iterations, check the scale of the features or consider increasing regularisation. Duality gap: 6.777e-02, tolerance: 6.081e-02\n",
      "Objective did not converge. You might want to increase the number of iterations, check the scale of the features or consider increasing regularisation. Duality gap: 6.961e-02, tolerance: 6.081e-02\n"
     ]
    },
    {
     "name": "stdout",
     "output_type": "stream",
     "text": [
      "R2: 0.2148\n",
      "RMSE: 0.9223\n"
     ]
    }
   ],
   "source": [
    "model_lasso_comms, mlcom_r2, mlcom_rmse = fit_regularized_linear_model(desired_target, conv_features.columns, lasso = True, tune_alpha = True)\n",
    "result_df = pd.concat([result_df, pd.DataFrame({\"model\": [model_lasso_comms], \"model_type\": [\"Lasso\"], \"features_included\": [\"Communication\"], \"alpha\": [model_lasso_comms.alpha.round(4)], \"r2\": [mlcom_r2], \"rmse\": [mlcom_rmse]})], ignore_index=True)"
   ]
  },
  {
   "cell_type": "code",
   "execution_count": null,
   "metadata": {},
   "outputs": [],
   "source": [
    "def print_lasso_coefs(X, model):\n",
    "\n",
    "    coefficients = model.coef_\n",
    "    \n",
    "    # Get coefficients that are larger than minimal thresh = 0.001\n",
    "    # This drops the worst coefficients in the graph and makes the image more readable\n",
    "    MIN_THRESH = 0.001\n",
    "    if(len(coefficients[abs(coefficients) > MIN_THRESH])>0):\n",
    "        nonzero_coefficients,nonzero_indices = get_nonzero_lasso_coefs(coefficients, MIN_THRESH)\n",
    "    else:\n",
    "        MIN_THRESH = 0\n",
    "        nonzero_coefficients,nonzero_indices = get_nonzero_lasso_coefs(coefficients, MIN_THRESH)\n",
    "\n",
    "    nonzero_names = X.columns[nonzero_indices] \n",
    "    sorted_indices = np.argsort(np.abs(nonzero_coefficients))[::-1]\n",
    "    sorted_coefficients = nonzero_coefficients[sorted_indices]\n",
    "    sorted_names = nonzero_names[sorted_indices]\n",
    "\n",
    "    fig, ax = plt.subplots(figsize=(20, 7))\n",
    "    ax.barh(range(len(sorted_coefficients)), sorted_coefficients, color='steelblue')\n",
    "    ax.invert_yaxis()\n",
    "\n",
    "    coeff_range = np.abs(np.max(sorted_coefficients) - np.min(sorted_coefficients))\n",
    "    offset = coeff_range * 0.03\n",
    "\n",
    "    for i, (coefficient, name) in enumerate(zip(sorted_coefficients, sorted_names)):\n",
    "        text_x = coefficient - offset if coefficient < 0 else coefficient + offset\n",
    "        ax.text(text_x, i, f'{coefficient:.3f}', ha='left' if coefficient < 0 else 'right', va='center')\n",
    "\n",
    "    ax.set_yticks(range(len(sorted_coefficients)))\n",
    "    ax.set_yticklabels(sorted_names)\n",
    "    ax.set_xlabel('Coefficient Value')\n",
    "    ax.set_ylabel('Coefficient Name')\n",
    "    ax.set_title('Lasso Coefficients with CV-fitted alpha = ' + str(model.alpha.round(4)))\n",
    "\n",
    "    plt.show()\n",
    "\n",
    "def get_nonzero_lasso_coefs(coefficients, MIN_THRESH):\n",
    "    nonzero_coefficients = coefficients[abs(coefficients) > MIN_THRESH]\n",
    "    nonzero_indices = np.where(abs(coefficients) > MIN_THRESH)[0]\n",
    "    return(nonzero_coefficients,nonzero_indices)\n",
    "\n",
    "def plot_lasso_residuals(model):\n",
    "\n",
    "    predicted_values = model.predict(self.X)\n",
    "    residuals = self.y - predicted_values\n",
    "    \n",
    "    plt.figure(figsize=(8, 6))\n",
    "    plt.scatter(predicted_values, residuals)\n",
    "    plt.axhline(y=0, color='r', linestyle='--')\n",
    "    plt.xlabel('Predicted Values')\n",
    "    plt.ylabel('Residuals')\n",
    "    plt.title('Residual Plot')\n",
    "    plt.show()"
   ]
  },
  {
   "cell_type": "code",
   "execution_count": null,
   "metadata": {},
   "outputs": [
    {
     "data": {
      "image/png": "[encoded data removed]",
      "text/plain": [
       "<Figure size 1440x504 with 1 Axes>"
      ]
     },
     "metadata": {
      "needs_background": "light"
     },
     "output_type": "display_data"
    }
   ],
   "source": [
    "print_lasso_coefs(conv_features, model_lasso_comms)"
   ]
  },
  {
   "cell_type": "code",
   "execution_count": null,
   "metadata": {},
   "outputs": [
    {
     "data": {
      "text/html": [
       "<div>\n",
       "<style scoped>\n",
       "    .dataframe tbody tr th:only-of-type {\n",
       "        vertical-align: middle;\n",
       "    }\n",
       "\n",
       "    .dataframe tbody tr th {\n",
       "        vertical-align: top;\n",
       "    }\n",
       "\n",
       "    .dataframe thead th {\n",
       "        text-align: right;\n",
       "    }\n",
       "</style>\n",
       "<table border=\"1\" class=\"dataframe\">\n",
       "  <thead>\n",
       "    <tr style=\"text-align: right;\">\n",
       "      <th></th>\n",
       "      <th>Feature</th>\n",
       "      <th>Coefficient</th>\n",
       "    </tr>\n",
       "  </thead>\n",
       "  <tbody>\n",
       "    <tr>\n",
       "      <th>10</th>\n",
       "      <td>stdev_neutral_bert</td>\n",
       "      <td>-0.068019</td>\n",
       "    </tr>\n",
       "    <tr>\n",
       "      <th>8</th>\n",
       "      <td>max_negative_bert</td>\n",
       "      <td>-0.066281</td>\n",
       "    </tr>\n",
       "    <tr>\n",
       "      <th>25</th>\n",
       "      <td>average_info_exchange_zscore_chats</td>\n",
       "      <td>-0.056018</td>\n",
       "    </tr>\n",
       "    <tr>\n",
       "      <th>236</th>\n",
       "      <td>max_positive_words</td>\n",
       "      <td>-0.046597</td>\n",
       "    </tr>\n",
       "    <tr>\n",
       "      <th>208</th>\n",
       "      <td>max_argue</td>\n",
       "      <td>-0.033635</td>\n",
       "    </tr>\n",
       "    <tr>\n",
       "      <th>...</th>\n",
       "      <td>...</td>\n",
       "      <td>...</td>\n",
       "    </tr>\n",
       "    <tr>\n",
       "      <th>390</th>\n",
       "      <td>min_user_sum_neutral_bert</td>\n",
       "      <td>-0.000000</td>\n",
       "    </tr>\n",
       "    <tr>\n",
       "      <th>389</th>\n",
       "      <td>stdev_user_sum_neutral_bert</td>\n",
       "      <td>-0.000000</td>\n",
       "    </tr>\n",
       "    <tr>\n",
       "      <th>388</th>\n",
       "      <td>average_user_sum_neutral_bert</td>\n",
       "      <td>-0.000000</td>\n",
       "    </tr>\n",
       "    <tr>\n",
       "      <th>163</th>\n",
       "      <td>min_work</td>\n",
       "      <td>0.002989</td>\n",
       "    </tr>\n",
       "    <tr>\n",
       "      <th>1022</th>\n",
       "      <td>min_user_avg_word_TTR</td>\n",
       "      <td>0.007528</td>\n",
       "    </tr>\n",
       "  </tbody>\n",
       "</table>\n",
       "<p>1144 rows × 2 columns</p>\n",
       "</div>"
      ],
      "text/plain": [
       "                                 Feature  Coefficient\n",
       "10                    stdev_neutral_bert    -0.068019\n",
       "8                      max_negative_bert    -0.066281\n",
       "25    average_info_exchange_zscore_chats    -0.056018\n",
       "236                   max_positive_words    -0.046597\n",
       "208                            max_argue    -0.033635\n",
       "...                                  ...          ...\n",
       "390            min_user_sum_neutral_bert    -0.000000\n",
       "389          stdev_user_sum_neutral_bert    -0.000000\n",
       "388        average_user_sum_neutral_bert    -0.000000\n",
       "163                             min_work     0.002989\n",
       "1022               min_user_avg_word_TTR     0.007528\n",
       "\n",
       "[1144 rows x 2 columns]"
      ]
     },
     "execution_count": 76,
     "metadata": {},
     "output_type": "execute_result"
    }
   ],
   "source": [
    "display_feature_coefficients(conv_features.columns, model_lasso_comms)"
   ]
  },
  {
   "cell_type": "code",
   "execution_count": null,
   "metadata": {},
   "outputs": [
    {
     "name": "stderr",
     "output_type": "stream",
     "text": [
      "Objective did not converge. You might want to increase the number of iterations, check the scale of the features or consider increasing regularisation. Duality gap: 6.545e-02, tolerance: 6.401e-02\n",
      "Objective did not converge. You might want to increase the number of iterations, check the scale of the features or consider increasing regularisation. Duality gap: 1.045e-01, tolerance: 6.401e-02\n",
      "Objective did not converge. You might want to increase the number of iterations, check the scale of the features or consider increasing regularisation. Duality gap: 1.054e-01, tolerance: 6.401e-02\n",
      "Objective did not converge. You might want to increase the number of iterations, check the scale of the features or consider increasing regularisation. Duality gap: 6.710e-02, tolerance: 6.401e-02\n",
      "Objective did not converge. You might want to increase the number of iterations, check the scale of the features or consider increasing regularisation. Duality gap: 1.075e-01, tolerance: 6.401e-02\n",
      "Objective did not converge. You might want to increase the number of iterations, check the scale of the features or consider increasing regularisation. Duality gap: 7.458e-02, tolerance: 6.401e-02\n",
      "Objective did not converge. You might want to increase the number of iterations, check the scale of the features or consider increasing regularisation. Duality gap: 9.047e-02, tolerance: 6.401e-02\n",
      "Objective did not converge. You might want to increase the number of iterations, check the scale of the features or consider increasing regularisation. Duality gap: 7.212e-02, tolerance: 6.401e-02\n",
      "Objective did not converge. You might want to increase the number of iterations, check the scale of the features or consider increasing regularisation. Duality gap: 8.851e-02, tolerance: 6.401e-02\n",
      "Objective did not converge. You might want to increase the number of iterations, check the scale of the features or consider increasing regularisation. Duality gap: 8.122e-02, tolerance: 6.401e-02\n",
      "Objective did not converge. You might want to increase the number of iterations, check the scale of the features or consider increasing regularisation. Duality gap: 6.853e-02, tolerance: 6.401e-02\n",
      "Objective did not converge. You might want to increase the number of iterations, check the scale of the features or consider increasing regularisation. Duality gap: 6.576e-02, tolerance: 6.401e-02\n",
      "Objective did not converge. You might want to increase the number of iterations, check the scale of the features or consider increasing regularisation. Duality gap: 6.627e-02, tolerance: 6.401e-02\n",
      "Objective did not converge. You might want to increase the number of iterations, check the scale of the features or consider increasing regularisation. Duality gap: 6.702e-02, tolerance: 6.401e-02\n",
      "Objective did not converge. You might want to increase the number of iterations, check the scale of the features or consider increasing regularisation. Duality gap: 6.591e-02, tolerance: 6.401e-02\n",
      "Objective did not converge. You might want to increase the number of iterations, check the scale of the features or consider increasing regularisation. Duality gap: 6.038e-02, tolerance: 5.716e-02\n",
      "Objective did not converge. You might want to increase the number of iterations, check the scale of the features or consider increasing regularisation. Duality gap: 6.027e-02, tolerance: 5.716e-02\n",
      "Objective did not converge. You might want to increase the number of iterations, check the scale of the features or consider increasing regularisation. Duality gap: 7.590e-02, tolerance: 6.392e-02\n",
      "Objective did not converge. You might want to increase the number of iterations, check the scale of the features or consider increasing regularisation. Duality gap: 7.442e-02, tolerance: 6.392e-02\n",
      "Objective did not converge. You might want to increase the number of iterations, check the scale of the features or consider increasing regularisation. Duality gap: 6.934e-02, tolerance: 6.392e-02\n",
      "Objective did not converge. You might want to increase the number of iterations, check the scale of the features or consider increasing regularisation. Duality gap: 6.447e-02, tolerance: 6.392e-02\n",
      "Objective did not converge. You might want to increase the number of iterations, check the scale of the features or consider increasing regularisation. Duality gap: 6.545e-02, tolerance: 6.392e-02\n",
      "Objective did not converge. You might want to increase the number of iterations, check the scale of the features or consider increasing regularisation. Duality gap: 6.463e-02, tolerance: 6.110e-02\n",
      "Objective did not converge. You might want to increase the number of iterations, check the scale of the features or consider increasing regularisation. Duality gap: 6.672e-02, tolerance: 6.110e-02\n",
      "Objective did not converge. You might want to increase the number of iterations, check the scale of the features or consider increasing regularisation. Duality gap: 6.244e-02, tolerance: 6.110e-02\n",
      "Objective did not converge. You might want to increase the number of iterations, check the scale of the features or consider increasing regularisation. Duality gap: 7.530e-02, tolerance: 6.110e-02\n",
      "Objective did not converge. You might want to increase the number of iterations, check the scale of the features or consider increasing regularisation. Duality gap: 6.975e-02, tolerance: 6.110e-02\n",
      "Objective did not converge. You might want to increase the number of iterations, check the scale of the features or consider increasing regularisation. Duality gap: 6.957e-02, tolerance: 6.110e-02\n",
      "Objective did not converge. You might want to increase the number of iterations, check the scale of the features or consider increasing regularisation. Duality gap: 6.417e-02, tolerance: 6.110e-02\n",
      "Objective did not converge. You might want to increase the number of iterations, check the scale of the features or consider increasing regularisation. Duality gap: 7.191e-02, tolerance: 6.110e-02\n",
      "Objective did not converge. You might want to increase the number of iterations, check the scale of the features or consider increasing regularisation. Duality gap: 6.279e-02, tolerance: 6.110e-02\n",
      "Objective did not converge. You might want to increase the number of iterations, check the scale of the features or consider increasing regularisation. Duality gap: 6.815e-02, tolerance: 6.110e-02\n",
      "Objective did not converge. You might want to increase the number of iterations, check the scale of the features or consider increasing regularisation. Duality gap: 6.874e-02, tolerance: 6.110e-02\n",
      "Objective did not converge. You might want to increase the number of iterations, check the scale of the features or consider increasing regularisation. Duality gap: 7.381e-02, tolerance: 6.110e-02\n",
      "Objective did not converge. You might want to increase the number of iterations, check the scale of the features or consider increasing regularisation. Duality gap: 7.218e-02, tolerance: 6.110e-02\n",
      "Objective did not converge. You might want to increase the number of iterations, check the scale of the features or consider increasing regularisation. Duality gap: 9.581e-02, tolerance: 6.110e-02\n",
      "Objective did not converge. You might want to increase the number of iterations, check the scale of the features or consider increasing regularisation. Duality gap: 6.505e-02, tolerance: 6.110e-02\n",
      "Objective did not converge. You might want to increase the number of iterations, check the scale of the features or consider increasing regularisation. Duality gap: 1.082e-01, tolerance: 6.110e-02\n",
      "Objective did not converge. You might want to increase the number of iterations, check the scale of the features or consider increasing regularisation. Duality gap: 9.284e-02, tolerance: 6.110e-02\n",
      "Objective did not converge. You might want to increase the number of iterations, check the scale of the features or consider increasing regularisation. Duality gap: 9.489e-02, tolerance: 6.110e-02\n",
      "Objective did not converge. You might want to increase the number of iterations, check the scale of the features or consider increasing regularisation. Duality gap: 8.573e-02, tolerance: 6.110e-02\n",
      "Objective did not converge. You might want to increase the number of iterations, check the scale of the features or consider increasing regularisation. Duality gap: 7.236e-02, tolerance: 6.110e-02\n",
      "Objective did not converge. You might want to increase the number of iterations, check the scale of the features or consider increasing regularisation. Duality gap: 6.347e-02, tolerance: 6.110e-02\n",
      "Objective did not converge. You might want to increase the number of iterations, check the scale of the features or consider increasing regularisation. Duality gap: 7.273e-02, tolerance: 6.110e-02\n",
      "Objective did not converge. You might want to increase the number of iterations, check the scale of the features or consider increasing regularisation. Duality gap: 7.032e-02, tolerance: 6.110e-02\n",
      "Objective did not converge. You might want to increase the number of iterations, check the scale of the features or consider increasing regularisation. Duality gap: 7.330e-02, tolerance: 6.110e-02\n",
      "Objective did not converge. You might want to increase the number of iterations, check the scale of the features or consider increasing regularisation. Duality gap: 6.238e-02, tolerance: 6.110e-02\n",
      "Objective did not converge. You might want to increase the number of iterations, check the scale of the features or consider increasing regularisation. Duality gap: 6.285e-02, tolerance: 6.110e-02\n",
      "Objective did not converge. You might want to increase the number of iterations, check the scale of the features or consider increasing regularisation. Duality gap: 6.839e-02, tolerance: 6.110e-02\n",
      "Objective did not converge. You might want to increase the number of iterations, check the scale of the features or consider increasing regularisation. Duality gap: 6.985e-02, tolerance: 6.110e-02\n",
      "Objective did not converge. You might want to increase the number of iterations, check the scale of the features or consider increasing regularisation. Duality gap: 6.942e-02, tolerance: 6.110e-02\n",
      "Objective did not converge. You might want to increase the number of iterations, check the scale of the features or consider increasing regularisation. Duality gap: 6.603e-02, tolerance: 6.110e-02\n",
      "Objective did not converge. You might want to increase the number of iterations, check the scale of the features or consider increasing regularisation. Duality gap: 6.396e-02, tolerance: 6.110e-02\n",
      "Objective did not converge. You might want to increase the number of iterations, check the scale of the features or consider increasing regularisation. Duality gap: 6.541e-02, tolerance: 6.081e-02\n",
      "Objective did not converge. You might want to increase the number of iterations, check the scale of the features or consider increasing regularisation. Duality gap: 6.895e-02, tolerance: 6.081e-02\n",
      "Objective did not converge. You might want to increase the number of iterations, check the scale of the features or consider increasing regularisation. Duality gap: 6.902e-02, tolerance: 6.081e-02\n",
      "Objective did not converge. You might want to increase the number of iterations, check the scale of the features or consider increasing regularisation. Duality gap: 6.792e-02, tolerance: 6.081e-02\n",
      "Objective did not converge. You might want to increase the number of iterations, check the scale of the features or consider increasing regularisation. Duality gap: 6.668e-02, tolerance: 6.081e-02\n",
      "Objective did not converge. You might want to increase the number of iterations, check the scale of the features or consider increasing regularisation. Duality gap: 6.460e-02, tolerance: 6.081e-02\n",
      "Objective did not converge. You might want to increase the number of iterations, check the scale of the features or consider increasing regularisation. Duality gap: 6.206e-02, tolerance: 6.081e-02\n",
      "Objective did not converge. You might want to increase the number of iterations, check the scale of the features or consider increasing regularisation. Duality gap: 6.858e-02, tolerance: 6.081e-02\n",
      "Objective did not converge. You might want to increase the number of iterations, check the scale of the features or consider increasing regularisation. Duality gap: 7.062e-02, tolerance: 6.081e-02\n",
      "Objective did not converge. You might want to increase the number of iterations, check the scale of the features or consider increasing regularisation. Duality gap: 6.559e-02, tolerance: 6.081e-02\n",
      "Objective did not converge. You might want to increase the number of iterations, check the scale of the features or consider increasing regularisation. Duality gap: 6.606e-02, tolerance: 6.081e-02\n",
      "Objective did not converge. You might want to increase the number of iterations, check the scale of the features or consider increasing regularisation. Duality gap: 7.049e-02, tolerance: 6.081e-02\n",
      "Objective did not converge. You might want to increase the number of iterations, check the scale of the features or consider increasing regularisation. Duality gap: 6.730e-02, tolerance: 6.081e-02\n",
      "Objective did not converge. You might want to increase the number of iterations, check the scale of the features or consider increasing regularisation. Duality gap: 6.777e-02, tolerance: 6.081e-02\n",
      "Objective did not converge. You might want to increase the number of iterations, check the scale of the features or consider increasing regularisation. Duality gap: 6.961e-02, tolerance: 6.081e-02\n"
     ]
    },
    {
     "name": "stdout",
     "output_type": "stream",
     "text": [
      "R2: -5.6619\n",
      "RMSE: 2.6864\n"
     ]
    }
   ],
   "source": [
    "model_ridge_comms, mrcom_r2, mrcom_rmse = fit_regularized_linear_model(desired_target, conv_features.columns, lasso = False, tune_alpha = True)\n",
    "result_df = pd.concat([result_df, pd.DataFrame({\"model\": [model_ridge_comms], \"model_type\": [\"Ridge\"], \"features_included\": [\"Communication\"], \"alpha\": [model_ridge_comms.alpha.round(4)], \"r2\": [mrcom_r2], \"rmse\": [mrcom_rmse]})], ignore_index=True)"
   ]
  },
  {
   "cell_type": "code",
   "execution_count": null,
   "metadata": {},
   "outputs": [
    {
     "data": {
      "text/html": [
       "<div>\n",
       "<style scoped>\n",
       "    .dataframe tbody tr th:only-of-type {\n",
       "        vertical-align: middle;\n",
       "    }\n",
       "\n",
       "    .dataframe tbody tr th {\n",
       "        vertical-align: top;\n",
       "    }\n",
       "\n",
       "    .dataframe thead th {\n",
       "        text-align: right;\n",
       "    }\n",
       "</style>\n",
       "<table border=\"1\" class=\"dataframe\">\n",
       "  <thead>\n",
       "    <tr style=\"text-align: right;\">\n",
       "      <th></th>\n",
       "      <th>Feature</th>\n",
       "      <th>Coefficient</th>\n",
       "    </tr>\n",
       "  </thead>\n",
       "  <tbody>\n",
       "    <tr>\n",
       "      <th>25</th>\n",
       "      <td>average_info_exchange_zscore_chats</td>\n",
       "      <td>-0.555750</td>\n",
       "    </tr>\n",
       "    <tr>\n",
       "      <th>13</th>\n",
       "      <td>average_num_words</td>\n",
       "      <td>-0.546877</td>\n",
       "    </tr>\n",
       "    <tr>\n",
       "      <th>27</th>\n",
       "      <td>min_info_exchange_zscore_chats</td>\n",
       "      <td>-0.534515</td>\n",
       "    </tr>\n",
       "    <tr>\n",
       "      <th>776</th>\n",
       "      <td>average_user_avg_num_words</td>\n",
       "      <td>-0.513037</td>\n",
       "    </tr>\n",
       "    <tr>\n",
       "      <th>201</th>\n",
       "      <td>average_article</td>\n",
       "      <td>-0.508009</td>\n",
       "    </tr>\n",
       "    <tr>\n",
       "      <th>...</th>\n",
       "      <td>...</td>\n",
       "      <td>...</td>\n",
       "    </tr>\n",
       "    <tr>\n",
       "      <th>783</th>\n",
       "      <td>max_user_avg_num_chars</td>\n",
       "      <td>0.846649</td>\n",
       "    </tr>\n",
       "    <tr>\n",
       "      <th>780</th>\n",
       "      <td>average_user_avg_num_chars</td>\n",
       "      <td>0.891401</td>\n",
       "    </tr>\n",
       "    <tr>\n",
       "      <th>17</th>\n",
       "      <td>average_num_chars</td>\n",
       "      <td>0.942075</td>\n",
       "    </tr>\n",
       "    <tr>\n",
       "      <th>19</th>\n",
       "      <td>min_num_chars</td>\n",
       "      <td>0.945222</td>\n",
       "    </tr>\n",
       "    <tr>\n",
       "      <th>782</th>\n",
       "      <td>min_user_avg_num_chars</td>\n",
       "      <td>1.039470</td>\n",
       "    </tr>\n",
       "  </tbody>\n",
       "</table>\n",
       "<p>1144 rows × 2 columns</p>\n",
       "</div>"
      ],
      "text/plain": [
       "                                Feature  Coefficient\n",
       "25   average_info_exchange_zscore_chats    -0.555750\n",
       "13                    average_num_words    -0.546877\n",
       "27       min_info_exchange_zscore_chats    -0.534515\n",
       "776          average_user_avg_num_words    -0.513037\n",
       "201                     average_article    -0.508009\n",
       "..                                  ...          ...\n",
       "783              max_user_avg_num_chars     0.846649\n",
       "780          average_user_avg_num_chars     0.891401\n",
       "17                    average_num_chars     0.942075\n",
       "19                        min_num_chars     0.945222\n",
       "782              min_user_avg_num_chars     1.039470\n",
       "\n",
       "[1144 rows x 2 columns]"
      ]
     },
     "execution_count": 78,
     "metadata": {},
     "output_type": "execute_result"
    }
   ],
   "source": [
    "display_feature_coefficients(conv_features.columns, model_ridge_comms)"
   ]
  },
  {
   "cell_type": "markdown",
   "metadata": {},
   "source": [
    "## Conversation Features + Task Features"
   ]
  },
  {
   "cell_type": "code",
   "execution_count": null,
   "metadata": {},
   "outputs": [
    {
     "name": "stderr",
     "output_type": "stream",
     "text": [
      "Objective did not converge. You might want to increase the number of iterations, check the scale of the features or consider increasing regularisation. Duality gap: 6.508e-02, tolerance: 6.401e-02\n",
      "Objective did not converge. You might want to increase the number of iterations, check the scale of the features or consider increasing regularisation. Duality gap: 6.156e-02, tolerance: 5.716e-02\n",
      "Objective did not converge. You might want to increase the number of iterations, check the scale of the features or consider increasing regularisation. Duality gap: 5.844e-02, tolerance: 5.716e-02\n",
      "Objective did not converge. You might want to increase the number of iterations, check the scale of the features or consider increasing regularisation. Duality gap: 6.776e-02, tolerance: 5.716e-02\n",
      "Objective did not converge. You might want to increase the number of iterations, check the scale of the features or consider increasing regularisation. Duality gap: 6.369e-02, tolerance: 5.716e-02\n",
      "Objective did not converge. You might want to increase the number of iterations, check the scale of the features or consider increasing regularisation. Duality gap: 7.545e-02, tolerance: 5.716e-02\n",
      "Objective did not converge. You might want to increase the number of iterations, check the scale of the features or consider increasing regularisation. Duality gap: 6.772e-02, tolerance: 5.716e-02\n",
      "Objective did not converge. You might want to increase the number of iterations, check the scale of the features or consider increasing regularisation. Duality gap: 5.769e-02, tolerance: 5.716e-02\n",
      "Objective did not converge. You might want to increase the number of iterations, check the scale of the features or consider increasing regularisation. Duality gap: 6.278e-02, tolerance: 5.716e-02\n",
      "Objective did not converge. You might want to increase the number of iterations, check the scale of the features or consider increasing regularisation. Duality gap: 6.538e-02, tolerance: 5.716e-02\n",
      "Objective did not converge. You might want to increase the number of iterations, check the scale of the features or consider increasing regularisation. Duality gap: 5.933e-02, tolerance: 5.716e-02\n",
      "Objective did not converge. You might want to increase the number of iterations, check the scale of the features or consider increasing regularisation. Duality gap: 5.764e-02, tolerance: 5.716e-02\n",
      "Objective did not converge. You might want to increase the number of iterations, check the scale of the features or consider increasing regularisation. Duality gap: 7.467e-02, tolerance: 5.716e-02\n",
      "Objective did not converge. You might want to increase the number of iterations, check the scale of the features or consider increasing regularisation. Duality gap: 6.056e-02, tolerance: 5.716e-02\n",
      "Objective did not converge. You might want to increase the number of iterations, check the scale of the features or consider increasing regularisation. Duality gap: 5.781e-02, tolerance: 5.716e-02\n",
      "Objective did not converge. You might want to increase the number of iterations, check the scale of the features or consider increasing regularisation. Duality gap: 8.566e-02, tolerance: 6.392e-02\n",
      "Objective did not converge. You might want to increase the number of iterations, check the scale of the features or consider increasing regularisation. Duality gap: 6.453e-02, tolerance: 6.392e-02\n",
      "Objective did not converge. You might want to increase the number of iterations, check the scale of the features or consider increasing regularisation. Duality gap: 8.581e-02, tolerance: 6.392e-02\n",
      "Objective did not converge. You might want to increase the number of iterations, check the scale of the features or consider increasing regularisation. Duality gap: 6.897e-02, tolerance: 6.392e-02\n",
      "Objective did not converge. You might want to increase the number of iterations, check the scale of the features or consider increasing regularisation. Duality gap: 7.300e-02, tolerance: 6.392e-02\n",
      "Objective did not converge. You might want to increase the number of iterations, check the scale of the features or consider increasing regularisation. Duality gap: 6.479e-02, tolerance: 6.392e-02\n",
      "Objective did not converge. You might want to increase the number of iterations, check the scale of the features or consider increasing regularisation. Duality gap: 7.363e-02, tolerance: 6.110e-02\n",
      "Objective did not converge. You might want to increase the number of iterations, check the scale of the features or consider increasing regularisation. Duality gap: 6.967e-02, tolerance: 6.110e-02\n",
      "Objective did not converge. You might want to increase the number of iterations, check the scale of the features or consider increasing regularisation. Duality gap: 7.835e-02, tolerance: 6.081e-02\n",
      "Objective did not converge. You might want to increase the number of iterations, check the scale of the features or consider increasing regularisation. Duality gap: 7.009e-02, tolerance: 6.081e-02\n"
     ]
    },
    {
     "name": "stdout",
     "output_type": "stream",
     "text": [
      "R2: 0.4587\n",
      "RMSE: 0.7658\n"
     ]
    }
   ],
   "source": [
    "convtask_features = list(task_features.columns) + list(conv_features.columns)\n",
    "model_lasso_tconv, mltconv_r2, mltconv_rmse = fit_regularized_linear_model(desired_target, convtask_features, lasso = True, tune_alpha = True)\n",
    "result_df = pd.concat([result_df, pd.DataFrame({\"model\": [model_lasso_tconv], \"model_type\": [\"Lasso\"], \"features_included\": [\"Task Complexity + Communication\"], \"alpha\": [model_lasso_tconv.alpha.round(4)], \"r2\": [mltconv_r2], \"rmse\": [mltconv_rmse]})], ignore_index=True)"
   ]
  },
  {
   "cell_type": "code",
   "execution_count": null,
   "metadata": {},
   "outputs": [
    {
     "data": {
      "text/html": [
       "<div>\n",
       "<style scoped>\n",
       "    .dataframe tbody tr th:only-of-type {\n",
       "        vertical-align: middle;\n",
       "    }\n",
       "\n",
       "    .dataframe tbody tr th {\n",
       "        vertical-align: top;\n",
       "    }\n",
       "\n",
       "    .dataframe thead th {\n",
       "        text-align: right;\n",
       "    }\n",
       "</style>\n",
       "<table border=\"1\" class=\"dataframe\">\n",
       "  <thead>\n",
       "    <tr style=\"text-align: right;\">\n",
       "      <th></th>\n",
       "      <th>Feature</th>\n",
       "      <th>Coefficient</th>\n",
       "    </tr>\n",
       "  </thead>\n",
       "  <tbody>\n",
       "    <tr>\n",
       "      <th>3</th>\n",
       "      <td>Very high</td>\n",
       "      <td>-0.353472</td>\n",
       "    </tr>\n",
       "    <tr>\n",
       "      <th>0</th>\n",
       "      <td>High</td>\n",
       "      <td>-0.185404</td>\n",
       "    </tr>\n",
       "    <tr>\n",
       "      <th>213</th>\n",
       "      <td>max_argue</td>\n",
       "      <td>-0.039897</td>\n",
       "    </tr>\n",
       "    <tr>\n",
       "      <th>15</th>\n",
       "      <td>stdev_neutral_bert</td>\n",
       "      <td>-0.038232</td>\n",
       "    </tr>\n",
       "    <tr>\n",
       "      <th>214</th>\n",
       "      <td>average_auxiliary_verbs</td>\n",
       "      <td>-0.037072</td>\n",
       "    </tr>\n",
       "    <tr>\n",
       "      <th>...</th>\n",
       "      <td>...</td>\n",
       "      <td>...</td>\n",
       "    </tr>\n",
       "    <tr>\n",
       "      <th>415</th>\n",
       "      <td>min_user_sum_info_exchange_zscore_conversation</td>\n",
       "      <td>0.017932</td>\n",
       "    </tr>\n",
       "    <tr>\n",
       "      <th>166</th>\n",
       "      <td>average_work</td>\n",
       "      <td>0.017988</td>\n",
       "    </tr>\n",
       "    <tr>\n",
       "      <th>324</th>\n",
       "      <td>min_deference</td>\n",
       "      <td>0.027891</td>\n",
       "    </tr>\n",
       "    <tr>\n",
       "      <th>1</th>\n",
       "      <td>Low</td>\n",
       "      <td>0.400033</td>\n",
       "    </tr>\n",
       "    <tr>\n",
       "      <th>4</th>\n",
       "      <td>Very low</td>\n",
       "      <td>0.841856</td>\n",
       "    </tr>\n",
       "  </tbody>\n",
       "</table>\n",
       "<p>1149 rows × 2 columns</p>\n",
       "</div>"
      ],
      "text/plain": [
       "                                            Feature  Coefficient\n",
       "3                                         Very high    -0.353472\n",
       "0                                              High    -0.185404\n",
       "213                                       max_argue    -0.039897\n",
       "15                               stdev_neutral_bert    -0.038232\n",
       "214                         average_auxiliary_verbs    -0.037072\n",
       "..                                              ...          ...\n",
       "415  min_user_sum_info_exchange_zscore_conversation     0.017932\n",
       "166                                    average_work     0.017988\n",
       "324                                   min_deference     0.027891\n",
       "1                                               Low     0.400033\n",
       "4                                          Very low     0.841856\n",
       "\n",
       "[1149 rows x 2 columns]"
      ]
     },
     "execution_count": 80,
     "metadata": {},
     "output_type": "execute_result"
    }
   ],
   "source": [
    "display_feature_coefficients(convtask_features, model_lasso_tconv)"
   ]
  },
  {
   "cell_type": "code",
   "execution_count": null,
   "metadata": {},
   "outputs": [
    {
     "name": "stderr",
     "output_type": "stream",
     "text": [
      "Objective did not converge. You might want to increase the number of iterations, check the scale of the features or consider increasing regularisation. Duality gap: 6.508e-02, tolerance: 6.401e-02\n",
      "Objective did not converge. You might want to increase the number of iterations, check the scale of the features or consider increasing regularisation. Duality gap: 6.156e-02, tolerance: 5.716e-02\n",
      "Objective did not converge. You might want to increase the number of iterations, check the scale of the features or consider increasing regularisation. Duality gap: 5.844e-02, tolerance: 5.716e-02\n",
      "Objective did not converge. You might want to increase the number of iterations, check the scale of the features or consider increasing regularisation. Duality gap: 6.776e-02, tolerance: 5.716e-02\n",
      "Objective did not converge. You might want to increase the number of iterations, check the scale of the features or consider increasing regularisation. Duality gap: 6.369e-02, tolerance: 5.716e-02\n",
      "Objective did not converge. You might want to increase the number of iterations, check the scale of the features or consider increasing regularisation. Duality gap: 7.545e-02, tolerance: 5.716e-02\n",
      "Objective did not converge. You might want to increase the number of iterations, check the scale of the features or consider increasing regularisation. Duality gap: 6.772e-02, tolerance: 5.716e-02\n",
      "Objective did not converge. You might want to increase the number of iterations, check the scale of the features or consider increasing regularisation. Duality gap: 5.769e-02, tolerance: 5.716e-02\n",
      "Objective did not converge. You might want to increase the number of iterations, check the scale of the features or consider increasing regularisation. Duality gap: 6.278e-02, tolerance: 5.716e-02\n",
      "Objective did not converge. You might want to increase the number of iterations, check the scale of the features or consider increasing regularisation. Duality gap: 6.538e-02, tolerance: 5.716e-02\n",
      "Objective did not converge. You might want to increase the number of iterations, check the scale of the features or consider increasing regularisation. Duality gap: 5.933e-02, tolerance: 5.716e-02\n",
      "Objective did not converge. You might want to increase the number of iterations, check the scale of the features or consider increasing regularisation. Duality gap: 5.764e-02, tolerance: 5.716e-02\n",
      "Objective did not converge. You might want to increase the number of iterations, check the scale of the features or consider increasing regularisation. Duality gap: 7.467e-02, tolerance: 5.716e-02\n",
      "Objective did not converge. You might want to increase the number of iterations, check the scale of the features or consider increasing regularisation. Duality gap: 6.056e-02, tolerance: 5.716e-02\n",
      "Objective did not converge. You might want to increase the number of iterations, check the scale of the features or consider increasing regularisation. Duality gap: 5.781e-02, tolerance: 5.716e-02\n",
      "Objective did not converge. You might want to increase the number of iterations, check the scale of the features or consider increasing regularisation. Duality gap: 8.566e-02, tolerance: 6.392e-02\n",
      "Objective did not converge. You might want to increase the number of iterations, check the scale of the features or consider increasing regularisation. Duality gap: 6.453e-02, tolerance: 6.392e-02\n",
      "Objective did not converge. You might want to increase the number of iterations, check the scale of the features or consider increasing regularisation. Duality gap: 8.581e-02, tolerance: 6.392e-02\n",
      "Objective did not converge. You might want to increase the number of iterations, check the scale of the features or consider increasing regularisation. Duality gap: 6.897e-02, tolerance: 6.392e-02\n",
      "Objective did not converge. You might want to increase the number of iterations, check the scale of the features or consider increasing regularisation. Duality gap: 7.300e-02, tolerance: 6.392e-02\n",
      "Objective did not converge. You might want to increase the number of iterations, check the scale of the features or consider increasing regularisation. Duality gap: 6.479e-02, tolerance: 6.392e-02\n",
      "Objective did not converge. You might want to increase the number of iterations, check the scale of the features or consider increasing regularisation. Duality gap: 7.363e-02, tolerance: 6.110e-02\n",
      "Objective did not converge. You might want to increase the number of iterations, check the scale of the features or consider increasing regularisation. Duality gap: 6.967e-02, tolerance: 6.110e-02\n",
      "Objective did not converge. You might want to increase the number of iterations, check the scale of the features or consider increasing regularisation. Duality gap: 7.835e-02, tolerance: 6.081e-02\n",
      "Objective did not converge. You might want to increase the number of iterations, check the scale of the features or consider increasing regularisation. Duality gap: 7.009e-02, tolerance: 6.081e-02\n"
     ]
    },
    {
     "name": "stdout",
     "output_type": "stream",
     "text": [
      "R2: -4.5342\n",
      "RMSE: 2.4485\n"
     ]
    }
   ],
   "source": [
    "model_ridge_tconv, mrtconv_r2, mrtconv_rmse = fit_regularized_linear_model(desired_target, convtask_features, lasso = False, tune_alpha = True)\n",
    "result_df = pd.concat([result_df, pd.DataFrame({\"model\": [model_ridge_tconv], \"model_type\": [\"Ridge\"], \"features_included\": [\"Task Complexity + Communication\"], \"alpha\": [model_ridge_tconv.alpha.round(4)], \"r2\": [mrtconv_r2], \"rmse\": [mrtconv_rmse]})], ignore_index=True)"
   ]
  },
  {
   "cell_type": "code",
   "execution_count": null,
   "metadata": {},
   "outputs": [
    {
     "data": {
      "text/html": [
       "<div>\n",
       "<style scoped>\n",
       "    .dataframe tbody tr th:only-of-type {\n",
       "        vertical-align: middle;\n",
       "    }\n",
       "\n",
       "    .dataframe tbody tr th {\n",
       "        vertical-align: top;\n",
       "    }\n",
       "\n",
       "    .dataframe thead th {\n",
       "        text-align: right;\n",
       "    }\n",
       "</style>\n",
       "<table border=\"1\" class=\"dataframe\">\n",
       "  <thead>\n",
       "    <tr style=\"text-align: right;\">\n",
       "      <th></th>\n",
       "      <th>Feature</th>\n",
       "      <th>Coefficient</th>\n",
       "    </tr>\n",
       "  </thead>\n",
       "  <tbody>\n",
       "    <tr>\n",
       "      <th>3</th>\n",
       "      <td>Very high</td>\n",
       "      <td>-0.353472</td>\n",
       "    </tr>\n",
       "    <tr>\n",
       "      <th>0</th>\n",
       "      <td>High</td>\n",
       "      <td>-0.185404</td>\n",
       "    </tr>\n",
       "    <tr>\n",
       "      <th>213</th>\n",
       "      <td>max_argue</td>\n",
       "      <td>-0.039897</td>\n",
       "    </tr>\n",
       "    <tr>\n",
       "      <th>15</th>\n",
       "      <td>stdev_neutral_bert</td>\n",
       "      <td>-0.038232</td>\n",
       "    </tr>\n",
       "    <tr>\n",
       "      <th>214</th>\n",
       "      <td>average_auxiliary_verbs</td>\n",
       "      <td>-0.037072</td>\n",
       "    </tr>\n",
       "    <tr>\n",
       "      <th>...</th>\n",
       "      <td>...</td>\n",
       "      <td>...</td>\n",
       "    </tr>\n",
       "    <tr>\n",
       "      <th>415</th>\n",
       "      <td>min_user_sum_info_exchange_zscore_conversation</td>\n",
       "      <td>0.017932</td>\n",
       "    </tr>\n",
       "    <tr>\n",
       "      <th>166</th>\n",
       "      <td>average_work</td>\n",
       "      <td>0.017988</td>\n",
       "    </tr>\n",
       "    <tr>\n",
       "      <th>324</th>\n",
       "      <td>min_deference</td>\n",
       "      <td>0.027891</td>\n",
       "    </tr>\n",
       "    <tr>\n",
       "      <th>1</th>\n",
       "      <td>Low</td>\n",
       "      <td>0.400033</td>\n",
       "    </tr>\n",
       "    <tr>\n",
       "      <th>4</th>\n",
       "      <td>Very low</td>\n",
       "      <td>0.841856</td>\n",
       "    </tr>\n",
       "  </tbody>\n",
       "</table>\n",
       "<p>1149 rows × 2 columns</p>\n",
       "</div>"
      ],
      "text/plain": [
       "                                            Feature  Coefficient\n",
       "3                                         Very high    -0.353472\n",
       "0                                              High    -0.185404\n",
       "213                                       max_argue    -0.039897\n",
       "15                               stdev_neutral_bert    -0.038232\n",
       "214                         average_auxiliary_verbs    -0.037072\n",
       "..                                              ...          ...\n",
       "415  min_user_sum_info_exchange_zscore_conversation     0.017932\n",
       "166                                    average_work     0.017988\n",
       "324                                   min_deference     0.027891\n",
       "1                                               Low     0.400033\n",
       "4                                          Very low     0.841856\n",
       "\n",
       "[1149 rows x 2 columns]"
      ]
     },
     "execution_count": 82,
     "metadata": {},
     "output_type": "execute_result"
    }
   ],
   "source": [
    "display_feature_coefficients(convtask_features, model_lasso_tconv)"
   ]
  },
  {
   "cell_type": "markdown",
   "metadata": {},
   "source": [
    "## Model with All Features"
   ]
  },
  {
   "cell_type": "code",
   "execution_count": null,
   "metadata": {},
   "outputs": [
    {
     "name": "stderr",
     "output_type": "stream",
     "text": [
      "Objective did not converge. You might want to increase the number of iterations, check the scale of the features or consider increasing regularisation. Duality gap: 6.453e-02, tolerance: 6.401e-02\n",
      "Objective did not converge. You might want to increase the number of iterations, check the scale of the features or consider increasing regularisation. Duality gap: 6.659e-02, tolerance: 6.401e-02\n",
      "Objective did not converge. You might want to increase the number of iterations, check the scale of the features or consider increasing regularisation. Duality gap: 6.711e-02, tolerance: 6.401e-02\n",
      "Objective did not converge. You might want to increase the number of iterations, check the scale of the features or consider increasing regularisation. Duality gap: 6.700e-02, tolerance: 6.401e-02\n",
      "Objective did not converge. You might want to increase the number of iterations, check the scale of the features or consider increasing regularisation. Duality gap: 6.913e-02, tolerance: 5.716e-02\n",
      "Objective did not converge. You might want to increase the number of iterations, check the scale of the features or consider increasing regularisation. Duality gap: 7.164e-02, tolerance: 5.716e-02\n",
      "Objective did not converge. You might want to increase the number of iterations, check the scale of the features or consider increasing regularisation. Duality gap: 5.983e-02, tolerance: 5.716e-02\n",
      "Objective did not converge. You might want to increase the number of iterations, check the scale of the features or consider increasing regularisation. Duality gap: 6.979e-02, tolerance: 5.716e-02\n",
      "Objective did not converge. You might want to increase the number of iterations, check the scale of the features or consider increasing regularisation. Duality gap: 7.136e-02, tolerance: 5.716e-02\n",
      "Objective did not converge. You might want to increase the number of iterations, check the scale of the features or consider increasing regularisation. Duality gap: 7.111e-02, tolerance: 5.716e-02\n",
      "Objective did not converge. You might want to increase the number of iterations, check the scale of the features or consider increasing regularisation. Duality gap: 7.026e-02, tolerance: 5.716e-02\n",
      "Objective did not converge. You might want to increase the number of iterations, check the scale of the features or consider increasing regularisation. Duality gap: 5.718e-02, tolerance: 5.716e-02\n",
      "Objective did not converge. You might want to increase the number of iterations, check the scale of the features or consider increasing regularisation. Duality gap: 7.182e-02, tolerance: 6.392e-02\n",
      "Objective did not converge. You might want to increase the number of iterations, check the scale of the features or consider increasing regularisation. Duality gap: 6.723e-02, tolerance: 6.392e-02\n",
      "Objective did not converge. You might want to increase the number of iterations, check the scale of the features or consider increasing regularisation. Duality gap: 6.518e-02, tolerance: 6.110e-02\n",
      "Objective did not converge. You might want to increase the number of iterations, check the scale of the features or consider increasing regularisation. Duality gap: 6.139e-02, tolerance: 6.110e-02\n",
      "Objective did not converge. You might want to increase the number of iterations, check the scale of the features or consider increasing regularisation. Duality gap: 7.544e-02, tolerance: 6.110e-02\n",
      "Objective did not converge. You might want to increase the number of iterations, check the scale of the features or consider increasing regularisation. Duality gap: 6.522e-02, tolerance: 6.110e-02\n"
     ]
    },
    {
     "name": "stdout",
     "output_type": "stream",
     "text": [
      "R2: 0.4545\n",
      "RMSE: 0.7687\n"
     ]
    }
   ],
   "source": [
    "all_features = list(task_features.columns) + list(team_composition_features.columns) + list(conv_features.columns)\n",
    "model_lasso_all, mlall_r2, mlall_rmse = fit_regularized_linear_model(desired_target, all_features, lasso = True, tune_alpha = True)\n",
    "result_df = pd.concat([result_df, pd.DataFrame({\"model\": [model_lasso_all], \"model_type\": [\"Lasso\"], \"features_included\": [\"All Features\"], \"alpha\": [model_lasso_all.alpha.round(4)], \"r2\": [mlall_r2], \"rmse\": [mlall_rmse]})], ignore_index=True)\n"
   ]
  },
  {
   "cell_type": "code",
   "execution_count": null,
   "metadata": {},
   "outputs": [
    {
     "data": {
      "text/html": [
       "<div>\n",
       "<style scoped>\n",
       "    .dataframe tbody tr th:only-of-type {\n",
       "        vertical-align: middle;\n",
       "    }\n",
       "\n",
       "    .dataframe tbody tr th {\n",
       "        vertical-align: top;\n",
       "    }\n",
       "\n",
       "    .dataframe thead th {\n",
       "        text-align: right;\n",
       "    }\n",
       "</style>\n",
       "<table border=\"1\" class=\"dataframe\">\n",
       "  <thead>\n",
       "    <tr style=\"text-align: right;\">\n",
       "      <th></th>\n",
       "      <th>Feature</th>\n",
       "      <th>Coefficient</th>\n",
       "    </tr>\n",
       "  </thead>\n",
       "  <tbody>\n",
       "    <tr>\n",
       "      <th>3</th>\n",
       "      <td>Very high</td>\n",
       "      <td>-0.350823</td>\n",
       "    </tr>\n",
       "    <tr>\n",
       "      <th>0</th>\n",
       "      <td>High</td>\n",
       "      <td>-0.184550</td>\n",
       "    </tr>\n",
       "    <tr>\n",
       "      <th>5</th>\n",
       "      <td>skill</td>\n",
       "      <td>-0.053508</td>\n",
       "    </tr>\n",
       "    <tr>\n",
       "      <th>217</th>\n",
       "      <td>max_argue</td>\n",
       "      <td>-0.046736</td>\n",
       "    </tr>\n",
       "    <tr>\n",
       "      <th>19</th>\n",
       "      <td>stdev_neutral_bert</td>\n",
       "      <td>-0.044764</td>\n",
       "    </tr>\n",
       "    <tr>\n",
       "      <th>...</th>\n",
       "      <td>...</td>\n",
       "      <td>...</td>\n",
       "    </tr>\n",
       "    <tr>\n",
       "      <th>6</th>\n",
       "      <td>social_perceptiveness</td>\n",
       "      <td>0.039598</td>\n",
       "    </tr>\n",
       "    <tr>\n",
       "      <th>8</th>\n",
       "      <td>cogStyleSpeed</td>\n",
       "      <td>0.071067</td>\n",
       "    </tr>\n",
       "    <tr>\n",
       "      <th>7</th>\n",
       "      <td>cogStyleDiversity</td>\n",
       "      <td>0.096023</td>\n",
       "    </tr>\n",
       "    <tr>\n",
       "      <th>1</th>\n",
       "      <td>Low</td>\n",
       "      <td>0.408310</td>\n",
       "    </tr>\n",
       "    <tr>\n",
       "      <th>4</th>\n",
       "      <td>Very low</td>\n",
       "      <td>0.839353</td>\n",
       "    </tr>\n",
       "  </tbody>\n",
       "</table>\n",
       "<p>1153 rows × 2 columns</p>\n",
       "</div>"
      ],
      "text/plain": [
       "                   Feature  Coefficient\n",
       "3                Very high    -0.350823\n",
       "0                     High    -0.184550\n",
       "5                    skill    -0.053508\n",
       "217              max_argue    -0.046736\n",
       "19      stdev_neutral_bert    -0.044764\n",
       "..                     ...          ...\n",
       "6    social_perceptiveness     0.039598\n",
       "8            cogStyleSpeed     0.071067\n",
       "7        cogStyleDiversity     0.096023\n",
       "1                      Low     0.408310\n",
       "4                 Very low     0.839353\n",
       "\n",
       "[1153 rows x 2 columns]"
      ]
     },
     "execution_count": 84,
     "metadata": {},
     "output_type": "execute_result"
    }
   ],
   "source": [
    "display_feature_coefficients(all_features, model_lasso_all)"
   ]
  },
  {
   "cell_type": "code",
   "execution_count": null,
   "metadata": {},
   "outputs": [
    {
     "name": "stderr",
     "output_type": "stream",
     "text": [
      "Objective did not converge. You might want to increase the number of iterations, check the scale of the features or consider increasing regularisation. Duality gap: 6.453e-02, tolerance: 6.401e-02\n",
      "Objective did not converge. You might want to increase the number of iterations, check the scale of the features or consider increasing regularisation. Duality gap: 6.659e-02, tolerance: 6.401e-02\n",
      "Objective did not converge. You might want to increase the number of iterations, check the scale of the features or consider increasing regularisation. Duality gap: 6.711e-02, tolerance: 6.401e-02\n",
      "Objective did not converge. You might want to increase the number of iterations, check the scale of the features or consider increasing regularisation. Duality gap: 6.700e-02, tolerance: 6.401e-02\n",
      "Objective did not converge. You might want to increase the number of iterations, check the scale of the features or consider increasing regularisation. Duality gap: 6.913e-02, tolerance: 5.716e-02\n",
      "Objective did not converge. You might want to increase the number of iterations, check the scale of the features or consider increasing regularisation. Duality gap: 7.164e-02, tolerance: 5.716e-02\n",
      "Objective did not converge. You might want to increase the number of iterations, check the scale of the features or consider increasing regularisation. Duality gap: 5.983e-02, tolerance: 5.716e-02\n",
      "Objective did not converge. You might want to increase the number of iterations, check the scale of the features or consider increasing regularisation. Duality gap: 6.979e-02, tolerance: 5.716e-02\n",
      "Objective did not converge. You might want to increase the number of iterations, check the scale of the features or consider increasing regularisation. Duality gap: 7.136e-02, tolerance: 5.716e-02\n",
      "Objective did not converge. You might want to increase the number of iterations, check the scale of the features or consider increasing regularisation. Duality gap: 7.111e-02, tolerance: 5.716e-02\n",
      "Objective did not converge. You might want to increase the number of iterations, check the scale of the features or consider increasing regularisation. Duality gap: 7.026e-02, tolerance: 5.716e-02\n",
      "Objective did not converge. You might want to increase the number of iterations, check the scale of the features or consider increasing regularisation. Duality gap: 5.718e-02, tolerance: 5.716e-02\n",
      "Objective did not converge. You might want to increase the number of iterations, check the scale of the features or consider increasing regularisation. Duality gap: 7.182e-02, tolerance: 6.392e-02\n",
      "Objective did not converge. You might want to increase the number of iterations, check the scale of the features or consider increasing regularisation. Duality gap: 6.723e-02, tolerance: 6.392e-02\n",
      "Objective did not converge. You might want to increase the number of iterations, check the scale of the features or consider increasing regularisation. Duality gap: 6.518e-02, tolerance: 6.110e-02\n",
      "Objective did not converge. You might want to increase the number of iterations, check the scale of the features or consider increasing regularisation. Duality gap: 6.139e-02, tolerance: 6.110e-02\n",
      "Objective did not converge. You might want to increase the number of iterations, check the scale of the features or consider increasing regularisation. Duality gap: 7.544e-02, tolerance: 6.110e-02\n",
      "Objective did not converge. You might want to increase the number of iterations, check the scale of the features or consider increasing regularisation. Duality gap: 6.522e-02, tolerance: 6.110e-02\n"
     ]
    },
    {
     "name": "stdout",
     "output_type": "stream",
     "text": [
      "R2: -6.1807\n",
      "RMSE: 2.7891\n"
     ]
    }
   ],
   "source": [
    "model_ridge_all, mrall_r2, mrall_rmse = fit_regularized_linear_model(desired_target, all_features, lasso = False, tune_alpha = True)\n",
    "result_df = pd.concat([result_df, pd.DataFrame({\"model\": [model_ridge_all], \"model_type\": [\"Ridge\"], \"features_included\": [\"All Features\"], \"alpha\": [model_ridge_all.alpha.round(4)], \"r2\": [mrall_r2], \"rmse\": [mrall_rmse]})], ignore_index=True)"
   ]
  },
  {
   "cell_type": "code",
   "execution_count": null,
   "metadata": {},
   "outputs": [
    {
     "data": {
      "text/html": [
       "<div>\n",
       "<style scoped>\n",
       "    .dataframe tbody tr th:only-of-type {\n",
       "        vertical-align: middle;\n",
       "    }\n",
       "\n",
       "    .dataframe tbody tr th {\n",
       "        vertical-align: top;\n",
       "    }\n",
       "\n",
       "    .dataframe thead th {\n",
       "        text-align: right;\n",
       "    }\n",
       "</style>\n",
       "<table border=\"1\" class=\"dataframe\">\n",
       "  <thead>\n",
       "    <tr style=\"text-align: right;\">\n",
       "      <th></th>\n",
       "      <th>Feature</th>\n",
       "      <th>Coefficient</th>\n",
       "    </tr>\n",
       "  </thead>\n",
       "  <tbody>\n",
       "    <tr>\n",
       "      <th>3</th>\n",
       "      <td>Very high</td>\n",
       "      <td>-0.763546</td>\n",
       "    </tr>\n",
       "    <tr>\n",
       "      <th>212</th>\n",
       "      <td>min_article</td>\n",
       "      <td>-0.546535</td>\n",
       "    </tr>\n",
       "    <tr>\n",
       "      <th>0</th>\n",
       "      <td>High</td>\n",
       "      <td>-0.511379</td>\n",
       "    </tr>\n",
       "    <tr>\n",
       "      <th>210</th>\n",
       "      <td>average_article</td>\n",
       "      <td>-0.508518</td>\n",
       "    </tr>\n",
       "    <tr>\n",
       "      <th>778</th>\n",
       "      <td>stdev_user_avg_negative_bert</td>\n",
       "      <td>-0.499810</td>\n",
       "    </tr>\n",
       "    <tr>\n",
       "      <th>...</th>\n",
       "      <td>...</td>\n",
       "      <td>...</td>\n",
       "    </tr>\n",
       "    <tr>\n",
       "      <th>779</th>\n",
       "      <td>min_user_avg_negative_bert</td>\n",
       "      <td>0.599488</td>\n",
       "    </tr>\n",
       "    <tr>\n",
       "      <th>791</th>\n",
       "      <td>min_user_avg_num_chars</td>\n",
       "      <td>0.873172</td>\n",
       "    </tr>\n",
       "    <tr>\n",
       "      <th>28</th>\n",
       "      <td>min_num_chars</td>\n",
       "      <td>0.918041</td>\n",
       "    </tr>\n",
       "    <tr>\n",
       "      <th>4</th>\n",
       "      <td>Very low</td>\n",
       "      <td>0.998894</td>\n",
       "    </tr>\n",
       "    <tr>\n",
       "      <th>16</th>\n",
       "      <td>min_negative_bert</td>\n",
       "      <td>1.030215</td>\n",
       "    </tr>\n",
       "  </tbody>\n",
       "</table>\n",
       "<p>1153 rows × 2 columns</p>\n",
       "</div>"
      ],
      "text/plain": [
       "                          Feature  Coefficient\n",
       "3                       Very high    -0.763546\n",
       "212                   min_article    -0.546535\n",
       "0                            High    -0.511379\n",
       "210               average_article    -0.508518\n",
       "778  stdev_user_avg_negative_bert    -0.499810\n",
       "..                            ...          ...\n",
       "779    min_user_avg_negative_bert     0.599488\n",
       "791        min_user_avg_num_chars     0.873172\n",
       "28                  min_num_chars     0.918041\n",
       "4                        Very low     0.998894\n",
       "16              min_negative_bert     1.030215\n",
       "\n",
       "[1153 rows x 2 columns]"
      ]
     },
     "execution_count": 86,
     "metadata": {},
     "output_type": "execute_result"
    }
   ],
   "source": [
    "display_feature_coefficients(all_features, model_ridge_all)"
   ]
  },
  {
   "cell_type": "markdown",
   "metadata": {},
   "source": [
    "# Dataframe that summarizes all these experiments!"
   ]
  },
  {
   "cell_type": "code",
   "execution_count": null,
   "metadata": {},
   "outputs": [
    {
     "data": {
      "text/html": [
       "<div>\n",
       "<style scoped>\n",
       "    .dataframe tbody tr th:only-of-type {\n",
       "        vertical-align: middle;\n",
       "    }\n",
       "\n",
       "    .dataframe tbody tr th {\n",
       "        vertical-align: top;\n",
       "    }\n",
       "\n",
       "    .dataframe thead th {\n",
       "        text-align: right;\n",
       "    }\n",
       "</style>\n",
       "<table border=\"1\" class=\"dataframe\">\n",
       "  <thead>\n",
       "    <tr style=\"text-align: right;\">\n",
       "      <th></th>\n",
       "      <th>model</th>\n",
       "      <th>model_type</th>\n",
       "      <th>features_included</th>\n",
       "      <th>alpha</th>\n",
       "      <th>r2</th>\n",
       "      <th>rmse</th>\n",
       "    </tr>\n",
       "  </thead>\n",
       "  <tbody>\n",
       "    <tr>\n",
       "      <th>8</th>\n",
       "      <td>Lasso(alpha=0.017879918321882012)</td>\n",
       "      <td>Lasso</td>\n",
       "      <td>Task Complexity + Communication</td>\n",
       "      <td>0.0179</td>\n",
       "      <td>0.4587</td>\n",
       "      <td>0.7658</td>\n",
       "    </tr>\n",
       "    <tr>\n",
       "      <th>10</th>\n",
       "      <td>Lasso(alpha=0.01735658343764668)</td>\n",
       "      <td>Lasso</td>\n",
       "      <td>All Features</td>\n",
       "      <td>0.0174</td>\n",
       "      <td>0.4545</td>\n",
       "      <td>0.7687</td>\n",
       "    </tr>\n",
       "    <tr>\n",
       "      <th>3</th>\n",
       "      <td>Lasso(alpha=0.0003687229747749683)</td>\n",
       "      <td>Lasso</td>\n",
       "      <td>Task Complexity</td>\n",
       "      <td>0.0004</td>\n",
       "      <td>0.2920</td>\n",
       "      <td>0.8758</td>\n",
       "    </tr>\n",
       "    <tr>\n",
       "      <th>2</th>\n",
       "      <td>Ridge(alpha=0.0003687229747749683)</td>\n",
       "      <td>Ridge</td>\n",
       "      <td>Task Complexity</td>\n",
       "      <td>0.0004</td>\n",
       "      <td>0.2919</td>\n",
       "      <td>0.8758</td>\n",
       "    </tr>\n",
       "    <tr>\n",
       "      <th>5</th>\n",
       "      <td>Lasso(alpha=0.0008223089789029883)</td>\n",
       "      <td>Lasso</td>\n",
       "      <td>Team Composition + Task Complexity</td>\n",
       "      <td>0.0008</td>\n",
       "      <td>0.2688</td>\n",
       "      <td>0.8900</td>\n",
       "    </tr>\n",
       "    <tr>\n",
       "      <th>4</th>\n",
       "      <td>Ridge(alpha=0.0008223089789029883)</td>\n",
       "      <td>Ridge</td>\n",
       "      <td>Team Composition + Task Complexity</td>\n",
       "      <td>0.0008</td>\n",
       "      <td>0.2683</td>\n",
       "      <td>0.8903</td>\n",
       "    </tr>\n",
       "    <tr>\n",
       "      <th>6</th>\n",
       "      <td>Lasso(alpha=0.0445969568109222)</td>\n",
       "      <td>Lasso</td>\n",
       "      <td>Communication</td>\n",
       "      <td>0.0446</td>\n",
       "      <td>0.2148</td>\n",
       "      <td>0.9223</td>\n",
       "    </tr>\n",
       "    <tr>\n",
       "      <th>1</th>\n",
       "      <td>Lasso(alpha=0.00013636379668891346)</td>\n",
       "      <td>Lasso</td>\n",
       "      <td>Team Composition</td>\n",
       "      <td>0.0001</td>\n",
       "      <td>-0.0449</td>\n",
       "      <td>1.0639</td>\n",
       "    </tr>\n",
       "    <tr>\n",
       "      <th>0</th>\n",
       "      <td>Ridge(alpha=0.00013636379668891346)</td>\n",
       "      <td>Ridge</td>\n",
       "      <td>Team Composition</td>\n",
       "      <td>0.0001</td>\n",
       "      <td>-0.0450</td>\n",
       "      <td>1.0640</td>\n",
       "    </tr>\n",
       "    <tr>\n",
       "      <th>9</th>\n",
       "      <td>Ridge(alpha=0.017879918321882012)</td>\n",
       "      <td>Ridge</td>\n",
       "      <td>Task Complexity + Communication</td>\n",
       "      <td>0.0179</td>\n",
       "      <td>-4.5342</td>\n",
       "      <td>2.4485</td>\n",
       "    </tr>\n",
       "    <tr>\n",
       "      <th>7</th>\n",
       "      <td>Ridge(alpha=0.0445969568109222)</td>\n",
       "      <td>Ridge</td>\n",
       "      <td>Communication</td>\n",
       "      <td>0.0446</td>\n",
       "      <td>-5.6619</td>\n",
       "      <td>2.6864</td>\n",
       "    </tr>\n",
       "    <tr>\n",
       "      <th>11</th>\n",
       "      <td>Ridge(alpha=0.01735658343764668)</td>\n",
       "      <td>Ridge</td>\n",
       "      <td>All Features</td>\n",
       "      <td>0.0174</td>\n",
       "      <td>-6.1807</td>\n",
       "      <td>2.7891</td>\n",
       "    </tr>\n",
       "  </tbody>\n",
       "</table>\n",
       "</div>"
      ],
      "text/plain": [
       "                                  model model_type  \\\n",
       "8     Lasso(alpha=0.017879918321882012)      Lasso   \n",
       "10     Lasso(alpha=0.01735658343764668)      Lasso   \n",
       "3    Lasso(alpha=0.0003687229747749683)      Lasso   \n",
       "2    Ridge(alpha=0.0003687229747749683)      Ridge   \n",
       "5    Lasso(alpha=0.0008223089789029883)      Lasso   \n",
       "4    Ridge(alpha=0.0008223089789029883)      Ridge   \n",
       "6       Lasso(alpha=0.0445969568109222)      Lasso   \n",
       "1   Lasso(alpha=0.00013636379668891346)      Lasso   \n",
       "0   Ridge(alpha=0.00013636379668891346)      Ridge   \n",
       "9     Ridge(alpha=0.017879918321882012)      Ridge   \n",
       "7       Ridge(alpha=0.0445969568109222)      Ridge   \n",
       "11     Ridge(alpha=0.01735658343764668)      Ridge   \n",
       "\n",
       "                     features_included   alpha      r2    rmse  \n",
       "8      Task Complexity + Communication  0.0179  0.4587  0.7658  \n",
       "10                        All Features  0.0174  0.4545  0.7687  \n",
       "3                      Task Complexity  0.0004  0.2920  0.8758  \n",
       "2                      Task Complexity  0.0004  0.2919  0.8758  \n",
       "5   Team Composition + Task Complexity  0.0008  0.2688  0.8900  \n",
       "4   Team Composition + Task Complexity  0.0008  0.2683  0.8903  \n",
       "6                        Communication  0.0446  0.2148  0.9223  \n",
       "1                     Team Composition  0.0001 -0.0449  1.0639  \n",
       "0                     Team Composition  0.0001 -0.0450  1.0640  \n",
       "9      Task Complexity + Communication  0.0179 -4.5342  2.4485  \n",
       "7                        Communication  0.0446 -5.6619  2.6864  \n",
       "11                        All Features  0.0174 -6.1807  2.7891  "
      ]
     },
     "execution_count": 87,
     "metadata": {},
     "output_type": "execute_result"
    }
   ],
   "source": [
    "result_df.sort_values(by = \"r2\", ascending = False)"
   ]
  },
  {
   "cell_type": "code",
   "execution_count": null,
   "metadata": {},
   "outputs": [],
   "source": [
    "# Save for comparing results\n",
    "result_df.sort_values(by = \"r2\", ascending = False).to_csv(validation_results_output_name)"
   ]
  },
  {
   "cell_type": "markdown",
   "metadata": {},
   "source": [
    "Questions:\n",
    "- More deeply understand difference between LASSO and Ridge\n",
    "- Better understand `alpha` hyperparameter\n",
    "- Why doesn't more features mean a better R^2? (Wouldn't the model 'throw out' features that don't work?)"
   ]
  },
  {
   "cell_type": "markdown",
   "metadata": {},
   "source": [
    "## \"Out of Sample\" Testing (Using CSOP II)"
   ]
  },
  {
   "cell_type": "markdown",
   "metadata": {},
   "source": [
    "#### TODO -- account for diffs in formatting between the two datasets and clean up the formatting"
   ]
  },
  {
   "cell_type": "code",
   "execution_count": null,
   "metadata": {},
   "outputs": [],
   "source": [
    "# Preprocess CSOP 2 to look like CSOP 1\n",
    "csop2_path = data_path + 'csopII_output_conversation_level.csv'\n",
    "csop2_conv_data  = pd.read_csv(csop2_path)\n",
    "\n",
    "csop2_conv_data = csop2_conv_data[csop2_conv_data[\"sum_num_messages\"] >= min_num_chats]"
   ]
  },
  {
   "cell_type": "code",
   "execution_count": null,
   "metadata": {},
   "outputs": [],
   "source": [
    "# Test only on the case where the team size = 3\n",
    "csop2_conv_data = csop2_conv_data[csop2_conv_data[\"team_size\"] == 3]"
   ]
  },
  {
   "cell_type": "code",
   "execution_count": null,
   "metadata": {},
   "outputs": [],
   "source": [
    "# First, get the task features\n",
    "csop2_conv_data[\"difficulty\"] = csop2_conv_data[\"difficulty\"].map({\n",
    "    \"Easy [Corresponds to 'Hard' in PNAS]\": \"Moderate\",\n",
    "    \"Hard [Corresponds to 'Super Hard' in PNAS]\": \"Very high\"\n",
    "})\n",
    "task_features_test = csop2_conv_data[\"difficulty\"]\n"
   ]
  },
  {
   "cell_type": "code",
   "execution_count": null,
   "metadata": {},
   "outputs": [],
   "source": [
    "task_features_test = pd.get_dummies(csop2_conv_data[\"difficulty\"])\n",
    "task_features_test[\"High\"] = 0\n",
    "task_features_test[\"Low\"] = 0\n",
    "task_features_test[\"Very low\"] = 0\n",
    "task_features_test = task_features_test[task_features.columns]"
   ]
  },
  {
   "cell_type": "markdown",
   "metadata": {},
   "source": [
    "Composition Features\n",
    "- team_size: Team Size (1-10)\n",
    "- soc_pers: Social Perceptiveness * (this is the only thing in common with CSOP 1)\n",
    "- vis_img: Visual Imagery\n",
    "- int_verb: Internal Verbalization\n",
    "- ort_img: Orthographic Imagery\n",
    "- rep_man: Representational Manipulation\n",
    "\n",
    "The problem is that all these are categorical (e.g., \"High\", \"Mixed\", \"Low\") --- can't be used"
   ]
  },
  {
   "cell_type": "code",
   "execution_count": null,
   "metadata": {},
   "outputs": [],
   "source": [
    "team_composition_features_test = csop2_conv_data[[\"int_verb\", \"vis_img\", \"ort_img\", \"rep_man\", \"soc_pers\", \"team_size\"]]"
   ]
  },
  {
   "cell_type": "code",
   "execution_count": null,
   "metadata": {},
   "outputs": [],
   "source": [
    "def drop_non_common_columns(dfs):\n",
    "\t\"\"\"\n",
    "\tDrops any columns that are not shared between dataframes,\n",
    "\tso that they can be plotted on the same axis.\n",
    "\n",
    "\t@param dfs: list of dataframes\n",
    "\t\"\"\"\n",
    "\n",
    "\t# Check if there are any data frames in the list\n",
    "\tif not dfs:\n",
    "\t\treturn []\n",
    "\n",
    "\t# Find the intersection of columns in all data frames\n",
    "\tcommon_columns = set(dfs[0].columns)\n",
    "\tfor df in dfs[1:]:\n",
    "\t\tcommon_columns = common_columns.intersection(df.columns)\n",
    "\n",
    "\t# Create a new list of data frames with only common columns\n",
    "\tnew_data_frames = []\n",
    "\tfor df in dfs:\n",
    "\t\tnew_data_frames.append(df[list(common_columns)])\n",
    "\n",
    "\treturn new_data_frames"
   ]
  },
  {
   "cell_type": "code",
   "execution_count": null,
   "metadata": {},
   "outputs": [],
   "source": [
    "# possible targets to try\n",
    "targets_test = csop2_conv_data[[desired_target,\"score\",\"duration\"]]\n",
    "targets_test = pd.DataFrame(StandardScaler().fit_transform(targets_test), columns = targets_test.columns)\n",
    "\n",
    "# Read in the config file and use that the drop the extraneous columns\n",
    "with open('./config.json', \"rb\") as json_file:\n",
    "    config = json.load(json_file)\n",
    "\n",
    "conv_features_test = csop2_conv_data.drop(config[\"csopII\"]['cols_to_ignore'], axis = 1)"
   ]
  },
  {
   "cell_type": "code",
   "execution_count": null,
   "metadata": {},
   "outputs": [],
   "source": [
    "# Normalization\n",
    "conv_features_test = pd.DataFrame(StandardScaler().fit_transform(conv_features_test), columns = conv_features_test.columns)\n",
    "# drop na cols\n",
    "conv_features_test = conv_features_test.dropna(axis = 1)"
   ]
  },
  {
   "cell_type": "code",
   "execution_count": null,
   "metadata": {},
   "outputs": [],
   "source": [
    "# drop cols that aren't in csop I and reorder them the match\n",
    "_ , conv_features_test = drop_non_common_columns([conv_features, conv_features_test])\n",
    "conv_features_test = conv_features_test[conv_features.columns]"
   ]
  },
  {
   "cell_type": "code",
   "execution_count": null,
   "metadata": {},
   "outputs": [],
   "source": [
    "X_test = pd.concat([task_features_test.reset_index(drop=True), ≈.reset_index(drop=True)], axis=1)"
   ]
  },
  {
   "cell_type": "markdown",
   "metadata": {},
   "source": [
    "## Pass the desired trained model in from the earlier steps"
   ]
  },
  {
   "cell_type": "code",
   "execution_count": null,
   "metadata": {},
   "outputs": [],
   "source": [
    "out_of_sample_test_results = pd.DataFrame(\n",
    "    {\n",
    "        \"model\": [],\n",
    "        \"features_included\": [],\n",
    "        \"r2\": [],\n",
    "        \"rmse\": []\n",
    "    }\n",
    ")\n",
    "\n",
    "models = [model_lasso_task, model_lasso_tconv, model_lasso_comms]\n",
    "features = [\"Task Complexity\", \"Task Complexity + Communication\", \"Communication\"]\n",
    "feature_lists = [list(task_features_test.columns), list(task_features_test.columns) + list(conv_features_test.columns), list(conv_features_test.columns)]\n",
    "\n",
    "for i in range(len(models)):\n",
    "    model = models[i]\n",
    "    feature = features[i]\n",
    "    feature_list = feature_lists[i]\n",
    "\n",
    "    r2 = r2_score(y_true=targets_test[desired_target], y_pred=model.predict(X_test[feature_list])).round(4)\n",
    "    rmse = np.sqrt(mean_squared_error(y_true=targets_test[desired_target], y_pred=model.predict(X_test[feature_list])).round(4)).round(4)\n",
    "    out_of_sample_test_results = pd.concat([out_of_sample_test_results, pd.DataFrame({\"model\": [model], \"features_included\": [feature], \"r2\": [r2], \"rmse\": [rmse]})], ignore_index=True)"
   ]
  },
  {
   "cell_type": "code",
   "execution_count": null,
   "metadata": {},
   "outputs": [
    {
     "data": {
      "text/html": [
       "<div>\n",
       "<style scoped>\n",
       "    .dataframe tbody tr th:only-of-type {\n",
       "        vertical-align: middle;\n",
       "    }\n",
       "\n",
       "    .dataframe tbody tr th {\n",
       "        vertical-align: top;\n",
       "    }\n",
       "\n",
       "    .dataframe thead th {\n",
       "        text-align: right;\n",
       "    }\n",
       "</style>\n",
       "<table border=\"1\" class=\"dataframe\">\n",
       "  <thead>\n",
       "    <tr style=\"text-align: right;\">\n",
       "      <th></th>\n",
       "      <th>model</th>\n",
       "      <th>features_included</th>\n",
       "      <th>r2</th>\n",
       "      <th>rmse</th>\n",
       "    </tr>\n",
       "  </thead>\n",
       "  <tbody>\n",
       "    <tr>\n",
       "      <th>0</th>\n",
       "      <td>Lasso(alpha=0.0003687229747749683)</td>\n",
       "      <td>Task Complexity</td>\n",
       "      <td>-0.1941</td>\n",
       "      <td>1.0927</td>\n",
       "    </tr>\n",
       "    <tr>\n",
       "      <th>1</th>\n",
       "      <td>Lasso(alpha=0.017879918321882012)</td>\n",
       "      <td>Task Complexity + Communication</td>\n",
       "      <td>0.1355</td>\n",
       "      <td>0.9298</td>\n",
       "    </tr>\n",
       "    <tr>\n",
       "      <th>2</th>\n",
       "      <td>Lasso(alpha=0.0445969568109222)</td>\n",
       "      <td>Communication</td>\n",
       "      <td>0.2490</td>\n",
       "      <td>0.8666</td>\n",
       "    </tr>\n",
       "  </tbody>\n",
       "</table>\n",
       "</div>"
      ],
      "text/plain": [
       "                                model                features_included  \\\n",
       "0  Lasso(alpha=0.0003687229747749683)                  Task Complexity   \n",
       "1   Lasso(alpha=0.017879918321882012)  Task Complexity + Communication   \n",
       "2     Lasso(alpha=0.0445969568109222)                    Communication   \n",
       "\n",
       "       r2    rmse  \n",
       "0 -0.1941  1.0927  \n",
       "1  0.1355  0.9298  \n",
       "2  0.2490  0.8666  "
      ]
     },
     "execution_count": 116,
     "metadata": {},
     "output_type": "execute_result"
    }
   ],
   "source": [
    "out_of_sample_test_results"
   ]
  },
  {
   "cell_type": "code",
   "execution_count": null,
   "metadata": {},
   "outputs": [],
   "source": [
    "out_of_sample_test_results.sort_values(by = \"r2\", ascending = False).to_csv(test_results_output_name)"
   ]
  }
 ],
 "metadata": {
  "kernelspec": {
   "display_name": "Python 3",
   "language": "python",
   "name": "python3"
  },
  "language_info": {
   "codemirror_mode": {
    "name": "ipython",
    "version": 3
   },
   "file_extension": ".py",
   "mimetype": "text/x-python",
   "name": "python",
   "nbconvert_exporter": "python",
   "pygments_lexer": "ipython3",
   "version": "3.9.16"
  },
  "orig_nbformat": 4
 },
 "nbformat": 4,
 "nbformat_minor": 2
}
