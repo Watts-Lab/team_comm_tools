{
 "cells": [
  {
   "attachments": {},
   "cell_type": "markdown",
   "metadata": {},
   "source": [
    "# Imports"
   ]
  },
  {
   "cell_type": "code",
   "execution_count": 1,
   "metadata": {},
   "outputs": [],
   "source": [
    "import pandas as pd\n",
    "import numpy as np"
   ]
  },
  {
   "cell_type": "code",
   "execution_count": 2,
   "metadata": {},
   "outputs": [],
   "source": [
    "# Preprocess the Estimation data to have error be reversed as the dependent variable\n",
    "becker_estimation_data = pd.read_csv('../output/beckerestimation_output_conversation_level.csv')\n",
    "becker_estimation_data25 = pd.read_csv('../output/first_25/beckerestimation_output_conversation_level.csv')\n",
    "becker_estimation_data50 = pd.read_csv('../output/first_50/beckerestimation_output_conversation_level.csv')\n",
    "becker_estimation_data75 = pd.read_csv('../output/first_75/beckerestimation_output_conversation_level.csv')\n",
    "\n",
    "# Preprocess the Estimation data to have error be reversed as the dependent variable\n",
    "gurcay_estimation_data = pd.read_csv('../output/gurcay2015estimation_output_conversation_level.csv')\n",
    "gurcay_estimation_data25 = pd.read_csv('../output/first_25/gurcay2015estimation_output_conversation_level.csv')\n",
    "gurcay_estimation_data50 = pd.read_csv('../output/first_50/gurcay2015estimation_output_conversation_level.csv')\n",
    "gurcay_estimation_data75 = pd.read_csv('../output/first_75/gurcay2015estimation_output_conversation_level.csv')\n",
    "\n",
    "def reverse_dvs(df, path):\n",
    "    df[\"reverse_mean_post_discussion_error_pct\"] = -1*np.ones(len(df))*df[\"mean_post_discussion_error_pct\"]\n",
    "    df[\"reverse_median_post_discussion_error_pct\"] = -1*np.ones(len(df))*df[\"median_post_discussion_error_pct\"]\n",
    "    df.to_csv(path, index=False)\n",
    "\n",
    "dfs = [becker_estimation_data,becker_estimation_data25,becker_estimation_data50,becker_estimation_data75,gurcay_estimation_data,gurcay_estimation_data25,gurcay_estimation_data50,gurcay_estimation_data75]\n",
    "paths = ['../output/beckerestimation_output_conversation_level.csv','../output/first_25/beckerestimation_output_conversation_level.csv','../output/first_50/beckerestimation_output_conversation_level.csv','../output/first_75/beckerestimation_output_conversation_level.csv','../output/gurcay2015estimation_output_conversation_level.csv','../output/first_25/gurcay2015estimation_output_conversation_level.csv','../output/first_50/gurcay2015estimation_output_conversation_level.csv','../output/first_75/gurcay2015estimation_output_conversation_level.csv']\n",
    "\n",
    "assert(len(dfs) == len(paths))\n",
    "\n",
    "for i in range(len(dfs)):\n",
    "    reverse_dvs(dfs[i], paths[i])"
   ]
  }
 ],
 "metadata": {
  "kernelspec": {
   "display_name": "team_process_map",
   "language": "python",
   "name": "python3"
  },
  "language_info": {
   "codemirror_mode": {
    "name": "ipython",
    "version": 3
   },
   "file_extension": ".py",
   "mimetype": "text/x-python",
   "name": "python",
   "nbconvert_exporter": "python",
   "pygments_lexer": "ipython3",
   "version": "3.11.3"
  },
  "orig_nbformat": 4,
  "vscode": {
   "interpreter": {
    "hash": "4308115ec36d55d4bd05e5164490d17bc30a5f7275b0a0d4f3922ff237a9eaea"
   }
  }
 },
 "nbformat": 4,
 "nbformat_minor": 2
}
