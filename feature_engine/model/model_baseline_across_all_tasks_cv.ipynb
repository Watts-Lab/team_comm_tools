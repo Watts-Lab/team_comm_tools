{
 "cells": [
  {
   "attachments": {},
   "cell_type": "markdown",
   "metadata": {},
   "source": [
    "# Imports"
   ]
  },
  {
   "cell_type": "code",
   "execution_count": 1,
   "metadata": {},
   "outputs": [],
   "source": [
    "from model_builder import ModelBuilder\n",
    "import random\n",
    "import json\n",
    "import pandas as pd\n",
    "import numpy as np\n",
    "import matplotlib.pyplot as plt\n",
    "import matplotlib as mpl\n",
    "import colorsys\n",
    "plt.rcParams[\"font.family\"] = \"Times New Roman\"\n",
    "import warnings\n",
    "warnings.filterwarnings(\"ignore\")"
   ]
  },
  {
   "cell_type": "code",
   "execution_count": 2,
   "metadata": {},
   "outputs": [
    {
     "data": {
      "text/plain": [
       "{'becker': {'filename': 'beckerestimation_output_conversation_level.csv',\n",
       "  'cols_to_ignore': ['conversation_num',\n",
       "   'mean_pre_discussion_error',\n",
       "   'mean_post_discussion_error',\n",
       "   'median_pre_discussion_error',\n",
       "   'median_post_discussion_error',\n",
       "   'median_pre_discussion_error_pct',\n",
       "   'median_post_discussion_error_pct',\n",
       "   'mean_pre_discussion_error_pct',\n",
       "   'mean_post_discussion_error_pct',\n",
       "   'reverse_mean_post_discussion_error_pct',\n",
       "   'reverse_median_post_discussion_error_pct',\n",
       "   'question',\n",
       "   'chatrooms',\n",
       "   'trial_indx']},\n",
       " 'csop': {'filename': 'csop_output_conversation_level.csv',\n",
       "  'cols_to_ignore': ['conversation_num',\n",
       "   'batch_num',\n",
       "   'round_num',\n",
       "   'round_index',\n",
       "   'task_index',\n",
       "   'complexity',\n",
       "   'type',\n",
       "   'social_perceptiveness',\n",
       "   'skill',\n",
       "   'normalized_score',\n",
       "   'score',\n",
       "   'duration',\n",
       "   'efficiency']},\n",
       " 'csopII': {'filename': 'csopII_output_conversation_level.csv',\n",
       "  'cols_to_ignore': ['conversation_num',\n",
       "   'batch_num',\n",
       "   'vis_img',\n",
       "   'int_verb',\n",
       "   'ort_img',\n",
       "   'rep_man',\n",
       "   'soc_pers',\n",
       "   'team_size',\n",
       "   'difficulty',\n",
       "   'score',\n",
       "   'duration',\n",
       "   'efficiency',\n",
       "   'timestamp']},\n",
       " 'dat': {'filename': 'DAT_output_conversation_level.csv',\n",
       "  'cols_to_ignore': ['conversation_num',\n",
       "   'batch_num',\n",
       "   'vis_img',\n",
       "   'int_verb',\n",
       "   'ort_img',\n",
       "   'rep_man',\n",
       "   'soc_pers',\n",
       "   'team_size',\n",
       "   'score',\n",
       "   'duration',\n",
       "   'efficiency',\n",
       "   'timestamp']},\n",
       " 'gurcay': {'filename': 'gurcay2015estimation_output_conversation_level.csv',\n",
       "  'cols_to_ignore': ['conversation_num',\n",
       "   'mean_pre_discussion_error',\n",
       "   'mean_post_discussion_error',\n",
       "   'median_pre_discussion_error',\n",
       "   'median_post_discussion_error',\n",
       "   'median_pre_discussion_error_pct',\n",
       "   'median_post_discussion_error_pct',\n",
       "   'mean_pre_discussion_error_pct',\n",
       "   'mean_post_discussion_error_pct',\n",
       "   'reverse_mean_post_discussion_error_pct',\n",
       "   'reverse_median_post_discussion_error_pct',\n",
       "   'question']},\n",
       " 'juries': {'filename': 'jury_output_conversation_level.csv',\n",
       "  'cols_to_ignore': ['conversation_num',\n",
       "   'batch_num',\n",
       "   'round_num',\n",
       "   'timestamp',\n",
       "   'majority_pct',\n",
       "   'num_flipped',\n",
       "   'flipped_pct',\n",
       "   'num_votes']},\n",
       " 'pgg': {'filename': 'pgg_output_conversation_level.csv',\n",
       "  'cols_to_ignore': ['conversation_num',\n",
       "   'treatmentName',\n",
       "   'punishmentCost',\n",
       "   'punishmentMagnitude',\n",
       "   'total_costs',\n",
       "   'total_penalties',\n",
       "   'total_rewards',\n",
       "   'multiplier',\n",
       "   'punishmentExists',\n",
       "   'rewardExists',\n",
       "   'playerCount',\n",
       "   'numRounds',\n",
       "   'timestamp',\n",
       "   'score']},\n",
       " 'task_mapping_keys': {'juries': 'Mock jury',\n",
       "  'csop': 'Room assignment task',\n",
       "  'csopII': 'Room assignment task',\n",
       "  'dat': 'Divergent Association Task',\n",
       "  'becker': 'Estimating Factual Quantities',\n",
       "  'gurcay': 'Estimating Factual Quantities'},\n",
       " 'task_names': ['Mock jury',\n",
       "  'Room assignment task',\n",
       "  'Room assignment task',\n",
       "  'Divergent Association Task',\n",
       "  'Estimating Factual Quantities']}"
      ]
     },
     "execution_count": 2,
     "metadata": {},
     "output_type": "execute_result"
    }
   ],
   "source": [
    "with open(\"config.json\", \"rb\") as json_file:\n",
    "    config = json.load(json_file)\n",
    "config"
   ]
  },
  {
   "attachments": {},
   "cell_type": "markdown",
   "metadata": {},
   "source": [
    "# Repeated k-Fold Cross-Validation"
   ]
  },
  {
   "cell_type": "code",
   "execution_count": 3,
   "metadata": {},
   "outputs": [],
   "source": [
    "def repeated_kfold_cv(model, k = 10, seed = 19104):\n",
    "\n",
    "    \"\"\"\n",
    "    Parameters:\n",
    "    - model: The model we are doing k-fold CV for\n",
    "    - k: the number of fols (defaults to 10)\n",
    "    - seed: the random seed (defaults to 19104)\n",
    "\n",
    "    @returns the following, pouplated with data from the k0=-fold CV:\n",
    "    - train_metrics: a dataframe to store all the training metrics\n",
    "    - test_metrics: a dataframe to store all the test set metrics (we will universally use a 80-20 train-test split)\n",
    "    - shap_df: a dataframe to store the Shapley value summaries for each fold\n",
    "    - shap_correlation_df: a dataframe to store how the Shapley values correlate with feature values for each fold\n",
    "    \"\"\"\n",
    "\n",
    "    # Repeated k-fold cross-validation\n",
    "    random.seed(seed) # set seed for reproducibility\n",
    "    random_states_list = [random.randint(100, 1000000) for _ in range(k)] # create a bunch of different random states\n",
    "\n",
    "    # Store metrics --- R^2, MAE, MSE\n",
    "    metrics = ['r2', 'mae', 'mse', 'rmse']\n",
    "    train_metrics = pd.DataFrame(columns=metrics)\n",
    "    test_metrics = pd.DataFrame(columns=metrics)\n",
    "\n",
    "    for i in range(len(random_states_list)):\n",
    "        # store the model metrics for each iteration\n",
    "        metrics = model.evaluate_model(model.baseline_model, val_size = 0.2, test_size = None, random_state = random_states_list[i], visualize_model = False)\n",
    "        train_metrics = train_metrics.append(metrics['train'], ignore_index=True)\n",
    "        test_metrics = test_metrics.append(metrics['val'], ignore_index=True)\n",
    "    \n",
    "        # store the shap summary for each iteration\n",
    "\n",
    "        try:     \n",
    "            shap_summary = model.shap_summary\n",
    "            shap_df = pd.merge(shap_df, shap_summary[['feature', 'shap']], on='feature')\n",
    "            shap_df.rename(columns={'shap': f'shap_{i+1}'}, inplace=True)\n",
    "            shap_correlation_df = pd.merge(shap_correlation_df, shap_summary[['feature', 'correlation_btw_shap_and_feature_value']], on='feature')\n",
    "            shap_correlation_df.rename(columns={'correlation_btw_shap_and_feature_value': f'cor_{i+1}'}, inplace=True)\n",
    "        except NameError:\n",
    "            # we haven't defined these yet; we're in the first iteration!\n",
    "            # we have to do this becaus model.X does not show up until after the first case when evaluate_model is called\n",
    "            shap_df = pd.DataFrame({'feature': model.X.columns})\n",
    "            shap_correlation_df = pd.DataFrame({'feature': model.X.columns})\n",
    "\n",
    "            shap_summary = model.shap_summary\n",
    "            shap_df = pd.merge(shap_df, shap_summary[['feature', 'shap']], on='feature')\n",
    "            shap_df.rename(columns={'shap': f'shap_{i+1}'}, inplace=True)\n",
    "            shap_correlation_df = pd.merge(shap_correlation_df, shap_summary[['feature', 'correlation_btw_shap_and_feature_value']], on='feature')\n",
    "            shap_correlation_df.rename(columns={'correlation_btw_shap_and_feature_value': f'cor_{i+1}'}, inplace=True)\n",
    "\n",
    "\n",
    "    shap_df.set_index('feature', inplace=True)\n",
    "    shap_correlation_df.set_index('feature', inplace=True)\n",
    "\n",
    "    return(shap_df, shap_correlation_df, train_metrics, test_metrics)"
   ]
  },
  {
   "cell_type": "code",
   "execution_count": 4,
   "metadata": {},
   "outputs": [],
   "source": [
    "def get_repeated_kfold_cv_summary(shap_df, shap_correlation_df, train_metrics, test_metrics):\n",
    "    \"\"\"\n",
    "    Get the means of the repeated k-fold cross validation across all relevant metrics.\n",
    "    \"\"\"\n",
    "    shap_means = shap_df.mean(axis=1).sort_values(ascending = False)\n",
    "    shap_cor_means = shap_correlation_df.mean(axis=1).reindex(index = shap_means.index)\n",
    "    train_means = train_metrics.mean()\n",
    "    test_means = test_metrics.mean()\n",
    "\n",
    "    return(shap_means, shap_cor_means, train_means, test_means)"
   ]
  },
  {
   "cell_type": "code",
   "execution_count": 5,
   "metadata": {},
   "outputs": [],
   "source": [
    "time_points = [\"25%\", \"50%\", \"75%\", \"100%\"]"
   ]
  },
  {
   "cell_type": "code",
   "execution_count": 6,
   "metadata": {},
   "outputs": [],
   "source": [
    "NUM_TOP_FEATURES = 5"
   ]
  },
  {
   "cell_type": "code",
   "execution_count": 7,
   "metadata": {},
   "outputs": [],
   "source": [
    "def plot_important_features_over_time(merged_df, color_palette, title=\"Top Feature Importance Over Time\", filename=\"./figures/feature_importance.png\"):\n",
    "    # Transpose the DataFrame and sort by each time point\n",
    "    top_features = merged_df.apply(lambda x: x.nlargest(NUM_TOP_FEATURES))\n",
    "\n",
    "    non_na_feature = top_features.dropna()\n",
    "    na_feature = top_features.loc[~top_features.index.isin(top_features.dropna().index)].fillna(0)\n",
    "\n",
    "    # Plot a line chart to show how the top feature values change over time\n",
    "    if not non_na_feature.empty and not na_feature.empty:\n",
    "        ax = non_na_feature.T.plot(kind='line', marker='o', linewidth=3, color=color_palette)\n",
    "        na_feature.T.plot(kind='line', marker='o', linestyle='--', linewidth=3, ax=ax, color=color_palette)  # Use the same axis for dashed lines\n",
    "    elif non_na_feature.empty:\n",
    "        ax = na_feature.T.plot(kind='line', marker='o', linestyle='--', linewidth=3, color=color_palette)\n",
    "    elif na_feature.empty:\n",
    "        ax = non_na_feature.T.plot(kind='line', marker='o', linewidth=3, color=color_palette)\n",
    "\n",
    "    plt.ylabel('Importance (SHAP value)', size=14)\n",
    "    plt.xlabel('Percent of Chat Messages (Chronological)', size=14)\n",
    "    plt.title(title, fontsize=18, fontweight=\"bold\")\n",
    "    plt.xticks(range(len(time_points)), time_points, fontsize=14)\n",
    "\n",
    "    # Update legend with custom color mapping\n",
    "    legend_labels = ax.get_legend().get_texts()\n",
    "    for label in legend_labels:\n",
    "        feature_name = label.get_text()\n",
    "\n",
    "    plt.legend(loc='upper left', fontsize=12, bbox_to_anchor=(1.05, 1), bbox_transform=ax.transAxes)\n",
    "\n",
    "    plt.savefig(filename, dpi=1200, bbox_inches='tight')\n",
    "    plt.show()"
   ]
  },
  {
   "attachments": {},
   "cell_type": "markdown",
   "metadata": {},
   "source": [
    "# Multi-Task Joint Model"
   ]
  },
  {
   "attachments": {},
   "cell_type": "markdown",
   "metadata": {},
   "source": [
    "### Joint Model (standardizing features _across_ tasks)"
   ]
  },
  {
   "cell_type": "code",
   "execution_count": 8,
   "metadata": {},
   "outputs": [],
   "source": [
    "joint_model = ModelBuilder(dataset_names = [\"juries\", \"csop\", \"csopII\", \"becker\", \"gurcay\", \"dat\"])\n",
    "joint_model.select_target(target=[\"majority_pct\", \"efficiency\", \"efficiency\", \"reverse_mean_post_discussion_error_pct\", \"reverse_mean_post_discussion_error_pct\", \"efficiency\"])\n",
    "joint_model.define_model(model_type = 'rf')"
   ]
  },
  {
   "cell_type": "code",
   "execution_count": 9,
   "metadata": {},
   "outputs": [
    {
     "name": "stdout",
     "output_type": "stream",
     "text": [
      "Checking Holdout Sets...Creating Holdout Sets...\n",
      "Cleaning Up Columns...\n",
      "Done\n",
      "Training Model...Done\n",
      "Checking Holdout Sets...Creating Holdout Sets...\n",
      "Cleaning Up Columns...\n",
      "Done\n",
      "Training Model...Done\n",
      "Checking Holdout Sets...Creating Holdout Sets...\n",
      "Cleaning Up Columns...\n",
      "Done\n",
      "Training Model...Done\n",
      "Checking Holdout Sets...Creating Holdout Sets...\n",
      "Cleaning Up Columns...\n",
      "Done\n",
      "Training Model...Done\n",
      "Checking Holdout Sets...Creating Holdout Sets...\n",
      "Cleaning Up Columns...\n",
      "Done\n",
      "Training Model...Done\n",
      "Checking Holdout Sets...Creating Holdout Sets...\n",
      "Cleaning Up Columns...\n",
      "Done\n",
      "Training Model...Done\n",
      "Checking Holdout Sets...Creating Holdout Sets...\n",
      "Cleaning Up Columns...\n",
      "Done\n",
      "Training Model...Done\n",
      "Checking Holdout Sets...Creating Holdout Sets...\n",
      "Cleaning Up Columns...\n",
      "Done\n",
      "Training Model...Done\n",
      "Checking Holdout Sets...Creating Holdout Sets...\n",
      "Cleaning Up Columns...\n",
      "Done\n",
      "Training Model...Done\n",
      "Checking Holdout Sets...Creating Holdout Sets...\n",
      "Cleaning Up Columns...\n",
      "Done\n",
      "Training Model...Done\n"
     ]
    }
   ],
   "source": [
    "# Call the Repeated k-Fold CV\n",
    "joint_shap, joint_shap_cor, joint_train_metrics, joint_test_metrics = repeated_kfold_cv(joint_model)\n",
    "joint_shap_means, joint_shap_cor_means, joint_train_means, joint_test_means = get_repeated_kfold_cv_summary(joint_shap, joint_shap_cor, joint_train_metrics, joint_test_metrics)"
   ]
  },
  {
   "attachments": {},
   "cell_type": "markdown",
   "metadata": {},
   "source": [
    "75% data"
   ]
  },
  {
   "cell_type": "code",
   "execution_count": 10,
   "metadata": {},
   "outputs": [],
   "source": [
    "joint_model75 = ModelBuilder(dataset_names = [\"juries\", \"csop\", \"csopII\", \"becker\", \"gurcay\", \"dat\"], output_dir = '../output/first_75/')\n",
    "joint_model75.select_target(target=[\"majority_pct\", \"efficiency\", \"efficiency\", \"reverse_mean_post_discussion_error_pct\", \"reverse_mean_post_discussion_error_pct\", \"efficiency\"])\n",
    "joint_model75.define_model(model_type = 'rf')"
   ]
  },
  {
   "cell_type": "code",
   "execution_count": 11,
   "metadata": {},
   "outputs": [
    {
     "name": "stdout",
     "output_type": "stream",
     "text": [
      "Checking Holdout Sets...Creating Holdout Sets...\n",
      "Cleaning Up Columns...\n",
      "Done\n",
      "Training Model..."
     ]
    },
    {
     "name": "stdout",
     "output_type": "stream",
     "text": [
      "Done\n",
      "Checking Holdout Sets...Creating Holdout Sets...\n",
      "Cleaning Up Columns...\n",
      "Done\n",
      "Training Model...Done\n",
      "Checking Holdout Sets...Creating Holdout Sets...\n",
      "Cleaning Up Columns...\n",
      "Done\n",
      "Training Model...Done\n",
      "Checking Holdout Sets...Creating Holdout Sets...\n",
      "Cleaning Up Columns...\n",
      "Done\n",
      "Training Model...Done\n",
      "Checking Holdout Sets...Creating Holdout Sets...\n",
      "Cleaning Up Columns...\n",
      "Done\n",
      "Training Model...Done\n",
      "Checking Holdout Sets...Creating Holdout Sets...\n",
      "Cleaning Up Columns...\n",
      "Done\n",
      "Training Model...Done\n",
      "Checking Holdout Sets...Creating Holdout Sets...\n",
      "Cleaning Up Columns...\n",
      "Done\n",
      "Training Model...Done\n",
      "Checking Holdout Sets...Creating Holdout Sets...\n",
      "Cleaning Up Columns...\n",
      "Done\n",
      "Training Model...Done\n",
      "Checking Holdout Sets...Creating Holdout Sets...\n",
      "Cleaning Up Columns...\n",
      "Done\n",
      "Training Model...Done\n",
      "Checking Holdout Sets...Creating Holdout Sets...\n",
      "Cleaning Up Columns...\n",
      "Done\n",
      "Training Model...Done\n"
     ]
    }
   ],
   "source": [
    "# Call the Repeated k-Fold CV\n",
    "joint_shap75, joint_shap_cor75, joint_train_metrics75, joint_test_metrics75 = repeated_kfold_cv(joint_model)\n",
    "joint_shap_means75, joint_shap_cor_means75, joint_train_means75, joint_test_means75 = get_repeated_kfold_cv_summary(joint_shap75, joint_shap_cor75, joint_train_metrics75, joint_test_metrics75)"
   ]
  },
  {
   "attachments": {},
   "cell_type": "markdown",
   "metadata": {},
   "source": [
    "50% data"
   ]
  },
  {
   "cell_type": "code",
   "execution_count": 12,
   "metadata": {},
   "outputs": [],
   "source": [
    "joint_model50 = ModelBuilder(dataset_names = [\"juries\", \"csop\", \"csopII\", \"becker\", \"gurcay\", \"dat\"], output_dir = '../output/first_50/')\n",
    "joint_model50.select_target(target=[\"majority_pct\", \"efficiency\", \"efficiency\", \"reverse_mean_post_discussion_error_pct\", \"reverse_mean_post_discussion_error_pct\", \"efficiency\"])\n",
    "joint_model50.define_model(model_type = 'rf')"
   ]
  },
  {
   "cell_type": "code",
   "execution_count": 13,
   "metadata": {},
   "outputs": [
    {
     "name": "stdout",
     "output_type": "stream",
     "text": [
      "Checking Holdout Sets...Creating Holdout Sets...\n",
      "Cleaning Up Columns...\n",
      "Done\n",
      "Training Model...Done\n",
      "Checking Holdout Sets...Creating Holdout Sets...\n",
      "Cleaning Up Columns...\n",
      "Done\n",
      "Training Model...Done\n",
      "Checking Holdout Sets...Creating Holdout Sets...\n",
      "Cleaning Up Columns...\n",
      "Done\n",
      "Training Model...Done\n",
      "Checking Holdout Sets...Creating Holdout Sets...\n",
      "Cleaning Up Columns...\n",
      "Done\n",
      "Training Model...Done\n",
      "Checking Holdout Sets...Creating Holdout Sets...\n",
      "Cleaning Up Columns...\n",
      "Done\n",
      "Training Model...Done\n",
      "Checking Holdout Sets...Creating Holdout Sets...\n",
      "Cleaning Up Columns...\n",
      "Done\n",
      "Training Model...Done\n",
      "Checking Holdout Sets...Creating Holdout Sets...\n",
      "Cleaning Up Columns...\n",
      "Done\n",
      "Training Model...Done\n",
      "Checking Holdout Sets...Creating Holdout Sets...\n",
      "Cleaning Up Columns...\n",
      "Done\n",
      "Training Model...Done\n",
      "Checking Holdout Sets...Creating Holdout Sets...\n",
      "Cleaning Up Columns...\n",
      "Done\n",
      "Training Model...Done\n",
      "Checking Holdout Sets...Creating Holdout Sets...\n",
      "Cleaning Up Columns...\n",
      "Done\n",
      "Training Model...Done\n"
     ]
    }
   ],
   "source": [
    "# Call the Repeated k-Fold CV\n",
    "joint_shap50, joint_shap_cor50, joint_train_metrics50, joint_test_metrics50 = repeated_kfold_cv(joint_model50)\n",
    "joint_shap_means50, joint_shap_cor_means50, joint_train_means50, joint_test_means50 = get_repeated_kfold_cv_summary(joint_shap50, joint_shap_cor50, joint_train_metrics50, joint_test_metrics50)"
   ]
  },
  {
   "attachments": {},
   "cell_type": "markdown",
   "metadata": {},
   "source": [
    "25% Data"
   ]
  },
  {
   "cell_type": "code",
   "execution_count": 14,
   "metadata": {},
   "outputs": [],
   "source": [
    "joint_model25 = ModelBuilder(dataset_names = [\"juries\", \"csop\", \"csopII\", \"becker\", \"gurcay\", \"dat\"], output_dir = '../output/first_25/')\n",
    "joint_model25.select_target(target=[\"majority_pct\", \"efficiency\", \"efficiency\", \"reverse_mean_post_discussion_error_pct\", \"reverse_mean_post_discussion_error_pct\", \"efficiency\"])\n",
    "joint_model25.define_model(model_type = 'rf')"
   ]
  },
  {
   "cell_type": "code",
   "execution_count": 15,
   "metadata": {},
   "outputs": [
    {
     "name": "stdout",
     "output_type": "stream",
     "text": [
      "Checking Holdout Sets...Creating Holdout Sets...\n",
      "Cleaning Up Columns...\n"
     ]
    },
    {
     "name": "stdout",
     "output_type": "stream",
     "text": [
      "Done\n",
      "Training Model...Done\n",
      "Checking Holdout Sets...Creating Holdout Sets...\n",
      "Cleaning Up Columns...\n",
      "Done\n",
      "Training Model...Done\n",
      "Checking Holdout Sets...Creating Holdout Sets...\n",
      "Cleaning Up Columns...\n",
      "Done\n",
      "Training Model...Done\n",
      "Checking Holdout Sets...Creating Holdout Sets...\n",
      "Cleaning Up Columns...\n",
      "Done\n",
      "Training Model...Done\n",
      "Checking Holdout Sets...Creating Holdout Sets...\n",
      "Cleaning Up Columns...\n",
      "Done\n",
      "Training Model...Done\n",
      "Checking Holdout Sets...Creating Holdout Sets...\n",
      "Cleaning Up Columns...\n",
      "Done\n",
      "Training Model...Done\n",
      "Checking Holdout Sets...Creating Holdout Sets...\n",
      "Cleaning Up Columns...\n",
      "Done\n",
      "Training Model...Done\n",
      "Checking Holdout Sets...Creating Holdout Sets...\n",
      "Cleaning Up Columns...\n",
      "Done\n",
      "Training Model...Done\n",
      "Checking Holdout Sets...Creating Holdout Sets...\n",
      "Cleaning Up Columns...\n",
      "Done\n",
      "Training Model...Done\n",
      "Checking Holdout Sets...Creating Holdout Sets...\n",
      "Cleaning Up Columns...\n",
      "Done\n",
      "Training Model...Done\n"
     ]
    }
   ],
   "source": [
    "# Call the Repeated k-Fold CV\n",
    "joint_shap25, joint_shap_cor25, joint_train_metrics25, joint_test_metrics25 = repeated_kfold_cv(joint_model25)\n",
    "joint_shap_means25, joint_shap_cor_means25, joint_train_means25, joint_test_means25 = get_repeated_kfold_cv_summary(joint_shap25, joint_shap_cor25, joint_train_metrics25, joint_test_metrics25)"
   ]
  },
  {
   "attachments": {},
   "cell_type": "markdown",
   "metadata": {},
   "source": [
    "Plot the Model Summaries"
   ]
  },
  {
   "cell_type": "code",
   "execution_count": 16,
   "metadata": {},
   "outputs": [],
   "source": [
    "NUM_COLORS = 19104*len(joint_model.X.columns)"
   ]
  },
  {
   "cell_type": "code",
   "execution_count": 17,
   "metadata": {},
   "outputs": [],
   "source": [
    "# color dictionary\n",
    "def generate_color(feature_name):\n",
    "    hashed = hash(feature_name) % NUM_COLORS\n",
    "    hue = hashed / 1000.0\n",
    "    saturation = (hashed % NUM_COLORS) / NUM_COLORS  # Vary the saturation within a range (0.7 to 1.0)\n",
    "    value = 0.8\n",
    "    color_rgb = colorsys.hsv_to_rgb(hue, saturation, value)\n",
    "    return color_rgb\n",
    "\n",
    "# Create a color mapping dictionary\n",
    "color_mapping = {feature_name: generate_color(feature_name) for feature_name in joint_model.X.columns}"
   ]
  },
  {
   "cell_type": "code",
   "execution_count": 36,
   "metadata": {},
   "outputs": [],
   "source": [
    "merged_df = pd.concat([joint_shap_means25, joint_shap_means50, joint_shap_means75, joint_shap_means], keys = time_points, axis=1)"
   ]
  },
  {
   "cell_type": "code",
   "execution_count": 37,
   "metadata": {},
   "outputs": [
    {
     "data": {
      "image/png": "[encoded data removed]",
      "text/plain": [
       "<Figure size 432x288 with 1 Axes>"
      ]
     },
     "metadata": {},
     "output_type": "display_data"
    }
   ],
   "source": [
    "plot_important_features_over_time(merged_df, color_mapping, \"Standardizing Features Across All Tasks\", \"./figures/across_task_std_btwn_features.svg\")"
   ]
  },
  {
   "cell_type": "code",
   "execution_count": 20,
   "metadata": {},
   "outputs": [
    {
     "data": {
      "text/html": [
       "<div>\n",
       "<style scoped>\n",
       "    .dataframe tbody tr th:only-of-type {\n",
       "        vertical-align: middle;\n",
       "    }\n",
       "\n",
       "    .dataframe tbody tr th {\n",
       "        vertical-align: top;\n",
       "    }\n",
       "\n",
       "    .dataframe thead th {\n",
       "        text-align: right;\n",
       "    }\n",
       "</style>\n",
       "<table border=\"1\" class=\"dataframe\">\n",
       "  <thead>\n",
       "    <tr style=\"text-align: right;\">\n",
       "      <th></th>\n",
       "      <th>25%</th>\n",
       "      <th>50%</th>\n",
       "      <th>75%</th>\n",
       "      <th>100%</th>\n",
       "    </tr>\n",
       "    <tr>\n",
       "      <th>feature</th>\n",
       "      <th></th>\n",
       "      <th></th>\n",
       "      <th></th>\n",
       "      <th></th>\n",
       "    </tr>\n",
       "  </thead>\n",
       "  <tbody>\n",
       "    <tr>\n",
       "      <th>Q22confl_tradeoffs</th>\n",
       "      <td>0.117448</td>\n",
       "      <td>0.117448</td>\n",
       "      <td>0.160629</td>\n",
       "      <td>0.160629</td>\n",
       "    </tr>\n",
       "    <tr>\n",
       "      <th>Q3type_1_planning</th>\n",
       "      <td>0.013700</td>\n",
       "      <td>0.013700</td>\n",
       "      <td>0.235835</td>\n",
       "      <td>0.235835</td>\n",
       "    </tr>\n",
       "    <tr>\n",
       "      <th>Q4type_2_generate</th>\n",
       "      <td>-0.234276</td>\n",
       "      <td>-0.234276</td>\n",
       "      <td>-0.092488</td>\n",
       "      <td>-0.092488</td>\n",
       "    </tr>\n",
       "    <tr>\n",
       "      <th>Q5creativity_input_1</th>\n",
       "      <td>0.108157</td>\n",
       "      <td>0.108157</td>\n",
       "      <td>-0.041812</td>\n",
       "      <td>-0.041812</td>\n",
       "    </tr>\n",
       "    <tr>\n",
       "      <th>Q17within_sys_sol</th>\n",
       "      <td>0.079603</td>\n",
       "      <td>0.079603</td>\n",
       "      <td>0.217729</td>\n",
       "      <td>0.217729</td>\n",
       "    </tr>\n",
       "    <tr>\n",
       "      <th>Q7type_7_battle</th>\n",
       "      <td>-0.153069</td>\n",
       "      <td>-0.153069</td>\n",
       "      <td>-0.014673</td>\n",
       "      <td>-0.014673</td>\n",
       "    </tr>\n",
       "    <tr>\n",
       "      <th>Q8type_8_performance</th>\n",
       "      <td>0.000537</td>\n",
       "      <td>0.000537</td>\n",
       "      <td>-0.047328</td>\n",
       "      <td>-0.047328</td>\n",
       "    </tr>\n",
       "    <tr>\n",
       "      <th>Q14sol_scheme_mul</th>\n",
       "      <td>0.079413</td>\n",
       "      <td>0.079413</td>\n",
       "      <td>0.047451</td>\n",
       "      <td>0.047451</td>\n",
       "    </tr>\n",
       "    <tr>\n",
       "      <th>Q6type_5_cc</th>\n",
       "      <td>-0.391616</td>\n",
       "      <td>-0.391616</td>\n",
       "      <td>-0.118323</td>\n",
       "      <td>-0.118323</td>\n",
       "    </tr>\n",
       "    <tr>\n",
       "      <th>Q13outcome_multip</th>\n",
       "      <td>0.129106</td>\n",
       "      <td>0.129106</td>\n",
       "      <td>-0.152362</td>\n",
       "      <td>-0.152362</td>\n",
       "    </tr>\n",
       "  </tbody>\n",
       "</table>\n",
       "</div>"
      ],
      "text/plain": [
       "                           25%       50%       75%      100%\n",
       "feature                                                     \n",
       "Q22confl_tradeoffs    0.117448  0.117448  0.160629  0.160629\n",
       "Q3type_1_planning     0.013700  0.013700  0.235835  0.235835\n",
       "Q4type_2_generate    -0.234276 -0.234276 -0.092488 -0.092488\n",
       "Q5creativity_input_1  0.108157  0.108157 -0.041812 -0.041812\n",
       "Q17within_sys_sol     0.079603  0.079603  0.217729  0.217729\n",
       "Q7type_7_battle      -0.153069 -0.153069 -0.014673 -0.014673\n",
       "Q8type_8_performance  0.000537  0.000537 -0.047328 -0.047328\n",
       "Q14sol_scheme_mul     0.079413  0.079413  0.047451  0.047451\n",
       "Q6type_5_cc          -0.391616 -0.391616 -0.118323 -0.118323\n",
       "Q13outcome_multip     0.129106  0.129106 -0.152362 -0.152362"
      ]
     },
     "execution_count": 20,
     "metadata": {},
     "output_type": "execute_result"
    }
   ],
   "source": [
    "# look at direction of impact\n",
    "pd.concat([joint_shap_cor_means25, joint_shap_cor_means50, joint_shap_cor_means75, joint_shap_cor_means], keys = time_points, axis=1).head(10)"
   ]
  },
  {
   "attachments": {},
   "cell_type": "markdown",
   "metadata": {},
   "source": [
    "### Joint Model (standardizing features _within_ tasks)"
   ]
  },
  {
   "attachments": {},
   "cell_type": "markdown",
   "metadata": {},
   "source": [
    "100% of Data"
   ]
  },
  {
   "cell_type": "code",
   "execution_count": 21,
   "metadata": {},
   "outputs": [],
   "source": [
    "# standardize_within defaults to false, so let's check what happens when we change it to true\n",
    "joint_model_std_within = ModelBuilder(dataset_names = [\"juries\", \"csop\", \"csopII\", \"becker\", \"gurcay\", \"dat\"], standardize_within= True)\n",
    "joint_model_std_within.select_target(target=[\"majority_pct\", \"efficiency\", \"efficiency\", \"reverse_mean_post_discussion_error_pct\", \"reverse_mean_post_discussion_error_pct\", \"efficiency\"])\n",
    "joint_model_std_within.define_model(model_type = 'rf')"
   ]
  },
  {
   "cell_type": "code",
   "execution_count": 22,
   "metadata": {},
   "outputs": [
    {
     "name": "stdout",
     "output_type": "stream",
     "text": [
      "Checking Holdout Sets...Creating Holdout Sets...\n",
      "Cleaning Up Columns...\n",
      "Done\n",
      "Training Model...Done\n",
      "Checking Holdout Sets...Creating Holdout Sets...\n",
      "Cleaning Up Columns...\n",
      "Done\n",
      "Training Model...Done\n",
      "Checking Holdout Sets...Creating Holdout Sets...\n",
      "Cleaning Up Columns...\n",
      "Done\n",
      "Training Model...Done\n",
      "Checking Holdout Sets...Creating Holdout Sets...\n",
      "Cleaning Up Columns...\n",
      "Done\n",
      "Training Model...Done\n",
      "Checking Holdout Sets...Creating Holdout Sets...\n",
      "Cleaning Up Columns...\n",
      "Done\n",
      "Training Model...Done\n",
      "Checking Holdout Sets...Creating Holdout Sets...\n",
      "Cleaning Up Columns...\n",
      "Done\n",
      "Training Model...Done\n",
      "Checking Holdout Sets...Creating Holdout Sets...\n",
      "Cleaning Up Columns...\n",
      "Done\n",
      "Training Model...Done\n",
      "Checking Holdout Sets...Creating Holdout Sets...\n",
      "Cleaning Up Columns...\n",
      "Done\n",
      "Training Model...Done\n",
      "Checking Holdout Sets...Creating Holdout Sets...\n",
      "Cleaning Up Columns...\n",
      "Done\n",
      "Training Model...Done\n",
      "Checking Holdout Sets...Creating Holdout Sets...\n",
      "Cleaning Up Columns...\n",
      "Done\n",
      "Training Model...Done\n"
     ]
    }
   ],
   "source": [
    "# Call the Repeated k-Fold CV\n",
    "joint_sw_shap, joint_sw_shap_cor, joint_sw_train_metrics, joint_sw_test_metrics = repeated_kfold_cv(joint_model_std_within)\n",
    "joint_sw_shap_means, joint_sw_shap_cor_means, joint_sw_train_means, joint_sw_test_means = get_repeated_kfold_cv_summary(joint_sw_shap, joint_sw_shap_cor, joint_sw_train_metrics, joint_sw_test_metrics)"
   ]
  },
  {
   "attachments": {},
   "cell_type": "markdown",
   "metadata": {},
   "source": [
    "75% of Data"
   ]
  },
  {
   "cell_type": "code",
   "execution_count": 23,
   "metadata": {},
   "outputs": [],
   "source": [
    "joint_model_std_within75 = ModelBuilder(dataset_names = [\"juries\", \"csop\", \"csopII\", \"becker\", \"gurcay\", \"dat\"], standardize_within= True, output_dir = '../output/first_75/')\n",
    "joint_model_std_within75.select_target(target=[\"majority_pct\", \"efficiency\", \"efficiency\", \"reverse_mean_post_discussion_error_pct\", \"reverse_mean_post_discussion_error_pct\", \"efficiency\"])\n",
    "joint_model_std_within75.define_model(model_type = 'rf')"
   ]
  },
  {
   "cell_type": "code",
   "execution_count": 24,
   "metadata": {},
   "outputs": [
    {
     "name": "stdout",
     "output_type": "stream",
     "text": [
      "Checking Holdout Sets...Creating Holdout Sets...\n",
      "Cleaning Up Columns...\n",
      "Done\n",
      "Training Model...Done\n",
      "Checking Holdout Sets...Creating Holdout Sets...\n",
      "Cleaning Up Columns...\n",
      "Done\n",
      "Training Model...Done\n",
      "Checking Holdout Sets...Creating Holdout Sets...\n",
      "Cleaning Up Columns...\n",
      "Done\n",
      "Training Model...Done\n",
      "Checking Holdout Sets...Creating Holdout Sets...\n",
      "Cleaning Up Columns...\n",
      "Done\n",
      "Training Model...Done\n",
      "Checking Holdout Sets...Creating Holdout Sets...\n",
      "Cleaning Up Columns...\n",
      "Done\n",
      "Training Model...Done\n",
      "Checking Holdout Sets...Creating Holdout Sets...\n",
      "Cleaning Up Columns...\n",
      "Done\n",
      "Training Model...Done\n",
      "Checking Holdout Sets...Creating Holdout Sets...\n",
      "Cleaning Up Columns...\n",
      "Done\n",
      "Training Model...Done\n",
      "Checking Holdout Sets...Creating Holdout Sets...\n",
      "Cleaning Up Columns...\n",
      "Done\n",
      "Training Model...Done\n",
      "Checking Holdout Sets...Creating Holdout Sets...\n",
      "Cleaning Up Columns...\n",
      "Done\n",
      "Training Model...Done\n",
      "Checking Holdout Sets...Creating Holdout Sets...\n",
      "Cleaning Up Columns...\n",
      "Done\n",
      "Training Model...Done\n"
     ]
    }
   ],
   "source": [
    "# Call the Repeated k-Fold CV\n",
    "joint_sw_shap75, joint_sw_shap_cor75, joint_sw_train_metrics75, joint_sw_test_metrics75 = repeated_kfold_cv(joint_model_std_within75)\n",
    "joint_sw_shap_means75, joint_sw_shap_cor_means75, joint_sw_train_means75, joint_sw_test_means75 = get_repeated_kfold_cv_summary(joint_sw_shap75, joint_sw_shap_cor75, joint_sw_train_metrics75, joint_sw_test_metrics75)"
   ]
  },
  {
   "attachments": {},
   "cell_type": "markdown",
   "metadata": {},
   "source": [
    "50% of Data"
   ]
  },
  {
   "cell_type": "code",
   "execution_count": 25,
   "metadata": {},
   "outputs": [],
   "source": [
    "joint_model_std_within50 = ModelBuilder(dataset_names = [\"juries\", \"csop\", \"csopII\", \"becker\", \"gurcay\", \"dat\"], standardize_within= True, output_dir = '../output/first_50/')\n",
    "joint_model_std_within50.select_target(target=[\"majority_pct\", \"efficiency\", \"efficiency\", \"reverse_mean_post_discussion_error_pct\", \"reverse_mean_post_discussion_error_pct\", \"efficiency\"])\n",
    "joint_model_std_within50.define_model(model_type = 'rf')"
   ]
  },
  {
   "cell_type": "code",
   "execution_count": 26,
   "metadata": {},
   "outputs": [
    {
     "name": "stdout",
     "output_type": "stream",
     "text": [
      "Checking Holdout Sets...Creating Holdout Sets...\n",
      "Cleaning Up Columns...\n",
      "Done\n",
      "Training Model...Done\n",
      "Checking Holdout Sets...Creating Holdout Sets...\n",
      "Cleaning Up Columns...\n",
      "Done\n",
      "Training Model...Done\n",
      "Checking Holdout Sets...Creating Holdout Sets...\n",
      "Cleaning Up Columns...\n",
      "Done\n",
      "Training Model...Done\n",
      "Checking Holdout Sets...Creating Holdout Sets...\n",
      "Cleaning Up Columns...\n",
      "Done\n",
      "Training Model...Done\n",
      "Checking Holdout Sets...Creating Holdout Sets...\n",
      "Cleaning Up Columns...\n",
      "Done\n",
      "Training Model...Done\n",
      "Checking Holdout Sets...Creating Holdout Sets...\n",
      "Cleaning Up Columns...\n",
      "Done\n",
      "Training Model...Done\n",
      "Checking Holdout Sets...Creating Holdout Sets...\n",
      "Cleaning Up Columns...\n",
      "Done\n",
      "Training Model...Done\n",
      "Checking Holdout Sets...Creating Holdout Sets...\n",
      "Cleaning Up Columns...\n",
      "Done\n",
      "Training Model...Done\n",
      "Checking Holdout Sets...Creating Holdout Sets...\n",
      "Cleaning Up Columns...\n",
      "Done\n",
      "Training Model...Done\n",
      "Checking Holdout Sets...Creating Holdout Sets...\n",
      "Cleaning Up Columns...\n",
      "Done\n",
      "Training Model...Done\n"
     ]
    }
   ],
   "source": [
    "# Call the Repeated k-Fold CV\n",
    "joint_sw_shap50, joint_sw_shap_cor50, joint_sw_train_metrics50, joint_sw_test_metrics50 = repeated_kfold_cv(joint_model_std_within50)\n",
    "joint_sw_shap_means50, joint_sw_shap_cor_means50, joint_sw_train_means50, joint_sw_test_means50 = get_repeated_kfold_cv_summary(joint_sw_shap50, joint_sw_shap_cor50, joint_sw_train_metrics50, joint_sw_test_metrics50)"
   ]
  },
  {
   "attachments": {},
   "cell_type": "markdown",
   "metadata": {},
   "source": [
    "25% of Data"
   ]
  },
  {
   "cell_type": "code",
   "execution_count": 27,
   "metadata": {},
   "outputs": [],
   "source": [
    "joint_model_std_within25 = ModelBuilder(dataset_names = [\"juries\", \"csop\", \"csopII\", \"becker\", \"gurcay\", \"dat\"], standardize_within= True, output_dir = '../output/first_75/')\n",
    "joint_model_std_within25.select_target(target=[\"majority_pct\", \"efficiency\", \"efficiency\", \"reverse_mean_post_discussion_error_pct\", \"reverse_mean_post_discussion_error_pct\", \"efficiency\"])\n",
    "joint_model_std_within25.define_model(model_type = 'rf')"
   ]
  },
  {
   "cell_type": "code",
   "execution_count": 28,
   "metadata": {},
   "outputs": [
    {
     "name": "stdout",
     "output_type": "stream",
     "text": [
      "Checking Holdout Sets...Creating Holdout Sets...\n",
      "Cleaning Up Columns...\n",
      "Done\n",
      "Training Model...Done\n",
      "Checking Holdout Sets...Creating Holdout Sets...\n",
      "Cleaning Up Columns...\n",
      "Done\n",
      "Training Model...Done\n",
      "Checking Holdout Sets...Creating Holdout Sets...\n",
      "Cleaning Up Columns...\n",
      "Done\n",
      "Training Model...Done\n",
      "Checking Holdout Sets...Creating Holdout Sets...\n",
      "Cleaning Up Columns...\n",
      "Done\n",
      "Training Model...Done\n",
      "Checking Holdout Sets...Creating Holdout Sets...\n",
      "Cleaning Up Columns...\n",
      "Done\n",
      "Training Model...Done\n",
      "Checking Holdout Sets...Creating Holdout Sets...\n",
      "Cleaning Up Columns...\n",
      "Done\n",
      "Training Model...Done\n",
      "Checking Holdout Sets...Creating Holdout Sets...\n",
      "Cleaning Up Columns...\n",
      "Done\n",
      "Training Model...Done\n",
      "Checking Holdout Sets...Creating Holdout Sets...\n",
      "Cleaning Up Columns...\n",
      "Done\n",
      "Training Model...Done\n",
      "Checking Holdout Sets...Creating Holdout Sets...\n",
      "Cleaning Up Columns...\n",
      "Done\n",
      "Training Model...Done\n",
      "Checking Holdout Sets...Creating Holdout Sets...\n",
      "Cleaning Up Columns...\n",
      "Done\n",
      "Training Model...Done\n"
     ]
    }
   ],
   "source": [
    "# Call the Repeated k-Fold CV\n",
    "joint_sw_shap25, joint_sw_shap_cor25, joint_sw_train_metrics25, joint_sw_test_metrics25 = repeated_kfold_cv(joint_model_std_within25)\n",
    "joint_sw_shap_means25, joint_sw_shap_cor_means25, joint_sw_train_means25, joint_sw_test_means25 = get_repeated_kfold_cv_summary(joint_sw_shap25, joint_sw_shap_cor25, joint_sw_train_metrics25, joint_sw_test_metrics25)"
   ]
  },
  {
   "attachments": {},
   "cell_type": "markdown",
   "metadata": {},
   "source": [
    "Plot Top Feature Summary"
   ]
  },
  {
   "cell_type": "code",
   "execution_count": 38,
   "metadata": {},
   "outputs": [],
   "source": [
    "merged_df = pd.concat([joint_sw_shap_means25, joint_sw_shap_means50, joint_sw_shap_means75, joint_sw_shap_means], keys = time_points, axis=1)"
   ]
  },
  {
   "cell_type": "code",
   "execution_count": 39,
   "metadata": {},
   "outputs": [
    {
     "data": {
      "image/png": "[encoded data removed]",
      "text/plain": [
       "<Figure size 432x288 with 1 Axes>"
      ]
     },
     "metadata": {},
     "output_type": "display_data"
    }
   ],
   "source": [
    "plot_important_features_over_time(merged_df, color_mapping, \"Standardizing Features Within Each Task\", \"./figures/across_task_std_within_features.svg\")"
   ]
  },
  {
   "cell_type": "code",
   "execution_count": 31,
   "metadata": {},
   "outputs": [
    {
     "data": {
      "text/html": [
       "<div>\n",
       "<style scoped>\n",
       "    .dataframe tbody tr th:only-of-type {\n",
       "        vertical-align: middle;\n",
       "    }\n",
       "\n",
       "    .dataframe tbody tr th {\n",
       "        vertical-align: top;\n",
       "    }\n",
       "\n",
       "    .dataframe thead th {\n",
       "        text-align: right;\n",
       "    }\n",
       "</style>\n",
       "<table border=\"1\" class=\"dataframe\">\n",
       "  <thead>\n",
       "    <tr style=\"text-align: right;\">\n",
       "      <th></th>\n",
       "      <th>25%</th>\n",
       "      <th>50%</th>\n",
       "      <th>75%</th>\n",
       "      <th>100%</th>\n",
       "    </tr>\n",
       "    <tr>\n",
       "      <th>feature</th>\n",
       "      <th></th>\n",
       "      <th></th>\n",
       "      <th></th>\n",
       "      <th></th>\n",
       "    </tr>\n",
       "  </thead>\n",
       "  <tbody>\n",
       "    <tr>\n",
       "      <th>max_user_sum_auxiliary_verbs</th>\n",
       "      <td>-0.764418</td>\n",
       "      <td>-0.764841</td>\n",
       "      <td>-0.764418</td>\n",
       "      <td>-0.761878</td>\n",
       "    </tr>\n",
       "    <tr>\n",
       "      <th>average_user_sum_cognitive_mech</th>\n",
       "      <td>-0.760629</td>\n",
       "      <td>-0.763253</td>\n",
       "      <td>-0.760629</td>\n",
       "      <td>-0.768176</td>\n",
       "    </tr>\n",
       "    <tr>\n",
       "      <th>max_user_sum_verbs</th>\n",
       "      <td>-0.755254</td>\n",
       "      <td>-0.778875</td>\n",
       "      <td>-0.755254</td>\n",
       "      <td>-0.758727</td>\n",
       "    </tr>\n",
       "    <tr>\n",
       "      <th>average_user_sum_verbs</th>\n",
       "      <td>-0.794293</td>\n",
       "      <td>-0.805334</td>\n",
       "      <td>-0.794293</td>\n",
       "      <td>-0.810978</td>\n",
       "    </tr>\n",
       "    <tr>\n",
       "      <th>average_user_sum_dale_chall_score</th>\n",
       "      <td>-0.636688</td>\n",
       "      <td>-0.636032</td>\n",
       "      <td>-0.636688</td>\n",
       "      <td>-0.632976</td>\n",
       "    </tr>\n",
       "    <tr>\n",
       "      <th>max_user_sum_social</th>\n",
       "      <td>-0.674133</td>\n",
       "      <td>-0.646484</td>\n",
       "      <td>-0.674133</td>\n",
       "      <td>-0.609867</td>\n",
       "    </tr>\n",
       "    <tr>\n",
       "      <th>max_user_avg_cognitive_mech</th>\n",
       "      <td>-0.669991</td>\n",
       "      <td>-0.719004</td>\n",
       "      <td>-0.669991</td>\n",
       "      <td>-0.731361</td>\n",
       "    </tr>\n",
       "    <tr>\n",
       "      <th>average_user_sum_indefinite_pronoun</th>\n",
       "      <td>-0.772726</td>\n",
       "      <td>-0.817056</td>\n",
       "      <td>-0.772726</td>\n",
       "      <td>-0.784186</td>\n",
       "    </tr>\n",
       "    <tr>\n",
       "      <th>max_positive_affect</th>\n",
       "      <td>-0.277987</td>\n",
       "      <td>-0.290670</td>\n",
       "      <td>-0.277987</td>\n",
       "      <td>-0.391918</td>\n",
       "    </tr>\n",
       "    <tr>\n",
       "      <th>min_user_sum_positivity_zscore_chats</th>\n",
       "      <td>0.634312</td>\n",
       "      <td>0.668773</td>\n",
       "      <td>0.634312</td>\n",
       "      <td>0.670307</td>\n",
       "    </tr>\n",
       "  </tbody>\n",
       "</table>\n",
       "</div>"
      ],
      "text/plain": [
       "                                           25%       50%       75%      100%\n",
       "feature                                                                     \n",
       "max_user_sum_auxiliary_verbs         -0.764418 -0.764841 -0.764418 -0.761878\n",
       "average_user_sum_cognitive_mech      -0.760629 -0.763253 -0.760629 -0.768176\n",
       "max_user_sum_verbs                   -0.755254 -0.778875 -0.755254 -0.758727\n",
       "average_user_sum_verbs               -0.794293 -0.805334 -0.794293 -0.810978\n",
       "average_user_sum_dale_chall_score    -0.636688 -0.636032 -0.636688 -0.632976\n",
       "max_user_sum_social                  -0.674133 -0.646484 -0.674133 -0.609867\n",
       "max_user_avg_cognitive_mech          -0.669991 -0.719004 -0.669991 -0.731361\n",
       "average_user_sum_indefinite_pronoun  -0.772726 -0.817056 -0.772726 -0.784186\n",
       "max_positive_affect                  -0.277987 -0.290670 -0.277987 -0.391918\n",
       "min_user_sum_positivity_zscore_chats  0.634312  0.668773  0.634312  0.670307"
      ]
     },
     "execution_count": 31,
     "metadata": {},
     "output_type": "execute_result"
    }
   ],
   "source": [
    "# look at direction of impact\n",
    "pd.concat([joint_sw_shap_cor_means25, joint_sw_shap_cor_means50, joint_sw_shap_cor_means75, joint_sw_shap_cor_means], keys = time_points, axis=1).head(10)"
   ]
  },
  {
   "attachments": {},
   "cell_type": "markdown",
   "metadata": {},
   "source": [
    "## Performance Summary (Across and Within; Train and Validation)"
   ]
  },
  {
   "cell_type": "code",
   "execution_count": 42,
   "metadata": {},
   "outputs": [],
   "source": [
    "joint_btwn_metrics_train = pd.concat([joint_train_means25, joint_train_means50, joint_train_means75, joint_train_means], keys = time_points, axis=1) \n",
    "joint_within_metrics_train = pd.concat([joint_sw_train_means25, joint_sw_train_means50, joint_sw_train_means75, joint_sw_train_means], keys = time_points, axis=1)\n",
    "joint_btwn_metrics_test = pd.concat([joint_test_means25, joint_test_means50, joint_test_means75, joint_test_means], keys = time_points, axis=1) \n",
    "joint_within_metrics_test = pd.concat([joint_sw_test_means25, joint_sw_test_means50, joint_sw_test_means75, joint_sw_test_means], keys = time_points, axis=1)"
   ]
  },
  {
   "cell_type": "code",
   "execution_count": 43,
   "metadata": {},
   "outputs": [
    {
     "data": {
      "text/html": [
       "<div>\n",
       "<style scoped>\n",
       "    .dataframe tbody tr th:only-of-type {\n",
       "        vertical-align: middle;\n",
       "    }\n",
       "\n",
       "    .dataframe tbody tr th {\n",
       "        vertical-align: top;\n",
       "    }\n",
       "\n",
       "    .dataframe thead th {\n",
       "        text-align: right;\n",
       "    }\n",
       "</style>\n",
       "<table border=\"1\" class=\"dataframe\">\n",
       "  <thead>\n",
       "    <tr style=\"text-align: right;\">\n",
       "      <th></th>\n",
       "      <th>25%</th>\n",
       "      <th>50%</th>\n",
       "      <th>75%</th>\n",
       "      <th>100%</th>\n",
       "    </tr>\n",
       "  </thead>\n",
       "  <tbody>\n",
       "    <tr>\n",
       "      <th>r2</th>\n",
       "      <td>-0.02374</td>\n",
       "      <td>-0.02374</td>\n",
       "      <td>-0.11303</td>\n",
       "      <td>-0.11303</td>\n",
       "    </tr>\n",
       "    <tr>\n",
       "      <th>mae</th>\n",
       "      <td>0.76506</td>\n",
       "      <td>0.76506</td>\n",
       "      <td>0.78826</td>\n",
       "      <td>0.78826</td>\n",
       "    </tr>\n",
       "    <tr>\n",
       "      <th>mse</th>\n",
       "      <td>1.01527</td>\n",
       "      <td>1.01527</td>\n",
       "      <td>1.10308</td>\n",
       "      <td>1.10308</td>\n",
       "    </tr>\n",
       "    <tr>\n",
       "      <th>rmse</th>\n",
       "      <td>1.00635</td>\n",
       "      <td>1.00635</td>\n",
       "      <td>1.04832</td>\n",
       "      <td>1.04832</td>\n",
       "    </tr>\n",
       "  </tbody>\n",
       "</table>\n",
       "</div>"
      ],
      "text/plain": [
       "          25%      50%      75%     100%\n",
       "r2   -0.02374 -0.02374 -0.11303 -0.11303\n",
       "mae   0.76506  0.76506  0.78826  0.78826\n",
       "mse   1.01527  1.01527  1.10308  1.10308\n",
       "rmse  1.00635  1.00635  1.04832  1.04832"
      ]
     },
     "execution_count": 43,
     "metadata": {},
     "output_type": "execute_result"
    }
   ],
   "source": [
    "joint_btwn_metrics_test"
   ]
  },
  {
   "cell_type": "code",
   "execution_count": 34,
   "metadata": {},
   "outputs": [],
   "source": [
    "def plot_r2_without_broken_axis(datasets, dataset_names, title):\n",
    "    fig, ax = plt.subplots(figsize=(10, 6))\n",
    "\n",
    "    plt.style.use({\"figure.facecolor\": \"white\", \"axes.facecolor\": \"white\"})\n",
    "\n",
    "    # Define line styles and colors from Dark2 colormap\n",
    "    num_colors = len(dataset_names)\n",
    "    colors = mpl.cm.Set2(np.linspace(0, 1, num_colors))\n",
    "\n",
    "    # Plot datasets on the same y-axis\n",
    "    for i, dataset in enumerate(datasets):\n",
    "        dataset_name = dataset_names[i]\n",
    "        transposed_data = dataset.T\n",
    "\n",
    "        # Plot R^2 values for each dataset\n",
    "        ax.plot(time_points, transposed_data[\"r2\"], marker='o', label=dataset_name, color=colors[i], linewidth=3)\n",
    "        for x, y in zip(time_points, transposed_data[\"r2\"]):\n",
    "            ax.annotate(f'{y:.2f}', (x, y), textcoords=\"offset points\", xytext=(0,10), ha='center', fontsize=12)\n",
    "\n",
    "    # Adjust layout and labels\n",
    "    ax.tick_params(axis=\"both\", labelsize=16)  # Increase tick label size\n",
    "    ax.set_ylabel(\"R^2\", fontsize=16)\n",
    "    ax.set_xlabel(\"Percent of Chat Messages (Chronological)\", fontsize=16)\n",
    "\n",
    "    # Add legend to the right\n",
    "    lines, labels = ax.get_legend_handles_labels()\n",
    "    ax.legend(lines, labels, loc=\"upper left\", fontsize=14, bbox_to_anchor=(1, 1))\n",
    "\n",
    "    # Set y-axis range with a buffer\n",
    "    ax.set_ylim(-0.3, max(ax.get_ylim()) * 1.1)\n",
    "\n",
    "    # Adjust title position\n",
    "    plt.title(title, fontweight=\"bold\", fontsize=18)\n",
    "\n",
    "    # Adjust layout\n",
    "    plt.tight_layout()\n",
    "    plt.savefig('./figures/all_task_r2_graph.svg', dpi=1200, bbox_inches='tight')\n",
    "    plt.show()"
   ]
  },
  {
   "cell_type": "code",
   "execution_count": 40,
   "metadata": {},
   "outputs": [
    {
     "data": {
      "image/png": "[encoded data removed]",
      "text/plain": [
       "<Figure size 720x432 with 1 Axes>"
      ]
     },
     "metadata": {},
     "output_type": "display_data"
    }
   ],
   "source": [
    "datasets = [joint_btwn_metrics_train, joint_within_metrics_train, joint_btwn_metrics_test, joint_within_metrics_test]\n",
    "dataset_names = [\"Standardized Across-Task: Train\", \"Standardized Within-Task: Train\", \"Standardized Across-Task: Validation\", \"Standardized Within-Task: Validation\"]\n",
    "\n",
    "plot_r2_without_broken_axis(datasets, dataset_names, \"R^2 of All-Task Models Over Time\")"
   ]
  }
 ],
 "metadata": {
  "kernelspec": {
   "display_name": "team_process_map",
   "language": "python",
   "name": "python3"
  },
  "language_info": {
   "codemirror_mode": {
    "name": "ipython",
    "version": 3
   },
   "file_extension": ".py",
   "mimetype": "text/x-python",
   "name": "python",
   "nbconvert_exporter": "python",
   "pygments_lexer": "ipython3",
   "version": "3.9.16"
  },
  "orig_nbformat": 4,
  "vscode": {
   "interpreter": {
    "hash": "4308115ec36d55d4bd05e5164490d17bc30a5f7275b0a0d4f3922ff237a9eaea"
   }
  }
 },
 "nbformat": 4,
 "nbformat_minor": 2
}
