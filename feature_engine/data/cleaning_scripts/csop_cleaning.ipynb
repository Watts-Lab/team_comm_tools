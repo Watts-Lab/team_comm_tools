{
 "cells": [
  {
   "cell_type": "code",
   "execution_count": 19,
   "metadata": {},
   "outputs": [],
   "source": [
    "import numpy as np\n",
    "import pandas as pd\n",
    "import json\n",
    "import re\n",
    "import csv\n",
    "import ast"
   ]
  },
  {
   "cell_type": "code",
   "execution_count": 20,
   "id": "09ba4326",
   "metadata": {},
   "outputs": [],
   "source": [
    "csop_data_csv = pd.read_csv('../raw_data/main_csop_data.csv')"
   ]
  },
  {
   "cell_type": "code",
   "execution_count": 21,
   "id": "9a2b588a",
   "metadata": {},
   "outputs": [],
   "source": [
    "# filter to only groups\n",
    "csop_data_csv = csop_data_csv[csop_data_csv['group']==True]"
   ]
  },
  {
   "cell_type": "code",
   "execution_count": 22,
   "id": "08b0f30c",
   "metadata": {},
   "outputs": [],
   "source": [
    "# columns we want: game_id round_id, round_index, task_index, complexity, type, social_perceptiveness, skill, chat, normalized_score, zscore_score, zscore_round_duration, zscore_efficiency\n",
    "csop_data_key_cols = csop_data_csv[[\"game_id\", \"round_id\", \"round_index\", \"task_index\", \"complexity\", \"type\", \"social_perceptiveness\", \"skill\", \"chat\", \"normalized_score\", \"score\", \"round_duration\", \"efficiency\"]]"
   ]
  },
  {
   "cell_type": "code",
   "execution_count": 23,
   "id": "473010a3",
   "metadata": {},
   "outputs": [],
   "source": [
    "with open('../raw_data/csop_conversations_withblanks.csv', 'w', newline='') as csvfile:\n",
    "    # start writing the header of the CSV\n",
    "    fieldnames = [\"batch_num\", \"round_num\", \"round_index\", \"task_index\", \"complexity\", \"type\", \"social_perceptiveness\", \"skill\", \"speaker_nickname\", \"message\", \"normalized_score\", \"score\", \"duration\", \"efficiency\"]\n",
    "    writer = csv.DictWriter(csvfile, fieldnames=fieldnames)\n",
    "    writer.writeheader()\n",
    "\n",
    "    for index, row in csop_data_key_cols.iterrows():\n",
    "        chat_list = ast.literal_eval(row['chat'])\n",
    "        if(len(chat_list) > 0 ):\n",
    "            # filter such that we only look at people who actually said something\n",
    "            for chat in chat_list:\n",
    "                writer.writerow({'batch_num': row['game_id'], 'round_num': row['round_id'], 'round_index': row['round_index'], 'task_index': row['task_index'], 'complexity': row['complexity'], 'type': row['type'], 'social_perceptiveness': row['social_perceptiveness'], 'skill': row['skill'], 'message': chat['text'], 'speaker_nickname': chat['playerId'], 'normalized_score': row['normalized_score'], 'score': row['score'], 'duration': row['round_duration'], 'efficiency': row['efficiency']})\n",
    "        else: # no one said anything, so write a blank row\n",
    "            BLANK_SPEAKER = \"NULL_SPEAKER\"\n",
    "            writer.writerow({'batch_num': row['game_id'], 'round_num': row['round_id'], 'round_index': row['round_index'], 'task_index': row['task_index'], 'complexity': row['complexity'], 'type': row['type'], 'social_perceptiveness': row['social_perceptiveness'], 'skill': row['skill'], 'message': \"\", 'speaker_nickname': BLANK_SPEAKER, 'normalized_score': row['normalized_score'], 'score': row['score'], 'duration': row['round_duration'], 'efficiency': row['efficiency']})"
   ]
  }
 ],
 "metadata": {
  "kernelspec": {
   "display_name": "Python 3.9.5 64-bit",
   "language": "python",
   "name": "python3"
  },
  "language_info": {
   "codemirror_mode": {
    "name": "ipython",
    "version": 3
   },
   "file_extension": ".py",
   "mimetype": "text/x-python",
   "name": "python",
   "nbconvert_exporter": "python",
   "pygments_lexer": "ipython3",
   "version": "3.11.3"
  },
  "vscode": {
   "interpreter": {
    "hash": "7812ea015bdcee6f23a998adcdd2ef97c151c0c241b7b7070987d9313e41299d"
   }
  }
 },
 "nbformat": 4,
 "nbformat_minor": 5
}
