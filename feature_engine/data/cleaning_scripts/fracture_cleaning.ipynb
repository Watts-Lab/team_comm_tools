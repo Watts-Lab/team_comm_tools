{
 "cells": [
  {
   "cell_type": "code",
   "execution_count": 35,
   "metadata": {},
   "outputs": [],
   "source": [
    "import numpy as np\n",
    "import pandas\n",
    "import json\n",
    "import re\n",
    "import csv"
   ]
  },
  {
   "cell_type": "code",
   "execution_count": 36,
   "id": "09ba4326",
   "metadata": {},
   "outputs": [],
   "source": [
    "with open('../raw_data/fracture_data_raw.json.txt', 'r') as datafile:\n",
    "    data=datafile.read()"
   ]
  },
  {
   "cell_type": "code",
   "execution_count": 37,
   "id": "941b6b92",
   "metadata": {},
   "outputs": [],
   "source": [
    "json_object_list = re.findall('{\"_id\":.*}', data)"
   ]
  },
  {
   "cell_type": "code",
   "execution_count": 38,
   "id": "e2573ff3",
   "metadata": {},
   "outputs": [],
   "source": [
    "with open('../raw_data/fracture_conversations.csv', 'w', newline='') as csvfile:\n",
    "    # start writing the header of the CSV\n",
    "    fieldnames = ['conversation_num', 'task_type', 'speaker_name', 'timestamp', 'message', 'fracture']\n",
    "    writer = csv.DictWriter(csvfile, fieldnames=fieldnames)\n",
    "    writer.writeheader()\n",
    "\n",
    "    # clean up the data\n",
    "    for chat in json_object_list:\n",
    "        chat_json = json.loads(chat)\n",
    "        fracture = None\n",
    "        try:\n",
    "            fracture = chat_json['fracture']\n",
    "        except KeyError:\n",
    "            continue # we don't want anything that doesn't have a DV\n",
    "\n",
    "        task_type = chat_json['taskType'].replace('cognative', 'cognitive')\n",
    "        messages = chat_json['messages']\n",
    "        for message in messages:\n",
    "            writer.writerow({'conversation_num': chat_json['_id']['$oid'], 'task_type': task_type, 'speaker_name': message['user'], 'timestamp': message['time'], 'message': message['message'], 'fracture': fracture})"
   ]
  }
 ],
 "metadata": {
  "kernelspec": {
   "display_name": "Python 3.9.5 64-bit",
   "language": "python",
   "name": "python3"
  },
  "language_info": {
   "codemirror_mode": {
    "name": "ipython",
    "version": 3
   },
   "file_extension": ".py",
   "mimetype": "text/x-python",
   "name": "python",
   "nbconvert_exporter": "python",
   "pygments_lexer": "ipython3",
   "version": "3.9.5"
  },
  "vscode": {
   "interpreter": {
    "hash": "7812ea015bdcee6f23a998adcdd2ef97c151c0c241b7b7070987d9313e41299d"
   }
  }
 },
 "nbformat": 4,
 "nbformat_minor": 5
}
