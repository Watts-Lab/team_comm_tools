{
 "cells": [
  {
   "cell_type": "code",
   "execution_count": 3,
   "metadata": {},
   "outputs": [],
   "source": [
    "import numpy as np\n",
    "import pandas as pd\n",
    "import json\n",
    "import re\n",
    "import csv\n",
    "import ast"
   ]
  },
  {
   "cell_type": "code",
   "execution_count": 4,
   "id": "09ba4326",
   "metadata": {},
   "outputs": [],
   "source": [
    "# read in the jsonl file\n",
    "with open('../raw_data/test_negotiations_data.jsonl', 'r') as json_file:\n",
    "    negotiations_json_list = list(json_file)"
   ]
  },
  {
   "cell_type": "code",
   "execution_count": 19,
   "id": "0a167cb7",
   "metadata": {},
   "outputs": [
    {
     "name": "stdout",
     "output_type": "stream",
     "text": [
      "{'prompt_projects/3-way-negotiation/07_SVI_q01.md_stage_4': {'name': 'projects/3-way-negotiation/07_SVI_q01.md', 'type': 'multipleChoice', 'author': 'Xinlan Emily Hu (based on the SVI by Curhan et al. 2005 - https://papers.ssrn.com/sol3/papers.cfm?abstract_id=726205)', 'modified': 'August 22, 2023', 'step': 'stage_4', 'value': '6'}}\n",
      "{'survey_Demographics_exit_undefined': {'surveySource': '@watts-lab/surveys', 'version': '1.8.12', 'surveySha': '00fa3f25c5ad64eec5f82cb1fa87124c36e02e7c', 'scoreSha': 'ba0f44e4945160b5327df9edc7bd5f840443f951', 'surveyName': 'demographics', 'responses': {'birth_year': '1970', 'language_primary': 'Chinese', 'english_written': 4, 'english_spoken': 5, 'country_reside': 'United States'}, 'result': {}, 'secondsElapsed': 0, 'playerId': '01H8HEJT1YXZMNZP0M446TS7X7', 'step': 'exit_undefined'}}\n",
      "{'Main Discussion': [{'text': 'Hey guys!', 'sender': {'id': '01H8HEJT1YXZMNZP0M446TS7X7', 'name': 'I'}}, {'text': 'Hi everyone!', 'sender': {'id': '01H8HEJ55AFY9VBJYY0KPNDTK9', 'name': 'Me'}}, {'text': 'Hey there', 'sender': {'id': '01H8HEJC8KA1P3PBXMDXT5K6FW', 'name': 'Myself'}}, {'text': \"So I represent organization A, and it's pretty clear that I'm bringing the most to the table --- if you guys make a deal without me you'd only get 50 between the two of you\", 'sender': {'id': '01H8HEJT1YXZMNZP0M446TS7X7', 'name': 'I'}}, {'text': 'Honestly A how about we just make a deal for the 118 and split it without C lol', 'sender': {'id': '01H8HEJ55AFY9VBJYY0KPNDTK9', 'name': 'Me'}}, {'text': 'Wait hold on', 'sender': {'id': '01H8HEJC8KA1P3PBXMDXT5K6FW', 'name': 'Myself'}}, {'text': \"You can't just leave me out in the cold like that\", 'sender': {'id': '01H8HEJC8KA1P3PBXMDXT5K6FW', 'name': 'Myself'}}, {'text': 'Why not? You only contribute like 3 points lol', 'sender': {'id': '01H8HEJT1YXZMNZP0M446TS7X7', 'name': 'I'}}, {'text': \"Wait A we're splitting the 118 evenly right\", 'sender': {'id': '01H8HEJ55AFY9VBJYY0KPNDTK9', 'name': 'Me'}}, {'text': 'What? no way', 'sender': {'id': '01H8HEJT1YXZMNZP0M446TS7X7', 'name': 'I'}}]}\n"
     ]
    }
   ],
   "source": [
    "# save the deliberations we have so far\n",
    "batchIds = []\n",
    "\n",
    "for item in negotiations_json_list:\n",
    "    convo_dict = ast.literal_eval(item)\n",
    "\n",
    "    if convo_dict['batchId'] not in batchIds: # only process batches once (TODO - need to resolve the fact that surveys are split up)\n",
    "        batchIds.append(convo_dict['batchId'])\n",
    "    else:\n",
    "        continue\n",
    "\n",
    "    #print(convo_dict.keys())\n",
    "    # Deal Sheets + SVI are in prompts\n",
    "    print(convo_dict['prompts']) # NOTE --- there are 3 user objects, and surveys are localized to each one\n",
    "    # Demographics are in Surveys\n",
    "    print(convo_dict['surveys']) # NOTE --- there are 3 user objects, and surveys are localized to each one'\n",
    "    # All text chats are the same per user\n",
    "    print(convo_dict['textChats'])\n",
    "\n",
    "    with open('../raw_data/negotiation_test_data.csv', 'w', newline='') as csvfile:\n",
    "\n",
    "        # TODO -- add deal sheet and SVI to the data!!\n",
    "        fieldnames = [\"conversation_num\", \"message\",  \"timestamp\", \"speaker_nickname\"]\n",
    "        writer = csv.DictWriter(csvfile, fieldnames=fieldnames)\n",
    "        writer.writeheader()\n",
    "\n",
    "        chat_list = convo_dict['textChats']['Main Discussion']\n",
    "\n",
    "        for chat in chat_list:\n",
    "            writer.writerow({'conversation_num': convo_dict['batchId'], \"message\": chat['text'], \"speaker_nickname\": chat['sender']['id']})    \n",
    "        \n",
    "        # TODO --- figure out how to handle cases of blank chats\n",
    "        # else: # no one said anything, so write a blank row\n",
    "        #     BLANK_SPEAKER = \"NULL_SPEAKER\"\n",
    "        #     writer.writerow({'conversation_num': row['gameId'], \"treatmentName\" : row[\"treatmentName\"], \"punishmentCost\": row[\"punishmentCost\"], \"punishmentMagnitude\": row[\"punishmentMagnitude\"], \"total_costs\": row[\"total_costs\"], \"total_penalties\": row[\"total_penalties\"], \"total_rewards\": row[\"total_rewards\"], \"multiplier\": row[\"multiplier\"], \"punishmentExists\": row[\"punishmentExists\"], \"rewardExists\": row[\"rewardExists\"], \"playerCount\": row[\"playerCount\"], \"numRounds\": row[\"numRounds\"], \"message\": \"\", \"timestamp\": 0, \"speaker_nickname\": BLANK_SPEAKER, \"score\": row[\"total_coin_gen\"]/row[\"max_coin_gen\"]})\n"
   ]
  }
 ],
 "metadata": {
  "kernelspec": {
   "display_name": "Python 3.9.5 64-bit",
   "language": "python",
   "name": "python3"
  },
  "language_info": {
   "codemirror_mode": {
    "name": "ipython",
    "version": 3
   },
   "file_extension": ".py",
   "mimetype": "text/x-python",
   "name": "python",
   "nbconvert_exporter": "python",
   "pygments_lexer": "ipython3",
   "version": "3.11.3"
  },
  "vscode": {
   "interpreter": {
    "hash": "7812ea015bdcee6f23a998adcdd2ef97c151c0c241b7b7070987d9313e41299d"
   }
  }
 },
 "nbformat": 4,
 "nbformat_minor": 5
}
