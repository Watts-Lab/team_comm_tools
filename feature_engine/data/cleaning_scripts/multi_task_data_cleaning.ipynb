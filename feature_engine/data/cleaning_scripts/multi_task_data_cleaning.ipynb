{
 "cells": [
  {
   "cell_type": "code",
   "execution_count": 166,
   "metadata": {},
   "outputs": [],
   "source": [
    "import numpy as np\n",
    "import pandas as pd\n",
    "import json\n",
    "import re\n",
    "import csv\n",
    "import ast"
   ]
  },
  {
   "cell_type": "code",
   "execution_count": 167,
   "id": "09ba4326",
   "metadata": {},
   "outputs": [],
   "source": [
    "multi_task_data = pd.read_csv('../raw_data/multi_task_data_with_dv_by_rounds.csv')"
   ]
  },
  {
   "cell_type": "code",
   "execution_count": 168,
   "id": "2fbc33df",
   "metadata": {},
   "outputs": [],
   "source": [
    "multi_task_dv = multi_task_data[[\"stageIds\", \"task\", \"complexity\", \"playerCount\", \"score\", \"speed\", \"efficiency\", \"raw_duration_min\", \"default_duration_min\"]]"
   ]
  },
  {
   "cell_type": "code",
   "execution_count": 169,
   "id": "b422e132",
   "metadata": {},
   "outputs": [],
   "source": [
    "multi_task_dv = multi_task_dv.rename(columns = {\"stageIds\": \"stageId\"})"
   ]
  },
  {
   "cell_type": "code",
   "execution_count": 170,
   "id": "42af9e1c",
   "metadata": {},
   "outputs": [
    {
     "data": {
      "text/html": [
       "<div>\n",
       "<style scoped>\n",
       "    .dataframe tbody tr th:only-of-type {\n",
       "        vertical-align: middle;\n",
       "    }\n",
       "\n",
       "    .dataframe tbody tr th {\n",
       "        vertical-align: top;\n",
       "    }\n",
       "\n",
       "    .dataframe thead th {\n",
       "        text-align: right;\n",
       "    }\n",
       "</style>\n",
       "<table border=\"1\" class=\"dataframe\">\n",
       "  <thead>\n",
       "    <tr style=\"text-align: right;\">\n",
       "      <th></th>\n",
       "      <th>stageId</th>\n",
       "      <th>task</th>\n",
       "      <th>complexity</th>\n",
       "      <th>playerCount</th>\n",
       "      <th>score</th>\n",
       "      <th>speed</th>\n",
       "      <th>efficiency</th>\n",
       "      <th>raw_duration_min</th>\n",
       "      <th>default_duration_min</th>\n",
       "    </tr>\n",
       "  </thead>\n",
       "  <tbody>\n",
       "    <tr>\n",
       "      <th>0</th>\n",
       "      <td>wTtnYPymbumNdGkqS</td>\n",
       "      <td>Moral Reasoning</td>\n",
       "      <td>Low</td>\n",
       "      <td>3</td>\n",
       "      <td>0.0</td>\n",
       "      <td>38.276872</td>\n",
       "      <td>0.000000</td>\n",
       "      <td>3.086167</td>\n",
       "      <td>5</td>\n",
       "    </tr>\n",
       "    <tr>\n",
       "      <th>1</th>\n",
       "      <td>jKvQoGxqtb4JZ2q9o</td>\n",
       "      <td>Moral Reasoning</td>\n",
       "      <td>Medium</td>\n",
       "      <td>3</td>\n",
       "      <td>0.0</td>\n",
       "      <td>57.929140</td>\n",
       "      <td>0.000000</td>\n",
       "      <td>2.103550</td>\n",
       "      <td>5</td>\n",
       "    </tr>\n",
       "    <tr>\n",
       "      <th>2</th>\n",
       "      <td>8eDYCY8W9uCGCbg8K</td>\n",
       "      <td>Moral Reasoning</td>\n",
       "      <td>High</td>\n",
       "      <td>3</td>\n",
       "      <td>0.0</td>\n",
       "      <td>66.676111</td>\n",
       "      <td>0.000000</td>\n",
       "      <td>1.666200</td>\n",
       "      <td>5</td>\n",
       "    </tr>\n",
       "    <tr>\n",
       "      <th>3</th>\n",
       "      <td>7HwXhDZAbBbjimTma</td>\n",
       "      <td>Room Assignment</td>\n",
       "      <td>Low</td>\n",
       "      <td>3</td>\n",
       "      <td>86.0</td>\n",
       "      <td>40.481865</td>\n",
       "      <td>3481.440395</td>\n",
       "      <td>2.975917</td>\n",
       "      <td>5</td>\n",
       "    </tr>\n",
       "    <tr>\n",
       "      <th>4</th>\n",
       "      <td>DPMTfdfK7TNBMQzr6</td>\n",
       "      <td>Room Assignment</td>\n",
       "      <td>Medium</td>\n",
       "      <td>3</td>\n",
       "      <td>91.0</td>\n",
       "      <td>0.168333</td>\n",
       "      <td>15.318282</td>\n",
       "      <td>4.991600</td>\n",
       "      <td>5</td>\n",
       "    </tr>\n",
       "    <tr>\n",
       "      <th>...</th>\n",
       "      <td>...</td>\n",
       "      <td>...</td>\n",
       "      <td>...</td>\n",
       "      <td>...</td>\n",
       "      <td>...</td>\n",
       "      <td>...</td>\n",
       "      <td>...</td>\n",
       "      <td>...</td>\n",
       "      <td>...</td>\n",
       "    </tr>\n",
       "    <tr>\n",
       "      <th>1390</th>\n",
       "      <td>y5BnQMBzyuqYPi4Cx</td>\n",
       "      <td>Wolf Goat Cabbage</td>\n",
       "      <td>High</td>\n",
       "      <td>3</td>\n",
       "      <td>60.0</td>\n",
       "      <td>17.278609</td>\n",
       "      <td>1036.716544</td>\n",
       "      <td>4.136083</td>\n",
       "      <td>5</td>\n",
       "    </tr>\n",
       "    <tr>\n",
       "      <th>1391</th>\n",
       "      <td>yZEpzgxumLFMEaY4T</td>\n",
       "      <td>Wolf Goat Cabbage</td>\n",
       "      <td>Low</td>\n",
       "      <td>3</td>\n",
       "      <td>0.0</td>\n",
       "      <td>15.752281</td>\n",
       "      <td>0.000000</td>\n",
       "      <td>4.212400</td>\n",
       "      <td>5</td>\n",
       "    </tr>\n",
       "    <tr>\n",
       "      <th>1392</th>\n",
       "      <td>J7aBjR8d5BkdReojo</td>\n",
       "      <td>Allocating Resources</td>\n",
       "      <td>Medium</td>\n",
       "      <td>3</td>\n",
       "      <td>100.0</td>\n",
       "      <td>0.000556</td>\n",
       "      <td>0.055555</td>\n",
       "      <td>3.019517</td>\n",
       "      <td>3</td>\n",
       "    </tr>\n",
       "    <tr>\n",
       "      <th>1393</th>\n",
       "      <td>4xfgW4gtPoBK6yrKS</td>\n",
       "      <td>Allocating Resources</td>\n",
       "      <td>High</td>\n",
       "      <td>3</td>\n",
       "      <td>50.0</td>\n",
       "      <td>77.660124</td>\n",
       "      <td>3883.006206</td>\n",
       "      <td>0.670200</td>\n",
       "      <td>3</td>\n",
       "    </tr>\n",
       "    <tr>\n",
       "      <th>1394</th>\n",
       "      <td>yEZuv2byAmcfaLdEL</td>\n",
       "      <td>Allocating Resources</td>\n",
       "      <td>Low</td>\n",
       "      <td>3</td>\n",
       "      <td>100.0</td>\n",
       "      <td>55.753024</td>\n",
       "      <td>5575.302359</td>\n",
       "      <td>1.327417</td>\n",
       "      <td>3</td>\n",
       "    </tr>\n",
       "  </tbody>\n",
       "</table>\n",
       "<p>1395 rows × 9 columns</p>\n",
       "</div>"
      ],
      "text/plain": [
       "                stageId                  task complexity  playerCount  score   \n",
       "0     wTtnYPymbumNdGkqS       Moral Reasoning        Low            3    0.0  \\\n",
       "1     jKvQoGxqtb4JZ2q9o       Moral Reasoning     Medium            3    0.0   \n",
       "2     8eDYCY8W9uCGCbg8K       Moral Reasoning       High            3    0.0   \n",
       "3     7HwXhDZAbBbjimTma       Room Assignment        Low            3   86.0   \n",
       "4     DPMTfdfK7TNBMQzr6       Room Assignment     Medium            3   91.0   \n",
       "...                 ...                   ...        ...          ...    ...   \n",
       "1390  y5BnQMBzyuqYPi4Cx     Wolf Goat Cabbage       High            3   60.0   \n",
       "1391  yZEpzgxumLFMEaY4T     Wolf Goat Cabbage        Low            3    0.0   \n",
       "1392  J7aBjR8d5BkdReojo  Allocating Resources     Medium            3  100.0   \n",
       "1393  4xfgW4gtPoBK6yrKS  Allocating Resources       High            3   50.0   \n",
       "1394  yEZuv2byAmcfaLdEL  Allocating Resources        Low            3  100.0   \n",
       "\n",
       "          speed   efficiency  raw_duration_min  default_duration_min  \n",
       "0     38.276872     0.000000          3.086167                     5  \n",
       "1     57.929140     0.000000          2.103550                     5  \n",
       "2     66.676111     0.000000          1.666200                     5  \n",
       "3     40.481865  3481.440395          2.975917                     5  \n",
       "4      0.168333    15.318282          4.991600                     5  \n",
       "...         ...          ...               ...                   ...  \n",
       "1390  17.278609  1036.716544          4.136083                     5  \n",
       "1391  15.752281     0.000000          4.212400                     5  \n",
       "1392   0.000556     0.055555          3.019517                     3  \n",
       "1393  77.660124  3883.006206          0.670200                     3  \n",
       "1394  55.753024  5575.302359          1.327417                     3  \n",
       "\n",
       "[1395 rows x 9 columns]"
      ]
     },
     "execution_count": 170,
     "metadata": {},
     "output_type": "execute_result"
    }
   ],
   "source": [
    "multi_task_dv"
   ]
  },
  {
   "cell_type": "code",
   "execution_count": 171,
   "id": "22a72b9d",
   "metadata": {},
   "outputs": [],
   "source": [
    "'''\n",
    "Build a dictionary that allows us to look up the stages from the gameId\n",
    "key: gameId\n",
    "  value:\n",
    "    { key: task\n",
    "        value:{\n",
    "            key: \"low\"\n",
    "            value: stageId for low, \n",
    "\n",
    "            key: \"med\"\n",
    "            value: stageId for low, \n",
    "\n",
    "            key: \"high\"\n",
    "            value: stageId for low, \n",
    "        }\n",
    "    }\n",
    "'''\n",
    "game_id_lookup = {}\n",
    "\n",
    "for index, row in multi_task_data.iterrows():\n",
    "    cur_gameid = row['gameId']\n",
    "    if cur_gameid not in game_id_lookup.keys():\n",
    "        # add it\n",
    "        game_id_lookup.update({cur_gameid: {}})\n",
    "\n",
    "    # get current task, stageId, and complexity\n",
    "    task = row[\"task\"]\n",
    "    stageId = row[\"stageIds\"]\n",
    "    complexity = row[\"complexity\"]\n",
    "\n",
    "    # ensure current task is updated in dict:\n",
    "    if task not in game_id_lookup[cur_gameid].keys():\n",
    "        # add it\n",
    "        game_id_lookup[cur_gameid].update({task: {}})\n",
    "\n",
    "    # update the dictionary\n",
    "    game_id_lookup[cur_gameid][task].update({complexity: stageId})"
   ]
  },
  {
   "cell_type": "code",
   "execution_count": 172,
   "id": "c18a6179",
   "metadata": {},
   "outputs": [
    {
     "data": {
      "text/plain": [
       "{'Moral Reasoning': {'Low': 'wTtnYPymbumNdGkqS',\n",
       "  'Medium': 'jKvQoGxqtb4JZ2q9o',\n",
       "  'High': '8eDYCY8W9uCGCbg8K'},\n",
       " 'Room Assignment': {'Low': '7HwXhDZAbBbjimTma',\n",
       "  'Medium': 'DPMTfdfK7TNBMQzr6',\n",
       "  'High': 'tziywZNRtREfFkNnn'},\n",
       " 'Sudoku': {'Low': 'QrbemxQDvBjTvqGqw',\n",
       "  'Medium': 'XvAo5Yfpy6u3ZPqjJ',\n",
       "  'High': 'vkmBiBwZQ8G9HKXex'},\n",
       " 'Guess the Correlation': {'Low': 'CsPJ8XWYNBk6pXGY5',\n",
       "  'Medium': 'N7zAttJGJCZF5ejCf',\n",
       "  'High': 'HFbCmmSfbAzFnSF4m'}}"
      ]
     },
     "execution_count": 172,
     "metadata": {},
     "output_type": "execute_result"
    }
   ],
   "source": [
    "game_id_lookup['9qn6LAzd4Fs9nf2KD']"
   ]
  },
  {
   "cell_type": "code",
   "execution_count": 173,
   "id": "49050fb3",
   "metadata": {},
   "outputs": [
    {
     "name": "stderr",
     "output_type": "stream",
     "text": [
      "/var/folders/gy/yd7v599s1qd49r7p_bgk88lr0000gn/T/ipykernel_7216/2616241572.py:1: DtypeWarning: Columns (2,3,4,9,10,11,13,14,15,21,26,28,33,34,39,40,41,42,55,56,57,58,59,60,61,62,63,64,65,66,67,68,69,70,71,72,77,83,84,85,87,88,89,91,95,97,99,100,101,102,103,104,105,106,109,110,111,115,117,120,122,123,131,132,133,134,137,138,139,140,141,142,143,144,145,146,148,160) have mixed types. Specify dtype option on import or set low_memory=False.\n",
      "  multi_task_stages = pd.read_csv('../raw_data/multi_task_stages.csv')\n"
     ]
    }
   ],
   "source": [
    "multi_task_stages = pd.read_csv('../raw_data/multi_task_stages.csv')"
   ]
  },
  {
   "cell_type": "code",
   "execution_count": 174,
   "id": "2dd45890",
   "metadata": {},
   "outputs": [
    {
     "data": {
      "text/plain": [
       "'2023-04-10T15:48:47Z'"
      ]
     },
     "execution_count": 174,
     "metadata": {},
     "output_type": "execute_result"
    }
   ],
   "source": [
    "multi_task_stages[multi_task_stages[\"_id\"]==\"wTtnYPymbumNdGkqS\"][\"startTimeAt\"].unique()[0]"
   ]
  },
  {
   "cell_type": "code",
   "execution_count": 175,
   "id": "3d11e36b",
   "metadata": {},
   "outputs": [],
   "source": [
    "with open('../raw_data/multi_task_conversations.csv', 'w', newline='') as csvfile:\n",
    "    # start writing the header of the CSV\n",
    "    fieldnames = [\"conversation_num\", \"stageId\", \"gameId\", \"message\", \"speaker_nickname\", \"timestamp\"]\n",
    "    writer = csv.DictWriter(csvfile, fieldnames=fieldnames)\n",
    "    writer.writeheader()\n",
    "\n",
    "    for index, row in multi_task_data.iterrows():\n",
    "        chat = \"[\" + row['data.A'] + \"]\" # convert messages to a list of dict objects\n",
    "        chat_list = eval(chat)\n",
    "        \n",
    "        # Declare variables to store the Low/Med/High complexity chats\n",
    "        task = row[\"task\"]\n",
    "        game_id = row[\"gameId\"]\n",
    "\n",
    "        try:\n",
    "            low_id = game_id_lookup[game_id][task][\"Low\"]\n",
    "            LOW_START = multi_task_stages[multi_task_stages[\"_id\"]==low_id][\"startTimeAt\"].unique()[0]\n",
    "        except KeyError:\n",
    "            # low ID doesn't exist\n",
    "            low_id = None\n",
    "\n",
    "        try: \n",
    "            med_id = game_id_lookup[game_id][task][\"Medium\"]\n",
    "            MED_START = multi_task_stages[multi_task_stages[\"_id\"]==med_id][\"startTimeAt\"].unique()[0]\n",
    "        except KeyError:\n",
    "            # med ID doesn't exist\n",
    "            med_id = None\n",
    "\n",
    "        try:\n",
    "            hi_id = game_id_lookup[game_id][task][\"High\"]\n",
    "            HI_START = multi_task_stages[multi_task_stages[\"_id\"]==hi_id][\"startTimeAt\"].unique()[0]\n",
    "        except KeyError:\n",
    "            # high ID doesn't exist\n",
    "            hi_id = None\n",
    "\n",
    "\n",
    "        for chat in chat_list:\n",
    "            text = chat['text']\n",
    "            speaker = chat['player']['_id']\n",
    "            timestamp = chat['timeStamp']\n",
    "\n",
    "            # Split the chat up based on whether people were working on the low, medium, or high-complexity task\n",
    "            # if this is low\n",
    "            if med_id:\n",
    "                if timestamp < MED_START:\n",
    "                    num = game_id + \"_\" + task + \"_LOW\"\n",
    "                    stageId = low_id\n",
    "                if(hi_id and med_id): # if hi exists\n",
    "                    # if this is med\n",
    "                    if timestamp >= MED_START and timestamp < HI_START:\n",
    "                        num = game_id + \"_\" + task + \"_MEDIUM\"\n",
    "                        stageId = med_id\n",
    "                    # if this is high\n",
    "                    elif timestamp > HI_START:\n",
    "                        num = game_id + \"_\" + task + \"_HIGH\"\n",
    "                        stageId = hi_id\n",
    "                elif(med_id): #only med exists\n",
    "                    num = game_id + \"_\" + task + \"_MED\"\n",
    "                    stageId = med_id\n",
    "                elif(hi_id): #only hi exists\n",
    "                    num = game_id + \"_\" + task + \"_HIGH\"\n",
    "                    stageId = hi_id\n",
    "                else: #only lo exists\n",
    "                    num = game_id + \"_\" + task + \"_LOW\"\n",
    "                    stageId = low_id\n",
    "                \n",
    "                # build the chat object\n",
    "                chat_obj = {'conversation_num': num, 'stageId':stageId, 'gameId':game_id, 'message': text, 'speaker_nickname': speaker, 'timestamp': timestamp}\n",
    "\n",
    "            # Write the row\n",
    "            writer.writerow(chat_obj)\n",
    "\n",
    "# Remove duplicate rows\n",
    "conversations_raw = pd.read_csv('../raw_data/multi_task_conversations.csv').drop_duplicates(ignore_index=True)\n",
    "conversations_raw.to_csv('../raw_data/multi_task_conversations.csv')"
   ]
  },
  {
   "cell_type": "code",
   "execution_count": 176,
   "id": "d5d4690e",
   "metadata": {},
   "outputs": [],
   "source": [
    "conversations_raw = pd.read_csv('../raw_data/multi_task_conversations.csv')"
   ]
  },
  {
   "cell_type": "markdown",
   "id": "9d86f713",
   "metadata": {},
   "source": [
    "This generates the chat conversations alongside the dependent variables"
   ]
  },
  {
   "cell_type": "code",
   "execution_count": 196,
   "id": "eb79b98d",
   "metadata": {},
   "outputs": [],
   "source": [
    "conversations_with_dv = conversations_raw.merge(multi_task_dv, on=\"stageId\", how=\"left\")\n",
    "\n",
    "conversations_with_dv.to_csv('../raw_data/multi_task_conversations_with_dv.csv')"
   ]
  },
  {
   "cell_type": "markdown",
   "id": "487f27b9",
   "metadata": {},
   "source": [
    "Add in user/composition information"
   ]
  },
  {
   "cell_type": "code",
   "execution_count": 178,
   "id": "dea1a91f",
   "metadata": {},
   "outputs": [],
   "source": [
    "user_info = pd.read_csv('../raw_data/results_by_user_detailed.csv').rename(columns = {\"stageIds\": \"stageId\"})"
   ]
  },
  {
   "cell_type": "markdown",
   "id": "9e285a4c",
   "metadata": {},
   "source": [
    "Summary Statistics\n",
    "\n",
    "Numeric: \n",
    "- 'birth_year', 'CRT', 'income_max', 'income_min', 'IRCS_GS', 'IRCS_GV', 'IRCS_IB', 'IRCS_IR', 'IRCS_IV', 'IRCS_RS', 'political_fiscal', 'political_social', 'RME'\n",
    "\n",
    "Non-Numeric (recoded manually):\n",
    "- 'country', 'education_level', 'gender', 'marital_status', 'political_party', 'race'"
   ]
  },
  {
   "cell_type": "code",
   "execution_count": 179,
   "id": "a69763c3",
   "metadata": {},
   "outputs": [],
   "source": [
    "threshold = 0.8  # 80% threshold\n",
    "user_info = user_info.dropna(axis=1, thresh=int(threshold * len(user_info)))"
   ]
  },
  {
   "cell_type": "markdown",
   "id": "20b55625",
   "metadata": {},
   "source": [
    "Recode everything into numeric:\n",
    "- Country: 1 if US, 0 otherwise\n",
    "- Education: ordinal variable (-1 if NA)\n",
    "- Gender: 0 if Male, 1 if Female, 2 if other, -1 if NA\n",
    "- Marital Status: ordinal variable (-1 if NA)\n",
    "- Political party: ordinal variable (-1 if NA)\n",
    "- Race: 1 if White, 0 otherwise"
   ]
  },
  {
   "cell_type": "code",
   "execution_count": 180,
   "id": "3e5061d2",
   "metadata": {},
   "outputs": [],
   "source": [
    "user_info.loc[:, 'country'] = (user_info['country'] == 'United States').astype(int)"
   ]
  },
  {
   "cell_type": "code",
   "execution_count": 181,
   "id": "4a006ae5",
   "metadata": {},
   "outputs": [],
   "source": [
    "education_order = [\n",
    "    'Less than a high school diploma',\n",
    "    'High school diploma',\n",
    "    'Some college or vocational training',\n",
    "    '2-year college degree',\n",
    "    '4-year college degree',\n",
    "    'Post-college degree'\n",
    "]\n",
    "user_info['education_level'] = pd.Categorical(user_info['education_level'], categories=education_order, ordered=True)\n",
    "user_info['education_level_numeric'] = user_info['education_level'].cat.codes"
   ]
  },
  {
   "cell_type": "code",
   "execution_count": 182,
   "id": "73fe8ed1",
   "metadata": {},
   "outputs": [],
   "source": [
    "gender_order = [\n",
    "    'Male',\n",
    "    'Female',\n",
    "    'Other'\n",
    "]\n",
    "user_info['gender'] = pd.Categorical(user_info['gender'], categories=gender_order, ordered=True)\n",
    "user_info['gender'] = user_info['gender'].cat.codes"
   ]
  },
  {
   "cell_type": "code",
   "execution_count": 184,
   "id": "27ec1c0b",
   "metadata": {},
   "outputs": [],
   "source": [
    "maritalstatus_order = [\n",
    "    'Single Never Married',\n",
    "    'Married or Domestic Partnership',\n",
    "    'Divorced',\n",
    "    'Widowed',\n",
    "    'Separated'\n",
    "]\n",
    "user_info['marital_status'] = pd.Categorical(user_info['marital_status'], categories=maritalstatus_order, ordered=True)\n",
    "user_info['marital_status'] = user_info['marital_status'].cat.codes"
   ]
  },
  {
   "cell_type": "code",
   "execution_count": 185,
   "id": "416d657b",
   "metadata": {},
   "outputs": [],
   "source": [
    "politicalparty_order = [\n",
    "    'Democrat',\n",
    "    'Independent',\n",
    "    'Republican',\n",
    "    'Other Party',\n",
    "    'Neutral'\n",
    "]\n",
    "user_info['political_party'] = pd.Categorical(user_info['political_party'], categories=politicalparty_order, ordered=True)\n",
    "user_info['political_party'] = user_info['political_party'].cat.codes"
   ]
  },
  {
   "cell_type": "code",
   "execution_count": 186,
   "id": "ef405a62",
   "metadata": {},
   "outputs": [],
   "source": [
    "user_info.loc[:, 'race'] = (user_info['race'] == 'White').astype(int)"
   ]
  },
  {
   "cell_type": "code",
   "execution_count": 193,
   "id": "39dbb6e8",
   "metadata": {},
   "outputs": [],
   "source": [
    "user_features_numeric = user_info[['stageId', 'birth_year', 'CRT', 'income_max', 'income_min', 'IRCS_GS', 'IRCS_GV', 'IRCS_IB', 'IRCS_IR', 'IRCS_IV', 'IRCS_RS', 'political_fiscal', 'political_social', 'RME', 'country', 'education_level', 'gender', 'marital_status', 'political_party', 'race']]"
   ]
  },
  {
   "cell_type": "code",
   "execution_count": 194,
   "id": "c66b9ed9",
   "metadata": {},
   "outputs": [],
   "source": [
    "numeric_columns = user_info.select_dtypes(include='number').columns.difference(['ID'])\n",
    "\n",
    "# Group by 'ID' and calculate mean and std for all numeric columns\n",
    "grouped_df = user_info.groupby('stageId')[numeric_columns].agg(['mean', 'std'])\n",
    "\n",
    "# Flatten the multi-level column index\n",
    "grouped_df.columns = ['_'.join(col).strip() for col in grouped_df.columns.values]\n"
   ]
  },
  {
   "cell_type": "code",
   "execution_count": 198,
   "id": "5fe01179",
   "metadata": {},
   "outputs": [],
   "source": [
    "# This dataframe aggregates all the composition-level features\n",
    "conversations_with_dv_and_composition = grouped_df.merge(conversations_with_dv, on = \"stageId\", how = \"left\")\n",
    "\n",
    "conversations_with_dv_and_composition.to_csv('../raw_data/multi_task_conversations_with_dv_and_composition.csv')"
   ]
  }
 ],
 "metadata": {
  "kernelspec": {
   "display_name": "Python 3.9.5 64-bit",
   "language": "python",
   "name": "python3"
  },
  "language_info": {
   "codemirror_mode": {
    "name": "ipython",
    "version": 3
   },
   "file_extension": ".py",
   "mimetype": "text/x-python",
   "name": "python",
   "nbconvert_exporter": "python",
   "pygments_lexer": "ipython3",
   "version": "3.11.3"
  },
  "vscode": {
   "interpreter": {
    "hash": "7812ea015bdcee6f23a998adcdd2ef97c151c0c241b7b7070987d9313e41299d"
   }
  }
 },
 "nbformat": 4,
 "nbformat_minor": 5
}
