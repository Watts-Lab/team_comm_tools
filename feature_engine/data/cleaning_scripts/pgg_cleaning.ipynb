{
 "cells": [
  {
   "cell_type": "code",
   "execution_count": 1,
   "metadata": {},
   "outputs": [],
   "source": [
    "import numpy as np\n",
    "import pandas as pd\n",
    "import json\n",
    "import re\n",
    "import csv\n",
    "import ast"
   ]
  },
  {
   "cell_type": "code",
   "execution_count": 2,
   "id": "09ba4326",
   "metadata": {},
   "outputs": [],
   "source": [
    "pgg_data_csv = pd.read_csv('../raw_data/pgg_amt_pilot_chats.csv')"
   ]
  },
  {
   "cell_type": "code",
   "execution_count": 3,
   "id": "473010a3",
   "metadata": {},
   "outputs": [],
   "source": [
    "with open('../raw_data/pgg_conversations_withblanks.csv', 'w', newline='') as csvfile:\n",
    "    # start writing the header of the CSV\n",
    "    # NOTE - we need to implement the `gameId` set-up instead of grouping by round and batch num!\n",
    "    fieldnames = [\"conversation_num\", \"treatmentName\", \"punishmentCost\", \"punishmentMagnitude\", \"total_costs\", \"total_penalties\", \"total_rewards\", \"multiplier\", \"punishmentExists\", \"rewardExists\", \"playerCount\", \"numRounds\", \"message\", \"timestamp\", \"speaker_nickname\", \"score\"]\n",
    "    writer = csv.DictWriter(csvfile, fieldnames=fieldnames)\n",
    "    writer.writeheader()\n",
    "\n",
    "    for index, row in pgg_data_csv.iterrows():\n",
    "        if(type(row[\"chat_log\"])== str): # people said something\n",
    "            chat_list = ast.literal_eval(row['chat_log'])\n",
    "            if(type(chat_list) == tuple):\n",
    "                for chat in chat_list:\n",
    "                    writer.writerow({'conversation_num': row['gameId'], \"treatmentName\" : row[\"treatmentName\"], \"punishmentCost\": row[\"punishmentCost\"], \"punishmentMagnitude\": row[\"punishmentMagnitude\"], \"total_costs\": row[\"total_costs\"], \"total_penalties\": row[\"total_penalties\"], \"total_rewards\": row[\"total_rewards\"], \"multiplier\": row[\"multiplier\"], \"punishmentExists\": row[\"punishmentExists\"], \"rewardExists\": row[\"rewardExists\"], \"playerCount\": row[\"playerCount\"], \"numRounds\": row[\"numRounds\"], \"message\": chat['text'], \"timestamp\": chat['timestamp'], \"speaker_nickname\": chat['playerId'], \"score\": row[\"total_coin_gen\"]/row[\"max_coin_gen\"]})\n",
    "            elif(type(chat_list) == dict):\n",
    "                 writer.writerow({'conversation_num': row['gameId'], \"treatmentName\" : row[\"treatmentName\"], \"punishmentCost\": row[\"punishmentCost\"], \"punishmentMagnitude\": row[\"punishmentMagnitude\"], \"total_costs\": row[\"total_costs\"], \"total_penalties\": row[\"total_penalties\"], \"total_rewards\": row[\"total_rewards\"], \"multiplier\": row[\"multiplier\"], \"punishmentExists\": row[\"punishmentExists\"], \"rewardExists\": row[\"rewardExists\"], \"playerCount\": row[\"playerCount\"], \"numRounds\": row[\"numRounds\"], \"message\": chat_list['text'], \"timestamp\": chat_list['timestamp'], \"speaker_nickname\": chat_list['playerId'], \"score\": row[\"total_coin_gen\"]/row[\"max_coin_gen\"]})    \n",
    "        else: # no one said anything, so write a blank row\n",
    "            BLANK_SPEAKER = \"NULL_SPEAKER\"\n",
    "            writer.writerow({'conversation_num': row['gameId'], \"treatmentName\" : row[\"treatmentName\"], \"punishmentCost\": row[\"punishmentCost\"], \"punishmentMagnitude\": row[\"punishmentMagnitude\"], \"total_costs\": row[\"total_costs\"], \"total_penalties\": row[\"total_penalties\"], \"total_rewards\": row[\"total_rewards\"], \"multiplier\": row[\"multiplier\"], \"punishmentExists\": row[\"punishmentExists\"], \"rewardExists\": row[\"rewardExists\"], \"playerCount\": row[\"playerCount\"], \"numRounds\": row[\"numRounds\"], \"message\": \"\", \"timestamp\": 0, \"speaker_nickname\": BLANK_SPEAKER, \"score\": row[\"total_coin_gen\"]/row[\"max_coin_gen\"]})"
   ]
  }
 ],
 "metadata": {
  "kernelspec": {
   "display_name": "Python 3.9.5 64-bit",
   "language": "python",
   "name": "python3"
  },
  "language_info": {
   "codemirror_mode": {
    "name": "ipython",
    "version": 3
   },
   "file_extension": ".py",
   "mimetype": "text/x-python",
   "name": "python",
   "nbconvert_exporter": "python",
   "pygments_lexer": "ipython3",
   "version": "3.9.5"
  },
  "vscode": {
   "interpreter": {
    "hash": "7812ea015bdcee6f23a998adcdd2ef97c151c0c241b7b7070987d9313e41299d"
   }
  }
 },
 "nbformat": 4,
 "nbformat_minor": 5
}
