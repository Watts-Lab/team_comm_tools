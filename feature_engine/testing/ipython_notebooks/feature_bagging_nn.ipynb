{
 "cells": [
  {
   "attachments": {},
   "cell_type": "markdown",
   "metadata": {},
   "source": [
    "# Imports"
   ]
  },
  {
   "cell_type": "code",
   "execution_count": 1,
   "metadata": {},
   "outputs": [],
   "source": [
    "import pandas as pd\n",
    "import numpy as np\n",
    "import matplotlib.pyplot as plt\n",
    "import seaborn as sns\n",
    "import torch\n",
    "import torch.nn as nn\n",
    "import torch.nn.functional as F\n",
    "from torch.optim import SGD, Adam\n",
    "from torch.utils.data import DataLoader, Dataset\n",
    "import json\n",
    "from sklearn.model_selection import train_test_split\n",
    "from sklearn.preprocessing import StandardScaler\n",
    "from sklearn.metrics import r2_score, mean_squared_error, mean_absolute_error\n",
    "from tqdm import tqdm\n",
    "import copy"
   ]
  },
  {
   "attachments": {},
   "cell_type": "markdown",
   "metadata": {},
   "source": [
    "# Dataset"
   ]
  },
  {
   "cell_type": "code",
   "execution_count": 2,
   "metadata": {},
   "outputs": [],
   "source": [
    "with open('../../config.json', 'rb') as file:\n",
    "    config = json.load(file)\n",
    "csop_cols_to_ignore = config['csop']['cols_to_ignore']\n",
    "csopII_cols_to_ignore = config['csopII']['cols_to_ignore']\n",
    "csop_target, csopII_target = 'zscore_efficiency', 'efficiency'"
   ]
  },
  {
   "cell_type": "code",
   "execution_count": 3,
   "metadata": {},
   "outputs": [],
   "source": [
    "csop_raw = pd.read_csv('../../output/csop_output_conversation_level.csv')\n",
    "csop_all_features = csop_raw.drop(csop_cols_to_ignore, axis=1)\n",
    "target_scaler = StandardScaler()\n",
    "csop_all_features['target'] = target_scaler.fit_transform(csop_raw[csop_target].to_numpy().reshape(-1, 1))\n",
    "\n",
    "csopII_raw = pd.read_csv('../../output/csopII_output_conversation_level.csv')\n",
    "csopII_all_features = csopII_raw.drop(csopII_cols_to_ignore, axis=1)\n",
    "csopII_all_features['target'] = target_scaler.transform(csopII_raw[csopII_target].to_numpy().reshape(-1, 1))\n",
    "\n",
    "features = list(set(csop_all_features.columns).intersection(set(csopII_all_features.columns)))\n",
    "csop, csopII = csop_all_features[features].copy(), csopII_all_features[features].copy()\n",
    "csop, csopII = csop.fillna(0), csopII.fillna(0)"
   ]
  },
  {
   "cell_type": "code",
   "execution_count": 4,
   "metadata": {},
   "outputs": [
    {
     "data": {
      "text/plain": [
       "((882, 386), (98, 386), (962, 386), (882, 1), (98, 1), (962, 1))"
      ]
     },
     "execution_count": 4,
     "metadata": {},
     "output_type": "execute_result"
    }
   ],
   "source": [
    "X, y = csop.drop(['target'], axis=1), csop[['target']]\n",
    "X_train, X_val, y_train, y_val = train_test_split(X, y, test_size=0.1, random_state=42)\n",
    "X_test, y_test = csopII.drop(['target'], axis=1), csopII[['target']]\n",
    "\n",
    "feature_scaler = StandardScaler()\n",
    "X_train = pd.DataFrame(feature_scaler.fit_transform(X_train.to_numpy()), columns=X_train.columns)\n",
    "X_val = pd.DataFrame(feature_scaler.transform(X_val.to_numpy()), columns=X_val.columns)\n",
    "X_test = pd.DataFrame(feature_scaler.transform(X_test.to_numpy()), columns=X_test.columns)\n",
    "\n",
    "X_train.shape, X_val.shape, X_test.shape, y_train.shape, y_val.shape, y_test.shape"
   ]
  },
  {
   "cell_type": "code",
   "execution_count": 5,
   "metadata": {},
   "outputs": [
    {
     "data": {
      "text/plain": [
       "Index(['Communication Frequency', 'Information / Knowledge Exchange',\n",
       "       'Linguistic Features', 'Emotion', 'Cognitive Processes',\n",
       "       'Perceptual Processes', 'Social Processes', 'Biological Processes',\n",
       "       'Personal Concerns', 'Accommodation/\\nMimicry', 'Temporal', 'Question',\n",
       "       'Hedging', 'Politeness', 'Equality'],\n",
       "      dtype='object')"
      ]
     },
     "execution_count": 5,
     "metadata": {},
     "output_type": "execute_result"
    }
   ],
   "source": [
    "feature_groupings_raw = pd.read_excel('feature_groupings_06_20_23.xlsx')\n",
    "groups = feature_groupings_raw.columns[2:]\n",
    "groups"
   ]
  },
  {
   "cell_type": "code",
   "execution_count": 6,
   "metadata": {},
   "outputs": [
    {
     "name": "stderr",
     "output_type": "stream",
     "text": [
      "100%|██████████| 99/99 [00:00<00:00, 1670.75it/s]\n"
     ]
    }
   ],
   "source": [
    "rows = []\n",
    "for idx, row in tqdm(feature_groupings_raw.iterrows(), total=feature_groupings_raw.shape[0]):\n",
    "    if row['Level'] == 'Chat':\n",
    "        for prefix in ['min_', 'max_', 'stdev_', 'average_']:\n",
    "            feature_name = prefix + row['Feature Name']\n",
    "            row_to_append = [feature_name] + row[groups].to_list()\n",
    "            rows.append(row_to_append)\n",
    "    else:\n",
    "        feature_name = row['Feature Name']\n",
    "        row_to_append = [feature_name] + row[groups].to_list()\n",
    "        rows.append(row_to_append)\n",
    "feature_groupings = pd.DataFrame(\n",
    "    rows, \n",
    "    columns= [\n",
    "        'Feature Name', 'Communication Frequency', 'Information / Knowledge Exchange',\n",
    "        'Linguistic Features', 'Emotion', 'Cognitive Processes',\n",
    "        'Perceptual Processes', 'Social Processes', 'Biological Processes',\n",
    "        'Personal Concerns', 'Accommodation/\\nMimicry', 'Temporal', 'Question',\n",
    "        'Hedging', 'Politeness', 'Equality'\n",
    "    ]\n",
    ")"
   ]
  },
  {
   "cell_type": "code",
   "execution_count": 7,
   "metadata": {},
   "outputs": [
    {
     "data": {
      "text/html": [
       "<div>\n",
       "<style scoped>\n",
       "    .dataframe tbody tr th:only-of-type {\n",
       "        vertical-align: middle;\n",
       "    }\n",
       "\n",
       "    .dataframe tbody tr th {\n",
       "        vertical-align: top;\n",
       "    }\n",
       "\n",
       "    .dataframe thead th {\n",
       "        text-align: right;\n",
       "    }\n",
       "</style>\n",
       "<table border=\"1\" class=\"dataframe\">\n",
       "  <thead>\n",
       "    <tr style=\"text-align: right;\">\n",
       "      <th></th>\n",
       "      <th>Feature Name</th>\n",
       "      <th>Communication Frequency</th>\n",
       "      <th>Information / Knowledge Exchange</th>\n",
       "      <th>Linguistic Features</th>\n",
       "      <th>Emotion</th>\n",
       "      <th>Cognitive Processes</th>\n",
       "      <th>Perceptual Processes</th>\n",
       "      <th>Social Processes</th>\n",
       "      <th>Biological Processes</th>\n",
       "      <th>Personal Concerns</th>\n",
       "      <th>Accommodation/\\nMimicry</th>\n",
       "      <th>Temporal</th>\n",
       "      <th>Question</th>\n",
       "      <th>Hedging</th>\n",
       "      <th>Politeness</th>\n",
       "      <th>Equality</th>\n",
       "    </tr>\n",
       "  </thead>\n",
       "  <tbody>\n",
       "    <tr>\n",
       "      <th>0</th>\n",
       "      <td>min_num_words</td>\n",
       "      <td>1</td>\n",
       "      <td>0</td>\n",
       "      <td>0</td>\n",
       "      <td>0</td>\n",
       "      <td>0</td>\n",
       "      <td>0</td>\n",
       "      <td>0</td>\n",
       "      <td>0</td>\n",
       "      <td>0</td>\n",
       "      <td>0</td>\n",
       "      <td>0</td>\n",
       "      <td>0</td>\n",
       "      <td>0</td>\n",
       "      <td>0</td>\n",
       "      <td>0</td>\n",
       "    </tr>\n",
       "    <tr>\n",
       "      <th>1</th>\n",
       "      <td>max_num_words</td>\n",
       "      <td>1</td>\n",
       "      <td>0</td>\n",
       "      <td>0</td>\n",
       "      <td>0</td>\n",
       "      <td>0</td>\n",
       "      <td>0</td>\n",
       "      <td>0</td>\n",
       "      <td>0</td>\n",
       "      <td>0</td>\n",
       "      <td>0</td>\n",
       "      <td>0</td>\n",
       "      <td>0</td>\n",
       "      <td>0</td>\n",
       "      <td>0</td>\n",
       "      <td>0</td>\n",
       "    </tr>\n",
       "    <tr>\n",
       "      <th>2</th>\n",
       "      <td>stdev_num_words</td>\n",
       "      <td>1</td>\n",
       "      <td>0</td>\n",
       "      <td>0</td>\n",
       "      <td>0</td>\n",
       "      <td>0</td>\n",
       "      <td>0</td>\n",
       "      <td>0</td>\n",
       "      <td>0</td>\n",
       "      <td>0</td>\n",
       "      <td>0</td>\n",
       "      <td>0</td>\n",
       "      <td>0</td>\n",
       "      <td>0</td>\n",
       "      <td>0</td>\n",
       "      <td>0</td>\n",
       "    </tr>\n",
       "    <tr>\n",
       "      <th>3</th>\n",
       "      <td>average_num_words</td>\n",
       "      <td>1</td>\n",
       "      <td>0</td>\n",
       "      <td>0</td>\n",
       "      <td>0</td>\n",
       "      <td>0</td>\n",
       "      <td>0</td>\n",
       "      <td>0</td>\n",
       "      <td>0</td>\n",
       "      <td>0</td>\n",
       "      <td>0</td>\n",
       "      <td>0</td>\n",
       "      <td>0</td>\n",
       "      <td>0</td>\n",
       "      <td>0</td>\n",
       "      <td>0</td>\n",
       "    </tr>\n",
       "    <tr>\n",
       "      <th>4</th>\n",
       "      <td>min_num_chars</td>\n",
       "      <td>1</td>\n",
       "      <td>0</td>\n",
       "      <td>0</td>\n",
       "      <td>0</td>\n",
       "      <td>0</td>\n",
       "      <td>0</td>\n",
       "      <td>0</td>\n",
       "      <td>0</td>\n",
       "      <td>0</td>\n",
       "      <td>0</td>\n",
       "      <td>0</td>\n",
       "      <td>0</td>\n",
       "      <td>0</td>\n",
       "      <td>0</td>\n",
       "      <td>0</td>\n",
       "    </tr>\n",
       "    <tr>\n",
       "      <th>...</th>\n",
       "      <td>...</td>\n",
       "      <td>...</td>\n",
       "      <td>...</td>\n",
       "      <td>...</td>\n",
       "      <td>...</td>\n",
       "      <td>...</td>\n",
       "      <td>...</td>\n",
       "      <td>...</td>\n",
       "      <td>...</td>\n",
       "      <td>...</td>\n",
       "      <td>...</td>\n",
       "      <td>...</td>\n",
       "      <td>...</td>\n",
       "      <td>...</td>\n",
       "      <td>...</td>\n",
       "      <td>...</td>\n",
       "    </tr>\n",
       "    <tr>\n",
       "      <th>385</th>\n",
       "      <td>max_indicative</td>\n",
       "      <td>0</td>\n",
       "      <td>0</td>\n",
       "      <td>0</td>\n",
       "      <td>0</td>\n",
       "      <td>0</td>\n",
       "      <td>0</td>\n",
       "      <td>0</td>\n",
       "      <td>0</td>\n",
       "      <td>0</td>\n",
       "      <td>0</td>\n",
       "      <td>0</td>\n",
       "      <td>0</td>\n",
       "      <td>0</td>\n",
       "      <td>1</td>\n",
       "      <td>0</td>\n",
       "    </tr>\n",
       "    <tr>\n",
       "      <th>386</th>\n",
       "      <td>stdev_indicative</td>\n",
       "      <td>0</td>\n",
       "      <td>0</td>\n",
       "      <td>0</td>\n",
       "      <td>0</td>\n",
       "      <td>0</td>\n",
       "      <td>0</td>\n",
       "      <td>0</td>\n",
       "      <td>0</td>\n",
       "      <td>0</td>\n",
       "      <td>0</td>\n",
       "      <td>0</td>\n",
       "      <td>0</td>\n",
       "      <td>0</td>\n",
       "      <td>1</td>\n",
       "      <td>0</td>\n",
       "    </tr>\n",
       "    <tr>\n",
       "      <th>387</th>\n",
       "      <td>average_indicative</td>\n",
       "      <td>0</td>\n",
       "      <td>0</td>\n",
       "      <td>0</td>\n",
       "      <td>0</td>\n",
       "      <td>0</td>\n",
       "      <td>0</td>\n",
       "      <td>0</td>\n",
       "      <td>0</td>\n",
       "      <td>0</td>\n",
       "      <td>0</td>\n",
       "      <td>0</td>\n",
       "      <td>0</td>\n",
       "      <td>0</td>\n",
       "      <td>1</td>\n",
       "      <td>0</td>\n",
       "    </tr>\n",
       "    <tr>\n",
       "      <th>388</th>\n",
       "      <td>gini_coefficient_num_words</td>\n",
       "      <td>0</td>\n",
       "      <td>0</td>\n",
       "      <td>0</td>\n",
       "      <td>0</td>\n",
       "      <td>0</td>\n",
       "      <td>0</td>\n",
       "      <td>0</td>\n",
       "      <td>0</td>\n",
       "      <td>0</td>\n",
       "      <td>0</td>\n",
       "      <td>0</td>\n",
       "      <td>0</td>\n",
       "      <td>0</td>\n",
       "      <td>0</td>\n",
       "      <td>1</td>\n",
       "    </tr>\n",
       "    <tr>\n",
       "      <th>389</th>\n",
       "      <td>gini_coefficient_num_chars</td>\n",
       "      <td>0</td>\n",
       "      <td>0</td>\n",
       "      <td>0</td>\n",
       "      <td>0</td>\n",
       "      <td>0</td>\n",
       "      <td>0</td>\n",
       "      <td>0</td>\n",
       "      <td>0</td>\n",
       "      <td>0</td>\n",
       "      <td>0</td>\n",
       "      <td>0</td>\n",
       "      <td>0</td>\n",
       "      <td>0</td>\n",
       "      <td>0</td>\n",
       "      <td>1</td>\n",
       "    </tr>\n",
       "  </tbody>\n",
       "</table>\n",
       "<p>390 rows × 16 columns</p>\n",
       "</div>"
      ],
      "text/plain": [
       "                   Feature Name  Communication Frequency  \\\n",
       "0                 min_num_words                        1   \n",
       "1                 max_num_words                        1   \n",
       "2               stdev_num_words                        1   \n",
       "3             average_num_words                        1   \n",
       "4                 min_num_chars                        1   \n",
       "..                          ...                      ...   \n",
       "385              max_indicative                        0   \n",
       "386            stdev_indicative                        0   \n",
       "387          average_indicative                        0   \n",
       "388  gini_coefficient_num_words                        0   \n",
       "389  gini_coefficient_num_chars                        0   \n",
       "\n",
       "     Information / Knowledge Exchange  Linguistic Features  Emotion  \\\n",
       "0                                   0                    0        0   \n",
       "1                                   0                    0        0   \n",
       "2                                   0                    0        0   \n",
       "3                                   0                    0        0   \n",
       "4                                   0                    0        0   \n",
       "..                                ...                  ...      ...   \n",
       "385                                 0                    0        0   \n",
       "386                                 0                    0        0   \n",
       "387                                 0                    0        0   \n",
       "388                                 0                    0        0   \n",
       "389                                 0                    0        0   \n",
       "\n",
       "     Cognitive Processes  Perceptual Processes  Social Processes  \\\n",
       "0                      0                     0                 0   \n",
       "1                      0                     0                 0   \n",
       "2                      0                     0                 0   \n",
       "3                      0                     0                 0   \n",
       "4                      0                     0                 0   \n",
       "..                   ...                   ...               ...   \n",
       "385                    0                     0                 0   \n",
       "386                    0                     0                 0   \n",
       "387                    0                     0                 0   \n",
       "388                    0                     0                 0   \n",
       "389                    0                     0                 0   \n",
       "\n",
       "     Biological Processes  Personal Concerns  Accommodation/\\nMimicry  \\\n",
       "0                       0                  0                        0   \n",
       "1                       0                  0                        0   \n",
       "2                       0                  0                        0   \n",
       "3                       0                  0                        0   \n",
       "4                       0                  0                        0   \n",
       "..                    ...                ...                      ...   \n",
       "385                     0                  0                        0   \n",
       "386                     0                  0                        0   \n",
       "387                     0                  0                        0   \n",
       "388                     0                  0                        0   \n",
       "389                     0                  0                        0   \n",
       "\n",
       "     Temporal  Question  Hedging  Politeness  Equality  \n",
       "0           0         0        0           0         0  \n",
       "1           0         0        0           0         0  \n",
       "2           0         0        0           0         0  \n",
       "3           0         0        0           0         0  \n",
       "4           0         0        0           0         0  \n",
       "..        ...       ...      ...         ...       ...  \n",
       "385         0         0        0           1         0  \n",
       "386         0         0        0           1         0  \n",
       "387         0         0        0           1         0  \n",
       "388         0         0        0           0         1  \n",
       "389         0         0        0           0         1  \n",
       "\n",
       "[390 rows x 16 columns]"
      ]
     },
     "execution_count": 7,
     "metadata": {},
     "output_type": "execute_result"
    }
   ],
   "source": [
    "feature_groupings"
   ]
  },
  {
   "attachments": {},
   "cell_type": "markdown",
   "metadata": {},
   "source": [
    "## Creating Data Loaders"
   ]
  },
  {
   "cell_type": "code",
   "execution_count": 8,
   "metadata": {},
   "outputs": [],
   "source": [
    "class CSOPDataset(Dataset):\n",
    "    def __init__(self, X, y):\n",
    "        self.X, self.y = X, y\n",
    "\n",
    "    def __len__(self):\n",
    "        return len(self.y)\n",
    "\n",
    "    def __getitem__(self, idx):\n",
    "        return [self.X[idx], self.y[idx]]"
   ]
  },
  {
   "cell_type": "code",
   "execution_count": 9,
   "metadata": {},
   "outputs": [],
   "source": [
    "train_dataset = CSOPDataset(X=X_train.to_numpy(), y=y_train.to_numpy())\n",
    "val_dataset = CSOPDataset(X=X_val.to_numpy(), y=y_val.to_numpy())"
   ]
  },
  {
   "cell_type": "code",
   "execution_count": 10,
   "metadata": {},
   "outputs": [],
   "source": [
    "train_dataloader = DataLoader(dataset=train_dataset, batch_size=64, shuffle=True)\n",
    "val_dataloader = DataLoader(dataset=val_dataset, batch_size=64, shuffle=True)"
   ]
  },
  {
   "attachments": {},
   "cell_type": "markdown",
   "metadata": {},
   "source": [
    "# Linear Regression - Expressed as a Neural Network"
   ]
  },
  {
   "attachments": {},
   "cell_type": "markdown",
   "metadata": {},
   "source": [
    "## Model Definition"
   ]
  },
  {
   "cell_type": "code",
   "execution_count": 11,
   "metadata": {},
   "outputs": [],
   "source": [
    "class CSOPLinearRegressionNN(nn.Module):\n",
    "    def __init__(self, num_input_features):\n",
    "        super().__init__()\n",
    "        self.net = nn.Linear(in_features=num_input_features, out_features=1)\n",
    "        self.net.weight.data.normal_(mean=0, std=0.01)\n",
    "        self.net.weight.data = self.net.weight.data.to(torch.float64)\n",
    "        self.net.bias.data.fill_(value=0)\n",
    "        self.net.bias.data = self.net.bias.data.to(torch.float64)\n",
    "\n",
    "    def forward(self, X):\n",
    "        return self.net(X)"
   ]
  },
  {
   "cell_type": "code",
   "execution_count": 12,
   "metadata": {},
   "outputs": [],
   "source": [
    "linear_regression_nn = CSOPLinearRegressionNN(num_input_features=X_train.shape[1])"
   ]
  },
  {
   "attachments": {},
   "cell_type": "markdown",
   "metadata": {},
   "source": [
    "## Model Training"
   ]
  },
  {
   "cell_type": "code",
   "execution_count": 13,
   "metadata": {},
   "outputs": [],
   "source": [
    "optimizer = Adam\n",
    "loss_fn = nn.MSELoss()\n",
    "max_epochs = 100\n",
    "early_stopping_tol = 1000"
   ]
  },
  {
   "cell_type": "code",
   "execution_count": 14,
   "metadata": {},
   "outputs": [],
   "source": [
    "class Trainer():\n",
    "  def __init__(\n",
    "    self, model, optimizer, loss_fn,\n",
    "    train_dataloader, val_dataloader,\n",
    "    max_epochs=50, tol=10\n",
    "  ):\n",
    "    self.model = model\n",
    "    self.optimizer = optimizer(params=self.model.parameters(), lr=0.0003)\n",
    "    self.loss_fn = loss_fn\n",
    "    self.train_dataloader = train_dataloader\n",
    "    self.val_dataloader = val_dataloader\n",
    "    self.max_epochs = max_epochs\n",
    "    self.train_losses = []\n",
    "    self.val_losses = []\n",
    "    self.best_val_loss = float('inf')\n",
    "    self.best_val_loss_epoch = -1\n",
    "    self.tol = tol\n",
    "    self.max_tol = tol\n",
    "\n",
    "  def fit(self):\n",
    "    for epoch_idx in range(self.max_epochs):\n",
    "      if self.tol == 0:\n",
    "        print('Using Early Stopping')\n",
    "        break\n",
    "      self.train_one_epoch()\n",
    "      self.early_stopping(epoch_idx=epoch_idx)\n",
    "      print(f'Epoch {epoch_idx}\\t Train Loss: {self.train_losses[-1]}\\tVal Loss: {self.val_losses[-1]}')\n",
    "    print(f'Best Model Found at Epoch {self.best_val_loss_epoch}')\n",
    "\n",
    "  def train_one_epoch(self):\n",
    "    training_loss = 0\n",
    "    for features, labels in self.train_dataloader:\n",
    "      self.optimizer.zero_grad()\n",
    "      predictions = self.model(features)\n",
    "      loss = self.loss_fn(predictions, labels)\n",
    "      training_loss += loss.item()\n",
    "      loss.backward()\n",
    "      nn.utils.clip_grad_norm_(self.model.parameters(), max_norm=1.0, norm_type=2)\n",
    "      self.optimizer.step()\n",
    "    self.train_losses.append(training_loss/len(self.train_dataloader))\n",
    "\n",
    "    val_loss = 0\n",
    "    with torch.no_grad():\n",
    "      for features, labels in self.val_dataloader:\n",
    "        predictions = self.model(features)\n",
    "        loss = self.loss_fn(predictions, labels)\n",
    "        val_loss += loss.item()\n",
    "      self.val_losses.append(val_loss/len(self.val_dataloader))\n",
    "\n",
    "  def early_stopping(self, epoch_idx):\n",
    "    current_val_loss = self.val_losses[-1]\n",
    "    if current_val_loss < self.best_val_loss:\n",
    "      self.best_val_loss = current_val_loss\n",
    "      self.best_val_loss_epoch = epoch_idx\n",
    "      model_path = f'feature_bagging_nn_models/best_model'\n",
    "      torch.save(self.model.state_dict(), model_path)\n",
    "      self.tol = self.max_tol\n",
    "    else:\n",
    "      self.tol -= 1"
   ]
  },
  {
   "cell_type": "code",
   "execution_count": 15,
   "metadata": {},
   "outputs": [],
   "source": [
    "trainer = Trainer(\n",
    "  model=linear_regression_nn, optimizer=optimizer, loss_fn=loss_fn,\n",
    "  train_dataloader=train_dataloader, val_dataloader=val_dataloader,\n",
    "  max_epochs=max_epochs, tol=early_stopping_tol\n",
    ")"
   ]
  },
  {
   "cell_type": "code",
   "execution_count": 16,
   "metadata": {},
   "outputs": [
    {
     "name": "stdout",
     "output_type": "stream",
     "text": [
      "Epoch 0\t Train Loss: 0.8966191389289996\tVal Loss: 0.9096040603172104\n",
      "Epoch 1\t Train Loss: 0.8405932700463327\tVal Loss: 0.9427204730608458\n",
      "Epoch 2\t Train Loss: 0.8187358809593858\tVal Loss: 0.8257431229652625\n",
      "Epoch 3\t Train Loss: 0.8029516802173574\tVal Loss: 0.8819906802122702\n",
      "Epoch 4\t Train Loss: 0.7862598586068115\tVal Loss: 0.936083960672772\n",
      "Epoch 5\t Train Loss: 0.7809455173747112\tVal Loss: 0.8841106002170895\n",
      "Epoch 6\t Train Loss: 0.7737824748597744\tVal Loss: 0.811125129960797\n",
      "Epoch 7\t Train Loss: 0.7781080590535087\tVal Loss: 0.8541939365437756\n",
      "Epoch 8\t Train Loss: 0.7630963716931424\tVal Loss: 0.8729632978404221\n",
      "Epoch 9\t Train Loss: 0.7634434768464562\tVal Loss: 0.9166414569338242\n",
      "Epoch 10\t Train Loss: 0.7595528929471325\tVal Loss: 0.828312993399716\n",
      "Epoch 11\t Train Loss: 0.7604910392969639\tVal Loss: 0.8926418170769321\n",
      "Epoch 12\t Train Loss: 0.7476902645064707\tVal Loss: 0.9099858403737553\n",
      "Epoch 13\t Train Loss: 0.7468452405783114\tVal Loss: 0.872210624888255\n",
      "Epoch 14\t Train Loss: 0.7507894287585929\tVal Loss: 0.8389885116646774\n",
      "Epoch 15\t Train Loss: 0.7473641910238253\tVal Loss: 0.8894333833287539\n",
      "Epoch 16\t Train Loss: 0.7391322184243097\tVal Loss: 0.8620359899888695\n",
      "Epoch 17\t Train Loss: 0.7447144454208617\tVal Loss: 0.9622931489845507\n",
      "Epoch 18\t Train Loss: 0.7421873683032129\tVal Loss: 0.8430309272627257\n",
      "Epoch 19\t Train Loss: 0.7369085150423452\tVal Loss: 0.862484039507595\n",
      "Epoch 20\t Train Loss: 0.7410203996681924\tVal Loss: 0.9040275279010651\n",
      "Epoch 21\t Train Loss: 0.7441204289828814\tVal Loss: 0.8998221468945672\n",
      "Epoch 22\t Train Loss: 0.7342889734196875\tVal Loss: 0.8565607349158346\n",
      "Epoch 23\t Train Loss: 0.7398770859320537\tVal Loss: 0.8367766832498738\n",
      "Epoch 24\t Train Loss: 0.7330374097811168\tVal Loss: 0.9115923225983736\n",
      "Epoch 25\t Train Loss: 0.7360843085075066\tVal Loss: 0.8939690752363274\n",
      "Epoch 26\t Train Loss: 0.7338711839880036\tVal Loss: 0.888348062618147\n",
      "Epoch 27\t Train Loss: 0.7312902805530346\tVal Loss: 0.9017016845030846\n",
      "Epoch 28\t Train Loss: 0.7373667659848929\tVal Loss: 0.8203065186659765\n",
      "Epoch 29\t Train Loss: 0.7295606649075591\tVal Loss: 0.8116872469164176\n",
      "Epoch 30\t Train Loss: 0.7363881187794235\tVal Loss: 0.9510620836270058\n",
      "Epoch 31\t Train Loss: 0.736372156172502\tVal Loss: 0.8835403926995777\n",
      "Epoch 32\t Train Loss: 0.7369846109634733\tVal Loss: 0.9141698456632708\n",
      "Epoch 33\t Train Loss: 0.7250371936684932\tVal Loss: 0.9171135140546879\n",
      "Epoch 34\t Train Loss: 0.723969094116253\tVal Loss: 0.822376858456658\n",
      "Epoch 35\t Train Loss: 0.7229857813251489\tVal Loss: 0.8292056818878261\n",
      "Epoch 36\t Train Loss: 0.725350870450411\tVal Loss: 0.8115525673404844\n",
      "Epoch 37\t Train Loss: 0.7259225035491532\tVal Loss: 0.8681406722804541\n",
      "Epoch 38\t Train Loss: 0.7212303206147327\tVal Loss: 0.9139482401010977\n",
      "Epoch 39\t Train Loss: 0.7256252264108112\tVal Loss: 0.8101100323455432\n",
      "Epoch 40\t Train Loss: 0.7215674976927523\tVal Loss: 0.9368644300223294\n",
      "Epoch 41\t Train Loss: 0.7248197798750622\tVal Loss: 0.8666611862708402\n",
      "Epoch 42\t Train Loss: 0.7210546955648821\tVal Loss: 0.9630296185395881\n",
      "Epoch 43\t Train Loss: 0.7268646058858577\tVal Loss: 0.9322151356509236\n",
      "Epoch 44\t Train Loss: 0.7173017155686264\tVal Loss: 0.9250355265173347\n",
      "Epoch 45\t Train Loss: 0.7180573562547157\tVal Loss: 0.8373727652505696\n",
      "Epoch 46\t Train Loss: 0.7232003720523422\tVal Loss: 0.9231964515296338\n",
      "Epoch 47\t Train Loss: 0.7211746626995481\tVal Loss: 0.8284311665544648\n",
      "Epoch 48\t Train Loss: 0.7150522460285351\tVal Loss: 0.830717391730129\n",
      "Epoch 49\t Train Loss: 0.7184101603504255\tVal Loss: 0.9433048724089574\n",
      "Epoch 50\t Train Loss: 0.7133955808224802\tVal Loss: 0.919665001860819\n",
      "Epoch 51\t Train Loss: 0.7225266338910644\tVal Loss: 0.8873785818740567\n",
      "Epoch 52\t Train Loss: 0.722620447252368\tVal Loss: 0.8942678926911809\n",
      "Epoch 53\t Train Loss: 0.7163919100412881\tVal Loss: 0.890600468896092\n",
      "Epoch 54\t Train Loss: 0.7207431380443369\tVal Loss: 0.8917012945151483\n",
      "Epoch 55\t Train Loss: 0.7179036111238556\tVal Loss: 0.8762121154976912\n",
      "Epoch 56\t Train Loss: 0.7148925840285241\tVal Loss: 0.8803380072725139\n",
      "Epoch 57\t Train Loss: 0.7164843631439239\tVal Loss: 0.9020160489420506\n",
      "Epoch 58\t Train Loss: 0.7128008543868963\tVal Loss: 0.9638985775771968\n",
      "Epoch 59\t Train Loss: 0.7160508488323457\tVal Loss: 0.8836540753260781\n",
      "Epoch 60\t Train Loss: 0.7160046147987472\tVal Loss: 0.8278761085836991\n",
      "Epoch 61\t Train Loss: 0.7170388997654504\tVal Loss: 0.917256555001008\n",
      "Epoch 62\t Train Loss: 0.7186960145993622\tVal Loss: 0.9025954146252694\n",
      "Epoch 63\t Train Loss: 0.7125753410334063\tVal Loss: 0.8594570812055322\n",
      "Epoch 64\t Train Loss: 0.7124536076392837\tVal Loss: 0.8991623112039693\n",
      "Epoch 65\t Train Loss: 0.7144728325006351\tVal Loss: 0.8541393559655478\n",
      "Epoch 66\t Train Loss: 0.7112907653192384\tVal Loss: 0.856293130286764\n",
      "Epoch 67\t Train Loss: 0.7130909076865676\tVal Loss: 0.9551791191271891\n",
      "Epoch 68\t Train Loss: 0.7127234185989418\tVal Loss: 0.9241246759884378\n",
      "Epoch 69\t Train Loss: 0.7159713049800704\tVal Loss: 0.8570450344841264\n",
      "Epoch 70\t Train Loss: 0.7122843799658788\tVal Loss: 0.8868996321067799\n",
      "Epoch 71\t Train Loss: 0.7161026120438689\tVal Loss: 0.8671806113913443\n",
      "Epoch 72\t Train Loss: 0.7119584012041462\tVal Loss: 0.8227543269669018\n",
      "Epoch 73\t Train Loss: 0.7157072976480222\tVal Loss: 0.9590264078562447\n",
      "Epoch 74\t Train Loss: 0.7128488994102413\tVal Loss: 0.900600754272983\n",
      "Epoch 75\t Train Loss: 0.718817946073875\tVal Loss: 0.8526680764008954\n",
      "Epoch 76\t Train Loss: 0.7131431522151458\tVal Loss: 0.8676443845225776\n",
      "Epoch 77\t Train Loss: 0.7074373216151686\tVal Loss: 0.9203959609086323\n",
      "Epoch 78\t Train Loss: 0.7148063679606088\tVal Loss: 0.866061348375823\n",
      "Epoch 79\t Train Loss: 0.7147902874890704\tVal Loss: 0.8494956432789431\n",
      "Epoch 80\t Train Loss: 0.7102883019422397\tVal Loss: 0.9299536411034293\n",
      "Epoch 81\t Train Loss: 0.7118286286797483\tVal Loss: 0.9704621525419508\n",
      "Epoch 82\t Train Loss: 0.7089285053600483\tVal Loss: 0.8443114018890884\n",
      "Epoch 83\t Train Loss: 0.7140608552574491\tVal Loss: 0.8871194989381964\n",
      "Epoch 84\t Train Loss: 0.7084309524898497\tVal Loss: 0.9223915825658\n",
      "Epoch 85\t Train Loss: 0.7086753092505986\tVal Loss: 0.8462426888185317\n",
      "Epoch 86\t Train Loss: 0.7148369506731911\tVal Loss: 0.8965164560126758\n",
      "Epoch 87\t Train Loss: 0.7120080264557244\tVal Loss: 0.9152976484909561\n",
      "Epoch 88\t Train Loss: 0.7091582243605226\tVal Loss: 0.9850916561834813\n",
      "Epoch 89\t Train Loss: 0.7159350926690043\tVal Loss: 0.8403608641059843\n",
      "Epoch 90\t Train Loss: 0.7090220032988744\tVal Loss: 0.9616851193993945\n",
      "Epoch 91\t Train Loss: 0.7078810139403969\tVal Loss: 0.9674298005435877\n",
      "Epoch 92\t Train Loss: 0.7055227917506295\tVal Loss: 0.8972504420569396\n",
      "Epoch 93\t Train Loss: 0.7212408010874044\tVal Loss: 0.8501047548512779\n",
      "Epoch 94\t Train Loss: 0.712482311021804\tVal Loss: 0.9386156948182057\n",
      "Epoch 95\t Train Loss: 0.7098809489986019\tVal Loss: 0.9097427176375026\n",
      "Epoch 96\t Train Loss: 0.7139637973556349\tVal Loss: 0.8945815554668881\n",
      "Epoch 97\t Train Loss: 0.7107772497317969\tVal Loss: 0.9503010171025026\n",
      "Epoch 98\t Train Loss: 0.712965166265913\tVal Loss: 0.9217075313081037\n",
      "Epoch 99\t Train Loss: 0.71145673901003\tVal Loss: 0.9699653990758953\n",
      "Best Model Found at Epoch 39\n"
     ]
    }
   ],
   "source": [
    "trainer.fit()"
   ]
  },
  {
   "cell_type": "code",
   "execution_count": 17,
   "metadata": {},
   "outputs": [
    {
     "data": {
      "image/png": "[encoded data removed]",
      "text/plain": [
       "<Figure size 800x500 with 1 Axes>"
      ]
     },
     "metadata": {},
     "output_type": "display_data"
    }
   ],
   "source": [
    "fig, ax = plt.subplots(figsize=(8, 5))\n",
    "ax.plot(trainer.train_losses, color='blue', label='Training Losses')\n",
    "ax.plot(trainer.val_losses, color='red', label='Validation Losses')\n",
    "ax.legend()\n",
    "ax.set(xlabel='Epochs', ylabel='MSE Loss', title='Learning Curves')\n",
    "plt.show()"
   ]
  },
  {
   "cell_type": "code",
   "execution_count": 18,
   "metadata": {},
   "outputs": [],
   "source": [
    "linear_regression_nn_trained = trainer.model"
   ]
  },
  {
   "attachments": {},
   "cell_type": "markdown",
   "metadata": {},
   "source": [
    "# Fully Connected Neural Network"
   ]
  },
  {
   "attachments": {},
   "cell_type": "markdown",
   "metadata": {},
   "source": [
    "## Model Definition"
   ]
  },
  {
   "cell_type": "code",
   "execution_count": 19,
   "metadata": {},
   "outputs": [],
   "source": [
    "class CSOPFullyConnectedNN(nn.Module):\n",
    "    def __init__(self, num_input_features):\n",
    "        super().__init__()\n",
    "        self.net = nn.Sequential(\n",
    "            nn.Linear(in_features=num_input_features, out_features=15),\n",
    "            nn.ReLU(),\n",
    "            nn.Linear(in_features=15, out_features=1)\n",
    "        )\n",
    "\n",
    "    def forward(self, X):\n",
    "        return self.net(X)"
   ]
  },
  {
   "cell_type": "code",
   "execution_count": 20,
   "metadata": {},
   "outputs": [],
   "source": [
    "fully_connected_nn = CSOPFullyConnectedNN(num_input_features=X_train.shape[1])"
   ]
  },
  {
   "attachments": {},
   "cell_type": "markdown",
   "metadata": {},
   "source": [
    "## Model Training Setup"
   ]
  },
  {
   "cell_type": "code",
   "execution_count": 21,
   "metadata": {},
   "outputs": [],
   "source": [
    "loss_fn = nn.MSELoss()\n",
    "learning_rate = 0.0001\n",
    "optimizer = Adam(params=fully_connected_nn.parameters(), lr=learning_rate)\n",
    "max_epochs = 100"
   ]
  },
  {
   "cell_type": "code",
   "execution_count": 22,
   "metadata": {},
   "outputs": [],
   "source": [
    "best_mse = float('inf')\n",
    "best_weights = None\n",
    "train_losses, val_losses = [], []"
   ]
  },
  {
   "attachments": {},
   "cell_type": "markdown",
   "metadata": {},
   "source": [
    "## Model Training Loop"
   ]
  },
  {
   "cell_type": "code",
   "execution_count": 23,
   "metadata": {},
   "outputs": [
    {
     "name": "stderr",
     "output_type": "stream",
     "text": [
      "Epoch: 0:  93%|█████████▎| 13/14 [00:00<00:00, 205.23batch/s, mse=0.727]\n",
      "Epoch: 1:  93%|█████████▎| 13/14 [00:00<00:00, 301.59batch/s, mse=0.697]\n",
      "Epoch: 2:  93%|█████████▎| 13/14 [00:00<00:00, 284.48batch/s, mse=0.849]\n",
      "Epoch: 3:  93%|█████████▎| 13/14 [00:00<00:00, 269.65batch/s, mse=1.15] \n",
      "Epoch: 4:  93%|█████████▎| 13/14 [00:00<00:00, 274.18batch/s, mse=0.868]\n",
      "Epoch: 5:  93%|█████████▎| 13/14 [00:00<00:00, 275.83batch/s, mse=0.712]\n",
      "Epoch: 6:  93%|█████████▎| 13/14 [00:00<00:00, 280.29batch/s, mse=0.706]\n",
      "Epoch: 7:  93%|█████████▎| 13/14 [00:00<00:00, 265.16batch/s, mse=0.523]\n",
      "Epoch: 8:  93%|█████████▎| 13/14 [00:00<00:00, 279.55batch/s, mse=0.603]\n",
      "Epoch: 9:  93%|█████████▎| 13/14 [00:00<00:00, 263.38batch/s, mse=0.85] \n",
      "Epoch: 10:  93%|█████████▎| 13/14 [00:00<00:00, 175.96batch/s, mse=0.839]\n",
      "Epoch: 11:  93%|█████████▎| 13/14 [00:00<00:00, 253.51batch/s, mse=0.775]\n",
      "Epoch: 12:  93%|█████████▎| 13/14 [00:00<00:00, 253.55batch/s, mse=1.25] \n",
      "Epoch: 13:  93%|█████████▎| 13/14 [00:00<00:00, 234.25batch/s, mse=0.86] \n",
      "Epoch: 14:  93%|█████████▎| 13/14 [00:00<00:00, 160.81batch/s, mse=0.742]\n",
      "Epoch: 15:  93%|█████████▎| 13/14 [00:00<00:00, 195.18batch/s, mse=0.905]\n",
      "Epoch: 16:  93%|█████████▎| 13/14 [00:00<00:00, 314.32batch/s, mse=0.879]\n",
      "Epoch: 17:  93%|█████████▎| 13/14 [00:00<00:00, 322.66batch/s, mse=0.666]\n",
      "Epoch: 18:  93%|█████████▎| 13/14 [00:00<00:00, 187.17batch/s, mse=0.622]\n",
      "Epoch: 19:  93%|█████████▎| 13/14 [00:00<00:00, 198.55batch/s, mse=0.662]\n",
      "Epoch: 20:  93%|█████████▎| 13/14 [00:00<00:00, 187.70batch/s, mse=0.645]\n",
      "Epoch: 21:  93%|█████████▎| 13/14 [00:00<00:00, 251.95batch/s, mse=0.755]\n",
      "Epoch: 22:  93%|█████████▎| 13/14 [00:00<00:00, 263.34batch/s, mse=0.589]\n",
      "Epoch: 23:  93%|█████████▎| 13/14 [00:00<00:00, 304.72batch/s, mse=0.641]\n",
      "Epoch: 24:  93%|█████████▎| 13/14 [00:00<00:00, 338.67batch/s, mse=0.658]\n",
      "Epoch: 25:  93%|█████████▎| 13/14 [00:00<00:00, 204.75batch/s, mse=0.587]\n",
      "Epoch: 26:  93%|█████████▎| 13/14 [00:00<00:00, 301.08batch/s, mse=0.895]\n",
      "Epoch: 27:  93%|█████████▎| 13/14 [00:00<00:00, 292.65batch/s, mse=0.77] \n",
      "Epoch: 28:  93%|█████████▎| 13/14 [00:00<00:00, 282.96batch/s, mse=0.91] \n",
      "Epoch: 29:  93%|█████████▎| 13/14 [00:00<00:00, 313.19batch/s, mse=0.764]\n",
      "Epoch: 30:  93%|█████████▎| 13/14 [00:00<00:00, 337.49batch/s, mse=0.71] \n",
      "Epoch: 31:  93%|█████████▎| 13/14 [00:00<00:00, 316.38batch/s, mse=0.872]\n",
      "Epoch: 32:  93%|█████████▎| 13/14 [00:00<00:00, 343.54batch/s, mse=0.58] \n",
      "Epoch: 33:  93%|█████████▎| 13/14 [00:00<00:00, 211.04batch/s, mse=1.28] \n",
      "Epoch: 34:  93%|█████████▎| 13/14 [00:00<00:00, 317.68batch/s, mse=0.527]\n",
      "Epoch: 35:  93%|█████████▎| 13/14 [00:00<00:00, 337.26batch/s, mse=0.396]\n",
      "Epoch: 36:  93%|█████████▎| 13/14 [00:00<00:00, 322.74batch/s, mse=0.833]\n",
      "Epoch: 37:  93%|█████████▎| 13/14 [00:00<00:00, 295.65batch/s, mse=0.905]\n",
      "Epoch: 38:  93%|█████████▎| 13/14 [00:00<00:00, 294.42batch/s, mse=0.786]\n",
      "Epoch: 39:  93%|█████████▎| 13/14 [00:00<00:00, 292.94batch/s, mse=0.381]\n",
      "Epoch: 40:  93%|█████████▎| 13/14 [00:00<00:00, 240.32batch/s, mse=0.424]\n",
      "Epoch: 41:  93%|█████████▎| 13/14 [00:00<00:00, 156.52batch/s, mse=0.901]\n",
      "Epoch: 42:  93%|█████████▎| 13/14 [00:00<00:00, 269.03batch/s, mse=0.936]\n",
      "Epoch: 43:  93%|█████████▎| 13/14 [00:00<00:00, 239.36batch/s, mse=0.334]\n",
      "Epoch: 44:  93%|█████████▎| 13/14 [00:00<00:00, 275.12batch/s, mse=0.626]\n",
      "Epoch: 45:  93%|█████████▎| 13/14 [00:00<00:00, 197.88batch/s, mse=0.497]\n",
      "Epoch: 46:  93%|█████████▎| 13/14 [00:00<00:00, 337.52batch/s, mse=0.607]\n",
      "Epoch: 47:  93%|█████████▎| 13/14 [00:00<00:00, 336.70batch/s, mse=0.507]\n",
      "Epoch: 48:  93%|█████████▎| 13/14 [00:00<00:00, 325.81batch/s, mse=0.607]\n",
      "Epoch: 49:  93%|█████████▎| 13/14 [00:00<00:00, 336.81batch/s, mse=0.573]\n",
      "Epoch: 50:  93%|█████████▎| 13/14 [00:00<00:00, 331.07batch/s, mse=0.306]\n",
      "Epoch: 51:  93%|█████████▎| 13/14 [00:00<00:00, 351.15batch/s, mse=0.727]\n",
      "Epoch: 52:  93%|█████████▎| 13/14 [00:00<00:00, 215.49batch/s, mse=0.492]\n",
      "Epoch: 53:  93%|█████████▎| 13/14 [00:00<00:00, 341.72batch/s, mse=0.551]\n",
      "Epoch: 54:  93%|█████████▎| 13/14 [00:00<00:00, 342.65batch/s, mse=0.865]\n",
      "Epoch: 55:  93%|█████████▎| 13/14 [00:00<00:00, 320.70batch/s, mse=0.609]\n",
      "Epoch: 56:  93%|█████████▎| 13/14 [00:00<00:00, 347.72batch/s, mse=0.513]\n",
      "Epoch: 57:  93%|█████████▎| 13/14 [00:00<00:00, 349.72batch/s, mse=0.417]\n",
      "Epoch: 58:  93%|█████████▎| 13/14 [00:00<00:00, 352.38batch/s, mse=1.09] \n",
      "Epoch: 59:  93%|█████████▎| 13/14 [00:00<00:00, 338.20batch/s, mse=0.387]\n",
      "Epoch: 60:  93%|█████████▎| 13/14 [00:00<00:00, 340.92batch/s, mse=0.459]\n",
      "Epoch: 61:  93%|█████████▎| 13/14 [00:00<00:00, 349.44batch/s, mse=0.836]\n",
      "Epoch: 62:  93%|█████████▎| 13/14 [00:00<00:00, 351.92batch/s, mse=0.978]\n",
      "Epoch: 63:  93%|█████████▎| 13/14 [00:00<00:00, 336.35batch/s, mse=0.45] \n",
      "Epoch: 64:  93%|█████████▎| 13/14 [00:00<00:00, 356.36batch/s, mse=0.524]\n",
      "Epoch: 65:  93%|█████████▎| 13/14 [00:00<00:00, 346.64batch/s, mse=0.625]\n",
      "Epoch: 66:  93%|█████████▎| 13/14 [00:00<00:00, 345.29batch/s, mse=0.556]\n",
      "Epoch: 67:  93%|█████████▎| 13/14 [00:00<00:00, 346.08batch/s, mse=0.98] \n",
      "Epoch: 68:  93%|█████████▎| 13/14 [00:00<00:00, 210.97batch/s, mse=0.613]\n",
      "Epoch: 69:  93%|█████████▎| 13/14 [00:00<00:00, 338.46batch/s, mse=0.677]\n",
      "Epoch: 70:  93%|█████████▎| 13/14 [00:00<00:00, 338.05batch/s, mse=0.956]\n",
      "Epoch: 71:  93%|█████████▎| 13/14 [00:00<00:00, 339.60batch/s, mse=0.622]\n",
      "Epoch: 72:  93%|█████████▎| 13/14 [00:00<00:00, 328.37batch/s, mse=0.6]  \n",
      "Epoch: 73:  93%|█████████▎| 13/14 [00:00<00:00, 297.35batch/s, mse=1.22] \n",
      "Epoch: 74:  93%|█████████▎| 13/14 [00:00<00:00, 156.56batch/s, mse=0.539]\n",
      "Epoch: 75:  93%|█████████▎| 13/14 [00:00<00:00, 252.21batch/s, mse=0.597]\n",
      "Epoch: 76:  93%|█████████▎| 13/14 [00:00<00:00, 240.97batch/s, mse=0.741]\n",
      "Epoch: 77:  93%|█████████▎| 13/14 [00:00<00:00, 255.49batch/s, mse=0.763]\n",
      "Epoch: 78:  93%|█████████▎| 13/14 [00:00<00:00, 253.64batch/s, mse=0.535]\n",
      "Epoch: 79:  93%|█████████▎| 13/14 [00:00<00:00, 158.22batch/s, mse=1.23] \n",
      "Epoch: 80:  93%|█████████▎| 13/14 [00:00<00:00, 275.04batch/s, mse=1.2]  \n",
      "Epoch: 81:  93%|█████████▎| 13/14 [00:00<00:00, 298.73batch/s, mse=0.808]\n",
      "Epoch: 82:  93%|█████████▎| 13/14 [00:00<00:00, 291.92batch/s, mse=0.951]\n",
      "Epoch: 83:  93%|█████████▎| 13/14 [00:00<00:00, 200.20batch/s, mse=0.886]\n",
      "Epoch: 84:  93%|█████████▎| 13/14 [00:00<00:00, 318.11batch/s, mse=1.08] \n",
      "Epoch: 85:  93%|█████████▎| 13/14 [00:00<00:00, 299.13batch/s, mse=0.365]\n",
      "Epoch: 86:  93%|█████████▎| 13/14 [00:00<00:00, 230.65batch/s, mse=0.744]\n",
      "Epoch: 87:  93%|█████████▎| 13/14 [00:00<00:00, 218.97batch/s, mse=0.661]\n",
      "Epoch: 88:  93%|█████████▎| 13/14 [00:00<00:00, 233.15batch/s, mse=0.48] \n",
      "Epoch: 89:  93%|█████████▎| 13/14 [00:00<00:00, 192.12batch/s, mse=0.89] \n",
      "Epoch: 90:  93%|█████████▎| 13/14 [00:00<00:00, 216.37batch/s, mse=0.447]\n",
      "Epoch: 91:  93%|█████████▎| 13/14 [00:00<00:00, 274.07batch/s, mse=1.09] \n",
      "Epoch: 92:  93%|█████████▎| 13/14 [00:00<00:00, 297.46batch/s, mse=0.881]\n",
      "Epoch: 93:  93%|█████████▎| 13/14 [00:00<00:00, 194.05batch/s, mse=0.622]\n",
      "Epoch: 94:  93%|█████████▎| 13/14 [00:00<00:00, 251.88batch/s, mse=0.769]\n",
      "Epoch: 95:  93%|█████████▎| 13/14 [00:00<00:00, 264.12batch/s, mse=0.398]\n",
      "Epoch: 96:  93%|█████████▎| 13/14 [00:00<00:00, 266.29batch/s, mse=0.626]\n",
      "Epoch: 97:  93%|█████████▎| 13/14 [00:00<00:00, 282.20batch/s, mse=0.34] \n",
      "Epoch: 98:  93%|█████████▎| 13/14 [00:00<00:00, 291.01batch/s, mse=0.714]\n",
      "Epoch: 99:  93%|█████████▎| 13/14 [00:00<00:00, 291.47batch/s, mse=0.804]\n"
     ]
    }
   ],
   "source": [
    "for epoch in range(max_epochs):\n",
    "    # Training for one epoch\n",
    "    fully_connected_nn.train()\n",
    "    train_loss = 0\n",
    "    with tqdm(list(range(len(train_dataloader))), unit=\"batch\", mininterval=0, disable=False) as bar:\n",
    "        bar.set_description(f'Epoch: {epoch}')\n",
    "        for (X_batch, y_batch), start in zip(train_dataloader, bar):\n",
    "            # Forward Pass\n",
    "            X_batch, y_batch = X_batch.to(torch.float32), y_batch.to(torch.float32)\n",
    "            y_pred = fully_connected_nn(X_batch)\n",
    "            loss = loss_fn(y_pred, y_batch)\n",
    "            # Backward Pass\n",
    "            optimizer.zero_grad()\n",
    "            loss.backward()\n",
    "            # Weights Updates\n",
    "            optimizer.step()\n",
    "            # Print Progress\n",
    "            bar.set_postfix(mse=float(loss))\n",
    "            train_loss += float(loss)\n",
    "    # Calculating average training loss after one epoch\n",
    "    avg_train_mse_loss = float(train_loss/len(train_dataloader))\n",
    "    train_losses.append(avg_train_mse_loss)\n",
    "    # Validation after one epoch\n",
    "    fully_connected_nn.eval()\n",
    "    val_loss = 0\n",
    "    for X_batch, y_batch in val_dataloader:\n",
    "        # Forward Pass\n",
    "        X_batch, y_batch = X_batch.to(torch.float32), y_batch.to(torch.float32)\n",
    "        y_pred = fully_connected_nn(X_batch)\n",
    "        val_mse_loss = loss_fn(y_pred, y_batch)\n",
    "        val_loss += float(val_mse_loss)\n",
    "    # Calculating average validation loss after one epoch\n",
    "    avg_val_mse_loss = float(val_loss/len(val_dataloader))\n",
    "    val_losses.append(avg_val_mse_loss)\n",
    "    # Checking if we improved from the previous best epoch\n",
    "    if avg_val_mse_loss < best_mse:\n",
    "        best_mse = avg_val_mse_loss\n",
    "        best_weights = copy.deepcopy(fully_connected_nn.state_dict())"
   ]
  },
  {
   "cell_type": "code",
   "execution_count": 24,
   "metadata": {},
   "outputs": [],
   "source": [
    "fully_connected_nn.load_state_dict(best_weights)\n",
    "model_path = f'feature_bagging_nn_models/fully_connected_nn_best_model'\n",
    "torch.save(fully_connected_nn.state_dict(), model_path)\n"
   ]
  },
  {
   "cell_type": "code",
   "execution_count": 25,
   "metadata": {},
   "outputs": [
    {
     "name": "stdout",
     "output_type": "stream",
     "text": [
      "Best Validation MSE: 0.7165828794240952\n"
     ]
    },
    {
     "data": {
      "image/png": "[encoded data removed]",
      "text/plain": [
       "<Figure size 800x500 with 1 Axes>"
      ]
     },
     "metadata": {},
     "output_type": "display_data"
    }
   ],
   "source": [
    "print(f'Best Validation MSE: {best_mse}')\n",
    "fig, ax = plt.subplots(figsize=(8, 5))\n",
    "ax.plot(train_losses, color='blue', label='Training Losses')\n",
    "ax.plot(val_losses, color='red', label='Validation Losses')\n",
    "ax.legend()\n",
    "ax.set(xlabel='Epochs', ylabel='MSE Loss', title='Learning Curves')\n",
    "plt.show()"
   ]
  },
  {
   "cell_type": "code",
   "execution_count": 26,
   "metadata": {},
   "outputs": [],
   "source": [
    "def calc_nn_metrics(y_true, y_pred, type='TRAIN'):\n",
    "    r2 = r2_score(y_true=y_true, y_pred=y_pred).round(4)\n",
    "    mse = mean_squared_error(y_true=y_true, y_pred=y_pred).round(4)\n",
    "    rmse = np.sqrt(mse).round(4)\n",
    "    mae = mean_absolute_error(y_true=y_true, y_pred=y_pred).round(4)\n",
    "\n",
    "    print(f'{type} METRICS')\n",
    "    print(f'R2: {r2}\\tMSE: {mse}\\tRMSE: {rmse}\\tMAE: {mae}')"
   ]
  },
  {
   "cell_type": "code",
   "execution_count": 27,
   "metadata": {},
   "outputs": [],
   "source": [
    "train_preds = fully_connected_nn(torch.tensor(X_train.to_numpy(), dtype=torch.float32)).detach().numpy()\n",
    "val_preds = fully_connected_nn(torch.tensor(X_val.to_numpy(), dtype=torch.float32)).detach().numpy()"
   ]
  },
  {
   "cell_type": "code",
   "execution_count": 28,
   "metadata": {},
   "outputs": [
    {
     "name": "stdout",
     "output_type": "stream",
     "text": [
      "TRAIN METRICS\n",
      "R2: 0.2617\tMSE: 0.7291\tRMSE: 0.8539\tMAE: 0.6202\n"
     ]
    }
   ],
   "source": [
    "calc_nn_metrics(y_true=y_train, y_pred=train_preds, type='TRAIN')"
   ]
  },
  {
   "cell_type": "code",
   "execution_count": 29,
   "metadata": {},
   "outputs": [
    {
     "name": "stdout",
     "output_type": "stream",
     "text": [
      "VALIDATION METRICS\n",
      "R2: 0.2705\tMSE: 0.8046\tRMSE: 0.897\tMAE: 0.714\n"
     ]
    }
   ],
   "source": [
    "calc_nn_metrics(y_true=y_val, y_pred=val_preds, type='VALIDATION')"
   ]
  },
  {
   "attachments": {},
   "cell_type": "markdown",
   "metadata": {},
   "source": [
    "# Sparsely Connected Neural Network"
   ]
  },
  {
   "attachments": {},
   "cell_type": "markdown",
   "metadata": {},
   "source": [
    "## Data Prep"
   ]
  },
  {
   "attachments": {},
   "cell_type": "markdown",
   "metadata": {},
   "source": [
    "### Defining set of features"
   ]
  },
  {
   "attachments": {},
   "cell_type": "markdown",
   "metadata": {},
   "source": [
    "The following features are to be excluded (they are either not present in the feature groupings or in the training datasets)"
   ]
  },
  {
   "cell_type": "code",
   "execution_count": 30,
   "metadata": {},
   "outputs": [
    {
     "name": "stdout",
     "output_type": "stream",
     "text": [
      "incongruent_modulation\n",
      "average_present_tense\n",
      "variance_in_DD\n",
      "min_present_tense\n",
      "within_person_disc_range\n",
      "max_present_tense\n",
      "stdev_present_tense\n",
      "discursive_diversity\n"
     ]
    }
   ],
   "source": [
    "for feature in X_train.columns:\n",
    "    if feature not in feature_groupings['Feature Name'].to_list():\n",
    "        print(feature)"
   ]
  },
  {
   "cell_type": "code",
   "execution_count": 31,
   "metadata": {},
   "outputs": [
    {
     "name": "stdout",
     "output_type": "stream",
     "text": [
      "min_dale_chall_classification\n",
      "max_dale_chall_classification\n",
      "stdev_dale_chall_classification\n",
      "average_dale_chall_classification\n",
      "min_time_diff\n",
      "max_time_diff\n",
      "stdev_time_diff\n",
      "average_time_diff\n"
     ]
    }
   ],
   "source": [
    "for feature in feature_groupings['Feature Name'].to_list():\n",
    "    if feature not in X_train.columns:\n",
    "        print(feature)"
   ]
  },
  {
   "cell_type": "code",
   "execution_count": 32,
   "metadata": {},
   "outputs": [],
   "source": [
    "feature_subset = list(set(X_train.columns).intersection(set(feature_groupings['Feature Name'].to_list())))\n",
    "feature_subset.sort()"
   ]
  },
  {
   "attachments": {},
   "cell_type": "markdown",
   "metadata": {},
   "source": [
    "### Preparing Mask"
   ]
  },
  {
   "cell_type": "code",
   "execution_count": 33,
   "metadata": {},
   "outputs": [
    {
     "data": {
      "text/plain": [
       "(378, 15)"
      ]
     },
     "execution_count": 33,
     "metadata": {},
     "output_type": "execute_result"
    }
   ],
   "source": [
    "feature_groupings_subset = feature_groupings[\n",
    "    feature_groupings['Feature Name'].isin(feature_subset)\n",
    "].drop_duplicates().sort_values(by=['Feature Name'])\n",
    "mask = feature_groupings_subset.iloc[:, 1:].to_numpy()\n",
    "mask.shape"
   ]
  },
  {
   "attachments": {},
   "cell_type": "markdown",
   "metadata": {},
   "source": [
    "### Preparing Dataset"
   ]
  },
  {
   "cell_type": "code",
   "execution_count": 34,
   "metadata": {},
   "outputs": [],
   "source": [
    "X_train_subset = X_train.loc[:, feature_subset]\n",
    "X_val_subset = X_val.loc[:, feature_subset]\n",
    "X_test_subset = X_test.loc[:, feature_subset]\n",
    "\n",
    "train_dataset_subset = CSOPDataset(X=X_train_subset.to_numpy(), y=y_train.to_numpy())\n",
    "val_dataset_subset = CSOPDataset(X=X_val_subset.to_numpy(), y=y_val.to_numpy())\n",
    "\n",
    "train_dataloader_subset = DataLoader(dataset=train_dataset_subset, batch_size=64, shuffle=True)\n",
    "val_dataloader_subset = DataLoader(dataset=val_dataset_subset, batch_size=64, shuffle=True)"
   ]
  },
  {
   "attachments": {},
   "cell_type": "markdown",
   "metadata": {},
   "source": [
    "## Model Definition"
   ]
  },
  {
   "cell_type": "code",
   "execution_count": 35,
   "metadata": {},
   "outputs": [],
   "source": [
    "class MaskedLinear(nn.Linear):\n",
    "    def __init__(self, mask, *args, **kwargs) -> None:\n",
    "        super().__init__(*args, **kwargs)\n",
    "        self.mask = torch.tensor(mask, requires_grad=False, dtype=torch.float32)\n",
    "    \n",
    "    def forward(self, X):\n",
    "        return F.linear(input=X, weight=self.weight, bias=self.bias)@self.mask"
   ]
  },
  {
   "cell_type": "code",
   "execution_count": 36,
   "metadata": {},
   "outputs": [],
   "source": [
    "class CSOPSparselyConnectedNN(nn.Module):\n",
    "    def __init__(self, num_input_features, mask, *args, **kwargs) -> None:\n",
    "        super().__init__(*args, **kwargs)\n",
    "        self.net = nn.Sequential(\n",
    "            MaskedLinear(in_features=num_input_features, out_features=num_input_features, mask=mask),\n",
    "            nn.ReLU(),\n",
    "            nn.Linear(in_features=15, out_features=8),\n",
    "            nn.ReLU(),\n",
    "            nn.Linear(in_features=8, out_features=4),\n",
    "            nn.ReLU(),\n",
    "            nn.Linear(in_features=4, out_features=1)\n",
    "        )\n",
    "\n",
    "    def forward(self, X):\n",
    "        return self.net(X)"
   ]
  },
  {
   "cell_type": "code",
   "execution_count": 37,
   "metadata": {},
   "outputs": [],
   "source": [
    "sparsely_connected_nn = CSOPSparselyConnectedNN(num_input_features=X_train_subset.shape[1], mask=mask)"
   ]
  },
  {
   "cell_type": "code",
   "execution_count": 38,
   "metadata": {},
   "outputs": [
    {
     "data": {
      "text/plain": [
       "CSOPSparselyConnectedNN(\n",
       "  (net): Sequential(\n",
       "    (0): MaskedLinear(in_features=378, out_features=378, bias=True)\n",
       "    (1): ReLU()\n",
       "    (2): Linear(in_features=15, out_features=8, bias=True)\n",
       "    (3): ReLU()\n",
       "    (4): Linear(in_features=8, out_features=4, bias=True)\n",
       "    (5): ReLU()\n",
       "    (6): Linear(in_features=4, out_features=1, bias=True)\n",
       "  )\n",
       ")"
      ]
     },
     "execution_count": 38,
     "metadata": {},
     "output_type": "execute_result"
    }
   ],
   "source": [
    "sparsely_connected_nn"
   ]
  },
  {
   "attachments": {},
   "cell_type": "markdown",
   "metadata": {},
   "source": [
    "## Model Training Setup"
   ]
  },
  {
   "cell_type": "code",
   "execution_count": 39,
   "metadata": {},
   "outputs": [],
   "source": [
    "loss_fn = nn.MSELoss()\n",
    "learning_rate = 0.0001\n",
    "optimizer = Adam(params=fully_connected_nn.parameters(), lr=learning_rate)\n",
    "max_epochs = 100\n",
    "\n",
    "best_mse = float('inf')\n",
    "best_weights = None\n",
    "train_losses, val_losses = [], []"
   ]
  },
  {
   "attachments": {},
   "cell_type": "markdown",
   "metadata": {},
   "source": [
    "## Model Training Loop"
   ]
  },
  {
   "cell_type": "code",
   "execution_count": 40,
   "metadata": {},
   "outputs": [
    {
     "name": "stderr",
     "output_type": "stream",
     "text": [
      "Epoch: 0:  93%|█████████▎| 13/14 [00:00<00:00, 171.59batch/s, mse=0.866]\n",
      "Epoch: 1:  93%|█████████▎| 13/14 [00:00<00:00, 257.02batch/s, mse=1.43] \n",
      "Epoch: 2:  93%|█████████▎| 13/14 [00:00<00:00, 249.80batch/s, mse=1.19]\n",
      "Epoch: 3:  93%|█████████▎| 13/14 [00:00<00:00, 258.23batch/s, mse=1.38] \n",
      "Epoch: 4:  93%|█████████▎| 13/14 [00:00<00:00, 186.86batch/s, mse=0.904]\n",
      "Epoch: 5:  93%|█████████▎| 13/14 [00:00<00:00, 255.82batch/s, mse=1.24] \n",
      "Epoch: 6:  93%|█████████▎| 13/14 [00:00<00:00, 260.94batch/s, mse=0.967]\n",
      "Epoch: 7:  93%|█████████▎| 13/14 [00:00<00:00, 257.60batch/s, mse=0.885]\n",
      "Epoch: 8:  93%|█████████▎| 13/14 [00:00<00:00, 231.40batch/s, mse=1]    \n",
      "Epoch: 9:  93%|█████████▎| 13/14 [00:00<00:00, 257.83batch/s, mse=1.25] \n",
      "Epoch: 10:  93%|█████████▎| 13/14 [00:00<00:00, 252.38batch/s, mse=1.13] \n",
      "Epoch: 11:  93%|█████████▎| 13/14 [00:00<00:00, 260.74batch/s, mse=1.3]  \n",
      "Epoch: 12:  93%|█████████▎| 13/14 [00:00<00:00, 260.95batch/s, mse=1.11]\n",
      "Epoch: 13:  93%|█████████▎| 13/14 [00:00<00:00, 260.50batch/s, mse=0.856]\n",
      "Epoch: 14:  93%|█████████▎| 13/14 [00:00<00:00, 262.71batch/s, mse=1.14] \n",
      "Epoch: 15:  93%|█████████▎| 13/14 [00:00<00:00, 261.77batch/s, mse=1.43] \n",
      "Epoch: 16:  93%|█████████▎| 13/14 [00:00<00:00, 266.07batch/s, mse=0.845]\n",
      "Epoch: 17:  93%|█████████▎| 13/14 [00:00<00:00, 260.29batch/s, mse=0.935]\n",
      "Epoch: 18:  93%|█████████▎| 13/14 [00:00<00:00, 257.57batch/s, mse=1.02] \n",
      "Epoch: 19:  93%|█████████▎| 13/14 [00:00<00:00, 256.10batch/s, mse=0.699]\n",
      "Epoch: 20:  93%|█████████▎| 13/14 [00:00<00:00, 254.00batch/s, mse=1.33] \n",
      "Epoch: 21:  93%|█████████▎| 13/14 [00:00<00:00, 263.58batch/s, mse=1.5]  \n",
      "Epoch: 22:  93%|█████████▎| 13/14 [00:00<00:00, 259.06batch/s, mse=0.855]\n",
      "Epoch: 23:  93%|█████████▎| 13/14 [00:00<00:00, 257.51batch/s, mse=1.11] \n",
      "Epoch: 24:  93%|█████████▎| 13/14 [00:00<00:00, 259.10batch/s, mse=1.07]\n",
      "Epoch: 25:  93%|█████████▎| 13/14 [00:00<00:00, 257.49batch/s, mse=1.08] \n",
      "Epoch: 26:  93%|█████████▎| 13/14 [00:00<00:00, 215.74batch/s, mse=1.14] \n",
      "Epoch: 27:  93%|█████████▎| 13/14 [00:00<00:00, 177.17batch/s, mse=0.887]\n",
      "Epoch: 28:  93%|█████████▎| 13/14 [00:00<00:00, 209.84batch/s, mse=0.861]\n",
      "Epoch: 29:  93%|█████████▎| 13/14 [00:00<00:00, 201.15batch/s, mse=1.16] \n",
      "Epoch: 30:  93%|█████████▎| 13/14 [00:00<00:00, 144.23batch/s, mse=1.29] \n",
      "Epoch: 31:  93%|█████████▎| 13/14 [00:00<00:00, 255.44batch/s, mse=1.29] \n",
      "Epoch: 32:  93%|█████████▎| 13/14 [00:00<00:00, 198.33batch/s, mse=1.33] \n",
      "Epoch: 33:  93%|█████████▎| 13/14 [00:00<00:00, 155.57batch/s, mse=1.2]  \n",
      "Epoch: 34:  93%|█████████▎| 13/14 [00:00<00:00, 231.97batch/s, mse=0.847]\n",
      "Epoch: 35:  93%|█████████▎| 13/14 [00:00<00:00, 249.29batch/s, mse=0.846]\n",
      "Epoch: 36:  93%|█████████▎| 13/14 [00:00<00:00, 242.13batch/s, mse=1.08] \n",
      "Epoch: 37:  93%|█████████▎| 13/14 [00:00<00:00, 247.02batch/s, mse=1.08] \n",
      "Epoch: 38:  93%|█████████▎| 13/14 [00:00<00:00, 194.21batch/s, mse=1.35] \n",
      "Epoch: 39:  93%|█████████▎| 13/14 [00:00<00:00, 248.36batch/s, mse=1.55] \n",
      "Epoch: 40:  93%|█████████▎| 13/14 [00:00<00:00, 250.26batch/s, mse=1.3]  \n",
      "Epoch: 41:  93%|█████████▎| 13/14 [00:00<00:00, 251.04batch/s, mse=0.878]\n",
      "Epoch: 42:  93%|█████████▎| 13/14 [00:00<00:00, 252.46batch/s, mse=1.1]  \n",
      "Epoch: 43:  93%|█████████▎| 13/14 [00:00<00:00, 190.06batch/s, mse=0.79] \n",
      "Epoch: 44:  93%|█████████▎| 13/14 [00:00<00:00, 237.57batch/s, mse=1.07] \n",
      "Epoch: 45:  93%|█████████▎| 13/14 [00:00<00:00, 213.62batch/s, mse=0.981]\n",
      "Epoch: 46:  93%|█████████▎| 13/14 [00:00<00:00, 211.36batch/s, mse=1.02] \n",
      "Epoch: 47:  93%|█████████▎| 13/14 [00:00<00:00, 130.79batch/s, mse=1.16] \n",
      "Epoch: 48:  93%|█████████▎| 13/14 [00:00<00:00, 162.80batch/s, mse=1.03] \n",
      "Epoch: 49:  93%|█████████▎| 13/14 [00:00<00:00, 189.69batch/s, mse=1.03] \n",
      "Epoch: 50:  93%|█████████▎| 13/14 [00:00<00:00, 183.89batch/s, mse=1.03]\n",
      "Epoch: 51:  93%|█████████▎| 13/14 [00:00<00:00, 233.72batch/s, mse=1.19] \n",
      "Epoch: 52:  93%|█████████▎| 13/14 [00:00<00:00, 221.46batch/s, mse=1.06] \n",
      "Epoch: 53:  93%|█████████▎| 13/14 [00:00<00:00, 147.16batch/s, mse=1.29] \n",
      "Epoch: 54:  93%|█████████▎| 13/14 [00:00<00:00, 208.56batch/s, mse=1.17] \n",
      "Epoch: 55:  93%|█████████▎| 13/14 [00:00<00:00, 222.71batch/s, mse=0.909]\n",
      "Epoch: 56:  93%|█████████▎| 13/14 [00:00<00:00, 220.18batch/s, mse=0.876]\n",
      "Epoch: 57:  93%|█████████▎| 13/14 [00:00<00:00, 225.42batch/s, mse=1.17] \n",
      "Epoch: 58:  93%|█████████▎| 13/14 [00:00<00:00, 234.43batch/s, mse=1.04] \n",
      "Epoch: 59:  93%|█████████▎| 13/14 [00:00<00:00, 241.56batch/s, mse=1.27] \n",
      "Epoch: 60:  93%|█████████▎| 13/14 [00:00<00:00, 236.88batch/s, mse=1.57] \n",
      "Epoch: 61:  93%|█████████▎| 13/14 [00:00<00:00, 153.56batch/s, mse=1.06] \n",
      "Epoch: 62:  93%|█████████▎| 13/14 [00:00<00:00, 226.26batch/s, mse=0.892]\n",
      "Epoch: 63:  93%|█████████▎| 13/14 [00:00<00:00, 231.42batch/s, mse=0.78] \n",
      "Epoch: 64:  93%|█████████▎| 13/14 [00:00<00:00, 217.49batch/s, mse=1.24] \n",
      "Epoch: 65:  93%|█████████▎| 13/14 [00:00<00:00, 227.18batch/s, mse=1.13] \n",
      "Epoch: 66:  93%|█████████▎| 13/14 [00:00<00:00, 251.98batch/s, mse=0.899]\n",
      "Epoch: 67:  93%|█████████▎| 13/14 [00:00<00:00, 254.86batch/s, mse=1.16] \n",
      "Epoch: 68:  93%|█████████▎| 13/14 [00:00<00:00, 146.23batch/s, mse=1.61] \n",
      "Epoch: 69:  93%|█████████▎| 13/14 [00:00<00:00, 220.97batch/s, mse=1.26] \n",
      "Epoch: 70:  93%|█████████▎| 13/14 [00:00<00:00, 235.81batch/s, mse=0.892]\n",
      "Epoch: 71:  93%|█████████▎| 13/14 [00:00<00:00, 260.94batch/s, mse=1.12]\n",
      "Epoch: 72:  93%|█████████▎| 13/14 [00:00<00:00, 252.21batch/s, mse=1.18] \n",
      "Epoch: 73:  93%|█████████▎| 13/14 [00:00<00:00, 189.62batch/s, mse=1.14] \n",
      "Epoch: 74:  93%|█████████▎| 13/14 [00:00<00:00, 256.52batch/s, mse=1.16] \n",
      "Epoch: 75:  93%|█████████▎| 13/14 [00:00<00:00, 264.63batch/s, mse=1.18] \n",
      "Epoch: 76:  93%|█████████▎| 13/14 [00:00<00:00, 262.44batch/s, mse=0.953]\n",
      "Epoch: 77:  93%|█████████▎| 13/14 [00:00<00:00, 257.57batch/s, mse=1.43] \n",
      "Epoch: 78:  93%|█████████▎| 13/14 [00:00<00:00, 169.43batch/s, mse=0.986]\n",
      "Epoch: 79:  93%|█████████▎| 13/14 [00:00<00:00, 234.02batch/s, mse=0.913]\n",
      "Epoch: 80:  93%|█████████▎| 13/14 [00:00<00:00, 231.81batch/s, mse=1.3]  \n",
      "Epoch: 81:  93%|█████████▎| 13/14 [00:00<00:00, 153.82batch/s, mse=1.26] \n",
      "Epoch: 82:  93%|█████████▎| 13/14 [00:00<00:00, 231.78batch/s, mse=1.02] \n",
      "Epoch: 83:  93%|█████████▎| 13/14 [00:00<00:00, 250.79batch/s, mse=0.785]\n",
      "Epoch: 84:  93%|█████████▎| 13/14 [00:00<00:00, 177.84batch/s, mse=1.09] \n",
      "Epoch: 85:  93%|█████████▎| 13/14 [00:00<00:00, 259.31batch/s, mse=0.834]\n",
      "Epoch: 86:  93%|█████████▎| 13/14 [00:00<00:00, 249.15batch/s, mse=0.929]\n",
      "Epoch: 87:  93%|█████████▎| 13/14 [00:00<00:00, 256.90batch/s, mse=1.67] \n",
      "Epoch: 88:  93%|█████████▎| 13/14 [00:00<00:00, 180.47batch/s, mse=1.15] \n",
      "Epoch: 89:  93%|█████████▎| 13/14 [00:00<00:00, 263.51batch/s, mse=1.71] \n",
      "Epoch: 90:  93%|█████████▎| 13/14 [00:00<00:00, 256.99batch/s, mse=1.13] \n",
      "Epoch: 91:  93%|█████████▎| 13/14 [00:00<00:00, 185.91batch/s, mse=0.957]\n",
      "Epoch: 92:  93%|█████████▎| 13/14 [00:00<00:00, 259.13batch/s, mse=1.58]\n",
      "Epoch: 93:  93%|█████████▎| 13/14 [00:00<00:00, 259.21batch/s, mse=0.928]\n",
      "Epoch: 94:  93%|█████████▎| 13/14 [00:00<00:00, 156.84batch/s, mse=0.857]\n",
      "Epoch: 95:  93%|█████████▎| 13/14 [00:00<00:00, 215.04batch/s, mse=0.875]\n",
      "Epoch: 96:  93%|█████████▎| 13/14 [00:00<00:00, 237.30batch/s, mse=1.38] \n",
      "Epoch: 97:  93%|█████████▎| 13/14 [00:00<00:00, 248.83batch/s, mse=0.913]\n",
      "Epoch: 98:  93%|█████████▎| 13/14 [00:00<00:00, 255.87batch/s, mse=0.988]\n",
      "Epoch: 99:  93%|█████████▎| 13/14 [00:00<00:00, 204.79batch/s, mse=1.01] \n"
     ]
    }
   ],
   "source": [
    "for epoch in range(max_epochs):\n",
    "    # Training for one epoch\n",
    "    sparsely_connected_nn.train()\n",
    "    train_loss = 0\n",
    "    with tqdm(list(range(len(train_dataloader_subset))), unit=\"batch\", mininterval=0, disable=False) as bar:\n",
    "        bar.set_description(f'Epoch: {epoch}')\n",
    "        for (X_batch, y_batch), start in zip(train_dataloader_subset, bar):\n",
    "            # Forward Pass\n",
    "            X_batch, y_batch = X_batch.to(torch.float32), y_batch.to(torch.float32)\n",
    "            y_pred = sparsely_connected_nn(X_batch)\n",
    "            loss = loss_fn(y_pred, y_batch)\n",
    "            # Backward Pass\n",
    "            optimizer.zero_grad()\n",
    "            loss.backward()\n",
    "            # Weights Updates\n",
    "            optimizer.step()\n",
    "            # Print Progress\n",
    "            bar.set_postfix(mse=float(loss))\n",
    "            train_loss += float(loss)\n",
    "    # Calculating average training loss after one epoch\n",
    "    avg_train_mse_loss = float(train_loss/len(train_dataloader_subset))\n",
    "    train_losses.append(avg_train_mse_loss)\n",
    "    # Validation after one epoch\n",
    "    sparsely_connected_nn.eval()\n",
    "    val_loss = 0\n",
    "    for X_batch, y_batch in val_dataloader_subset:\n",
    "        # Forward Pass\n",
    "        X_batch, y_batch = X_batch.to(torch.float32), y_batch.to(torch.float32)\n",
    "        y_pred = sparsely_connected_nn(X_batch)\n",
    "        val_mse_loss = loss_fn(y_pred, y_batch)\n",
    "        val_loss += float(val_mse_loss)\n",
    "    # Calculating average validation loss after one epoch\n",
    "    avg_val_mse_loss = float(val_loss/len(val_dataloader_subset))\n",
    "    val_losses.append(avg_val_mse_loss)\n",
    "    # Checking if we improved from the previous best epoch\n",
    "    if avg_val_mse_loss < best_mse:\n",
    "        best_mse = avg_val_mse_loss\n",
    "        best_weights = copy.deepcopy(sparsely_connected_nn.state_dict())"
   ]
  },
  {
   "attachments": {},
   "cell_type": "markdown",
   "metadata": {},
   "source": [
    "## Saving Best Model"
   ]
  },
  {
   "cell_type": "code",
   "execution_count": 41,
   "metadata": {},
   "outputs": [],
   "source": [
    "sparsely_connected_nn.load_state_dict(best_weights)\n",
    "model_path = f'feature_bagging_nn_models/sparsely_connected_nn_best_model'\n",
    "torch.save(sparsely_connected_nn.state_dict(), model_path)"
   ]
  },
  {
   "attachments": {},
   "cell_type": "markdown",
   "metadata": {},
   "source": [
    "## Learning Curves"
   ]
  },
  {
   "cell_type": "code",
   "execution_count": 42,
   "metadata": {},
   "outputs": [
    {
     "name": "stdout",
     "output_type": "stream",
     "text": [
      "Best Validation MSE: 1.105033278465271\n"
     ]
    },
    {
     "data": {
      "image/png": "[encoded data removed]",
      "text/plain": [
       "<Figure size 800x500 with 1 Axes>"
      ]
     },
     "metadata": {},
     "output_type": "display_data"
    }
   ],
   "source": [
    "print(f'Best Validation MSE: {best_mse}')\n",
    "fig, ax = plt.subplots(figsize=(8, 5))\n",
    "ax.plot(train_losses, color='blue', label='Training Losses')\n",
    "ax.plot(val_losses, color='red', label='Validation Losses')\n",
    "ax.legend()\n",
    "ax.set(xlabel='Epochs', ylabel='MSE Loss', title='Learning Curves')\n",
    "plt.show()"
   ]
  },
  {
   "attachments": {},
   "cell_type": "markdown",
   "metadata": {},
   "source": [
    "## Metrics"
   ]
  },
  {
   "cell_type": "code",
   "execution_count": 43,
   "metadata": {},
   "outputs": [],
   "source": [
    "train_preds = sparsely_connected_nn(torch.tensor(X_train_subset.to_numpy(), dtype=torch.float32)).detach().numpy()\n",
    "val_preds = sparsely_connected_nn(torch.tensor(X_val_subset.to_numpy(), dtype=torch.float32)).detach().numpy()"
   ]
  },
  {
   "cell_type": "code",
   "execution_count": 44,
   "metadata": {},
   "outputs": [
    {
     "name": "stdout",
     "output_type": "stream",
     "text": [
      "TRAIN METRICS\n",
      "R2: -0.0948\tMSE: 1.0813\tRMSE: 1.0399\tMAE: 0.868\n"
     ]
    }
   ],
   "source": [
    "calc_nn_metrics(y_true=y_train, y_pred=train_preds, type='TRAIN')"
   ]
  },
  {
   "cell_type": "code",
   "execution_count": 45,
   "metadata": {},
   "outputs": [
    {
     "name": "stdout",
     "output_type": "stream",
     "text": [
      "VALIDATION METRICS\n",
      "R2: -0.1059\tMSE: 1.2198\tRMSE: 1.1044\tMAE: 0.9363\n"
     ]
    }
   ],
   "source": [
    "calc_nn_metrics(y_true=y_val, y_pred=val_preds, type='VALIDATION')"
   ]
  },
  {
   "attachments": {},
   "cell_type": "markdown",
   "metadata": {},
   "source": [
    "# Sparsely Connected Neural Network V2"
   ]
  },
  {
   "cell_type": "markdown",
   "metadata": {},
   "source": [
    "## Data Prep"
   ]
  },
  {
   "cell_type": "markdown",
   "metadata": {},
   "source": [
    "### Defining set of features"
   ]
  },
  {
   "cell_type": "markdown",
   "metadata": {},
   "source": [
    "The following features are to be excluded (they are either not present in the feature groupings or in the training datasets)"
   ]
  },
  {
   "cell_type": "code",
   "execution_count": 46,
   "metadata": {},
   "outputs": [
    {
     "name": "stdout",
     "output_type": "stream",
     "text": [
      "incongruent_modulation\n",
      "average_present_tense\n",
      "variance_in_DD\n",
      "min_present_tense\n",
      "within_person_disc_range\n",
      "max_present_tense\n",
      "stdev_present_tense\n",
      "discursive_diversity\n"
     ]
    }
   ],
   "source": [
    "for feature in X_train.columns:\n",
    "    if feature not in feature_groupings['Feature Name'].to_list():\n",
    "        print(feature)"
   ]
  },
  {
   "cell_type": "code",
   "execution_count": 47,
   "metadata": {},
   "outputs": [
    {
     "name": "stdout",
     "output_type": "stream",
     "text": [
      "min_dale_chall_classification\n",
      "max_dale_chall_classification\n",
      "stdev_dale_chall_classification\n",
      "average_dale_chall_classification\n",
      "min_time_diff\n",
      "max_time_diff\n",
      "stdev_time_diff\n",
      "average_time_diff\n"
     ]
    }
   ],
   "source": [
    "for feature in feature_groupings['Feature Name'].to_list():\n",
    "    if feature not in X_train.columns:\n",
    "        print(feature)"
   ]
  },
  {
   "cell_type": "code",
   "execution_count": 48,
   "metadata": {},
   "outputs": [],
   "source": [
    "feature_subset = list(set(X_train.columns).intersection(set(feature_groupings['Feature Name'].to_list())))\n",
    "feature_subset.sort()"
   ]
  },
  {
   "cell_type": "markdown",
   "metadata": {},
   "source": [
    "### Preparing Mask"
   ]
  },
  {
   "cell_type": "code",
   "execution_count": 49,
   "metadata": {},
   "outputs": [
    {
     "data": {
      "text/plain": [
       "(15, 378)"
      ]
     },
     "execution_count": 49,
     "metadata": {},
     "output_type": "execute_result"
    }
   ],
   "source": [
    "feature_groupings_subset = feature_groupings[\n",
    "    feature_groupings['Feature Name'].isin(feature_subset)\n",
    "].drop_duplicates().sort_values(by=['Feature Name'])\n",
    "mask = feature_groupings_subset.iloc[:, 1:].to_numpy().T\n",
    "mask.shape"
   ]
  },
  {
   "cell_type": "markdown",
   "metadata": {},
   "source": [
    "### Preparing Dataset"
   ]
  },
  {
   "cell_type": "code",
   "execution_count": 50,
   "metadata": {},
   "outputs": [],
   "source": [
    "X_train_subset = X_train.loc[:, feature_subset]\n",
    "X_val_subset = X_val.loc[:, feature_subset]\n",
    "X_test_subset = X_test.loc[:, feature_subset]\n",
    "\n",
    "train_dataset_subset = CSOPDataset(X=X_train_subset.to_numpy(), y=y_train.to_numpy())\n",
    "val_dataset_subset = CSOPDataset(X=X_val_subset.to_numpy(), y=y_val.to_numpy())\n",
    "\n",
    "train_dataloader_subset = DataLoader(dataset=train_dataset_subset, batch_size=64, shuffle=True)\n",
    "val_dataloader_subset = DataLoader(dataset=val_dataset_subset, batch_size=64, shuffle=True)"
   ]
  },
  {
   "cell_type": "markdown",
   "metadata": {},
   "source": [
    "## Model Definition"
   ]
  },
  {
   "cell_type": "code",
   "execution_count": 51,
   "metadata": {},
   "outputs": [],
   "source": [
    "class CSOPSparselyConnectedNNV2(nn.Module):\n",
    "    def __init__(self, num_input_features, *args, **kwargs) -> None:\n",
    "        super().__init__(*args, **kwargs)\n",
    "        self.net = nn.Sequential(\n",
    "            nn.Linear(in_features=num_input_features, out_features=15),\n",
    "            nn.ReLU(),\n",
    "            nn.Linear(in_features=15, out_features=1)\n",
    "        )\n",
    "\n",
    "    def forward(self, X):\n",
    "        return self.net(X)"
   ]
  },
  {
   "cell_type": "code",
   "execution_count": 52,
   "metadata": {},
   "outputs": [],
   "source": [
    "sparsely_connected_nn_v2 = CSOPSparselyConnectedNNV2(num_input_features=X_train_subset.shape[1])"
   ]
  },
  {
   "cell_type": "code",
   "execution_count": 53,
   "metadata": {},
   "outputs": [],
   "source": [
    "# temp = sparsely_connected_nn_v2.net[0].weight\n",
    "# sparsely_connected_nn_v2.net[0].weight = torch.nn.Parameter(torch.FloatTensor(temp.detach().numpy() * mask))"
   ]
  },
  {
   "cell_type": "markdown",
   "metadata": {},
   "source": [
    "## Model Training Setup"
   ]
  },
  {
   "cell_type": "code",
   "execution_count": 54,
   "metadata": {},
   "outputs": [],
   "source": [
    "loss_fn = nn.MSELoss()\n",
    "learning_rate = 0.0001\n",
    "optimizer = Adam(params=fully_connected_nn.parameters(), lr=learning_rate)\n",
    "max_epochs = 100\n",
    "\n",
    "best_mse = float('inf')\n",
    "best_weights = None\n",
    "train_losses, val_losses = [], []"
   ]
  },
  {
   "cell_type": "markdown",
   "metadata": {},
   "source": [
    "## Model Training Loop"
   ]
  },
  {
   "cell_type": "code",
   "execution_count": 55,
   "metadata": {},
   "outputs": [
    {
     "name": "stderr",
     "output_type": "stream",
     "text": [
      "Epoch: 0:  93%|█████████▎| 13/14 [00:00<00:00, 274.61batch/s, mse=0.732]\n",
      "Epoch: 1:  93%|█████████▎| 13/14 [00:00<00:00, 289.38batch/s, mse=0.894]\n",
      "Epoch: 2:  93%|█████████▎| 13/14 [00:00<00:00, 164.85batch/s, mse=0.64] \n",
      "Epoch: 3:  93%|█████████▎| 13/14 [00:00<00:00, 261.32batch/s, mse=1.11] \n",
      "Epoch: 4:  93%|█████████▎| 13/14 [00:00<00:00, 281.82batch/s, mse=0.995]\n",
      "Epoch: 5:  93%|█████████▎| 13/14 [00:00<00:00, 282.89batch/s, mse=0.82] \n",
      "Epoch: 6:  93%|█████████▎| 13/14 [00:00<00:00, 259.79batch/s, mse=0.71] \n",
      "Epoch: 7:  93%|█████████▎| 13/14 [00:00<00:00, 78.00batch/s, mse=0.913]\n",
      "Epoch: 8:  93%|█████████▎| 13/14 [00:00<00:00, 211.93batch/s, mse=0.826]\n",
      "Epoch: 9:  93%|█████████▎| 13/14 [00:00<00:00, 251.85batch/s, mse=0.88] \n",
      "Epoch: 10:  93%|█████████▎| 13/14 [00:00<00:00, 264.52batch/s, mse=0.8]  \n",
      "Epoch: 11:  93%|█████████▎| 13/14 [00:00<00:00, 277.40batch/s, mse=1.23]\n",
      "Epoch: 12:  93%|█████████▎| 13/14 [00:00<00:00, 326.52batch/s, mse=0.782]\n",
      "Epoch: 13:  93%|█████████▎| 13/14 [00:00<00:00, 334.07batch/s, mse=1.05] \n",
      "Epoch: 14:  93%|█████████▎| 13/14 [00:00<00:00, 272.68batch/s, mse=1.59] \n",
      "Epoch: 15:  93%|█████████▎| 13/14 [00:00<00:00, 363.12batch/s, mse=1.09] \n",
      "Epoch: 16:  93%|█████████▎| 13/14 [00:00<00:00, 331.51batch/s, mse=1.16] \n",
      "Epoch: 17:  93%|█████████▎| 13/14 [00:00<00:00, 345.06batch/s, mse=1]    \n",
      "Epoch: 18:  93%|█████████▎| 13/14 [00:00<00:00, 358.79batch/s, mse=0.741]\n",
      "Epoch: 19:  93%|█████████▎| 13/14 [00:00<00:00, 351.48batch/s, mse=1.24] \n",
      "Epoch: 20:  93%|█████████▎| 13/14 [00:00<00:00, 315.40batch/s, mse=0.659]\n",
      "Epoch: 21:  93%|█████████▎| 13/14 [00:00<00:00, 248.53batch/s, mse=1.1]  \n",
      "Epoch: 22:  93%|█████████▎| 13/14 [00:00<00:00, 166.44batch/s, mse=0.697]\n",
      "Epoch: 23:  93%|█████████▎| 13/14 [00:00<00:00, 268.67batch/s, mse=1.05] \n",
      "Epoch: 24:  93%|█████████▎| 13/14 [00:00<00:00, 277.32batch/s, mse=0.868]\n",
      "Epoch: 25:  93%|█████████▎| 13/14 [00:00<00:00, 343.73batch/s, mse=0.948]\n",
      "Epoch: 26:  93%|█████████▎| 13/14 [00:00<00:00, 354.90batch/s, mse=1.38] \n",
      "Epoch: 27:  93%|█████████▎| 13/14 [00:00<00:00, 244.65batch/s, mse=0.731]\n",
      "Epoch: 28:  93%|█████████▎| 13/14 [00:00<00:00, 343.28batch/s, mse=0.843]\n",
      "Epoch: 29:  93%|█████████▎| 13/14 [00:00<00:00, 347.20batch/s, mse=0.94] \n",
      "Epoch: 30:  93%|█████████▎| 13/14 [00:00<00:00, 350.15batch/s, mse=0.642]\n",
      "Epoch: 31:  93%|█████████▎| 13/14 [00:00<00:00, 356.75batch/s, mse=0.895]\n",
      "Epoch: 32:  93%|█████████▎| 13/14 [00:00<00:00, 220.11batch/s, mse=0.698]\n",
      "Epoch: 33:  93%|█████████▎| 13/14 [00:00<00:00, 350.67batch/s, mse=1.48] \n",
      "Epoch: 34:  93%|█████████▎| 13/14 [00:00<00:00, 347.12batch/s, mse=0.761]\n",
      "Epoch: 35:  93%|█████████▎| 13/14 [00:00<00:00, 282.60batch/s, mse=1.26] \n",
      "Epoch: 36:  93%|█████████▎| 13/14 [00:00<00:00, 280.37batch/s, mse=0.95] \n",
      "Epoch: 37:  93%|█████████▎| 13/14 [00:00<00:00, 276.03batch/s, mse=0.638]\n",
      "Epoch: 38:  93%|█████████▎| 13/14 [00:00<00:00, 230.32batch/s, mse=0.729]\n",
      "Epoch: 39:  93%|█████████▎| 13/14 [00:00<00:00, 222.76batch/s, mse=1.41] \n",
      "Epoch: 40:  93%|█████████▎| 13/14 [00:00<00:00, 277.41batch/s, mse=1.12] \n",
      "Epoch: 41:  93%|█████████▎| 13/14 [00:00<00:00, 339.01batch/s, mse=1.24] \n",
      "Epoch: 42:  93%|█████████▎| 13/14 [00:00<00:00, 348.56batch/s, mse=1.06] \n",
      "Epoch: 43:  93%|█████████▎| 13/14 [00:00<00:00, 195.65batch/s, mse=0.772]\n",
      "Epoch: 44:  93%|█████████▎| 13/14 [00:00<00:00, 251.24batch/s, mse=1.24] \n",
      "Epoch: 45:  93%|█████████▎| 13/14 [00:00<00:00, 283.66batch/s, mse=0.579]\n",
      "Epoch: 46:  93%|█████████▎| 13/14 [00:00<00:00, 273.40batch/s, mse=0.646]\n",
      "Epoch: 47:  93%|█████████▎| 13/14 [00:00<00:00, 284.26batch/s, mse=0.994]\n",
      "Epoch: 48:  93%|█████████▎| 13/14 [00:00<00:00, 256.36batch/s, mse=0.599]\n",
      "Epoch: 49:  93%|█████████▎| 13/14 [00:00<00:00, 216.25batch/s, mse=0.755]\n",
      "Epoch: 50:  93%|█████████▎| 13/14 [00:00<00:00, 342.22batch/s, mse=1.37] \n",
      "Epoch: 51:  93%|█████████▎| 13/14 [00:00<00:00, 355.42batch/s, mse=0.988]\n",
      "Epoch: 52:  93%|█████████▎| 13/14 [00:00<00:00, 365.26batch/s, mse=0.841]\n",
      "Epoch: 53:  93%|█████████▎| 13/14 [00:00<00:00, 359.30batch/s, mse=0.875]\n",
      "Epoch: 54:  93%|█████████▎| 13/14 [00:00<00:00, 354.71batch/s, mse=1.44] \n",
      "Epoch: 55:  93%|█████████▎| 13/14 [00:00<00:00, 318.94batch/s, mse=1.37] \n",
      "Epoch: 56:  93%|█████████▎| 13/14 [00:00<00:00, 173.62batch/s, mse=0.515]\n",
      "Epoch: 57:  93%|█████████▎| 13/14 [00:00<00:00, 266.31batch/s, mse=1.53] \n",
      "Epoch: 58:  93%|█████████▎| 13/14 [00:00<00:00, 275.23batch/s, mse=0.762]\n",
      "Epoch: 59:  93%|█████████▎| 13/14 [00:00<00:00, 259.38batch/s, mse=0.846]\n",
      "Epoch: 60:  93%|█████████▎| 13/14 [00:00<00:00, 212.56batch/s, mse=1.18] \n",
      "Epoch: 61:  93%|█████████▎| 13/14 [00:00<00:00, 214.72batch/s, mse=1.11] \n",
      "Epoch: 62:  93%|█████████▎| 13/14 [00:00<00:00, 263.88batch/s, mse=1.06] \n",
      "Epoch: 63:  93%|█████████▎| 13/14 [00:00<00:00, 329.06batch/s, mse=1.77] \n",
      "Epoch: 64:  93%|█████████▎| 13/14 [00:00<00:00, 352.65batch/s, mse=0.711]\n",
      "Epoch: 65:  93%|█████████▎| 13/14 [00:00<00:00, 200.25batch/s, mse=1.07] \n",
      "Epoch: 66:  93%|█████████▎| 13/14 [00:00<00:00, 267.27batch/s, mse=1.35] \n",
      "Epoch: 67:  93%|█████████▎| 13/14 [00:00<00:00, 226.90batch/s, mse=0.84] \n",
      "Epoch: 68:  93%|█████████▎| 13/14 [00:00<00:00, 265.42batch/s, mse=1.57] \n",
      "Epoch: 69:  93%|█████████▎| 13/14 [00:00<00:00, 266.03batch/s, mse=1.42] \n",
      "Epoch: 70:  93%|█████████▎| 13/14 [00:00<00:00, 285.23batch/s, mse=0.732]\n",
      "Epoch: 71:  93%|█████████▎| 13/14 [00:00<00:00, 287.99batch/s, mse=0.98] \n",
      "Epoch: 72:  93%|█████████▎| 13/14 [00:00<00:00, 174.59batch/s, mse=0.993]\n",
      "Epoch: 73:  93%|█████████▎| 13/14 [00:00<00:00, 324.66batch/s, mse=0.704]\n",
      "Epoch: 74:  93%|█████████▎| 13/14 [00:00<00:00, 347.71batch/s, mse=0.961]\n",
      "Epoch: 75:  93%|█████████▎| 13/14 [00:00<00:00, 286.77batch/s, mse=1.07] \n",
      "Epoch: 76:  93%|█████████▎| 13/14 [00:00<00:00, 246.93batch/s, mse=0.981]\n",
      "Epoch: 77:  93%|█████████▎| 13/14 [00:00<00:00, 141.43batch/s, mse=0.75] \n",
      "Epoch: 78:  93%|█████████▎| 13/14 [00:00<00:00, 348.96batch/s, mse=1.41] \n",
      "Epoch: 79:  93%|█████████▎| 13/14 [00:00<00:00, 301.26batch/s, mse=0.569]\n",
      "Epoch: 80:  93%|█████████▎| 13/14 [00:00<00:00, 261.06batch/s, mse=0.668]\n",
      "Epoch: 81:  93%|█████████▎| 13/14 [00:00<00:00, 285.11batch/s, mse=0.65] \n",
      "Epoch: 82:  93%|█████████▎| 13/14 [00:00<00:00, 268.87batch/s, mse=0.851]\n",
      "Epoch: 83:  93%|█████████▎| 13/14 [00:00<00:00, 185.44batch/s, mse=0.684]\n",
      "Epoch: 84:  93%|█████████▎| 13/14 [00:00<00:00, 278.68batch/s, mse=0.651]\n",
      "Epoch: 85:  93%|█████████▎| 13/14 [00:00<00:00, 223.11batch/s, mse=0.658]\n",
      "Epoch: 86:  93%|█████████▎| 13/14 [00:00<00:00, 282.54batch/s, mse=1.04] \n",
      "Epoch: 87:  93%|█████████▎| 13/14 [00:00<00:00, 269.34batch/s, mse=1.09] \n",
      "Epoch: 88:  93%|█████████▎| 13/14 [00:00<00:00, 271.73batch/s, mse=0.657]\n",
      "Epoch: 89:  93%|█████████▎| 13/14 [00:00<00:00, 241.86batch/s, mse=1.73] \n",
      "Epoch: 90:  93%|█████████▎| 13/14 [00:00<00:00, 317.80batch/s, mse=1.05] \n",
      "Epoch: 91:  93%|█████████▎| 13/14 [00:00<00:00, 224.99batch/s, mse=0.743]\n",
      "Epoch: 92:  93%|█████████▎| 13/14 [00:00<00:00, 262.95batch/s, mse=0.729]\n",
      "Epoch: 93:  93%|█████████▎| 13/14 [00:00<00:00, 262.62batch/s, mse=1.07] \n",
      "Epoch: 94:  93%|█████████▎| 13/14 [00:00<00:00, 250.32batch/s, mse=1.15] \n",
      "Epoch: 95:  93%|█████████▎| 13/14 [00:00<00:00, 312.37batch/s, mse=1.22] \n",
      "Epoch: 96:  93%|█████████▎| 13/14 [00:00<00:00, 341.51batch/s, mse=1.03] \n",
      "Epoch: 97:  93%|█████████▎| 13/14 [00:00<00:00, 358.20batch/s, mse=0.908]\n",
      "Epoch: 98:  93%|█████████▎| 13/14 [00:00<00:00, 238.20batch/s, mse=0.934]\n",
      "Epoch: 99:  93%|█████████▎| 13/14 [00:00<00:00, 281.76batch/s, mse=0.904]\n"
     ]
    }
   ],
   "source": [
    "for epoch in range(max_epochs):\n",
    "    # Training for one epoch\n",
    "    sparsely_connected_nn_v2.train()\n",
    "    train_loss = 0\n",
    "    with tqdm(list(range(len(train_dataloader_subset))), unit=\"batch\", mininterval=0, disable=False) as bar:\n",
    "        bar.set_description(f'Epoch: {epoch}')\n",
    "        for (X_batch, y_batch), start in zip(train_dataloader_subset, bar):\n",
    "            # Make sure mask is applied before forward pass\n",
    "            init_weight = sparsely_connected_nn_v2.net[0].weight.detach().numpy()\n",
    "            sparsely_connected_nn_v2.net[0].weight = torch.nn.Parameter(torch.FloatTensor(init_weight * mask))\n",
    "            # Forward Pass\n",
    "            X_batch, y_batch = X_batch.to(torch.float32), y_batch.to(torch.float32)\n",
    "            y_pred = sparsely_connected_nn_v2(X_batch)\n",
    "            loss = loss_fn(y_pred, y_batch)\n",
    "            # Backward Pass\n",
    "            optimizer.zero_grad()\n",
    "            loss.backward()\n",
    "            # Weights Updates\n",
    "            optimizer.step()\n",
    "            # Make sure mask is applied after the optimizer performs gradient descent\n",
    "            init_weight = sparsely_connected_nn_v2.net[0].weight.detach().numpy()\n",
    "            sparsely_connected_nn_v2.net[0].weight = torch.nn.Parameter(torch.FloatTensor(init_weight * mask))\n",
    "            # Print Progress\n",
    "            bar.set_postfix(mse=float(loss))\n",
    "            train_loss += float(loss)\n",
    "    # Calculating average training loss after one epoch\n",
    "    avg_train_mse_loss = float(train_loss/len(train_dataloader_subset))\n",
    "    train_losses.append(avg_train_mse_loss)\n",
    "    # Validation after one epoch\n",
    "    sparsely_connected_nn_v2.eval()\n",
    "    val_loss = 0\n",
    "    for X_batch, y_batch in val_dataloader_subset:\n",
    "        # Forward Pass\n",
    "        X_batch, y_batch = X_batch.to(torch.float32), y_batch.to(torch.float32)\n",
    "        y_pred = sparsely_connected_nn_v2(X_batch)\n",
    "        val_mse_loss = loss_fn(y_pred, y_batch)\n",
    "        val_loss += float(val_mse_loss)\n",
    "    # Calculating average validation loss after one epoch\n",
    "    avg_val_mse_loss = float(val_loss/len(val_dataloader_subset))\n",
    "    val_losses.append(avg_val_mse_loss)\n",
    "    # Checking if we improved from the previous best epoch\n",
    "    if avg_val_mse_loss < best_mse:\n",
    "        best_mse = avg_val_mse_loss\n",
    "        best_weights = copy.deepcopy(sparsely_connected_nn_v2.state_dict())"
   ]
  },
  {
   "cell_type": "markdown",
   "metadata": {},
   "source": [
    "## Saving Best Model"
   ]
  },
  {
   "cell_type": "code",
   "execution_count": 56,
   "metadata": {},
   "outputs": [],
   "source": [
    "sparsely_connected_nn_v2.load_state_dict(best_weights)\n",
    "model_path = f'feature_bagging_nn_models/sparsely_connected_nn_v2_best_model'\n",
    "torch.save(sparsely_connected_nn_v2.state_dict(), model_path)"
   ]
  },
  {
   "cell_type": "markdown",
   "metadata": {},
   "source": [
    "## Learning Curves"
   ]
  },
  {
   "cell_type": "code",
   "execution_count": 57,
   "metadata": {},
   "outputs": [
    {
     "name": "stdout",
     "output_type": "stream",
     "text": [
      "Best Validation MSE: 0.9160647541284561\n"
     ]
    },
    {
     "data": {
      "image/png": "[encoded data removed]",
      "text/plain": [
       "<Figure size 800x500 with 1 Axes>"
      ]
     },
     "metadata": {},
     "output_type": "display_data"
    }
   ],
   "source": [
    "print(f'Best Validation MSE: {best_mse}')\n",
    "fig, ax = plt.subplots(figsize=(8, 5))\n",
    "ax.plot(train_losses, color='blue', label='Training Losses')\n",
    "ax.plot(val_losses, color='red', label='Validation Losses')\n",
    "ax.legend()\n",
    "ax.set(xlabel='Epochs', ylabel='MSE Loss', title='Learning Curves')\n",
    "plt.show()"
   ]
  },
  {
   "cell_type": "markdown",
   "metadata": {},
   "source": [
    "## Metrics"
   ]
  },
  {
   "cell_type": "code",
   "execution_count": 58,
   "metadata": {},
   "outputs": [],
   "source": [
    "train_preds = sparsely_connected_nn_v2(torch.tensor(X_train_subset.to_numpy(), dtype=torch.float32)).detach().numpy()\n",
    "val_preds = sparsely_connected_nn_v2(torch.tensor(X_val_subset.to_numpy(), dtype=torch.float32)).detach().numpy()"
   ]
  },
  {
   "cell_type": "code",
   "execution_count": 59,
   "metadata": {},
   "outputs": [
    {
     "name": "stdout",
     "output_type": "stream",
     "text": [
      "TRAIN METRICS\n",
      "R2: 0.0181\tMSE: 0.9698\tRMSE: 0.9848\tMAE: 0.748\n"
     ]
    }
   ],
   "source": [
    "calc_nn_metrics(y_true=y_train, y_pred=train_preds, type='TRAIN')"
   ]
  },
  {
   "cell_type": "code",
   "execution_count": 60,
   "metadata": {},
   "outputs": [
    {
     "name": "stdout",
     "output_type": "stream",
     "text": [
      "VALIDATION METRICS\n",
      "R2: 0.031\tMSE: 1.0689\tRMSE: 1.0339\tMAE: 0.8189\n"
     ]
    }
   ],
   "source": [
    "calc_nn_metrics(y_true=y_val, y_pred=val_preds, type='VALIDATION')"
   ]
  }
 ],
 "metadata": {
  "kernelspec": {
   "display_name": "team_process_map",
   "language": "python",
   "name": "python3"
  },
  "language_info": {
   "codemirror_mode": {
    "name": "ipython",
    "version": 3
   },
   "file_extension": ".py",
   "mimetype": "text/x-python",
   "name": "python",
   "nbconvert_exporter": "python",
   "pygments_lexer": "ipython3",
   "version": "3.8.8"
  },
  "orig_nbformat": 4,
  "vscode": {
   "interpreter": {
    "hash": "4308115ec36d55d4bd05e5164490d17bc30a5f7275b0a0d4f3922ff237a9eaea"
   }
  }
 },
 "nbformat": 4,
 "nbformat_minor": 2
}
