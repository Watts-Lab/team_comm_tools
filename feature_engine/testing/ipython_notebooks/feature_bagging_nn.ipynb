{
 "cells": [
  {
   "attachments": {},
   "cell_type": "markdown",
   "metadata": {},
   "source": [
    "# Imports"
   ]
  },
  {
   "cell_type": "code",
   "execution_count": 1,
   "metadata": {},
   "outputs": [],
   "source": [
    "import pandas as pd\n",
    "import numpy as np\n",
    "import matplotlib.pyplot as plt\n",
    "import seaborn as sns\n",
    "import torch\n",
    "import torch.nn as nn\n",
    "import torch.nn.functional as F\n",
    "from torch.optim import SGD, Adam\n",
    "from torch.utils.data import DataLoader, Dataset\n",
    "import json\n",
    "from sklearn.model_selection import train_test_split\n",
    "from sklearn.preprocessing import StandardScaler\n",
    "from sklearn.metrics import r2_score, mean_squared_error, mean_absolute_error\n",
    "from tqdm import tqdm\n",
    "import copy"
   ]
  },
  {
   "attachments": {},
   "cell_type": "markdown",
   "metadata": {},
   "source": [
    "# Dataset"
   ]
  },
  {
   "cell_type": "code",
   "execution_count": 2,
   "metadata": {},
   "outputs": [],
   "source": [
    "with open('../../config.json', 'rb') as file:\n",
    "    config = json.load(file)\n",
    "csop_cols_to_ignore = config['csop']['cols_to_ignore']\n",
    "csopII_cols_to_ignore = config['csopII']['cols_to_ignore']\n",
    "csop_target, csopII_target = 'zscore_efficiency', 'efficiency'"
   ]
  },
  {
   "cell_type": "code",
   "execution_count": 3,
   "metadata": {},
   "outputs": [],
   "source": [
    "csop_raw = pd.read_csv('../../output/csop_output_conversation_level.csv')\n",
    "csop_all_features = csop_raw.drop(csop_cols_to_ignore, axis=1)\n",
    "target_scaler = StandardScaler()\n",
    "csop_all_features['target'] = target_scaler.fit_transform(csop_raw[csop_target].to_numpy().reshape(-1, 1))\n",
    "\n",
    "csopII_raw = pd.read_csv('../../output/csopII_output_conversation_level.csv')\n",
    "csopII_all_features = csopII_raw.drop(csopII_cols_to_ignore, axis=1)\n",
    "csopII_all_features['target'] = target_scaler.transform(csopII_raw[csopII_target].to_numpy().reshape(-1, 1))\n",
    "\n",
    "features = list(set(csop_all_features.columns).intersection(set(csopII_all_features.columns)))\n",
    "csop, csopII = csop_all_features[features].copy(), csopII_all_features[features].copy()\n",
    "csop, csopII = csop.fillna(0), csopII.fillna(0)"
   ]
  },
  {
   "cell_type": "code",
   "execution_count": 4,
   "metadata": {},
   "outputs": [
    {
     "data": {
      "text/plain": [
       "((882, 398), (98, 398), (962, 398), (882, 1), (98, 1), (962, 1))"
      ]
     },
     "execution_count": 4,
     "metadata": {},
     "output_type": "execute_result"
    }
   ],
   "source": [
    "X, y = csop.drop(['target'], axis=1), csop[['target']]\n",
    "X_train, X_val, y_train, y_val = train_test_split(X, y, test_size=0.1, random_state=42)\n",
    "X_test, y_test = csopII.drop(['target'], axis=1), csopII[['target']]\n",
    "\n",
    "feature_scaler = StandardScaler()\n",
    "X_train = pd.DataFrame(feature_scaler.fit_transform(X_train.to_numpy()), columns=X_train.columns)\n",
    "X_val = pd.DataFrame(feature_scaler.transform(X_val.to_numpy()), columns=X_val.columns)\n",
    "X_test = pd.DataFrame(feature_scaler.transform(X_test.to_numpy()), columns=X_test.columns)\n",
    "\n",
    "X_train.shape, X_val.shape, X_test.shape, y_train.shape, y_val.shape, y_test.shape"
   ]
  },
  {
   "cell_type": "code",
   "execution_count": 5,
   "metadata": {},
   "outputs": [
    {
     "data": {
      "text/plain": [
       "Index(['Communication Frequency', 'Information / Knowledge Exchange',\n",
       "       'Linguistic Features', 'Emotion', 'Cognitive Processes',\n",
       "       'Perceptual Processes', 'Social Processes', 'Biological Processes',\n",
       "       'Personal Concerns', 'Accommodation/\\nMimicry', 'Temporal', 'Question',\n",
       "       'Hedging', 'Politeness', 'Equality'],\n",
       "      dtype='object')"
      ]
     },
     "execution_count": 5,
     "metadata": {},
     "output_type": "execute_result"
    }
   ],
   "source": [
    "feature_groupings_raw = pd.read_excel('feature_groupings_06_20_23.xlsx')\n",
    "groups = feature_groupings_raw.columns[2:]\n",
    "groups"
   ]
  },
  {
   "cell_type": "code",
   "execution_count": 6,
   "metadata": {},
   "outputs": [
    {
     "name": "stderr",
     "output_type": "stream",
     "text": [
      "100%|██████████| 99/99 [00:00<00:00, 1703.34it/s]\n"
     ]
    }
   ],
   "source": [
    "rows = []\n",
    "for idx, row in tqdm(feature_groupings_raw.iterrows(), total=feature_groupings_raw.shape[0]):\n",
    "    if row['Level'] == 'Chat':\n",
    "        for prefix in ['min_', 'max_', 'stdev_', 'average_']:\n",
    "            feature_name = prefix + row['Feature Name']\n",
    "            row_to_append = [feature_name] + row[groups].to_list()\n",
    "            rows.append(row_to_append)\n",
    "    else:\n",
    "        feature_name = row['Feature Name']\n",
    "        row_to_append = [feature_name] + row[groups].to_list()\n",
    "        rows.append(row_to_append)\n",
    "feature_groupings = pd.DataFrame(\n",
    "    rows, \n",
    "    columns= [\n",
    "        'Feature Name', 'Communication Frequency', 'Information / Knowledge Exchange',\n",
    "        'Linguistic Features', 'Emotion', 'Cognitive Processes',\n",
    "        'Perceptual Processes', 'Social Processes', 'Biological Processes',\n",
    "        'Personal Concerns', 'Accommodation/\\nMimicry', 'Temporal', 'Question',\n",
    "        'Hedging', 'Politeness', 'Equality'\n",
    "    ]\n",
    ")"
   ]
  },
  {
   "attachments": {},
   "cell_type": "markdown",
   "metadata": {},
   "source": [
    "## Creating Data Loaders"
   ]
  },
  {
   "cell_type": "code",
   "execution_count": 7,
   "metadata": {},
   "outputs": [],
   "source": [
    "class CSOPDataset(Dataset):\n",
    "    def __init__(self, X, y):\n",
    "        self.X, self.y = X, y\n",
    "\n",
    "    def __len__(self):\n",
    "        return len(self.y)\n",
    "\n",
    "    def __getitem__(self, idx):\n",
    "        return [self.X[idx], self.y[idx]]"
   ]
  },
  {
   "cell_type": "code",
   "execution_count": 8,
   "metadata": {},
   "outputs": [],
   "source": [
    "train_dataset = CSOPDataset(X=X_train.to_numpy(), y=y_train.to_numpy())\n",
    "val_dataset = CSOPDataset(X=X_val.to_numpy(), y=y_val.to_numpy())"
   ]
  },
  {
   "cell_type": "code",
   "execution_count": 10,
   "metadata": {},
   "outputs": [],
   "source": [
    "torch.manual_seed(42)\n",
    "train_dataloader = DataLoader(dataset=train_dataset, batch_size=64, shuffle=True)\n",
    "val_dataloader = DataLoader(dataset=val_dataset, batch_size=64, shuffle=True)"
   ]
  },
  {
   "attachments": {},
   "cell_type": "markdown",
   "metadata": {},
   "source": [
    "# Linear Regression - Expressed as a Neural Network"
   ]
  },
  {
   "attachments": {},
   "cell_type": "markdown",
   "metadata": {},
   "source": [
    "## Model Definition"
   ]
  },
  {
   "cell_type": "code",
   "execution_count": 71,
   "metadata": {},
   "outputs": [],
   "source": [
    "class CSOPLinearRegressionNN(nn.Module):\n",
    "    def __init__(self, num_input_features):\n",
    "        super().__init__()\n",
    "        self.net = nn.Linear(in_features=num_input_features, out_features=1)\n",
    "        self.net.weight.data.normal_(mean=0, std=0.01)\n",
    "        self.net.weight.data = self.net.weight.data.to(torch.float64)\n",
    "        self.net.bias.data.fill_(value=0)\n",
    "        self.net.bias.data = self.net.bias.data.to(torch.float64)\n",
    "\n",
    "    def forward(self, X):\n",
    "        return self.net(X)"
   ]
  },
  {
   "cell_type": "code",
   "execution_count": 72,
   "metadata": {},
   "outputs": [],
   "source": [
    "linear_regression_nn = CSOPLinearRegressionNN(num_input_features=X_train.shape[1])"
   ]
  },
  {
   "attachments": {},
   "cell_type": "markdown",
   "metadata": {},
   "source": [
    "## Model Training"
   ]
  },
  {
   "cell_type": "code",
   "execution_count": 73,
   "metadata": {},
   "outputs": [],
   "source": [
    "optimizer = Adam\n",
    "loss_fn = nn.MSELoss()\n",
    "max_epochs = 100\n",
    "early_stopping_tol = 1000"
   ]
  },
  {
   "cell_type": "code",
   "execution_count": 74,
   "metadata": {},
   "outputs": [],
   "source": [
    "class Trainer():\n",
    "  def __init__(\n",
    "    self, model, optimizer, loss_fn,\n",
    "    train_dataloader, val_dataloader,\n",
    "    max_epochs=50, tol=10\n",
    "  ):\n",
    "    self.model = model\n",
    "    self.optimizer = optimizer(params=self.model.parameters(), lr=0.0003)\n",
    "    self.loss_fn = loss_fn\n",
    "    self.train_dataloader = train_dataloader\n",
    "    self.val_dataloader = val_dataloader\n",
    "    self.max_epochs = max_epochs\n",
    "    self.train_losses = []\n",
    "    self.val_losses = []\n",
    "    self.best_val_loss = float('inf')\n",
    "    self.best_val_loss_epoch = -1\n",
    "    self.tol = tol\n",
    "    self.max_tol = tol\n",
    "\n",
    "  def fit(self):\n",
    "    for epoch_idx in range(self.max_epochs):\n",
    "      if self.tol == 0:\n",
    "        print('Using Early Stopping')\n",
    "        break\n",
    "      self.train_one_epoch()\n",
    "      self.early_stopping(epoch_idx=epoch_idx)\n",
    "      print(f'Epoch {epoch_idx}\\t Train Loss: {self.train_losses[-1]}\\tVal Loss: {self.val_losses[-1]}')\n",
    "    print(f'Best Model Found at Epoch {self.best_val_loss_epoch}')\n",
    "\n",
    "  def train_one_epoch(self):\n",
    "    training_loss = 0\n",
    "    for features, labels in self.train_dataloader:\n",
    "      self.optimizer.zero_grad()\n",
    "      predictions = self.model(features)\n",
    "      loss = self.loss_fn(predictions, labels)\n",
    "      training_loss += loss.item()\n",
    "      loss.backward()\n",
    "      nn.utils.clip_grad_norm_(self.model.parameters(), max_norm=1.0, norm_type=2)\n",
    "      self.optimizer.step()\n",
    "    self.train_losses.append(training_loss/len(self.train_dataloader))\n",
    "\n",
    "    val_loss = 0\n",
    "    with torch.no_grad():\n",
    "      for features, labels in self.val_dataloader:\n",
    "        predictions = self.model(features)\n",
    "        loss = self.loss_fn(predictions, labels)\n",
    "        val_loss += loss.item()\n",
    "      self.val_losses.append(val_loss/len(self.val_dataloader))\n",
    "\n",
    "  def early_stopping(self, epoch_idx):\n",
    "    current_val_loss = self.val_losses[-1]\n",
    "    if current_val_loss < self.best_val_loss:\n",
    "      self.best_val_loss = current_val_loss\n",
    "      self.best_val_loss_epoch = epoch_idx\n",
    "      model_path = f'feature_bagging_nn_models/best_model'\n",
    "      torch.save(self.model.state_dict(), model_path)\n",
    "      self.tol = self.max_tol\n",
    "    else:\n",
    "      self.tol -= 1"
   ]
  },
  {
   "cell_type": "code",
   "execution_count": 75,
   "metadata": {},
   "outputs": [],
   "source": [
    "trainer = Trainer(\n",
    "  model=linear_regression_nn, optimizer=optimizer, loss_fn=loss_fn,\n",
    "  train_dataloader=train_dataloader, val_dataloader=val_dataloader,\n",
    "  max_epochs=max_epochs, tol=early_stopping_tol\n",
    ")"
   ]
  },
  {
   "cell_type": "code",
   "execution_count": 76,
   "metadata": {},
   "outputs": [
    {
     "name": "stdout",
     "output_type": "stream",
     "text": [
      "Epoch 0\t Train Loss: 0.8653709514611189\tVal Loss: 0.9570453031969731\n",
      "Epoch 1\t Train Loss: 0.8257994691790981\tVal Loss: 0.9307475883023674\n",
      "Epoch 2\t Train Loss: 0.8007132250704118\tVal Loss: 0.9329195614515184\n",
      "Epoch 3\t Train Loss: 0.7908307402147715\tVal Loss: 0.8547916392951476\n",
      "Epoch 4\t Train Loss: 0.7746850043886562\tVal Loss: 0.9523177616805683\n",
      "Epoch 5\t Train Loss: 0.7698976126724997\tVal Loss: 0.8762062779615787\n",
      "Epoch 6\t Train Loss: 0.7642294103296023\tVal Loss: 0.8175294024576085\n",
      "Epoch 7\t Train Loss: 0.7650295744324477\tVal Loss: 0.919218619263863\n",
      "Epoch 8\t Train Loss: 0.7616428596701582\tVal Loss: 0.8160893864849794\n",
      "Epoch 9\t Train Loss: 0.7602627976960932\tVal Loss: 0.8634113843885115\n",
      "Epoch 10\t Train Loss: 0.7547439559456081\tVal Loss: 0.8144293890673692\n",
      "Epoch 11\t Train Loss: 0.7491205355480061\tVal Loss: 0.7726811845474076\n",
      "Epoch 12\t Train Loss: 0.7484998903799989\tVal Loss: 0.8431690383873276\n",
      "Epoch 13\t Train Loss: 0.7486374905910955\tVal Loss: 0.8857126674534994\n",
      "Epoch 14\t Train Loss: 0.7449671767431182\tVal Loss: 0.8093237827737939\n",
      "Epoch 15\t Train Loss: 0.7476066399318336\tVal Loss: 0.8103390980387877\n",
      "Epoch 16\t Train Loss: 0.7436534084869466\tVal Loss: 0.7969786680787384\n",
      "Epoch 17\t Train Loss: 0.7399837119827717\tVal Loss: 0.816177180028606\n",
      "Epoch 18\t Train Loss: 0.739843402178135\tVal Loss: 0.8494267994635678\n",
      "Epoch 19\t Train Loss: 0.7370317322612318\tVal Loss: 0.8117963261478465\n",
      "Epoch 20\t Train Loss: 0.7346922838954562\tVal Loss: 0.8258711908280714\n",
      "Epoch 21\t Train Loss: 0.7349126042342062\tVal Loss: 0.87343133533706\n",
      "Epoch 22\t Train Loss: 0.733492879797082\tVal Loss: 0.846197792555015\n",
      "Epoch 23\t Train Loss: 0.7394583090959507\tVal Loss: 0.852610596315615\n",
      "Epoch 24\t Train Loss: 0.735680753799587\tVal Loss: 0.7804024751418116\n",
      "Epoch 25\t Train Loss: 0.7308464289001605\tVal Loss: 0.8597390993475997\n",
      "Epoch 26\t Train Loss: 0.7329544997342781\tVal Loss: 0.853708089747513\n",
      "Epoch 27\t Train Loss: 0.7287983596945844\tVal Loss: 0.8367678353490978\n",
      "Epoch 28\t Train Loss: 0.7290017918466193\tVal Loss: 0.7939987238560062\n",
      "Epoch 29\t Train Loss: 0.7344000176657816\tVal Loss: 0.9639277324030063\n",
      "Epoch 30\t Train Loss: 0.7300632877642862\tVal Loss: 0.9491192785058054\n",
      "Epoch 31\t Train Loss: 0.7315471345102832\tVal Loss: 0.7661098045145935\n",
      "Epoch 32\t Train Loss: 0.7257118940961751\tVal Loss: 0.8063243677138794\n",
      "Epoch 33\t Train Loss: 0.7229420758090235\tVal Loss: 0.9121857597033135\n",
      "Epoch 34\t Train Loss: 0.7278619688398376\tVal Loss: 0.9106911898302336\n",
      "Epoch 35\t Train Loss: 0.7246938807355836\tVal Loss: 0.8862588363249707\n",
      "Epoch 36\t Train Loss: 0.7264800361967703\tVal Loss: 0.835281745548125\n",
      "Epoch 37\t Train Loss: 0.7260027733306579\tVal Loss: 0.8798197209805017\n",
      "Epoch 38\t Train Loss: 0.7209913693723087\tVal Loss: 0.843619840377638\n",
      "Epoch 39\t Train Loss: 0.7210418959957448\tVal Loss: 0.8383780620688192\n",
      "Epoch 40\t Train Loss: 0.7248783247748335\tVal Loss: 0.8177956263361589\n",
      "Epoch 41\t Train Loss: 0.7212029722314915\tVal Loss: 0.9142308936675244\n",
      "Epoch 42\t Train Loss: 0.7236791503648491\tVal Loss: 0.8141069362645563\n",
      "Epoch 43\t Train Loss: 0.7200979704410788\tVal Loss: 0.9063310798508506\n",
      "Epoch 44\t Train Loss: 0.7185152822703118\tVal Loss: 0.8571231648769801\n",
      "Epoch 45\t Train Loss: 0.725510349524163\tVal Loss: 0.8824901997939196\n",
      "Epoch 46\t Train Loss: 0.724935917132882\tVal Loss: 0.8782573035404881\n",
      "Epoch 47\t Train Loss: 0.7269816394778129\tVal Loss: 0.8958144107707003\n",
      "Epoch 48\t Train Loss: 0.7246736822019217\tVal Loss: 0.9148105842502063\n",
      "Epoch 49\t Train Loss: 0.7162226345374003\tVal Loss: 0.9018321649099945\n",
      "Epoch 50\t Train Loss: 0.7182520820962892\tVal Loss: 0.837535223126797\n",
      "Epoch 51\t Train Loss: 0.7146852576088433\tVal Loss: 0.8811726064748137\n",
      "Epoch 52\t Train Loss: 0.7202213935313097\tVal Loss: 0.951270706136895\n",
      "Epoch 53\t Train Loss: 0.7238186754944174\tVal Loss: 0.8547933406967757\n",
      "Epoch 54\t Train Loss: 0.7238200265685542\tVal Loss: 0.8647113408165565\n",
      "Epoch 55\t Train Loss: 0.7193764396360348\tVal Loss: 0.9689094185745393\n",
      "Epoch 56\t Train Loss: 0.7173798853264293\tVal Loss: 0.9785742859402253\n",
      "Epoch 57\t Train Loss: 0.7147327161877046\tVal Loss: 0.8341658048947088\n",
      "Epoch 58\t Train Loss: 0.7143920554202673\tVal Loss: 0.8842763314491688\n",
      "Epoch 59\t Train Loss: 0.7224687694615897\tVal Loss: 0.8246558104798389\n",
      "Epoch 60\t Train Loss: 0.717414566706433\tVal Loss: 0.8632701975516699\n",
      "Epoch 61\t Train Loss: 0.7137173096044144\tVal Loss: 0.8756888009002481\n",
      "Epoch 62\t Train Loss: 0.7165867692204034\tVal Loss: 0.9525942240060297\n",
      "Epoch 63\t Train Loss: 0.7168643533629578\tVal Loss: 0.890426194249508\n",
      "Epoch 64\t Train Loss: 0.7213841731281266\tVal Loss: 0.8122383837355196\n",
      "Epoch 65\t Train Loss: 0.7183362886888643\tVal Loss: 0.8840614763538355\n",
      "Epoch 66\t Train Loss: 0.7130203019573986\tVal Loss: 0.8345139595316224\n",
      "Epoch 67\t Train Loss: 0.7231616708797903\tVal Loss: 0.8701168010649852\n",
      "Epoch 68\t Train Loss: 0.7114874524260923\tVal Loss: 0.9694317748543382\n",
      "Epoch 69\t Train Loss: 0.7135661331621554\tVal Loss: 0.8814854046222661\n",
      "Epoch 70\t Train Loss: 0.7099204424908131\tVal Loss: 0.9217917509362338\n",
      "Epoch 71\t Train Loss: 0.7212616709327602\tVal Loss: 0.8613255790120519\n",
      "Epoch 72\t Train Loss: 0.7208886453369913\tVal Loss: 0.8856197940598804\n",
      "Epoch 73\t Train Loss: 0.7129070862272957\tVal Loss: 0.8018802228752855\n",
      "Epoch 74\t Train Loss: 0.7128550614544483\tVal Loss: 0.8402280375948141\n",
      "Epoch 75\t Train Loss: 0.7108940276076741\tVal Loss: 0.9076269637068257\n",
      "Epoch 76\t Train Loss: 0.716173748631497\tVal Loss: 0.9485065062617514\n",
      "Epoch 77\t Train Loss: 0.7127111982329024\tVal Loss: 0.8442100135333515\n",
      "Epoch 78\t Train Loss: 0.7171312208252976\tVal Loss: 0.9121570507489118\n",
      "Epoch 79\t Train Loss: 0.7124155770010764\tVal Loss: 0.9457820552946192\n",
      "Epoch 80\t Train Loss: 0.7142444728590572\tVal Loss: 0.8340793744483701\n",
      "Epoch 81\t Train Loss: 0.7086658530740536\tVal Loss: 0.8498145735170535\n",
      "Epoch 82\t Train Loss: 0.7132414591369678\tVal Loss: 0.8799584192569603\n",
      "Epoch 83\t Train Loss: 0.7062502046237421\tVal Loss: 0.9208747978992348\n",
      "Epoch 84\t Train Loss: 0.7196051276773959\tVal Loss: 0.8712414518936822\n",
      "Epoch 85\t Train Loss: 0.7155670703441139\tVal Loss: 0.9335667055568571\n",
      "Epoch 86\t Train Loss: 0.7129654489997662\tVal Loss: 0.9135913606258994\n",
      "Epoch 87\t Train Loss: 0.7124875810920075\tVal Loss: 0.8464910555195553\n",
      "Epoch 88\t Train Loss: 0.7162257677070828\tVal Loss: 0.9090964860637807\n",
      "Epoch 89\t Train Loss: 0.7146889475808129\tVal Loss: 0.8337866380063879\n",
      "Epoch 90\t Train Loss: 0.7166230546701051\tVal Loss: 0.8689542311771973\n",
      "Epoch 91\t Train Loss: 0.7082231743786537\tVal Loss: 0.8425171786042649\n",
      "Epoch 92\t Train Loss: 0.7097007716014467\tVal Loss: 0.9151685664804323\n",
      "Epoch 93\t Train Loss: 0.7094659753287564\tVal Loss: 0.8916944624258812\n",
      "Epoch 94\t Train Loss: 0.7114685198521291\tVal Loss: 1.0221353027301383\n",
      "Epoch 95\t Train Loss: 0.7126627042870519\tVal Loss: 0.9077901617537814\n",
      "Epoch 96\t Train Loss: 0.7088296512634048\tVal Loss: 0.8913981747005696\n",
      "Epoch 97\t Train Loss: 0.7188463932411978\tVal Loss: 0.9195365944547094\n",
      "Epoch 98\t Train Loss: 0.7144157464354468\tVal Loss: 0.942296066088684\n",
      "Epoch 99\t Train Loss: 0.7112117232813794\tVal Loss: 0.8792954146929353\n",
      "Best Model Found at Epoch 31\n"
     ]
    }
   ],
   "source": [
    "trainer.fit()"
   ]
  },
  {
   "cell_type": "code",
   "execution_count": 77,
   "metadata": {},
   "outputs": [
    {
     "data": {
      "image/png": "[encoded data removed]",
      "text/plain": [
       "<Figure size 800x500 with 1 Axes>"
      ]
     },
     "metadata": {},
     "output_type": "display_data"
    }
   ],
   "source": [
    "fig, ax = plt.subplots(figsize=(8, 5))\n",
    "ax.plot(trainer.train_losses, color='blue', label='Training Losses')\n",
    "ax.plot(trainer.val_losses, color='red', label='Validation Losses')\n",
    "ax.legend()\n",
    "ax.set(xlabel='Epochs', ylabel='MSE Loss', title='Learning Curves')\n",
    "plt.show()"
   ]
  },
  {
   "cell_type": "code",
   "execution_count": 78,
   "metadata": {},
   "outputs": [],
   "source": [
    "linear_regression_nn_trained = trainer.model"
   ]
  },
  {
   "attachments": {},
   "cell_type": "markdown",
   "metadata": {},
   "source": [
    "# Fully Connected Neural Network"
   ]
  },
  {
   "attachments": {},
   "cell_type": "markdown",
   "metadata": {},
   "source": [
    "## Model Definition"
   ]
  },
  {
   "cell_type": "code",
   "execution_count": 22,
   "metadata": {},
   "outputs": [],
   "source": [
    "class CSOPFullyConnectedNN(nn.Module):\n",
    "    def __init__(self, num_input_features):\n",
    "        super().__init__()\n",
    "        self.net = nn.Sequential(\n",
    "            nn.Linear(in_features=num_input_features, out_features=15),\n",
    "            nn.ReLU(),\n",
    "            nn.Linear(in_features=15, out_features=1)\n",
    "        )\n",
    "        self.net[0].weight = torch.load('feature_bagging_nn_models/weight1.pt')\n",
    "        self.net[0].bias = torch.load('feature_bagging_nn_models/bias1.pt')\n",
    "        self.net[2].weight = torch.load('feature_bagging_nn_models/weight2.pt')\n",
    "        self.net[2].bias = torch.load('feature_bagging_nn_models/bias2.pt')\n",
    "\n",
    "    def forward(self, X):\n",
    "        return self.net(X)"
   ]
  },
  {
   "cell_type": "code",
   "execution_count": 33,
   "metadata": {},
   "outputs": [],
   "source": [
    "fully_connected_nn = CSOPFullyConnectedNN(num_input_features=X_train.shape[1])"
   ]
  },
  {
   "cell_type": "code",
   "execution_count": 21,
   "metadata": {},
   "outputs": [],
   "source": [
    "# ########## DO NOT UNCOMMENT THIS CELL ##########\n",
    "# torch.save(fully_connected_nn.net[0].weight, 'feature_bagging_nn_models/weight1.pt')\n",
    "# torch.save(fully_connected_nn.net[0].bias, 'feature_bagging_nn_models/bias1.pt')\n",
    "\n",
    "# torch.save(fully_connected_nn.net[2].weight, 'feature_bagging_nn_models/weight2.pt')\n",
    "# torch.save(fully_connected_nn.net[2].bias, 'feature_bagging_nn_models/bias2.pt')"
   ]
  },
  {
   "attachments": {},
   "cell_type": "markdown",
   "metadata": {},
   "source": [
    "## Model Training Setup"
   ]
  },
  {
   "cell_type": "code",
   "execution_count": 34,
   "metadata": {},
   "outputs": [],
   "source": [
    "loss_fn = nn.MSELoss()\n",
    "learning_rate = 0.0001\n",
    "optimizer = Adam(params=fully_connected_nn.parameters(), lr=learning_rate)\n",
    "max_epochs = 100"
   ]
  },
  {
   "cell_type": "code",
   "execution_count": 35,
   "metadata": {},
   "outputs": [],
   "source": [
    "best_mse = float('inf')\n",
    "best_weights = None\n",
    "train_losses, val_losses = [], []"
   ]
  },
  {
   "attachments": {},
   "cell_type": "markdown",
   "metadata": {},
   "source": [
    "## Model Training Loop"
   ]
  },
  {
   "cell_type": "code",
   "execution_count": 36,
   "metadata": {},
   "outputs": [
    {
     "name": "stderr",
     "output_type": "stream",
     "text": [
      "Epoch: 0:  93%|█████████▎| 13/14 [00:00<00:00, 174.63batch/s, mse=1.19] \n",
      "Epoch: 1:  93%|█████████▎| 13/14 [00:00<00:00, 348.63batch/s, mse=0.781]\n",
      "Epoch: 2:  93%|█████████▎| 13/14 [00:00<00:00, 348.70batch/s, mse=1.08] \n",
      "Epoch: 3:  93%|█████████▎| 13/14 [00:00<00:00, 300.12batch/s, mse=0.748]\n",
      "Epoch: 4:  93%|█████████▎| 13/14 [00:00<00:00, 278.55batch/s, mse=0.631]\n",
      "Epoch: 5:  93%|█████████▎| 13/14 [00:00<00:00, 294.77batch/s, mse=0.861]\n",
      "Epoch: 6:  93%|█████████▎| 13/14 [00:00<00:00, 302.17batch/s, mse=0.531]\n",
      "Epoch: 7:  93%|█████████▎| 13/14 [00:00<00:00, 322.51batch/s, mse=0.836]\n",
      "Epoch: 8:  93%|█████████▎| 13/14 [00:00<00:00, 280.45batch/s, mse=0.447]\n",
      "Epoch: 9:  93%|█████████▎| 13/14 [00:00<00:00, 282.66batch/s, mse=1.31] \n",
      "Epoch: 10:  93%|█████████▎| 13/14 [00:00<00:00, 262.83batch/s, mse=0.771]\n",
      "Epoch: 11:  93%|█████████▎| 13/14 [00:00<00:00, 225.64batch/s, mse=0.829]\n",
      "Epoch: 12:  93%|█████████▎| 13/14 [00:00<00:00, 264.30batch/s, mse=0.694]\n",
      "Epoch: 13:  93%|█████████▎| 13/14 [00:00<00:00, 287.57batch/s, mse=0.682]\n",
      "Epoch: 14:  93%|█████████▎| 13/14 [00:00<00:00, 167.94batch/s, mse=0.477]\n",
      "Epoch: 15:  93%|█████████▎| 13/14 [00:00<00:00, 283.80batch/s, mse=0.673]\n",
      "Epoch: 16:  93%|█████████▎| 13/14 [00:00<00:00, 253.41batch/s, mse=0.846]\n",
      "Epoch: 17:  93%|█████████▎| 13/14 [00:00<00:00, 303.45batch/s, mse=0.622]\n",
      "Epoch: 18:  93%|█████████▎| 13/14 [00:00<00:00, 308.29batch/s, mse=1.12] \n",
      "Epoch: 19:  93%|█████████▎| 13/14 [00:00<00:00, 226.88batch/s, mse=0.906]\n",
      "Epoch: 20:  93%|█████████▎| 13/14 [00:00<00:00, 292.78batch/s, mse=0.628]\n",
      "Epoch: 21:  93%|█████████▎| 13/14 [00:00<00:00, 291.65batch/s, mse=0.801]\n",
      "Epoch: 22:  93%|█████████▎| 13/14 [00:00<00:00, 293.88batch/s, mse=1.23] \n",
      "Epoch: 23:  93%|█████████▎| 13/14 [00:00<00:00, 295.54batch/s, mse=0.556]\n",
      "Epoch: 24:  93%|█████████▎| 13/14 [00:00<00:00, 195.86batch/s, mse=1.23] \n",
      "Epoch: 25:  93%|█████████▎| 13/14 [00:00<00:00, 265.34batch/s, mse=0.914]\n",
      "Epoch: 26:  93%|█████████▎| 13/14 [00:00<00:00, 283.08batch/s, mse=0.734]\n",
      "Epoch: 27:  93%|█████████▎| 13/14 [00:00<00:00, 275.73batch/s, mse=0.575]\n",
      "Epoch: 28:  93%|█████████▎| 13/14 [00:00<00:00, 194.76batch/s, mse=1.05] \n",
      "Epoch: 29:  93%|█████████▎| 13/14 [00:00<00:00, 268.22batch/s, mse=0.778]\n",
      "Epoch: 30:  93%|█████████▎| 13/14 [00:00<00:00, 306.31batch/s, mse=1.27] \n",
      "Epoch: 31:  93%|█████████▎| 13/14 [00:00<00:00, 305.49batch/s, mse=0.425]\n",
      "Epoch: 32:  93%|█████████▎| 13/14 [00:00<00:00, 333.02batch/s, mse=0.773]\n",
      "Epoch: 33:  93%|█████████▎| 13/14 [00:00<00:00, 344.85batch/s, mse=1.04] \n",
      "Epoch: 34:  93%|█████████▎| 13/14 [00:00<00:00, 289.22batch/s, mse=1.33] \n",
      "Epoch: 35:  93%|█████████▎| 13/14 [00:00<00:00, 355.72batch/s, mse=0.684]\n",
      "Epoch: 36:  93%|█████████▎| 13/14 [00:00<00:00, 331.80batch/s, mse=0.722]\n",
      "Epoch: 37:  93%|█████████▎| 13/14 [00:00<00:00, 342.58batch/s, mse=0.329]\n",
      "Epoch: 38:  93%|█████████▎| 13/14 [00:00<00:00, 345.54batch/s, mse=0.474]\n",
      "Epoch: 39:  93%|█████████▎| 13/14 [00:00<00:00, 244.55batch/s, mse=0.863]\n",
      "Epoch: 40:  93%|█████████▎| 13/14 [00:00<00:00, 317.30batch/s, mse=1]    \n",
      "Epoch: 41:  93%|█████████▎| 13/14 [00:00<00:00, 207.47batch/s, mse=0.401]\n",
      "Epoch: 42:  93%|█████████▎| 13/14 [00:00<00:00, 343.32batch/s, mse=0.673]\n",
      "Epoch: 43:  93%|█████████▎| 13/14 [00:00<00:00, 345.07batch/s, mse=0.732]\n",
      "Epoch: 44:  93%|█████████▎| 13/14 [00:00<00:00, 296.05batch/s, mse=0.703]\n",
      "Epoch: 45:  93%|█████████▎| 13/14 [00:00<00:00, 294.48batch/s, mse=0.962]\n",
      "Epoch: 46:  93%|█████████▎| 13/14 [00:00<00:00, 332.04batch/s, mse=1.22] \n",
      "Epoch: 47:  93%|█████████▎| 13/14 [00:00<00:00, 338.45batch/s, mse=1.07] \n",
      "Epoch: 48:  93%|█████████▎| 13/14 [00:00<00:00, 319.69batch/s, mse=0.45] \n",
      "Epoch: 49:  93%|█████████▎| 13/14 [00:00<00:00, 307.07batch/s, mse=0.364]\n",
      "Epoch: 50:  93%|█████████▎| 13/14 [00:00<00:00, 337.90batch/s, mse=0.522]\n",
      "Epoch: 51:  93%|█████████▎| 13/14 [00:00<00:00, 349.75batch/s, mse=0.483]\n",
      "Epoch: 52:  93%|█████████▎| 13/14 [00:00<00:00, 218.18batch/s, mse=1.15] \n",
      "Epoch: 53:  93%|█████████▎| 13/14 [00:00<00:00, 301.95batch/s, mse=0.534]\n",
      "Epoch: 54:  93%|█████████▎| 13/14 [00:00<00:00, 346.58batch/s, mse=0.525]\n",
      "Epoch: 55:  93%|█████████▎| 13/14 [00:00<00:00, 334.48batch/s, mse=1.03] \n",
      "Epoch: 56:  93%|█████████▎| 13/14 [00:00<00:00, 285.70batch/s, mse=0.45] \n",
      "Epoch: 57:  93%|█████████▎| 13/14 [00:00<00:00, 317.42batch/s, mse=0.571]\n",
      "Epoch: 58:  93%|█████████▎| 13/14 [00:00<00:00, 325.50batch/s, mse=0.688]\n",
      "Epoch: 59:  93%|█████████▎| 13/14 [00:00<00:00, 321.36batch/s, mse=0.391]\n",
      "Epoch: 60:  93%|█████████▎| 13/14 [00:00<00:00, 312.08batch/s, mse=0.435]\n",
      "Epoch: 61:  93%|█████████▎| 13/14 [00:00<00:00, 338.35batch/s, mse=0.976]\n",
      "Epoch: 62:  93%|█████████▎| 13/14 [00:00<00:00, 345.04batch/s, mse=0.868]\n",
      "Epoch: 63:  93%|█████████▎| 13/14 [00:00<00:00, 231.93batch/s, mse=0.4]  \n",
      "Epoch: 64:  93%|█████████▎| 13/14 [00:00<00:00, 292.74batch/s, mse=1.05] \n",
      "Epoch: 65:  93%|█████████▎| 13/14 [00:00<00:00, 347.24batch/s, mse=0.992]\n",
      "Epoch: 66:  93%|█████████▎| 13/14 [00:00<00:00, 336.65batch/s, mse=0.565]\n",
      "Epoch: 67:  93%|█████████▎| 13/14 [00:00<00:00, 346.80batch/s, mse=0.777]\n",
      "Epoch: 68:  93%|█████████▎| 13/14 [00:00<00:00, 334.39batch/s, mse=0.618]\n",
      "Epoch: 69:  93%|█████████▎| 13/14 [00:00<00:00, 280.04batch/s, mse=0.292]\n",
      "Epoch: 70:  93%|█████████▎| 13/14 [00:00<00:00, 346.86batch/s, mse=0.536]\n",
      "Epoch: 71:  93%|█████████▎| 13/14 [00:00<00:00, 346.79batch/s, mse=0.569]\n",
      "Epoch: 72:  93%|█████████▎| 13/14 [00:00<00:00, 212.64batch/s, mse=0.588]\n",
      "Epoch: 73:  93%|█████████▎| 13/14 [00:00<00:00, 350.19batch/s, mse=0.694]\n",
      "Epoch: 74:  93%|█████████▎| 13/14 [00:00<00:00, 288.47batch/s, mse=0.703]\n",
      "Epoch: 75:  93%|█████████▎| 13/14 [00:00<00:00, 343.58batch/s, mse=0.548]\n",
      "Epoch: 76:  93%|█████████▎| 13/14 [00:00<00:00, 349.93batch/s, mse=0.471]\n",
      "Epoch: 77:  93%|█████████▎| 13/14 [00:00<00:00, 339.56batch/s, mse=0.679]\n",
      "Epoch: 78:  93%|█████████▎| 13/14 [00:00<00:00, 346.06batch/s, mse=1.24] \n",
      "Epoch: 79:  93%|█████████▎| 13/14 [00:00<00:00, 225.31batch/s, mse=0.529]\n",
      "Epoch: 80:  93%|█████████▎| 13/14 [00:00<00:00, 228.97batch/s, mse=0.713]\n",
      "Epoch: 81:  93%|█████████▎| 13/14 [00:00<00:00, 302.75batch/s, mse=0.993]\n",
      "Epoch: 82:  93%|█████████▎| 13/14 [00:00<00:00, 328.87batch/s, mse=0.627]\n",
      "Epoch: 83:  93%|█████████▎| 13/14 [00:00<00:00, 329.41batch/s, mse=0.496]\n",
      "Epoch: 84:  93%|█████████▎| 13/14 [00:00<00:00, 280.22batch/s, mse=0.86] \n",
      "Epoch: 85:  93%|█████████▎| 13/14 [00:00<00:00, 345.85batch/s, mse=0.625]\n",
      "Epoch: 86:  93%|█████████▎| 13/14 [00:00<00:00, 331.59batch/s, mse=0.913]\n",
      "Epoch: 87:  93%|█████████▎| 13/14 [00:00<00:00, 330.31batch/s, mse=0.56] \n",
      "Epoch: 88:  93%|█████████▎| 13/14 [00:00<00:00, 243.87batch/s, mse=0.492]\n",
      "Epoch: 89:  93%|█████████▎| 13/14 [00:00<00:00, 263.14batch/s, mse=0.746]\n",
      "Epoch: 90:  93%|█████████▎| 13/14 [00:00<00:00, 333.87batch/s, mse=0.463]\n",
      "Epoch: 91:  93%|█████████▎| 13/14 [00:00<00:00, 344.00batch/s, mse=0.54] \n",
      "Epoch: 92:  93%|█████████▎| 13/14 [00:00<00:00, 328.66batch/s, mse=1.01] \n",
      "Epoch: 93:  93%|█████████▎| 13/14 [00:00<00:00, 340.81batch/s, mse=0.702]\n",
      "Epoch: 94:  93%|█████████▎| 13/14 [00:00<00:00, 291.93batch/s, mse=0.83] \n",
      "Epoch: 95:  93%|█████████▎| 13/14 [00:00<00:00, 345.29batch/s, mse=0.621]\n",
      "Epoch: 96:  93%|█████████▎| 13/14 [00:00<00:00, 213.46batch/s, mse=0.876]\n",
      "Epoch: 97:  93%|█████████▎| 13/14 [00:00<00:00, 337.08batch/s, mse=0.311]\n",
      "Epoch: 98:  93%|█████████▎| 13/14 [00:00<00:00, 353.50batch/s, mse=0.494]\n",
      "Epoch: 99:  93%|█████████▎| 13/14 [00:00<00:00, 294.32batch/s, mse=0.617]\n"
     ]
    }
   ],
   "source": [
    "for epoch in range(max_epochs):\n",
    "    # Training for one epoch\n",
    "    fully_connected_nn.train()\n",
    "    train_loss = 0\n",
    "    with tqdm(list(range(len(train_dataloader))), unit=\"batch\", mininterval=0, disable=False) as bar:\n",
    "        bar.set_description(f'Epoch: {epoch}')\n",
    "        for (X_batch, y_batch), start in zip(train_dataloader, bar):\n",
    "            # Forward Pass\n",
    "            X_batch, y_batch = X_batch.to(torch.float32), y_batch.to(torch.float32)\n",
    "            y_pred = fully_connected_nn(X_batch)\n",
    "            loss = loss_fn(y_pred, y_batch)\n",
    "            # Backward Pass\n",
    "            optimizer.zero_grad()\n",
    "            loss.backward()\n",
    "            # Weights Updates\n",
    "            optimizer.step()\n",
    "            # Print Progress\n",
    "            bar.set_postfix(mse=float(loss))\n",
    "            train_loss += float(loss)\n",
    "    # Calculating average training loss after one epoch\n",
    "    avg_train_mse_loss = float(train_loss/len(train_dataloader))\n",
    "    train_losses.append(avg_train_mse_loss)\n",
    "    # Validation after one epoch\n",
    "    fully_connected_nn.eval()\n",
    "    val_loss = 0\n",
    "    for X_batch, y_batch in val_dataloader:\n",
    "        # Forward Pass\n",
    "        X_batch, y_batch = X_batch.to(torch.float32), y_batch.to(torch.float32)\n",
    "        y_pred = fully_connected_nn(X_batch)\n",
    "        val_mse_loss = loss_fn(y_pred, y_batch)\n",
    "        val_loss += float(val_mse_loss)\n",
    "    # Calculating average validation loss after one epoch\n",
    "    avg_val_mse_loss = float(val_loss/len(val_dataloader))\n",
    "    val_losses.append(avg_val_mse_loss)\n",
    "    # Checking if we improved from the previous best epoch\n",
    "    if avg_val_mse_loss < best_mse:\n",
    "        best_mse = avg_val_mse_loss\n",
    "        best_weights = copy.deepcopy(fully_connected_nn.state_dict())"
   ]
  },
  {
   "cell_type": "code",
   "execution_count": 37,
   "metadata": {},
   "outputs": [],
   "source": [
    "fully_connected_nn.load_state_dict(best_weights)\n",
    "model_path = f'feature_bagging_nn_models/fully_connected_nn_best_model'\n",
    "torch.save(fully_connected_nn.state_dict(), model_path)"
   ]
  },
  {
   "cell_type": "code",
   "execution_count": 38,
   "metadata": {},
   "outputs": [
    {
     "name": "stdout",
     "output_type": "stream",
     "text": [
      "Best Validation MSE: 0.7290979027748108\n"
     ]
    },
    {
     "data": {
      "image/png": "[encoded data removed]",
      "text/plain": [
       "<Figure size 800x500 with 1 Axes>"
      ]
     },
     "metadata": {},
     "output_type": "display_data"
    }
   ],
   "source": [
    "print(f'Best Validation MSE: {best_mse}')\n",
    "fig, ax = plt.subplots(figsize=(8, 5))\n",
    "ax.plot(train_losses, color='blue', label='Training Losses')\n",
    "ax.plot(val_losses, color='red', label='Validation Losses')\n",
    "ax.legend()\n",
    "ax.set(xlabel='Epochs', ylabel='MSE Loss', title='Learning Curves')\n",
    "plt.show()"
   ]
  },
  {
   "cell_type": "code",
   "execution_count": 39,
   "metadata": {},
   "outputs": [],
   "source": [
    "def calc_nn_metrics(y_true, y_pred, type='TRAIN'):\n",
    "    r2 = r2_score(y_true=y_true, y_pred=y_pred).round(4)\n",
    "    mse = mean_squared_error(y_true=y_true, y_pred=y_pred).round(4)\n",
    "    rmse = np.sqrt(mse).round(4)\n",
    "    mae = mean_absolute_error(y_true=y_true, y_pred=y_pred).round(4)\n",
    "\n",
    "    print(f'{type} METRICS')\n",
    "    print(f'R2: {r2}\\tMSE: {mse}\\tRMSE: {rmse}\\tMAE: {mae}')"
   ]
  },
  {
   "cell_type": "code",
   "execution_count": 40,
   "metadata": {},
   "outputs": [],
   "source": [
    "train_preds = fully_connected_nn(torch.tensor(X_train.to_numpy(), dtype=torch.float32)).detach().numpy()\n",
    "val_preds = fully_connected_nn(torch.tensor(X_val.to_numpy(), dtype=torch.float32)).detach().numpy()"
   ]
  },
  {
   "cell_type": "code",
   "execution_count": 41,
   "metadata": {},
   "outputs": [
    {
     "name": "stdout",
     "output_type": "stream",
     "text": [
      "TRAIN METRICS\n",
      "R2: 0.2421\tMSE: 0.7486\tRMSE: 0.8652\tMAE: 0.6318\n"
     ]
    }
   ],
   "source": [
    "calc_nn_metrics(y_true=y_train, y_pred=train_preds, type='TRAIN')"
   ]
  },
  {
   "cell_type": "code",
   "execution_count": 42,
   "metadata": {},
   "outputs": [
    {
     "name": "stdout",
     "output_type": "stream",
     "text": [
      "VALIDATION METRICS\n",
      "R2: 0.2633\tMSE: 0.8126\tRMSE: 0.9014\tMAE: 0.6934\n"
     ]
    }
   ],
   "source": [
    "calc_nn_metrics(y_true=y_val, y_pred=val_preds, type='VALIDATION')"
   ]
  },
  {
   "attachments": {},
   "cell_type": "markdown",
   "metadata": {},
   "source": [
    "# Sparsely Connected Neural Network"
   ]
  },
  {
   "attachments": {},
   "cell_type": "markdown",
   "metadata": {},
   "source": [
    "## Data Prep"
   ]
  },
  {
   "attachments": {},
   "cell_type": "markdown",
   "metadata": {},
   "source": [
    "### Defining set of features"
   ]
  },
  {
   "attachments": {},
   "cell_type": "markdown",
   "metadata": {},
   "source": [
    "The following features are to be excluded (they are either not present in the feature groupings or in the training datasets)"
   ]
  },
  {
   "cell_type": "code",
   "execution_count": 90,
   "metadata": {},
   "outputs": [
    {
     "name": "stdout",
     "output_type": "stream",
     "text": [
      "incongruent_modulation\n",
      "average_present_tense\n",
      "variance_in_DD\n",
      "min_present_tense\n",
      "within_person_disc_range\n",
      "max_present_tense\n",
      "stdev_present_tense\n",
      "discursive_diversity\n"
     ]
    }
   ],
   "source": [
    "for feature in X_train.columns:\n",
    "    if feature not in feature_groupings['Feature Name'].to_list():\n",
    "        print(feature)"
   ]
  },
  {
   "cell_type": "code",
   "execution_count": 91,
   "metadata": {},
   "outputs": [
    {
     "name": "stdout",
     "output_type": "stream",
     "text": [
      "min_dale_chall_classification\n",
      "max_dale_chall_classification\n",
      "stdev_dale_chall_classification\n",
      "average_dale_chall_classification\n",
      "min_time_diff\n",
      "max_time_diff\n",
      "stdev_time_diff\n",
      "average_time_diff\n"
     ]
    }
   ],
   "source": [
    "for feature in feature_groupings['Feature Name'].to_list():\n",
    "    if feature not in X_train.columns:\n",
    "        print(feature)"
   ]
  },
  {
   "cell_type": "code",
   "execution_count": 92,
   "metadata": {},
   "outputs": [],
   "source": [
    "feature_subset = list(set(X_train.columns).intersection(set(feature_groupings['Feature Name'].to_list())))\n",
    "feature_subset.sort()"
   ]
  },
  {
   "attachments": {},
   "cell_type": "markdown",
   "metadata": {},
   "source": [
    "### Preparing Mask"
   ]
  },
  {
   "cell_type": "code",
   "execution_count": 93,
   "metadata": {},
   "outputs": [
    {
     "data": {
      "text/plain": [
       "(378, 15)"
      ]
     },
     "execution_count": 93,
     "metadata": {},
     "output_type": "execute_result"
    }
   ],
   "source": [
    "feature_groupings_subset = feature_groupings[\n",
    "    feature_groupings['Feature Name'].isin(feature_subset)\n",
    "].drop_duplicates().sort_values(by=['Feature Name'])\n",
    "mask = feature_groupings_subset.iloc[:, 1:].to_numpy()\n",
    "mask.shape"
   ]
  },
  {
   "attachments": {},
   "cell_type": "markdown",
   "metadata": {},
   "source": [
    "### Preparing Dataset"
   ]
  },
  {
   "cell_type": "code",
   "execution_count": 94,
   "metadata": {},
   "outputs": [],
   "source": [
    "X_train_subset = X_train.loc[:, feature_subset]\n",
    "X_val_subset = X_val.loc[:, feature_subset]\n",
    "X_test_subset = X_test.loc[:, feature_subset]\n",
    "\n",
    "train_dataset_subset = CSOPDataset(X=X_train_subset.to_numpy(), y=y_train.to_numpy())\n",
    "val_dataset_subset = CSOPDataset(X=X_val_subset.to_numpy(), y=y_val.to_numpy())\n",
    "\n",
    "train_dataloader_subset = DataLoader(dataset=train_dataset_subset, batch_size=64, shuffle=True)\n",
    "val_dataloader_subset = DataLoader(dataset=val_dataset_subset, batch_size=64, shuffle=True)"
   ]
  },
  {
   "attachments": {},
   "cell_type": "markdown",
   "metadata": {},
   "source": [
    "## Model Definition"
   ]
  },
  {
   "cell_type": "code",
   "execution_count": 95,
   "metadata": {},
   "outputs": [],
   "source": [
    "class MaskedLinear(nn.Linear):\n",
    "    def __init__(self, mask, *args, **kwargs) -> None:\n",
    "        super().__init__(*args, **kwargs)\n",
    "        self.mask = torch.tensor(mask, requires_grad=False, dtype=torch.float32)\n",
    "    \n",
    "    def forward(self, X):\n",
    "        return F.linear(input=X, weight=self.weight, bias=self.bias)@self.mask"
   ]
  },
  {
   "cell_type": "code",
   "execution_count": 96,
   "metadata": {},
   "outputs": [],
   "source": [
    "class CSOPSparselyConnectedNN(nn.Module):\n",
    "    def __init__(self, num_input_features, mask, *args, **kwargs) -> None:\n",
    "        super().__init__(*args, **kwargs)\n",
    "        self.net = nn.Sequential(\n",
    "            MaskedLinear(in_features=num_input_features, out_features=num_input_features, mask=mask),\n",
    "            nn.ReLU(),\n",
    "            nn.Linear(in_features=15, out_features=1)\n",
    "        )\n",
    "\n",
    "    def forward(self, X):\n",
    "        return self.net(X)"
   ]
  },
  {
   "cell_type": "code",
   "execution_count": 97,
   "metadata": {},
   "outputs": [],
   "source": [
    "sparsely_connected_nn = CSOPSparselyConnectedNN(num_input_features=X_train_subset.shape[1], mask=mask)"
   ]
  },
  {
   "cell_type": "code",
   "execution_count": 98,
   "metadata": {},
   "outputs": [
    {
     "data": {
      "text/plain": [
       "CSOPSparselyConnectedNN(\n",
       "  (net): Sequential(\n",
       "    (0): MaskedLinear(in_features=378, out_features=378, bias=True)\n",
       "    (1): ReLU()\n",
       "    (2): Linear(in_features=15, out_features=1, bias=True)\n",
       "  )\n",
       ")"
      ]
     },
     "execution_count": 98,
     "metadata": {},
     "output_type": "execute_result"
    }
   ],
   "source": [
    "sparsely_connected_nn"
   ]
  },
  {
   "attachments": {},
   "cell_type": "markdown",
   "metadata": {},
   "source": [
    "## Model Training Setup"
   ]
  },
  {
   "cell_type": "code",
   "execution_count": 99,
   "metadata": {},
   "outputs": [],
   "source": [
    "loss_fn = nn.MSELoss()\n",
    "learning_rate = 0.0001\n",
    "optimizer = Adam(params=fully_connected_nn.parameters(), lr=learning_rate)\n",
    "max_epochs = 100\n",
    "\n",
    "best_mse = float('inf')\n",
    "best_weights = None\n",
    "train_losses, val_losses = [], []"
   ]
  },
  {
   "attachments": {},
   "cell_type": "markdown",
   "metadata": {},
   "source": [
    "## Model Training Loop"
   ]
  },
  {
   "cell_type": "code",
   "execution_count": 100,
   "metadata": {},
   "outputs": [
    {
     "name": "stderr",
     "output_type": "stream",
     "text": [
      "Epoch: 0:  93%|█████████▎| 13/14 [00:00<00:00, 254.17batch/s, mse=1.69] \n",
      "Epoch: 1:  93%|█████████▎| 13/14 [00:00<00:00, 270.69batch/s, mse=1.14]\n",
      "Epoch: 2:  93%|█████████▎| 13/14 [00:00<00:00, 172.48batch/s, mse=1.03] \n",
      "Epoch: 3:  93%|█████████▎| 13/14 [00:00<00:00, 265.71batch/s, mse=1.97] \n",
      "Epoch: 4:  93%|█████████▎| 13/14 [00:00<00:00, 278.73batch/s, mse=1.08] \n",
      "Epoch: 5:  93%|█████████▎| 13/14 [00:00<00:00, 278.56batch/s, mse=0.868]\n",
      "Epoch: 6:  93%|█████████▎| 13/14 [00:00<00:00, 272.76batch/s, mse=0.99] \n",
      "Epoch: 7:  93%|█████████▎| 13/14 [00:00<00:00, 279.05batch/s, mse=1.16] \n",
      "Epoch: 8:  93%|█████████▎| 13/14 [00:00<00:00, 274.73batch/s, mse=1.56] \n",
      "Epoch: 9:  93%|█████████▎| 13/14 [00:00<00:00, 194.50batch/s, mse=1.79] \n",
      "Epoch: 10:  93%|█████████▎| 13/14 [00:00<00:00, 190.03batch/s, mse=1.14]\n",
      "Epoch: 11:  93%|█████████▎| 13/14 [00:00<00:00, 265.17batch/s, mse=1.1] \n",
      "Epoch: 12:  93%|█████████▎| 13/14 [00:00<00:00, 271.05batch/s, mse=1.28] \n",
      "Epoch: 13:  93%|█████████▎| 13/14 [00:00<00:00, 272.63batch/s, mse=0.807]\n",
      "Epoch: 14:  93%|█████████▎| 13/14 [00:00<00:00, 265.31batch/s, mse=1.07] \n",
      "Epoch: 15:  93%|█████████▎| 13/14 [00:00<00:00, 181.02batch/s, mse=1.08]\n",
      "Epoch: 16:  93%|█████████▎| 13/14 [00:00<00:00, 277.89batch/s, mse=1.67] \n",
      "Epoch: 17:  93%|█████████▎| 13/14 [00:00<00:00, 277.37batch/s, mse=1.28] \n",
      "Epoch: 18:  93%|█████████▎| 13/14 [00:00<00:00, 285.30batch/s, mse=1.82] \n",
      "Epoch: 19:  93%|█████████▎| 13/14 [00:00<00:00, 182.64batch/s, mse=1.23] \n",
      "Epoch: 20:  93%|█████████▎| 13/14 [00:00<00:00, 276.18batch/s, mse=0.946]\n",
      "Epoch: 21:  93%|█████████▎| 13/14 [00:00<00:00, 223.70batch/s, mse=1.07]\n",
      "Epoch: 22:  93%|█████████▎| 13/14 [00:00<00:00, 279.65batch/s, mse=0.698]\n",
      "Epoch: 23:  93%|█████████▎| 13/14 [00:00<00:00, 180.76batch/s, mse=0.528]\n",
      "Epoch: 24:  93%|█████████▎| 13/14 [00:00<00:00, 264.91batch/s, mse=1.16] \n",
      "Epoch: 25:  93%|█████████▎| 13/14 [00:00<00:00, 272.22batch/s, mse=1.63] \n",
      "Epoch: 26:  93%|█████████▎| 13/14 [00:00<00:00, 178.52batch/s, mse=1.41] \n",
      "Epoch: 27:  93%|█████████▎| 13/14 [00:00<00:00, 278.65batch/s, mse=1.78]\n",
      "Epoch: 28:  93%|█████████▎| 13/14 [00:00<00:00, 281.93batch/s, mse=1.94] \n",
      "Epoch: 29:  93%|█████████▎| 13/14 [00:00<00:00, 209.17batch/s, mse=0.985]\n",
      "Epoch: 30:  93%|█████████▎| 13/14 [00:00<00:00, 263.24batch/s, mse=1.2]  \n",
      "Epoch: 31:  93%|█████████▎| 13/14 [00:00<00:00, 259.17batch/s, mse=0.834]\n",
      "Epoch: 32:  93%|█████████▎| 13/14 [00:00<00:00, 171.81batch/s, mse=0.94]\n",
      "Epoch: 33:  93%|█████████▎| 13/14 [00:00<00:00, 268.13batch/s, mse=1.64] \n",
      "Epoch: 34:  93%|█████████▎| 13/14 [00:00<00:00, 276.03batch/s, mse=0.928]\n",
      "Epoch: 35:  93%|█████████▎| 13/14 [00:00<00:00, 174.96batch/s, mse=1.19]\n",
      "Epoch: 36:  93%|█████████▎| 13/14 [00:00<00:00, 280.29batch/s, mse=1.36] \n",
      "Epoch: 37:  93%|█████████▎| 13/14 [00:00<00:00, 286.36batch/s, mse=1.16]\n",
      "Epoch: 38:  93%|█████████▎| 13/14 [00:00<00:00, 182.55batch/s, mse=1.89] \n",
      "Epoch: 39:  93%|█████████▎| 13/14 [00:00<00:00, 275.96batch/s, mse=0.984]\n",
      "Epoch: 40:  93%|█████████▎| 13/14 [00:00<00:00, 273.22batch/s, mse=1.4]  \n",
      "Epoch: 41:  93%|█████████▎| 13/14 [00:00<00:00, 281.86batch/s, mse=1.48]\n",
      "Epoch: 42:  93%|█████████▎| 13/14 [00:00<00:00, 182.77batch/s, mse=1.69] \n",
      "Epoch: 43:  93%|█████████▎| 13/14 [00:00<00:00, 281.42batch/s, mse=0.726]\n",
      "Epoch: 44:  93%|█████████▎| 13/14 [00:00<00:00, 279.56batch/s, mse=1.39]\n",
      "Epoch: 45:  93%|█████████▎| 13/14 [00:00<00:00, 277.44batch/s, mse=1.28] \n",
      "Epoch: 46:  93%|█████████▎| 13/14 [00:00<00:00, 220.38batch/s, mse=0.754]\n",
      "Epoch: 47:  93%|█████████▎| 13/14 [00:00<00:00, 239.93batch/s, mse=0.967]\n",
      "Epoch: 48:  93%|█████████▎| 13/14 [00:00<00:00, 279.46batch/s, mse=1.14]\n",
      "Epoch: 49:  93%|█████████▎| 13/14 [00:00<00:00, 277.47batch/s, mse=0.673]\n",
      "Epoch: 50:  93%|█████████▎| 13/14 [00:00<00:00, 279.00batch/s, mse=1.8]  \n",
      "Epoch: 51:  93%|█████████▎| 13/14 [00:00<00:00, 180.87batch/s, mse=1.35] \n",
      "Epoch: 52:  93%|█████████▎| 13/14 [00:00<00:00, 277.69batch/s, mse=1.71]\n",
      "Epoch: 53:  93%|█████████▎| 13/14 [00:00<00:00, 250.54batch/s, mse=0.75] \n",
      "Epoch: 54:  93%|█████████▎| 13/14 [00:00<00:00, 221.92batch/s, mse=1.4] \n",
      "Epoch: 55:  93%|█████████▎| 13/14 [00:00<00:00, 277.86batch/s, mse=1.54] \n",
      "Epoch: 56:  93%|█████████▎| 13/14 [00:00<00:00, 275.97batch/s, mse=1.34] \n",
      "Epoch: 57:  93%|█████████▎| 13/14 [00:00<00:00, 195.52batch/s, mse=0.923]\n",
      "Epoch: 58:  93%|█████████▎| 13/14 [00:00<00:00, 274.56batch/s, mse=1.21] \n",
      "Epoch: 59:  93%|█████████▎| 13/14 [00:00<00:00, 231.32batch/s, mse=1.77] \n",
      "Epoch: 60:  93%|█████████▎| 13/14 [00:00<00:00, 236.99batch/s, mse=1.31]\n",
      "Epoch: 61:  93%|█████████▎| 13/14 [00:00<00:00, 281.65batch/s, mse=1.11] \n",
      "Epoch: 62:  93%|█████████▎| 13/14 [00:00<00:00, 188.00batch/s, mse=1.07] \n",
      "Epoch: 63:  93%|█████████▎| 13/14 [00:00<00:00, 276.32batch/s, mse=1.28] \n",
      "Epoch: 64:  93%|█████████▎| 13/14 [00:00<00:00, 278.92batch/s, mse=1.27] \n",
      "Epoch: 65:  93%|█████████▎| 13/14 [00:00<00:00, 186.97batch/s, mse=1.46] \n",
      "Epoch: 66:  93%|█████████▎| 13/14 [00:00<00:00, 279.30batch/s, mse=1.22] \n",
      "Epoch: 67:  93%|█████████▎| 13/14 [00:00<00:00, 275.75batch/s, mse=1.48] \n",
      "Epoch: 68:  93%|█████████▎| 13/14 [00:00<00:00, 184.21batch/s, mse=1.24] \n",
      "Epoch: 69:  93%|█████████▎| 13/14 [00:00<00:00, 278.04batch/s, mse=2.34]\n",
      "Epoch: 70:  93%|█████████▎| 13/14 [00:00<00:00, 278.40batch/s, mse=1.51]\n",
      "Epoch: 71:  93%|█████████▎| 13/14 [00:00<00:00, 203.18batch/s, mse=1.03]\n",
      "Epoch: 72:  93%|█████████▎| 13/14 [00:00<00:00, 267.74batch/s, mse=0.726]\n",
      "Epoch: 73:  93%|█████████▎| 13/14 [00:00<00:00, 278.65batch/s, mse=1.72] \n",
      "Epoch: 74:  93%|█████████▎| 13/14 [00:00<00:00, 199.36batch/s, mse=0.733]\n",
      "Epoch: 75:  93%|█████████▎| 13/14 [00:00<00:00, 242.37batch/s, mse=1.5]  \n",
      "Epoch: 76:  93%|█████████▎| 13/14 [00:00<00:00, 273.93batch/s, mse=2.34]\n",
      "Epoch: 77:  93%|█████████▎| 13/14 [00:00<00:00, 220.41batch/s, mse=1.48]\n",
      "Epoch: 78:  93%|█████████▎| 13/14 [00:00<00:00, 236.78batch/s, mse=1.38]\n",
      "Epoch: 79:  93%|█████████▎| 13/14 [00:00<00:00, 279.16batch/s, mse=2.08] \n",
      "Epoch: 80:  93%|█████████▎| 13/14 [00:00<00:00, 276.54batch/s, mse=1.05] \n",
      "Epoch: 81:  93%|█████████▎| 13/14 [00:00<00:00, 179.48batch/s, mse=0.788]\n",
      "Epoch: 82:  93%|█████████▎| 13/14 [00:00<00:00, 278.30batch/s, mse=0.741]\n",
      "Epoch: 83:  93%|█████████▎| 13/14 [00:00<00:00, 279.14batch/s, mse=1.89] \n",
      "Epoch: 84:  93%|█████████▎| 13/14 [00:00<00:00, 183.22batch/s, mse=0.933]\n",
      "Epoch: 85:  93%|█████████▎| 13/14 [00:00<00:00, 280.05batch/s, mse=1.35]\n",
      "Epoch: 86:  93%|█████████▎| 13/14 [00:00<00:00, 278.68batch/s, mse=2.24] \n",
      "Epoch: 87:  93%|█████████▎| 13/14 [00:00<00:00, 179.76batch/s, mse=1.23]\n",
      "Epoch: 88:  93%|█████████▎| 13/14 [00:00<00:00, 281.74batch/s, mse=0.517]\n",
      "Epoch: 89:  93%|█████████▎| 13/14 [00:00<00:00, 276.72batch/s, mse=0.725]\n",
      "Epoch: 90:  93%|█████████▎| 13/14 [00:00<00:00, 179.84batch/s, mse=0.92] \n",
      "Epoch: 91:  93%|█████████▎| 13/14 [00:00<00:00, 278.66batch/s, mse=1.62] \n",
      "Epoch: 92:  93%|█████████▎| 13/14 [00:00<00:00, 232.72batch/s, mse=1.25] \n",
      "Epoch: 93:  93%|█████████▎| 13/14 [00:00<00:00, 224.94batch/s, mse=1.36] \n",
      "Epoch: 94:  93%|█████████▎| 13/14 [00:00<00:00, 275.55batch/s, mse=1.01]\n",
      "Epoch: 95:  93%|█████████▎| 13/14 [00:00<00:00, 229.32batch/s, mse=1.13] \n",
      "Epoch: 96:  93%|█████████▎| 13/14 [00:00<00:00, 239.49batch/s, mse=1.08] \n",
      "Epoch: 97:  93%|█████████▎| 13/14 [00:00<00:00, 274.26batch/s, mse=1.76]\n",
      "Epoch: 98:  93%|█████████▎| 13/14 [00:00<00:00, 184.22batch/s, mse=0.929]\n",
      "Epoch: 99:  93%|█████████▎| 13/14 [00:00<00:00, 279.61batch/s, mse=1.01] \n"
     ]
    }
   ],
   "source": [
    "for epoch in range(max_epochs):\n",
    "    # Training for one epoch\n",
    "    sparsely_connected_nn.train()\n",
    "    train_loss = 0\n",
    "    with tqdm(list(range(len(train_dataloader_subset))), unit=\"batch\", mininterval=0, disable=False) as bar:\n",
    "        bar.set_description(f'Epoch: {epoch}')\n",
    "        for (X_batch, y_batch), start in zip(train_dataloader_subset, bar):\n",
    "            # Forward Pass\n",
    "            X_batch, y_batch = X_batch.to(torch.float32), y_batch.to(torch.float32)\n",
    "            y_pred = sparsely_connected_nn(X_batch)\n",
    "            loss = loss_fn(y_pred, y_batch)\n",
    "            # Backward Pass\n",
    "            optimizer.zero_grad()\n",
    "            loss.backward()\n",
    "            # Weights Updates\n",
    "            optimizer.step()\n",
    "            # Print Progress\n",
    "            bar.set_postfix(mse=float(loss))\n",
    "            train_loss += float(loss)\n",
    "    # Calculating average training loss after one epoch\n",
    "    avg_train_mse_loss = float(train_loss/len(train_dataloader_subset))\n",
    "    train_losses.append(avg_train_mse_loss)\n",
    "    # Validation after one epoch\n",
    "    sparsely_connected_nn.eval()\n",
    "    val_loss = 0\n",
    "    for X_batch, y_batch in val_dataloader_subset:\n",
    "        # Forward Pass\n",
    "        X_batch, y_batch = X_batch.to(torch.float32), y_batch.to(torch.float32)\n",
    "        y_pred = sparsely_connected_nn(X_batch)\n",
    "        val_mse_loss = loss_fn(y_pred, y_batch)\n",
    "        val_loss += float(val_mse_loss)\n",
    "    # Calculating average validation loss after one epoch\n",
    "    avg_val_mse_loss = float(val_loss/len(val_dataloader_subset))\n",
    "    val_losses.append(avg_val_mse_loss)\n",
    "    # Checking if we improved from the previous best epoch\n",
    "    if avg_val_mse_loss < best_mse:\n",
    "        best_mse = avg_val_mse_loss\n",
    "        best_weights = copy.deepcopy(sparsely_connected_nn.state_dict())"
   ]
  },
  {
   "attachments": {},
   "cell_type": "markdown",
   "metadata": {},
   "source": [
    "## Saving Best Model"
   ]
  },
  {
   "cell_type": "code",
   "execution_count": 101,
   "metadata": {},
   "outputs": [],
   "source": [
    "sparsely_connected_nn.load_state_dict(best_weights)\n",
    "model_path = f'feature_bagging_nn_models/sparsely_connected_nn_best_model'\n",
    "torch.save(sparsely_connected_nn.state_dict(), model_path)"
   ]
  },
  {
   "attachments": {},
   "cell_type": "markdown",
   "metadata": {},
   "source": [
    "## Learning Curves"
   ]
  },
  {
   "cell_type": "code",
   "execution_count": 102,
   "metadata": {},
   "outputs": [
    {
     "name": "stdout",
     "output_type": "stream",
     "text": [
      "Best Validation MSE: 1.8312841951847076\n"
     ]
    },
    {
     "data": {
      "image/png": "[encoded data removed]",
      "text/plain": [
       "<Figure size 800x500 with 1 Axes>"
      ]
     },
     "metadata": {},
     "output_type": "display_data"
    }
   ],
   "source": [
    "print(f'Best Validation MSE: {best_mse}')\n",
    "fig, ax = plt.subplots(figsize=(8, 5))\n",
    "ax.plot(train_losses, color='blue', label='Training Losses')\n",
    "ax.plot(val_losses, color='red', label='Validation Losses')\n",
    "ax.legend()\n",
    "ax.set(xlabel='Epochs', ylabel='MSE Loss', title='Learning Curves')\n",
    "plt.show()"
   ]
  },
  {
   "attachments": {},
   "cell_type": "markdown",
   "metadata": {},
   "source": [
    "## Metrics"
   ]
  },
  {
   "cell_type": "code",
   "execution_count": 103,
   "metadata": {},
   "outputs": [],
   "source": [
    "train_preds = sparsely_connected_nn(torch.tensor(X_train_subset.to_numpy(), dtype=torch.float32)).detach().numpy()\n",
    "val_preds = sparsely_connected_nn(torch.tensor(X_val_subset.to_numpy(), dtype=torch.float32)).detach().numpy()"
   ]
  },
  {
   "cell_type": "code",
   "execution_count": 104,
   "metadata": {},
   "outputs": [
    {
     "name": "stdout",
     "output_type": "stream",
     "text": [
      "TRAIN METRICS\n",
      "R2: -0.2493\tMSE: 1.2338\tRMSE: 1.1108\tMAE: 0.8277\n"
     ]
    }
   ],
   "source": [
    "calc_nn_metrics(y_true=y_train, y_pred=train_preds, type='TRAIN')"
   ]
  },
  {
   "cell_type": "code",
   "execution_count": 105,
   "metadata": {},
   "outputs": [
    {
     "name": "stdout",
     "output_type": "stream",
     "text": [
      "VALIDATION METRICS\n",
      "R2: -0.9625\tMSE: 2.1646\tRMSE: 1.4713\tMAE: 1.1205\n"
     ]
    }
   ],
   "source": [
    "calc_nn_metrics(y_true=y_val, y_pred=val_preds, type='VALIDATION')"
   ]
  },
  {
   "attachments": {},
   "cell_type": "markdown",
   "metadata": {},
   "source": [
    "# Sparsely Connected Neural Network V2"
   ]
  },
  {
   "attachments": {},
   "cell_type": "markdown",
   "metadata": {},
   "source": [
    "## Data Prep"
   ]
  },
  {
   "attachments": {},
   "cell_type": "markdown",
   "metadata": {},
   "source": [
    "### Defining set of features"
   ]
  },
  {
   "attachments": {},
   "cell_type": "markdown",
   "metadata": {},
   "source": [
    "The following features are to be excluded (they are either not present in the feature groupings or in the training datasets)"
   ]
  },
  {
   "cell_type": "code",
   "execution_count": 106,
   "metadata": {},
   "outputs": [
    {
     "name": "stdout",
     "output_type": "stream",
     "text": [
      "incongruent_modulation\n",
      "average_present_tense\n",
      "variance_in_DD\n",
      "min_present_tense\n",
      "within_person_disc_range\n",
      "max_present_tense\n",
      "stdev_present_tense\n",
      "discursive_diversity\n"
     ]
    }
   ],
   "source": [
    "for feature in X_train.columns:\n",
    "    if feature not in feature_groupings['Feature Name'].to_list():\n",
    "        print(feature)"
   ]
  },
  {
   "cell_type": "code",
   "execution_count": 107,
   "metadata": {},
   "outputs": [
    {
     "name": "stdout",
     "output_type": "stream",
     "text": [
      "min_dale_chall_classification\n",
      "max_dale_chall_classification\n",
      "stdev_dale_chall_classification\n",
      "average_dale_chall_classification\n",
      "min_time_diff\n",
      "max_time_diff\n",
      "stdev_time_diff\n",
      "average_time_diff\n"
     ]
    }
   ],
   "source": [
    "for feature in feature_groupings['Feature Name'].to_list():\n",
    "    if feature not in X_train.columns:\n",
    "        print(feature)"
   ]
  },
  {
   "cell_type": "code",
   "execution_count": 108,
   "metadata": {},
   "outputs": [],
   "source": [
    "feature_subset = list(set(X_train.columns).intersection(set(feature_groupings['Feature Name'].to_list())))\n",
    "feature_subset.sort()"
   ]
  },
  {
   "attachments": {},
   "cell_type": "markdown",
   "metadata": {},
   "source": [
    "### Preparing Mask"
   ]
  },
  {
   "cell_type": "code",
   "execution_count": 109,
   "metadata": {},
   "outputs": [
    {
     "data": {
      "text/plain": [
       "(15, 378)"
      ]
     },
     "execution_count": 109,
     "metadata": {},
     "output_type": "execute_result"
    }
   ],
   "source": [
    "feature_groupings_subset = feature_groupings[\n",
    "    feature_groupings['Feature Name'].isin(feature_subset)\n",
    "].drop_duplicates().sort_values(by=['Feature Name'])\n",
    "mask = feature_groupings_subset.iloc[:, 1:].to_numpy().T\n",
    "mask.shape"
   ]
  },
  {
   "attachments": {},
   "cell_type": "markdown",
   "metadata": {},
   "source": [
    "### Preparing Dataset"
   ]
  },
  {
   "cell_type": "code",
   "execution_count": 110,
   "metadata": {},
   "outputs": [],
   "source": [
    "X_train_subset = X_train.loc[:, feature_subset]\n",
    "X_val_subset = X_val.loc[:, feature_subset]\n",
    "X_test_subset = X_test.loc[:, feature_subset]\n",
    "\n",
    "train_dataset_subset = CSOPDataset(X=X_train_subset.to_numpy(), y=y_train.to_numpy())\n",
    "val_dataset_subset = CSOPDataset(X=X_val_subset.to_numpy(), y=y_val.to_numpy())\n",
    "\n",
    "train_dataloader_subset = DataLoader(dataset=train_dataset_subset, batch_size=64, shuffle=True)\n",
    "val_dataloader_subset = DataLoader(dataset=val_dataset_subset, batch_size=64, shuffle=True)"
   ]
  },
  {
   "attachments": {},
   "cell_type": "markdown",
   "metadata": {},
   "source": [
    "## Model Definition"
   ]
  },
  {
   "cell_type": "code",
   "execution_count": 111,
   "metadata": {},
   "outputs": [],
   "source": [
    "class CSOPSparselyConnectedNNV2(nn.Module):\n",
    "    def __init__(self, num_input_features, *args, **kwargs) -> None:\n",
    "        super().__init__(*args, **kwargs)\n",
    "        self.net = nn.Sequential(\n",
    "            nn.Linear(in_features=num_input_features, out_features=15),\n",
    "            nn.ReLU(),\n",
    "            nn.Linear(in_features=15, out_features=1)\n",
    "        )\n",
    "\n",
    "    def forward(self, X):\n",
    "        return self.net(X)"
   ]
  },
  {
   "cell_type": "code",
   "execution_count": 112,
   "metadata": {},
   "outputs": [],
   "source": [
    "sparsely_connected_nn_v2 = CSOPSparselyConnectedNNV2(num_input_features=X_train_subset.shape[1])"
   ]
  },
  {
   "attachments": {},
   "cell_type": "markdown",
   "metadata": {},
   "source": [
    "## Model Training Setup"
   ]
  },
  {
   "cell_type": "code",
   "execution_count": 114,
   "metadata": {},
   "outputs": [],
   "source": [
    "loss_fn = nn.MSELoss()\n",
    "learning_rate = 0.0001\n",
    "optimizer = Adam(params=fully_connected_nn.parameters(), lr=learning_rate)\n",
    "max_epochs = 100\n",
    "\n",
    "best_mse = float('inf')\n",
    "best_weights = None\n",
    "train_losses, val_losses = [], []"
   ]
  },
  {
   "attachments": {},
   "cell_type": "markdown",
   "metadata": {},
   "source": [
    "## Model Training Loop"
   ]
  },
  {
   "cell_type": "code",
   "execution_count": 115,
   "metadata": {},
   "outputs": [
    {
     "name": "stderr",
     "output_type": "stream",
     "text": [
      "Epoch: 0:  93%|█████████▎| 13/14 [00:00<00:00, 318.10batch/s, mse=0.771]\n",
      "Epoch: 1:  93%|█████████▎| 13/14 [00:00<00:00, 359.45batch/s, mse=0.736]\n",
      "Epoch: 2:  93%|█████████▎| 13/14 [00:00<00:00, 343.70batch/s, mse=0.877]\n",
      "Epoch: 3:  93%|█████████▎| 13/14 [00:00<00:00, 204.00batch/s, mse=0.803]\n",
      "Epoch: 4:  93%|█████████▎| 13/14 [00:00<00:00, 356.81batch/s, mse=0.754]\n",
      "Epoch: 5:  93%|█████████▎| 13/14 [00:00<00:00, 308.76batch/s, mse=0.836]\n",
      "Epoch: 6:  93%|█████████▎| 13/14 [00:00<00:00, 316.34batch/s, mse=0.865]\n",
      "Epoch: 7:  93%|█████████▎| 13/14 [00:00<00:00, 370.77batch/s, mse=0.772]\n",
      "Epoch: 8:  93%|█████████▎| 13/14 [00:00<00:00, 371.98batch/s, mse=0.998]\n",
      "Epoch: 9:  93%|█████████▎| 13/14 [00:00<00:00, 366.03batch/s, mse=0.925]\n",
      "Epoch: 10:  93%|█████████▎| 13/14 [00:00<00:00, 362.41batch/s, mse=1.04] \n",
      "Epoch: 11:  93%|█████████▎| 13/14 [00:00<00:00, 369.56batch/s, mse=0.882]\n",
      "Epoch: 12:  93%|█████████▎| 13/14 [00:00<00:00, 350.95batch/s, mse=0.964]\n",
      "Epoch: 13:  93%|█████████▎| 13/14 [00:00<00:00, 142.67batch/s, mse=0.736]\n",
      "Epoch: 14:  93%|█████████▎| 13/14 [00:00<00:00, 359.79batch/s, mse=1.24] \n",
      "Epoch: 15:  93%|█████████▎| 13/14 [00:00<00:00, 365.28batch/s, mse=1.04] \n",
      "Epoch: 16:  93%|█████████▎| 13/14 [00:00<00:00, 338.87batch/s, mse=1.2]  \n",
      "Epoch: 17:  93%|█████████▎| 13/14 [00:00<00:00, 308.23batch/s, mse=1.26] \n",
      "Epoch: 18:  93%|█████████▎| 13/14 [00:00<00:00, 295.62batch/s, mse=0.788]\n",
      "Epoch: 19:  93%|█████████▎| 13/14 [00:00<00:00, 185.60batch/s, mse=0.818]\n",
      "Epoch: 20:  93%|█████████▎| 13/14 [00:00<00:00, 246.59batch/s, mse=1.07] \n",
      "Epoch: 21:  93%|█████████▎| 13/14 [00:00<00:00, 356.15batch/s, mse=1.01] \n",
      "Epoch: 22:  93%|█████████▎| 13/14 [00:00<00:00, 359.81batch/s, mse=1.46] \n",
      "Epoch: 23:  93%|█████████▎| 13/14 [00:00<00:00, 196.81batch/s, mse=1.12] \n",
      "Epoch: 24:  93%|█████████▎| 13/14 [00:00<00:00, 346.09batch/s, mse=1.17] \n",
      "Epoch: 25:  93%|█████████▎| 13/14 [00:00<00:00, 334.06batch/s, mse=1.41] \n",
      "Epoch: 26:  93%|█████████▎| 13/14 [00:00<00:00, 196.08batch/s, mse=0.898]\n",
      "Epoch: 27:  93%|█████████▎| 13/14 [00:00<00:00, 356.41batch/s, mse=0.711]\n",
      "Epoch: 28:  93%|█████████▎| 13/14 [00:00<00:00, 367.70batch/s, mse=0.87] \n",
      "Epoch: 29:  93%|█████████▎| 13/14 [00:00<00:00, 228.49batch/s, mse=0.846]\n",
      "Epoch: 30:  93%|█████████▎| 13/14 [00:00<00:00, 359.97batch/s, mse=0.976]\n",
      "Epoch: 31:  93%|█████████▎| 13/14 [00:00<00:00, 365.94batch/s, mse=0.751]\n",
      "Epoch: 32:  93%|█████████▎| 13/14 [00:00<00:00, 363.39batch/s, mse=1.1]  \n",
      "Epoch: 33:  93%|█████████▎| 13/14 [00:00<00:00, 176.97batch/s, mse=0.902]\n",
      "Epoch: 34:  93%|█████████▎| 13/14 [00:00<00:00, 301.62batch/s, mse=0.732]\n",
      "Epoch: 35:  93%|█████████▎| 13/14 [00:00<00:00, 305.63batch/s, mse=0.682]\n",
      "Epoch: 36:  93%|█████████▎| 13/14 [00:00<00:00, 167.10batch/s, mse=0.803]\n",
      "Epoch: 37:  93%|█████████▎| 13/14 [00:00<00:00, 358.42batch/s, mse=0.785]\n",
      "Epoch: 38:  93%|█████████▎| 13/14 [00:00<00:00, 354.27batch/s, mse=0.747]\n",
      "Epoch: 39:  93%|█████████▎| 13/14 [00:00<00:00, 361.56batch/s, mse=0.875]\n",
      "Epoch: 40:  93%|█████████▎| 13/14 [00:00<00:00, 200.64batch/s, mse=0.726]\n",
      "Epoch: 41:  93%|█████████▎| 13/14 [00:00<00:00, 298.78batch/s, mse=0.797]\n",
      "Epoch: 42:  93%|█████████▎| 13/14 [00:00<00:00, 289.22batch/s, mse=0.82] \n",
      "Epoch: 43:  93%|█████████▎| 13/14 [00:00<00:00, 153.72batch/s, mse=1.04] \n",
      "Epoch: 44:  93%|█████████▎| 13/14 [00:00<00:00, 282.57batch/s, mse=0.88] \n",
      "Epoch: 45:  93%|█████████▎| 13/14 [00:00<00:00, 271.90batch/s, mse=0.638]\n",
      "Epoch: 46:  93%|█████████▎| 13/14 [00:00<00:00, 160.47batch/s, mse=0.931]\n",
      "Epoch: 47:  93%|█████████▎| 13/14 [00:00<00:00, 318.17batch/s, mse=0.971]\n",
      "Epoch: 48:  93%|█████████▎| 13/14 [00:00<00:00, 300.65batch/s, mse=0.728]\n",
      "Epoch: 49:  93%|█████████▎| 13/14 [00:00<00:00, 169.89batch/s, mse=0.693]\n",
      "Epoch: 50:  93%|█████████▎| 13/14 [00:00<00:00, 333.48batch/s, mse=0.82] \n",
      "Epoch: 51:  93%|█████████▎| 13/14 [00:00<00:00, 307.52batch/s, mse=0.792]\n",
      "Epoch: 52:  93%|█████████▎| 13/14 [00:00<00:00, 170.66batch/s, mse=1.07] \n",
      "Epoch: 53:  93%|█████████▎| 13/14 [00:00<00:00, 285.93batch/s, mse=1.43] \n",
      "Epoch: 54:  93%|█████████▎| 13/14 [00:00<00:00, 273.68batch/s, mse=0.877]\n",
      "Epoch: 55:  93%|█████████▎| 13/14 [00:00<00:00, 162.36batch/s, mse=0.884]\n",
      "Epoch: 56:  93%|█████████▎| 13/14 [00:00<00:00, 297.29batch/s, mse=1.47] \n",
      "Epoch: 57:  93%|█████████▎| 13/14 [00:00<00:00, 357.10batch/s, mse=0.693]\n",
      "Epoch: 58:  93%|█████████▎| 13/14 [00:00<00:00, 201.29batch/s, mse=1.1]  \n",
      "Epoch: 59:  93%|█████████▎| 13/14 [00:00<00:00, 362.68batch/s, mse=0.977]\n",
      "Epoch: 60:  93%|█████████▎| 13/14 [00:00<00:00, 355.06batch/s, mse=0.939]\n",
      "Epoch: 61:  93%|█████████▎| 13/14 [00:00<00:00, 166.55batch/s, mse=1.42] \n",
      "Epoch: 62:  93%|█████████▎| 13/14 [00:00<00:00, 271.37batch/s, mse=0.906]\n",
      "Epoch: 63:  93%|█████████▎| 13/14 [00:00<00:00, 222.57batch/s, mse=0.867]\n",
      "Epoch: 64:  93%|█████████▎| 13/14 [00:00<00:00, 127.36batch/s, mse=0.615]\n",
      "Epoch: 65:  93%|█████████▎| 13/14 [00:00<00:00, 237.69batch/s, mse=0.882]\n",
      "Epoch: 66:  93%|█████████▎| 13/14 [00:00<00:00, 215.04batch/s, mse=0.782]\n",
      "Epoch: 67:  93%|█████████▎| 13/14 [00:00<00:00, 147.67batch/s, mse=0.946]\n",
      "Epoch: 68:  93%|█████████▎| 13/14 [00:00<00:00, 248.04batch/s, mse=0.698]\n",
      "Epoch: 69:  93%|█████████▎| 13/14 [00:00<00:00, 277.62batch/s, mse=1.07] \n",
      "Epoch: 70:  93%|█████████▎| 13/14 [00:00<00:00, 137.78batch/s, mse=0.649]\n",
      "Epoch: 71:  93%|█████████▎| 13/14 [00:00<00:00, 238.11batch/s, mse=1.09] \n",
      "Epoch: 72:  93%|█████████▎| 13/14 [00:00<00:00, 185.57batch/s, mse=0.899]\n",
      "Epoch: 73:  93%|█████████▎| 13/14 [00:00<00:00, 231.46batch/s, mse=0.664]\n",
      "Epoch: 74:  93%|█████████▎| 13/14 [00:00<00:00, 141.20batch/s, mse=0.98] \n",
      "Epoch: 75:  93%|█████████▎| 13/14 [00:00<00:00, 260.61batch/s, mse=1.17] \n",
      "Epoch: 76:  93%|█████████▎| 13/14 [00:00<00:00, 299.07batch/s, mse=1.16] \n",
      "Epoch: 77:  93%|█████████▎| 13/14 [00:00<00:00, 263.58batch/s, mse=1.15] \n",
      "Epoch: 78:  93%|█████████▎| 13/14 [00:00<00:00, 175.17batch/s, mse=1.36] \n",
      "Epoch: 79:  93%|█████████▎| 13/14 [00:00<00:00, 223.59batch/s, mse=1.24] \n",
      "Epoch: 80:  93%|█████████▎| 13/14 [00:00<00:00, 255.85batch/s, mse=0.606]\n",
      "Epoch: 81:  93%|█████████▎| 13/14 [00:00<00:00, 293.45batch/s, mse=0.652]\n",
      "Epoch: 82:  93%|█████████▎| 13/14 [00:00<00:00, 146.05batch/s, mse=1.6]  \n",
      "Epoch: 83:  93%|█████████▎| 13/14 [00:00<00:00, 289.63batch/s, mse=0.935]\n",
      "Epoch: 84:  93%|█████████▎| 13/14 [00:00<00:00, 287.52batch/s, mse=0.733]\n",
      "Epoch: 85:  93%|█████████▎| 13/14 [00:00<00:00, 137.24batch/s, mse=0.635]\n",
      "Epoch: 86:  93%|█████████▎| 13/14 [00:00<00:00, 277.41batch/s, mse=1.53] \n",
      "Epoch: 87:  93%|█████████▎| 13/14 [00:00<00:00, 256.83batch/s, mse=1.02] \n",
      "Epoch: 88:  93%|█████████▎| 13/14 [00:00<00:00, 141.81batch/s, mse=1.19] \n",
      "Epoch: 89:  93%|█████████▎| 13/14 [00:00<00:00, 278.06batch/s, mse=0.673]\n",
      "Epoch: 90:  93%|█████████▎| 13/14 [00:00<00:00, 306.56batch/s, mse=1.06]\n",
      "Epoch: 91:  93%|█████████▎| 13/14 [00:00<00:00, 148.27batch/s, mse=1.02] \n",
      "Epoch: 92:  93%|█████████▎| 13/14 [00:00<00:00, 260.20batch/s, mse=0.734]\n",
      "Epoch: 93:  93%|█████████▎| 13/14 [00:00<00:00, 249.54batch/s, mse=0.948]\n",
      "Epoch: 94:  93%|█████████▎| 13/14 [00:00<00:00, 281.71batch/s, mse=1.04] \n",
      "Epoch: 95:  93%|█████████▎| 13/14 [00:00<00:00, 150.29batch/s, mse=0.756]\n",
      "Epoch: 96:  93%|█████████▎| 13/14 [00:00<00:00, 226.00batch/s, mse=0.589]\n",
      "Epoch: 97:  93%|█████████▎| 13/14 [00:00<00:00, 276.56batch/s, mse=1]    \n",
      "Epoch: 98:  93%|█████████▎| 13/14 [00:00<00:00, 252.54batch/s, mse=0.635]\n",
      "Epoch: 99:  93%|█████████▎| 13/14 [00:00<00:00, 172.83batch/s, mse=1.22] \n"
     ]
    }
   ],
   "source": [
    "for epoch in range(max_epochs):\n",
    "    # Training for one epoch\n",
    "    sparsely_connected_nn_v2.train()\n",
    "    train_loss = 0\n",
    "    with tqdm(list(range(len(train_dataloader_subset))), unit=\"batch\", mininterval=0, disable=False) as bar:\n",
    "        bar.set_description(f'Epoch: {epoch}')\n",
    "        for (X_batch, y_batch), start in zip(train_dataloader_subset, bar):\n",
    "            # Make sure mask is applied before forward pass\n",
    "            init_weight = sparsely_connected_nn_v2.net[0].weight.detach().numpy()\n",
    "            sparsely_connected_nn_v2.net[0].weight = torch.nn.Parameter(torch.FloatTensor(init_weight * mask))\n",
    "            # Forward Pass\n",
    "            X_batch, y_batch = X_batch.to(torch.float32), y_batch.to(torch.float32)\n",
    "            y_pred = sparsely_connected_nn_v2(X_batch)\n",
    "            loss = loss_fn(y_pred, y_batch)\n",
    "            # Backward Pass\n",
    "            optimizer.zero_grad()\n",
    "            loss.backward()\n",
    "            # Weights Updates\n",
    "            optimizer.step()\n",
    "            # Make sure mask is applied after the optimizer performs gradient descent\n",
    "            init_weight = sparsely_connected_nn_v2.net[0].weight.detach().numpy()\n",
    "            sparsely_connected_nn_v2.net[0].weight = torch.nn.Parameter(torch.FloatTensor(init_weight * mask))\n",
    "            # Print Progress\n",
    "            bar.set_postfix(mse=float(loss))\n",
    "            train_loss += float(loss)\n",
    "    # Calculating average training loss after one epoch\n",
    "    avg_train_mse_loss = float(train_loss/len(train_dataloader_subset))\n",
    "    train_losses.append(avg_train_mse_loss)\n",
    "    # Validation after one epoch\n",
    "    sparsely_connected_nn_v2.eval()\n",
    "    val_loss = 0\n",
    "    for X_batch, y_batch in val_dataloader_subset:\n",
    "        # Forward Pass\n",
    "        X_batch, y_batch = X_batch.to(torch.float32), y_batch.to(torch.float32)\n",
    "        y_pred = sparsely_connected_nn_v2(X_batch)\n",
    "        val_mse_loss = loss_fn(y_pred, y_batch)\n",
    "        val_loss += float(val_mse_loss)\n",
    "    # Calculating average validation loss after one epoch\n",
    "    avg_val_mse_loss = float(val_loss/len(val_dataloader_subset))\n",
    "    val_losses.append(avg_val_mse_loss)\n",
    "    # Checking if we improved from the previous best epoch\n",
    "    if avg_val_mse_loss < best_mse:\n",
    "        best_mse = avg_val_mse_loss\n",
    "        best_weights = copy.deepcopy(sparsely_connected_nn_v2.state_dict())"
   ]
  },
  {
   "attachments": {},
   "cell_type": "markdown",
   "metadata": {},
   "source": [
    "## Saving Best Model"
   ]
  },
  {
   "cell_type": "code",
   "execution_count": 116,
   "metadata": {},
   "outputs": [],
   "source": [
    "sparsely_connected_nn_v2.load_state_dict(best_weights)\n",
    "model_path = f'feature_bagging_nn_models/sparsely_connected_nn_v2_best_model'\n",
    "torch.save(sparsely_connected_nn_v2.state_dict(), model_path)"
   ]
  },
  {
   "attachments": {},
   "cell_type": "markdown",
   "metadata": {},
   "source": [
    "## Learning Curves"
   ]
  },
  {
   "cell_type": "code",
   "execution_count": 117,
   "metadata": {},
   "outputs": [
    {
     "name": "stdout",
     "output_type": "stream",
     "text": [
      "Best Validation MSE: 1.0418128669261932\n"
     ]
    },
    {
     "data": {
      "image/png": "[encoded data removed]",
      "text/plain": [
       "<Figure size 800x500 with 1 Axes>"
      ]
     },
     "metadata": {},
     "output_type": "display_data"
    }
   ],
   "source": [
    "print(f'Best Validation MSE: {best_mse}')\n",
    "fig, ax = plt.subplots(figsize=(8, 5))\n",
    "ax.plot(train_losses, color='blue', label='Training Losses')\n",
    "ax.plot(val_losses, color='red', label='Validation Losses')\n",
    "ax.legend()\n",
    "ax.set(xlabel='Epochs', ylabel='MSE Loss', title='Learning Curves')\n",
    "plt.show()"
   ]
  },
  {
   "attachments": {},
   "cell_type": "markdown",
   "metadata": {},
   "source": [
    "## Metrics"
   ]
  },
  {
   "cell_type": "code",
   "execution_count": 118,
   "metadata": {},
   "outputs": [],
   "source": [
    "train_preds = sparsely_connected_nn_v2(torch.tensor(X_train_subset.to_numpy(), dtype=torch.float32)).detach().numpy()\n",
    "val_preds = sparsely_connected_nn_v2(torch.tensor(X_val_subset.to_numpy(), dtype=torch.float32)).detach().numpy()"
   ]
  },
  {
   "cell_type": "code",
   "execution_count": 119,
   "metadata": {},
   "outputs": [
    {
     "name": "stdout",
     "output_type": "stream",
     "text": [
      "TRAIN METRICS\n",
      "R2: -0.0015\tMSE: 0.9891\tRMSE: 0.9945\tMAE: 0.8008\n"
     ]
    }
   ],
   "source": [
    "calc_nn_metrics(y_true=y_train, y_pred=train_preds, type='TRAIN')"
   ]
  },
  {
   "cell_type": "code",
   "execution_count": 120,
   "metadata": {},
   "outputs": [
    {
     "name": "stdout",
     "output_type": "stream",
     "text": [
      "VALIDATION METRICS\n",
      "R2: -0.0279\tMSE: 1.1337\tRMSE: 1.0648\tMAE: 0.8909\n"
     ]
    }
   ],
   "source": [
    "calc_nn_metrics(y_true=y_val, y_pred=val_preds, type='VALIDATION')"
   ]
  }
 ],
 "metadata": {
  "kernelspec": {
   "display_name": "team_process_map",
   "language": "python",
   "name": "python3"
  },
  "language_info": {
   "codemirror_mode": {
    "name": "ipython",
    "version": 3
   },
   "file_extension": ".py",
   "mimetype": "text/x-python",
   "name": "python",
   "nbconvert_exporter": "python",
   "pygments_lexer": "ipython3",
   "version": "3.8.8"
  },
  "orig_nbformat": 4,
  "vscode": {
   "interpreter": {
    "hash": "4308115ec36d55d4bd05e5164490d17bc30a5f7275b0a0d4f3922ff237a9eaea"
   }
  }
 },
 "nbformat": 4,
 "nbformat_minor": 2
}
