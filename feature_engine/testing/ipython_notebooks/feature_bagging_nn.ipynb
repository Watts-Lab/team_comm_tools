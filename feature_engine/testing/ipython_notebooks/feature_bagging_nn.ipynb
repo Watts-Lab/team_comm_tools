{
 "cells": [
  {
   "attachments": {},
   "cell_type": "markdown",
   "metadata": {},
   "source": [
    "# Imports"
   ]
  },
  {
   "cell_type": "code",
   "execution_count": 31,
   "metadata": {},
   "outputs": [],
   "source": [
    "import pandas as pd\n",
    "import numpy as np\n",
    "import matplotlib.pyplot as plt\n",
    "import seaborn as sns\n",
    "import torch\n",
    "import torch.nn as nn\n",
    "import torch.nn.functional as F\n",
    "from torch.optim import SGD, Adam\n",
    "from torch.utils.data import DataLoader, Dataset\n",
    "import json\n",
    "from sklearn.model_selection import train_test_split\n",
    "from sklearn.preprocessing import StandardScaler\n",
    "from sklearn.metrics import r2_score, mean_squared_error, mean_absolute_error\n",
    "from tqdm import tqdm\n",
    "import copy"
   ]
  },
  {
   "attachments": {},
   "cell_type": "markdown",
   "metadata": {},
   "source": [
    "# Dataset"
   ]
  },
  {
   "cell_type": "code",
   "execution_count": 2,
   "metadata": {},
   "outputs": [],
   "source": [
    "with open('../../config.json', 'rb') as file:\n",
    "    config = json.load(file)\n",
    "csop_cols_to_ignore = config['csop']['cols_to_ignore']\n",
    "csopII_cols_to_ignore = config['csopII']['cols_to_ignore']\n",
    "csop_target, csopII_target = 'zscore_efficiency', 'efficiency'"
   ]
  },
  {
   "cell_type": "code",
   "execution_count": 3,
   "metadata": {},
   "outputs": [],
   "source": [
    "csop_raw = pd.read_csv('../../output/csop_output_conversation_level.csv')\n",
    "csop_all_features = csop_raw.drop(csop_cols_to_ignore, axis=1)\n",
    "target_scaler = StandardScaler()\n",
    "csop_all_features['target'] = target_scaler.fit_transform(csop_raw[csop_target].to_numpy().reshape(-1, 1))\n",
    "\n",
    "csopII_raw = pd.read_csv('../../output/csopII_output_conversation_level.csv')\n",
    "csopII_all_features = csopII_raw.drop(csopII_cols_to_ignore, axis=1)\n",
    "csopII_all_features['target'] = target_scaler.transform(csopII_raw[csopII_target].to_numpy().reshape(-1, 1))\n",
    "\n",
    "features = list(set(csop_all_features.columns).intersection(set(csopII_all_features.columns)))\n",
    "csop, csopII = csop_all_features[features].copy(), csopII_all_features[features].copy()\n",
    "csop, csopII = csop.fillna(0), csopII.fillna(0)"
   ]
  },
  {
   "cell_type": "code",
   "execution_count": 4,
   "metadata": {},
   "outputs": [
    {
     "data": {
      "text/plain": [
       "((882, 386), (98, 386), (962, 386), (882, 1), (98, 1), (962, 1))"
      ]
     },
     "execution_count": 4,
     "metadata": {},
     "output_type": "execute_result"
    }
   ],
   "source": [
    "X, y = csop.drop(['target'], axis=1), csop[['target']]\n",
    "X_train, X_val, y_train, y_val = train_test_split(X, y, test_size=0.1, random_state=42)\n",
    "X_test, y_test = csopII.drop(['target'], axis=1), csopII[['target']]\n",
    "\n",
    "feature_scaler = StandardScaler()\n",
    "X_train = pd.DataFrame(feature_scaler.fit_transform(X_train.to_numpy()), columns=X_train.columns)\n",
    "X_val = pd.DataFrame(feature_scaler.transform(X_val.to_numpy()), columns=X_val.columns)\n",
    "X_test = pd.DataFrame(feature_scaler.transform(X_test.to_numpy()), columns=X_test.columns)\n",
    "\n",
    "X_train.shape, X_val.shape, X_test.shape, y_train.shape, y_val.shape, y_test.shape"
   ]
  },
  {
   "cell_type": "code",
   "execution_count": 5,
   "metadata": {},
   "outputs": [
    {
     "data": {
      "text/plain": [
       "Index(['Communication Frequency', 'Information / Knowledge Exchange',\n",
       "       'Linguistic Features', 'Emotion', 'Cognitive Processes',\n",
       "       'Perceptual Processes', 'Social Processes', 'Biological Processes',\n",
       "       'Personal Concerns', 'Accommodation/\\nMimicry', 'Temporal', 'Question',\n",
       "       'Hedging', 'Politeness', 'Equality'],\n",
       "      dtype='object')"
      ]
     },
     "execution_count": 5,
     "metadata": {},
     "output_type": "execute_result"
    }
   ],
   "source": [
    "feature_groupings_raw = pd.read_excel('feature_groupings_06_20_23.xlsx')\n",
    "groups = feature_groupings_raw.columns[2:]\n",
    "groups"
   ]
  },
  {
   "cell_type": "code",
   "execution_count": 6,
   "metadata": {},
   "outputs": [
    {
     "name": "stderr",
     "output_type": "stream",
     "text": [
      "100%|██████████| 99/99 [00:00<00:00, 1781.44it/s]\n"
     ]
    }
   ],
   "source": [
    "rows = []\n",
    "for idx, row in tqdm(feature_groupings_raw.iterrows(), total=feature_groupings_raw.shape[0]):\n",
    "    if row['Level'] == 'Chat':\n",
    "        for prefix in ['min_', 'max_', 'stdev_', 'average_']:\n",
    "            feature_name = prefix + row['Feature Name']\n",
    "            row_to_append = [feature_name] + row[groups].to_list()\n",
    "            rows.append(row_to_append)\n",
    "    else:\n",
    "        feature_name = row['Feature Name']\n",
    "        row_to_append = [feature_name] + row[groups].to_list()\n",
    "        rows.append(row_to_append)\n",
    "feature_groupings = pd.DataFrame(\n",
    "    rows, \n",
    "    columns= [\n",
    "        'Feature Name', 'Communication Frequency', 'Information / Knowledge Exchange',\n",
    "        'Linguistic Features', 'Emotion', 'Cognitive Processes',\n",
    "        'Perceptual Processes', 'Social Processes', 'Biological Processes',\n",
    "        'Personal Concerns', 'Accommodation/\\nMimicry', 'Temporal', 'Question',\n",
    "        'Hedging', 'Politeness', 'Equality'\n",
    "    ]\n",
    ")"
   ]
  },
  {
   "cell_type": "code",
   "execution_count": 7,
   "metadata": {},
   "outputs": [
    {
     "data": {
      "text/html": [
       "<div>\n",
       "<style scoped>\n",
       "    .dataframe tbody tr th:only-of-type {\n",
       "        vertical-align: middle;\n",
       "    }\n",
       "\n",
       "    .dataframe tbody tr th {\n",
       "        vertical-align: top;\n",
       "    }\n",
       "\n",
       "    .dataframe thead th {\n",
       "        text-align: right;\n",
       "    }\n",
       "</style>\n",
       "<table border=\"1\" class=\"dataframe\">\n",
       "  <thead>\n",
       "    <tr style=\"text-align: right;\">\n",
       "      <th></th>\n",
       "      <th>Feature Name</th>\n",
       "      <th>Communication Frequency</th>\n",
       "      <th>Information / Knowledge Exchange</th>\n",
       "      <th>Linguistic Features</th>\n",
       "      <th>Emotion</th>\n",
       "      <th>Cognitive Processes</th>\n",
       "      <th>Perceptual Processes</th>\n",
       "      <th>Social Processes</th>\n",
       "      <th>Biological Processes</th>\n",
       "      <th>Personal Concerns</th>\n",
       "      <th>Accommodation/\\nMimicry</th>\n",
       "      <th>Temporal</th>\n",
       "      <th>Question</th>\n",
       "      <th>Hedging</th>\n",
       "      <th>Politeness</th>\n",
       "      <th>Equality</th>\n",
       "    </tr>\n",
       "  </thead>\n",
       "  <tbody>\n",
       "    <tr>\n",
       "      <th>0</th>\n",
       "      <td>min_num_words</td>\n",
       "      <td>1</td>\n",
       "      <td>0</td>\n",
       "      <td>0</td>\n",
       "      <td>0</td>\n",
       "      <td>0</td>\n",
       "      <td>0</td>\n",
       "      <td>0</td>\n",
       "      <td>0</td>\n",
       "      <td>0</td>\n",
       "      <td>0</td>\n",
       "      <td>0</td>\n",
       "      <td>0</td>\n",
       "      <td>0</td>\n",
       "      <td>0</td>\n",
       "      <td>0</td>\n",
       "    </tr>\n",
       "    <tr>\n",
       "      <th>1</th>\n",
       "      <td>max_num_words</td>\n",
       "      <td>1</td>\n",
       "      <td>0</td>\n",
       "      <td>0</td>\n",
       "      <td>0</td>\n",
       "      <td>0</td>\n",
       "      <td>0</td>\n",
       "      <td>0</td>\n",
       "      <td>0</td>\n",
       "      <td>0</td>\n",
       "      <td>0</td>\n",
       "      <td>0</td>\n",
       "      <td>0</td>\n",
       "      <td>0</td>\n",
       "      <td>0</td>\n",
       "      <td>0</td>\n",
       "    </tr>\n",
       "    <tr>\n",
       "      <th>2</th>\n",
       "      <td>stdev_num_words</td>\n",
       "      <td>1</td>\n",
       "      <td>0</td>\n",
       "      <td>0</td>\n",
       "      <td>0</td>\n",
       "      <td>0</td>\n",
       "      <td>0</td>\n",
       "      <td>0</td>\n",
       "      <td>0</td>\n",
       "      <td>0</td>\n",
       "      <td>0</td>\n",
       "      <td>0</td>\n",
       "      <td>0</td>\n",
       "      <td>0</td>\n",
       "      <td>0</td>\n",
       "      <td>0</td>\n",
       "    </tr>\n",
       "    <tr>\n",
       "      <th>3</th>\n",
       "      <td>average_num_words</td>\n",
       "      <td>1</td>\n",
       "      <td>0</td>\n",
       "      <td>0</td>\n",
       "      <td>0</td>\n",
       "      <td>0</td>\n",
       "      <td>0</td>\n",
       "      <td>0</td>\n",
       "      <td>0</td>\n",
       "      <td>0</td>\n",
       "      <td>0</td>\n",
       "      <td>0</td>\n",
       "      <td>0</td>\n",
       "      <td>0</td>\n",
       "      <td>0</td>\n",
       "      <td>0</td>\n",
       "    </tr>\n",
       "    <tr>\n",
       "      <th>4</th>\n",
       "      <td>min_num_chars</td>\n",
       "      <td>1</td>\n",
       "      <td>0</td>\n",
       "      <td>0</td>\n",
       "      <td>0</td>\n",
       "      <td>0</td>\n",
       "      <td>0</td>\n",
       "      <td>0</td>\n",
       "      <td>0</td>\n",
       "      <td>0</td>\n",
       "      <td>0</td>\n",
       "      <td>0</td>\n",
       "      <td>0</td>\n",
       "      <td>0</td>\n",
       "      <td>0</td>\n",
       "      <td>0</td>\n",
       "    </tr>\n",
       "    <tr>\n",
       "      <th>...</th>\n",
       "      <td>...</td>\n",
       "      <td>...</td>\n",
       "      <td>...</td>\n",
       "      <td>...</td>\n",
       "      <td>...</td>\n",
       "      <td>...</td>\n",
       "      <td>...</td>\n",
       "      <td>...</td>\n",
       "      <td>...</td>\n",
       "      <td>...</td>\n",
       "      <td>...</td>\n",
       "      <td>...</td>\n",
       "      <td>...</td>\n",
       "      <td>...</td>\n",
       "      <td>...</td>\n",
       "      <td>...</td>\n",
       "    </tr>\n",
       "    <tr>\n",
       "      <th>385</th>\n",
       "      <td>max_indicative</td>\n",
       "      <td>0</td>\n",
       "      <td>0</td>\n",
       "      <td>0</td>\n",
       "      <td>0</td>\n",
       "      <td>0</td>\n",
       "      <td>0</td>\n",
       "      <td>0</td>\n",
       "      <td>0</td>\n",
       "      <td>0</td>\n",
       "      <td>0</td>\n",
       "      <td>0</td>\n",
       "      <td>0</td>\n",
       "      <td>0</td>\n",
       "      <td>1</td>\n",
       "      <td>0</td>\n",
       "    </tr>\n",
       "    <tr>\n",
       "      <th>386</th>\n",
       "      <td>stdev_indicative</td>\n",
       "      <td>0</td>\n",
       "      <td>0</td>\n",
       "      <td>0</td>\n",
       "      <td>0</td>\n",
       "      <td>0</td>\n",
       "      <td>0</td>\n",
       "      <td>0</td>\n",
       "      <td>0</td>\n",
       "      <td>0</td>\n",
       "      <td>0</td>\n",
       "      <td>0</td>\n",
       "      <td>0</td>\n",
       "      <td>0</td>\n",
       "      <td>1</td>\n",
       "      <td>0</td>\n",
       "    </tr>\n",
       "    <tr>\n",
       "      <th>387</th>\n",
       "      <td>average_indicative</td>\n",
       "      <td>0</td>\n",
       "      <td>0</td>\n",
       "      <td>0</td>\n",
       "      <td>0</td>\n",
       "      <td>0</td>\n",
       "      <td>0</td>\n",
       "      <td>0</td>\n",
       "      <td>0</td>\n",
       "      <td>0</td>\n",
       "      <td>0</td>\n",
       "      <td>0</td>\n",
       "      <td>0</td>\n",
       "      <td>0</td>\n",
       "      <td>1</td>\n",
       "      <td>0</td>\n",
       "    </tr>\n",
       "    <tr>\n",
       "      <th>388</th>\n",
       "      <td>gini_coefficient_num_words</td>\n",
       "      <td>0</td>\n",
       "      <td>0</td>\n",
       "      <td>0</td>\n",
       "      <td>0</td>\n",
       "      <td>0</td>\n",
       "      <td>0</td>\n",
       "      <td>0</td>\n",
       "      <td>0</td>\n",
       "      <td>0</td>\n",
       "      <td>0</td>\n",
       "      <td>0</td>\n",
       "      <td>0</td>\n",
       "      <td>0</td>\n",
       "      <td>0</td>\n",
       "      <td>1</td>\n",
       "    </tr>\n",
       "    <tr>\n",
       "      <th>389</th>\n",
       "      <td>gini_coefficient_num_chars</td>\n",
       "      <td>0</td>\n",
       "      <td>0</td>\n",
       "      <td>0</td>\n",
       "      <td>0</td>\n",
       "      <td>0</td>\n",
       "      <td>0</td>\n",
       "      <td>0</td>\n",
       "      <td>0</td>\n",
       "      <td>0</td>\n",
       "      <td>0</td>\n",
       "      <td>0</td>\n",
       "      <td>0</td>\n",
       "      <td>0</td>\n",
       "      <td>0</td>\n",
       "      <td>1</td>\n",
       "    </tr>\n",
       "  </tbody>\n",
       "</table>\n",
       "<p>390 rows × 16 columns</p>\n",
       "</div>"
      ],
      "text/plain": [
       "                   Feature Name  Communication Frequency  \\\n",
       "0                 min_num_words                        1   \n",
       "1                 max_num_words                        1   \n",
       "2               stdev_num_words                        1   \n",
       "3             average_num_words                        1   \n",
       "4                 min_num_chars                        1   \n",
       "..                          ...                      ...   \n",
       "385              max_indicative                        0   \n",
       "386            stdev_indicative                        0   \n",
       "387          average_indicative                        0   \n",
       "388  gini_coefficient_num_words                        0   \n",
       "389  gini_coefficient_num_chars                        0   \n",
       "\n",
       "     Information / Knowledge Exchange  Linguistic Features  Emotion  \\\n",
       "0                                   0                    0        0   \n",
       "1                                   0                    0        0   \n",
       "2                                   0                    0        0   \n",
       "3                                   0                    0        0   \n",
       "4                                   0                    0        0   \n",
       "..                                ...                  ...      ...   \n",
       "385                                 0                    0        0   \n",
       "386                                 0                    0        0   \n",
       "387                                 0                    0        0   \n",
       "388                                 0                    0        0   \n",
       "389                                 0                    0        0   \n",
       "\n",
       "     Cognitive Processes  Perceptual Processes  Social Processes  \\\n",
       "0                      0                     0                 0   \n",
       "1                      0                     0                 0   \n",
       "2                      0                     0                 0   \n",
       "3                      0                     0                 0   \n",
       "4                      0                     0                 0   \n",
       "..                   ...                   ...               ...   \n",
       "385                    0                     0                 0   \n",
       "386                    0                     0                 0   \n",
       "387                    0                     0                 0   \n",
       "388                    0                     0                 0   \n",
       "389                    0                     0                 0   \n",
       "\n",
       "     Biological Processes  Personal Concerns  Accommodation/\\nMimicry  \\\n",
       "0                       0                  0                        0   \n",
       "1                       0                  0                        0   \n",
       "2                       0                  0                        0   \n",
       "3                       0                  0                        0   \n",
       "4                       0                  0                        0   \n",
       "..                    ...                ...                      ...   \n",
       "385                     0                  0                        0   \n",
       "386                     0                  0                        0   \n",
       "387                     0                  0                        0   \n",
       "388                     0                  0                        0   \n",
       "389                     0                  0                        0   \n",
       "\n",
       "     Temporal  Question  Hedging  Politeness  Equality  \n",
       "0           0         0        0           0         0  \n",
       "1           0         0        0           0         0  \n",
       "2           0         0        0           0         0  \n",
       "3           0         0        0           0         0  \n",
       "4           0         0        0           0         0  \n",
       "..        ...       ...      ...         ...       ...  \n",
       "385         0         0        0           1         0  \n",
       "386         0         0        0           1         0  \n",
       "387         0         0        0           1         0  \n",
       "388         0         0        0           0         1  \n",
       "389         0         0        0           0         1  \n",
       "\n",
       "[390 rows x 16 columns]"
      ]
     },
     "execution_count": 7,
     "metadata": {},
     "output_type": "execute_result"
    }
   ],
   "source": [
    "feature_groupings"
   ]
  },
  {
   "attachments": {},
   "cell_type": "markdown",
   "metadata": {},
   "source": [
    "## Creating Data Loaders"
   ]
  },
  {
   "cell_type": "code",
   "execution_count": 8,
   "metadata": {},
   "outputs": [],
   "source": [
    "class CSOPDataset(Dataset):\n",
    "    def __init__(self, X, y):\n",
    "        self.X, self.y = X, y\n",
    "\n",
    "    def __len__(self):\n",
    "        return len(self.y)\n",
    "\n",
    "    def __getitem__(self, idx):\n",
    "        return [self.X[idx], self.y[idx]]"
   ]
  },
  {
   "cell_type": "code",
   "execution_count": 9,
   "metadata": {},
   "outputs": [],
   "source": [
    "train_dataset = CSOPDataset(X=X_train.to_numpy(), y=y_train.to_numpy())\n",
    "val_dataset = CSOPDataset(X=X_val.to_numpy(), y=y_val.to_numpy())"
   ]
  },
  {
   "cell_type": "code",
   "execution_count": 10,
   "metadata": {},
   "outputs": [],
   "source": [
    "train_dataloader = DataLoader(dataset=train_dataset, batch_size=64, shuffle=True)\n",
    "val_dataloader = DataLoader(dataset=val_dataset, batch_size=64, shuffle=True)"
   ]
  },
  {
   "attachments": {},
   "cell_type": "markdown",
   "metadata": {},
   "source": [
    "# Linear Regression - Expressed as a Neural Network"
   ]
  },
  {
   "attachments": {},
   "cell_type": "markdown",
   "metadata": {},
   "source": [
    "## Model Definition"
   ]
  },
  {
   "cell_type": "code",
   "execution_count": 11,
   "metadata": {},
   "outputs": [],
   "source": [
    "class CSOPLinearRegressionNN(nn.Module):\n",
    "    def __init__(self, num_input_features):\n",
    "        super().__init__()\n",
    "        self.net = nn.Linear(in_features=num_input_features, out_features=1)\n",
    "        self.net.weight.data.normal_(mean=0, std=0.01)\n",
    "        self.net.weight.data = self.net.weight.data.to(torch.float64)\n",
    "        self.net.bias.data.fill_(value=0)\n",
    "        self.net.bias.data = self.net.bias.data.to(torch.float64)\n",
    "\n",
    "    def forward(self, X):\n",
    "        return self.net(X)"
   ]
  },
  {
   "cell_type": "code",
   "execution_count": 12,
   "metadata": {},
   "outputs": [],
   "source": [
    "linear_regression_nn = CSOPLinearRegressionNN(num_input_features=X_train.shape[1])"
   ]
  },
  {
   "attachments": {},
   "cell_type": "markdown",
   "metadata": {},
   "source": [
    "## Model Training"
   ]
  },
  {
   "cell_type": "code",
   "execution_count": 13,
   "metadata": {},
   "outputs": [],
   "source": [
    "optimizer = Adam\n",
    "loss_fn = nn.MSELoss()\n",
    "max_epochs = 100\n",
    "early_stopping_tol = 1000"
   ]
  },
  {
   "cell_type": "code",
   "execution_count": 14,
   "metadata": {},
   "outputs": [],
   "source": [
    "class Trainer():\n",
    "  def __init__(\n",
    "    self, model, optimizer, loss_fn,\n",
    "    train_dataloader, val_dataloader,\n",
    "    max_epochs=50, tol=10\n",
    "  ):\n",
    "    self.model = model\n",
    "    self.optimizer = optimizer(params=self.model.parameters(), lr=0.0003)\n",
    "    self.loss_fn = loss_fn\n",
    "    self.train_dataloader = train_dataloader\n",
    "    self.val_dataloader = val_dataloader\n",
    "    self.max_epochs = max_epochs\n",
    "    self.train_losses = []\n",
    "    self.val_losses = []\n",
    "    self.best_val_loss = float('inf')\n",
    "    self.best_val_loss_epoch = -1\n",
    "    self.tol = tol\n",
    "    self.max_tol = tol\n",
    "\n",
    "  def fit(self):\n",
    "    for epoch_idx in range(self.max_epochs):\n",
    "      if self.tol == 0:\n",
    "        print('Using Early Stopping')\n",
    "        break\n",
    "      self.train_one_epoch()\n",
    "      self.early_stopping(epoch_idx=epoch_idx)\n",
    "      print(f'Epoch {epoch_idx}\\t Train Loss: {self.train_losses[-1]}\\tVal Loss: {self.val_losses[-1]}')\n",
    "    print(f'Best Model Found at Epoch {self.best_val_loss_epoch}')\n",
    "\n",
    "  def train_one_epoch(self):\n",
    "    training_loss = 0\n",
    "    for features, labels in self.train_dataloader:\n",
    "      self.optimizer.zero_grad()\n",
    "      predictions = self.model(features)\n",
    "      loss = self.loss_fn(predictions, labels)\n",
    "      training_loss += loss.item()\n",
    "      loss.backward()\n",
    "      nn.utils.clip_grad_norm_(self.model.parameters(), max_norm=1.0, norm_type=2)\n",
    "      self.optimizer.step()\n",
    "    self.train_losses.append(training_loss/len(self.train_dataloader))\n",
    "\n",
    "    val_loss = 0\n",
    "    with torch.no_grad():\n",
    "      for features, labels in self.val_dataloader:\n",
    "        predictions = self.model(features)\n",
    "        loss = self.loss_fn(predictions, labels)\n",
    "        val_loss += loss.item()\n",
    "      self.val_losses.append(val_loss/len(self.val_dataloader))\n",
    "\n",
    "  def early_stopping(self, epoch_idx):\n",
    "    current_val_loss = self.val_losses[-1]\n",
    "    if current_val_loss < self.best_val_loss:\n",
    "      self.best_val_loss = current_val_loss\n",
    "      self.best_val_loss_epoch = epoch_idx\n",
    "      model_path = f'feature_bagging_nn_models/best_model'\n",
    "      torch.save(self.model.state_dict(), model_path)\n",
    "      self.tol = self.max_tol\n",
    "    else:\n",
    "      self.tol -= 1"
   ]
  },
  {
   "cell_type": "code",
   "execution_count": 15,
   "metadata": {},
   "outputs": [],
   "source": [
    "trainer = Trainer(\n",
    "  model=linear_regression_nn, optimizer=optimizer, loss_fn=loss_fn,\n",
    "  train_dataloader=train_dataloader, val_dataloader=val_dataloader,\n",
    "  max_epochs=max_epochs, tol=early_stopping_tol\n",
    ")"
   ]
  },
  {
   "cell_type": "code",
   "execution_count": 16,
   "metadata": {},
   "outputs": [
    {
     "name": "stdout",
     "output_type": "stream",
     "text": [
      "Epoch 0\t Train Loss: 0.9140836715434613\tVal Loss: 0.9103407425745791\n",
      "Epoch 1\t Train Loss: 0.851280938114835\tVal Loss: 0.9268000597364228\n",
      "Epoch 2\t Train Loss: 0.8203114792420398\tVal Loss: 0.8785361097324242\n",
      "Epoch 3\t Train Loss: 0.8071054470660622\tVal Loss: 0.958984051647418\n",
      "Epoch 4\t Train Loss: 0.7887688527342791\tVal Loss: 0.8981880411233756\n",
      "Epoch 5\t Train Loss: 0.7866137038575408\tVal Loss: 0.9433136706890837\n",
      "Epoch 6\t Train Loss: 0.7718367533243644\tVal Loss: 0.7956170056116127\n",
      "Epoch 7\t Train Loss: 0.771386143117489\tVal Loss: 0.8747869270866998\n",
      "Epoch 8\t Train Loss: 0.7589116563683819\tVal Loss: 0.832692163633471\n",
      "Epoch 9\t Train Loss: 0.7577427735458931\tVal Loss: 0.9501253849641973\n",
      "Epoch 10\t Train Loss: 0.7570306261151749\tVal Loss: 0.8247094609053609\n",
      "Epoch 11\t Train Loss: 0.7581490720697827\tVal Loss: 0.8500720924903397\n",
      "Epoch 12\t Train Loss: 0.7481295601602164\tVal Loss: 0.9210453954994364\n",
      "Epoch 13\t Train Loss: 0.7489710800904931\tVal Loss: 0.8738429906153153\n",
      "Epoch 14\t Train Loss: 0.7531412599820541\tVal Loss: 0.8372842052107425\n",
      "Epoch 15\t Train Loss: 0.7410853024648504\tVal Loss: 0.8466914238819887\n",
      "Epoch 16\t Train Loss: 0.7437491946800211\tVal Loss: 0.8173407667719197\n",
      "Epoch 17\t Train Loss: 0.7438662965628157\tVal Loss: 0.8005181590787196\n",
      "Epoch 18\t Train Loss: 0.7400932334215015\tVal Loss: 0.835692962656021\n",
      "Epoch 19\t Train Loss: 0.7430296551110062\tVal Loss: 0.8335683749356603\n",
      "Epoch 20\t Train Loss: 0.7400988883621341\tVal Loss: 0.8850797625866111\n",
      "Epoch 21\t Train Loss: 0.7367305573449271\tVal Loss: 0.9427988354433483\n",
      "Epoch 22\t Train Loss: 0.7366994493744716\tVal Loss: 0.7697740740846855\n",
      "Epoch 23\t Train Loss: 0.7379253624267594\tVal Loss: 0.8488633937878487\n",
      "Epoch 24\t Train Loss: 0.7354008162529373\tVal Loss: 0.90371288515826\n",
      "Epoch 25\t Train Loss: 0.7310392751567035\tVal Loss: 0.8276098386412027\n",
      "Epoch 26\t Train Loss: 0.7383618734652433\tVal Loss: 0.8163501543602131\n",
      "Epoch 27\t Train Loss: 0.741449686526889\tVal Loss: 0.8128079191778315\n",
      "Epoch 28\t Train Loss: 0.7282631150176918\tVal Loss: 0.9062823238058171\n",
      "Epoch 29\t Train Loss: 0.732943829534964\tVal Loss: 0.8515744665214274\n",
      "Epoch 30\t Train Loss: 0.7250150997801004\tVal Loss: 0.884920709588507\n",
      "Epoch 31\t Train Loss: 0.7327342921327481\tVal Loss: 0.8337360655137276\n",
      "Epoch 32\t Train Loss: 0.726923805293367\tVal Loss: 0.8338998230814685\n",
      "Epoch 33\t Train Loss: 0.7368336454763939\tVal Loss: 0.8803340865693285\n",
      "Epoch 34\t Train Loss: 0.7204232828234067\tVal Loss: 0.8630589822598416\n",
      "Epoch 35\t Train Loss: 0.7377848427487687\tVal Loss: 0.8413206081772023\n",
      "Epoch 36\t Train Loss: 0.7289161261895291\tVal Loss: 0.862651298126597\n",
      "Epoch 37\t Train Loss: 0.725295174241558\tVal Loss: 0.9545068124914118\n",
      "Epoch 38\t Train Loss: 0.7312435120728192\tVal Loss: 0.8524243880608607\n",
      "Epoch 39\t Train Loss: 0.721002282305837\tVal Loss: 0.837818863391486\n",
      "Epoch 40\t Train Loss: 0.7268825126479262\tVal Loss: 0.8574795239856365\n",
      "Epoch 41\t Train Loss: 0.7339757053216139\tVal Loss: 0.9083398875212583\n",
      "Epoch 42\t Train Loss: 0.7200993227121754\tVal Loss: 0.8369124250133932\n",
      "Epoch 43\t Train Loss: 0.7265759944066905\tVal Loss: 0.89907668469252\n",
      "Epoch 44\t Train Loss: 0.721165538778442\tVal Loss: 0.8354122606365912\n",
      "Epoch 45\t Train Loss: 0.7203648773579917\tVal Loss: 0.876592212767575\n",
      "Epoch 46\t Train Loss: 0.7211927402289013\tVal Loss: 0.9109884075489922\n",
      "Epoch 47\t Train Loss: 0.7260774577815726\tVal Loss: 0.8511830079783936\n",
      "Epoch 48\t Train Loss: 0.7153756280095314\tVal Loss: 0.8041855000574396\n",
      "Epoch 49\t Train Loss: 0.722138354000231\tVal Loss: 0.9223081707384628\n",
      "Epoch 50\t Train Loss: 0.7151403359953893\tVal Loss: 0.9168438825331184\n",
      "Epoch 51\t Train Loss: 0.7253719539094423\tVal Loss: 0.8944054658276369\n",
      "Epoch 52\t Train Loss: 0.7236898910368595\tVal Loss: 0.792339264868464\n",
      "Epoch 53\t Train Loss: 0.7209671826202682\tVal Loss: 0.8378481728658311\n",
      "Epoch 54\t Train Loss: 0.7236938790727055\tVal Loss: 0.8612271969943734\n",
      "Epoch 55\t Train Loss: 0.7192333312459068\tVal Loss: 0.9469979424302647\n",
      "Epoch 56\t Train Loss: 0.7164257499822456\tVal Loss: 0.9187654581078921\n",
      "Epoch 57\t Train Loss: 0.7153359755175872\tVal Loss: 0.887697025096412\n",
      "Epoch 58\t Train Loss: 0.7181156606349708\tVal Loss: 0.8016277300425093\n",
      "Epoch 59\t Train Loss: 0.7159659306786245\tVal Loss: 0.9538018828557044\n",
      "Epoch 60\t Train Loss: 0.7117369947678853\tVal Loss: 0.9199966176970731\n",
      "Epoch 61\t Train Loss: 0.7235145838138196\tVal Loss: 0.9341436980296778\n",
      "Epoch 62\t Train Loss: 0.711139374218451\tVal Loss: 0.97829955708302\n",
      "Epoch 63\t Train Loss: 0.7214795983062127\tVal Loss: 0.872092760124564\n",
      "Epoch 64\t Train Loss: 0.7156238147828489\tVal Loss: 0.9162161088048306\n",
      "Epoch 65\t Train Loss: 0.7171744537660423\tVal Loss: 0.8226117916554745\n",
      "Epoch 66\t Train Loss: 0.7139551710750125\tVal Loss: 0.9757202062780337\n",
      "Epoch 67\t Train Loss: 0.7192452627919754\tVal Loss: 0.9044638672539388\n",
      "Epoch 68\t Train Loss: 0.7238895190462905\tVal Loss: 0.8820690686231814\n",
      "Epoch 69\t Train Loss: 0.7129138359395909\tVal Loss: 0.8616102949103093\n",
      "Epoch 70\t Train Loss: 0.7143276440874963\tVal Loss: 0.8396108201768975\n",
      "Epoch 71\t Train Loss: 0.7135547058919357\tVal Loss: 0.9675018920969101\n",
      "Epoch 72\t Train Loss: 0.7143858772153127\tVal Loss: 0.8771902172308745\n",
      "Epoch 73\t Train Loss: 0.7111732059466281\tVal Loss: 0.8438939694803944\n",
      "Epoch 74\t Train Loss: 0.7217422165863401\tVal Loss: 0.8344058936137242\n",
      "Epoch 75\t Train Loss: 0.717406989169762\tVal Loss: 0.8726856765309478\n",
      "Epoch 76\t Train Loss: 0.7155193366883104\tVal Loss: 0.8930000576057227\n",
      "Epoch 77\t Train Loss: 0.7139935421369603\tVal Loss: 0.9440903984063787\n",
      "Epoch 78\t Train Loss: 0.7116170848756443\tVal Loss: 0.887041005059988\n",
      "Epoch 79\t Train Loss: 0.7089153519850833\tVal Loss: 0.9052020985682945\n",
      "Epoch 80\t Train Loss: 0.7208697928951153\tVal Loss: 0.8541267645154293\n",
      "Epoch 81\t Train Loss: 0.7107580939085432\tVal Loss: 0.8849834519512576\n",
      "Epoch 82\t Train Loss: 0.7082237129978378\tVal Loss: 0.9337086715827381\n",
      "Epoch 83\t Train Loss: 0.7078525365348872\tVal Loss: 0.8477197467211703\n",
      "Epoch 84\t Train Loss: 0.7095453010863825\tVal Loss: 0.8985591979413861\n",
      "Epoch 85\t Train Loss: 0.7051011964743178\tVal Loss: 0.9135046049617084\n",
      "Epoch 86\t Train Loss: 0.712940857774459\tVal Loss: 0.8821932989556396\n",
      "Epoch 87\t Train Loss: 0.7118753446298001\tVal Loss: 0.8260356720525035\n",
      "Epoch 88\t Train Loss: 0.7135661861696063\tVal Loss: 1.004726313553597\n",
      "Epoch 89\t Train Loss: 0.7090545414430582\tVal Loss: 0.8717263419090728\n",
      "Epoch 90\t Train Loss: 0.7089601849281181\tVal Loss: 0.8318326813608297\n",
      "Epoch 91\t Train Loss: 0.7087076925930145\tVal Loss: 0.9430900309223778\n",
      "Epoch 92\t Train Loss: 0.7087157813805511\tVal Loss: 0.9329205283063586\n",
      "Epoch 93\t Train Loss: 0.7055920366505258\tVal Loss: 0.8774891152148683\n",
      "Epoch 94\t Train Loss: 0.7139441610741947\tVal Loss: 0.8145296119554022\n",
      "Epoch 95\t Train Loss: 0.7102930879258332\tVal Loss: 0.9401163776201646\n",
      "Epoch 96\t Train Loss: 0.7075569504438578\tVal Loss: 0.9510134130568003\n",
      "Epoch 97\t Train Loss: 0.709582114752772\tVal Loss: 0.9105115174718562\n",
      "Epoch 98\t Train Loss: 0.7078741843536195\tVal Loss: 0.97740779731201\n",
      "Epoch 99\t Train Loss: 0.7114510510574836\tVal Loss: 0.9227844387131814\n",
      "Best Model Found at Epoch 22\n"
     ]
    }
   ],
   "source": [
    "trainer.fit()"
   ]
  },
  {
   "cell_type": "code",
   "execution_count": 17,
   "metadata": {},
   "outputs": [
    {
     "data": {
      "image/png": "[encoded data removed]",
      "text/plain": [
       "<Figure size 800x500 with 1 Axes>"
      ]
     },
     "metadata": {},
     "output_type": "display_data"
    }
   ],
   "source": [
    "fig, ax = plt.subplots(figsize=(8, 5))\n",
    "ax.plot(trainer.train_losses, color='blue', label='Training Losses')\n",
    "ax.plot(trainer.val_losses, color='red', label='Validation Losses')\n",
    "ax.legend()\n",
    "ax.set(xlabel='Epochs', ylabel='MSE Loss', title='Learning Curves')\n",
    "plt.show()"
   ]
  },
  {
   "cell_type": "code",
   "execution_count": 18,
   "metadata": {},
   "outputs": [],
   "source": [
    "linear_regression_nn_trained = trainer.model"
   ]
  },
  {
   "attachments": {},
   "cell_type": "markdown",
   "metadata": {},
   "source": [
    "# Fully Connected Neural Network"
   ]
  },
  {
   "attachments": {},
   "cell_type": "markdown",
   "metadata": {},
   "source": [
    "## Model Definition"
   ]
  },
  {
   "cell_type": "code",
   "execution_count": 11,
   "metadata": {},
   "outputs": [],
   "source": [
    "class CSOPFullyConnectedNN(nn.Module):\n",
    "    def __init__(self, num_input_features):\n",
    "        super().__init__()\n",
    "        self.net = nn.Sequential(\n",
    "            nn.Linear(in_features=num_input_features, out_features=16),\n",
    "            nn.ReLU(),\n",
    "            nn.Linear(in_features=16, out_features=8),\n",
    "            nn.ReLU(),\n",
    "            nn.Linear(in_features=8, out_features=4),\n",
    "            nn.ReLU(),\n",
    "            nn.Linear(in_features=4, out_features=1)\n",
    "        )\n",
    "\n",
    "    def forward(self, X):\n",
    "        return self.net(X)"
   ]
  },
  {
   "cell_type": "code",
   "execution_count": 12,
   "metadata": {},
   "outputs": [],
   "source": [
    "fully_connected_nn = CSOPFullyConnectedNN(num_input_features=X_train.shape[1])"
   ]
  },
  {
   "attachments": {},
   "cell_type": "markdown",
   "metadata": {},
   "source": [
    "## Model Training Setup"
   ]
  },
  {
   "cell_type": "code",
   "execution_count": 13,
   "metadata": {},
   "outputs": [],
   "source": [
    "loss_fn = nn.MSELoss()\n",
    "learning_rate = 0.0001\n",
    "optimizer = Adam(params=fully_connected_nn.parameters(), lr=learning_rate)\n",
    "max_epochs = 100"
   ]
  },
  {
   "cell_type": "code",
   "execution_count": 14,
   "metadata": {},
   "outputs": [],
   "source": [
    "best_mse = float('inf')\n",
    "best_weights = None\n",
    "train_losses, val_losses = [], []"
   ]
  },
  {
   "attachments": {},
   "cell_type": "markdown",
   "metadata": {},
   "source": [
    "## Model Training Loop"
   ]
  },
  {
   "cell_type": "code",
   "execution_count": 15,
   "metadata": {},
   "outputs": [
    {
     "name": "stderr",
     "output_type": "stream",
     "text": [
      "Epoch: 0:  93%|█████████▎| 13/14 [00:00<00:00, 136.91batch/s, mse=1.07] \n",
      "Epoch: 1:  93%|█████████▎| 13/14 [00:00<00:00, 268.09batch/s, mse=0.851]\n",
      "Epoch: 2:  93%|█████████▎| 13/14 [00:00<00:00, 255.38batch/s, mse=0.669]\n",
      "Epoch: 3:  93%|█████████▎| 13/14 [00:00<00:00, 257.65batch/s, mse=1.23] \n",
      "Epoch: 4:  93%|█████████▎| 13/14 [00:00<00:00, 275.24batch/s, mse=1.08] \n",
      "Epoch: 5:  93%|█████████▎| 13/14 [00:00<00:00, 272.68batch/s, mse=0.695]\n",
      "Epoch: 6:  93%|█████████▎| 13/14 [00:00<00:00, 225.31batch/s, mse=0.928]\n",
      "Epoch: 7:  93%|█████████▎| 13/14 [00:00<00:00, 272.06batch/s, mse=1.17] \n",
      "Epoch: 8:  93%|█████████▎| 13/14 [00:00<00:00, 266.39batch/s, mse=0.835]\n",
      "Epoch: 9:  93%|█████████▎| 13/14 [00:00<00:00, 266.72batch/s, mse=1.09] \n",
      "Epoch: 10:  93%|█████████▎| 13/14 [00:00<00:00, 273.21batch/s, mse=0.719]\n",
      "Epoch: 11:  93%|█████████▎| 13/14 [00:00<00:00, 230.96batch/s, mse=0.713]\n",
      "Epoch: 12:  93%|█████████▎| 13/14 [00:00<00:00, 261.12batch/s, mse=0.632]\n",
      "Epoch: 13:  93%|█████████▎| 13/14 [00:00<00:00, 263.92batch/s, mse=0.796]\n",
      "Epoch: 14:  93%|█████████▎| 13/14 [00:00<00:00, 230.93batch/s, mse=1.01] \n",
      "Epoch: 15:  93%|█████████▎| 13/14 [00:00<00:00, 254.37batch/s, mse=1.34] \n",
      "Epoch: 16:  93%|█████████▎| 13/14 [00:00<00:00, 264.16batch/s, mse=0.586]\n",
      "Epoch: 17:  93%|█████████▎| 13/14 [00:00<00:00, 264.44batch/s, mse=1.02] \n",
      "Epoch: 18:  93%|█████████▎| 13/14 [00:00<00:00, 247.77batch/s, mse=0.999]\n",
      "Epoch: 19:  93%|█████████▎| 13/14 [00:00<00:00, 166.40batch/s, mse=0.833]\n",
      "Epoch: 20:  93%|█████████▎| 13/14 [00:00<00:00, 245.23batch/s, mse=0.846]\n",
      "Epoch: 21:  93%|█████████▎| 13/14 [00:00<00:00, 249.43batch/s, mse=1.05] \n",
      "Epoch: 22:  93%|█████████▎| 13/14 [00:00<00:00, 269.31batch/s, mse=0.418]\n",
      "Epoch: 23:  93%|█████████▎| 13/14 [00:00<00:00, 215.56batch/s, mse=0.69] \n",
      "Epoch: 24:  93%|█████████▎| 13/14 [00:00<00:00, 254.62batch/s, mse=0.766]\n",
      "Epoch: 25:  93%|█████████▎| 13/14 [00:00<00:00, 201.53batch/s, mse=0.821]\n",
      "Epoch: 26:  93%|█████████▎| 13/14 [00:00<00:00, 254.36batch/s, mse=0.695]\n",
      "Epoch: 27:  93%|█████████▎| 13/14 [00:00<00:00, 200.65batch/s, mse=0.944]\n",
      "Epoch: 28:  93%|█████████▎| 13/14 [00:00<00:00, 239.65batch/s, mse=1.29] \n",
      "Epoch: 29:  93%|█████████▎| 13/14 [00:00<00:00, 210.61batch/s, mse=0.916]\n",
      "Epoch: 30:  93%|█████████▎| 13/14 [00:00<00:00, 252.14batch/s, mse=1.1]  \n",
      "Epoch: 31:  93%|█████████▎| 13/14 [00:00<00:00, 221.44batch/s, mse=1.13] \n",
      "Epoch: 32:  93%|█████████▎| 13/14 [00:00<00:00, 168.67batch/s, mse=1.54] \n",
      "Epoch: 33:  93%|█████████▎| 13/14 [00:00<00:00, 243.14batch/s, mse=1.14] \n",
      "Epoch: 34:  93%|█████████▎| 13/14 [00:00<00:00, 271.51batch/s, mse=1.12] \n",
      "Epoch: 35:  93%|█████████▎| 13/14 [00:00<00:00, 253.63batch/s, mse=0.94] \n",
      "Epoch: 36:  93%|█████████▎| 13/14 [00:00<00:00, 265.19batch/s, mse=0.639]\n",
      "Epoch: 37:  93%|█████████▎| 13/14 [00:00<00:00, 274.05batch/s, mse=1.54] \n",
      "Epoch: 38:  93%|█████████▎| 13/14 [00:00<00:00, 254.94batch/s, mse=1.46] \n",
      "Epoch: 39:  93%|█████████▎| 13/14 [00:00<00:00, 253.16batch/s, mse=0.525]\n",
      "Epoch: 40:  93%|█████████▎| 13/14 [00:00<00:00, 284.74batch/s, mse=0.59] \n",
      "Epoch: 41:  93%|█████████▎| 13/14 [00:00<00:00, 254.15batch/s, mse=0.567]\n",
      "Epoch: 42:  93%|█████████▎| 13/14 [00:00<00:00, 270.09batch/s, mse=0.747]\n",
      "Epoch: 43:  93%|█████████▎| 13/14 [00:00<00:00, 265.32batch/s, mse=0.546]\n",
      "Epoch: 44:  93%|█████████▎| 13/14 [00:00<00:00, 252.34batch/s, mse=0.665]\n",
      "Epoch: 45:  93%|█████████▎| 13/14 [00:00<00:00, 224.26batch/s, mse=0.654]\n",
      "Epoch: 46:  93%|█████████▎| 13/14 [00:00<00:00, 235.79batch/s, mse=0.662]\n",
      "Epoch: 47:  93%|█████████▎| 13/14 [00:00<00:00, 275.24batch/s, mse=1.35] \n",
      "Epoch: 48:  93%|█████████▎| 13/14 [00:00<00:00, 242.73batch/s, mse=1.85] \n",
      "Epoch: 49:  93%|█████████▎| 13/14 [00:00<00:00, 265.65batch/s, mse=0.854]\n",
      "Epoch: 50:  93%|█████████▎| 13/14 [00:00<00:00, 272.94batch/s, mse=0.488]\n",
      "Epoch: 51:  93%|█████████▎| 13/14 [00:00<00:00, 295.38batch/s, mse=1.22]\n",
      "Epoch: 52:  93%|█████████▎| 13/14 [00:00<00:00, 256.85batch/s, mse=1.38] \n",
      "Epoch: 53:  93%|█████████▎| 13/14 [00:00<00:00, 262.12batch/s, mse=0.825]\n",
      "Epoch: 54:  93%|█████████▎| 13/14 [00:00<00:00, 278.24batch/s, mse=0.571]\n",
      "Epoch: 55:  93%|█████████▎| 13/14 [00:00<00:00, 265.59batch/s, mse=0.959]\n",
      "Epoch: 56:  93%|█████████▎| 13/14 [00:00<00:00, 245.22batch/s, mse=1.32] \n",
      "Epoch: 57:  93%|█████████▎| 13/14 [00:00<00:00, 169.31batch/s, mse=0.871]\n",
      "Epoch: 58:  93%|█████████▎| 13/14 [00:00<00:00, 288.81batch/s, mse=1.36] \n",
      "Epoch: 59:  93%|█████████▎| 13/14 [00:00<00:00, 300.61batch/s, mse=1.59] \n",
      "Epoch: 60:  93%|█████████▎| 13/14 [00:00<00:00, 251.11batch/s, mse=0.996]\n",
      "Epoch: 61:  93%|█████████▎| 13/14 [00:00<00:00, 261.26batch/s, mse=1.3]  \n",
      "Epoch: 62:  93%|█████████▎| 13/14 [00:00<00:00, 285.75batch/s, mse=1.01] \n",
      "Epoch: 63:  93%|█████████▎| 13/14 [00:00<00:00, 291.38batch/s, mse=1.11] \n",
      "Epoch: 64:  93%|█████████▎| 13/14 [00:00<00:00, 246.73batch/s, mse=0.444]\n",
      "Epoch: 65:  93%|█████████▎| 13/14 [00:00<00:00, 267.09batch/s, mse=0.557]\n",
      "Epoch: 66:  93%|█████████▎| 13/14 [00:00<00:00, 291.83batch/s, mse=1.22] \n",
      "Epoch: 67:  93%|█████████▎| 13/14 [00:00<00:00, 279.91batch/s, mse=1.72] \n",
      "Epoch: 68:  93%|█████████▎| 13/14 [00:00<00:00, 186.48batch/s, mse=0.693]\n",
      "Epoch: 69:  93%|█████████▎| 13/14 [00:00<00:00, 246.70batch/s, mse=1.24] \n",
      "Epoch: 70:  93%|█████████▎| 13/14 [00:00<00:00, 273.75batch/s, mse=0.401]\n",
      "Epoch: 71:  93%|█████████▎| 13/14 [00:00<00:00, 237.71batch/s, mse=0.639]\n",
      "Epoch: 72:  93%|█████████▎| 13/14 [00:00<00:00, 300.91batch/s, mse=0.788]\n",
      "Epoch: 73:  93%|█████████▎| 13/14 [00:00<00:00, 279.99batch/s, mse=0.503]\n",
      "Epoch: 74:  93%|█████████▎| 13/14 [00:00<00:00, 248.80batch/s, mse=0.716]\n",
      "Epoch: 75:  93%|█████████▎| 13/14 [00:00<00:00, 264.58batch/s, mse=0.937]\n",
      "Epoch: 76:  93%|█████████▎| 13/14 [00:00<00:00, 273.45batch/s, mse=0.539]\n",
      "Epoch: 77:  93%|█████████▎| 13/14 [00:00<00:00, 277.65batch/s, mse=0.625]\n",
      "Epoch: 78:  93%|█████████▎| 13/14 [00:00<00:00, 243.99batch/s, mse=0.864]\n",
      "Epoch: 79:  93%|█████████▎| 13/14 [00:00<00:00, 273.93batch/s, mse=0.619]\n",
      "Epoch: 80:  93%|█████████▎| 13/14 [00:00<00:00, 205.04batch/s, mse=0.764]\n",
      "Epoch: 81:  93%|█████████▎| 13/14 [00:00<00:00, 209.19batch/s, mse=0.778]\n",
      "Epoch: 82:  93%|█████████▎| 13/14 [00:00<00:00, 272.61batch/s, mse=0.612]\n",
      "Epoch: 83:  93%|█████████▎| 13/14 [00:00<00:00, 297.79batch/s, mse=0.576]\n",
      "Epoch: 84:  93%|█████████▎| 13/14 [00:00<00:00, 247.52batch/s, mse=0.737]\n",
      "Epoch: 85:  93%|█████████▎| 13/14 [00:00<00:00, 286.17batch/s, mse=0.848]\n",
      "Epoch: 86:  93%|█████████▎| 13/14 [00:00<00:00, 282.72batch/s, mse=0.482]\n",
      "Epoch: 87:  93%|█████████▎| 13/14 [00:00<00:00, 239.81batch/s, mse=0.817]\n",
      "Epoch: 88:  93%|█████████▎| 13/14 [00:00<00:00, 288.70batch/s, mse=0.81] \n",
      "Epoch: 89:  93%|█████████▎| 13/14 [00:00<00:00, 164.18batch/s, mse=0.912]\n",
      "Epoch: 90:  93%|█████████▎| 13/14 [00:00<00:00, 284.83batch/s, mse=1.09] \n",
      "Epoch: 91:  93%|█████████▎| 13/14 [00:00<00:00, 295.07batch/s, mse=0.939]\n",
      "Epoch: 92:  93%|█████████▎| 13/14 [00:00<00:00, 240.82batch/s, mse=0.974]\n",
      "Epoch: 93:  93%|█████████▎| 13/14 [00:00<00:00, 290.48batch/s, mse=0.841]\n",
      "Epoch: 94:  93%|█████████▎| 13/14 [00:00<00:00, 286.00batch/s, mse=0.687]\n",
      "Epoch: 95:  93%|█████████▎| 13/14 [00:00<00:00, 247.58batch/s, mse=0.617]\n",
      "Epoch: 96:  93%|█████████▎| 13/14 [00:00<00:00, 284.87batch/s, mse=0.447]\n",
      "Epoch: 97:  93%|█████████▎| 13/14 [00:00<00:00, 283.59batch/s, mse=1.09] \n",
      "Epoch: 98:  93%|█████████▎| 13/14 [00:00<00:00, 188.04batch/s, mse=1.18] \n",
      "Epoch: 99:  93%|█████████▎| 13/14 [00:00<00:00, 274.68batch/s, mse=0.374]\n"
     ]
    }
   ],
   "source": [
    "for epoch in range(max_epochs):\n",
    "    # Training for one epoch\n",
    "    fully_connected_nn.train()\n",
    "    train_loss = 0\n",
    "    with tqdm(list(range(len(train_dataloader))), unit=\"batch\", mininterval=0, disable=False) as bar:\n",
    "        bar.set_description(f'Epoch: {epoch}')\n",
    "        for (X_batch, y_batch), start in zip(train_dataloader, bar):\n",
    "            # Forward Pass\n",
    "            X_batch, y_batch = X_batch.to(torch.float32), y_batch.to(torch.float32)\n",
    "            y_pred = fully_connected_nn(X_batch)\n",
    "            loss = loss_fn(y_pred, y_batch)\n",
    "            # Backward Pass\n",
    "            optimizer.zero_grad()\n",
    "            loss.backward()\n",
    "            # Weights Updates\n",
    "            optimizer.step()\n",
    "            # Print Progress\n",
    "            bar.set_postfix(mse=float(loss))\n",
    "            train_loss += float(loss)\n",
    "    # Calculating average training loss after one epoch\n",
    "    avg_train_mse_loss = float(train_loss/len(train_dataloader))\n",
    "    train_losses.append(avg_train_mse_loss)\n",
    "    # Validation after one epoch\n",
    "    fully_connected_nn.eval()\n",
    "    val_loss = 0\n",
    "    for X_batch, y_batch in val_dataloader:\n",
    "        # Forward Pass\n",
    "        X_batch, y_batch = X_batch.to(torch.float32), y_batch.to(torch.float32)\n",
    "        y_pred = fully_connected_nn(X_batch)\n",
    "        val_mse_loss = loss_fn(y_pred, y_batch)\n",
    "        val_loss += float(val_mse_loss)\n",
    "    # Calculating average validation loss after one epoch\n",
    "    avg_val_mse_loss = float(val_loss/len(val_dataloader))\n",
    "    val_losses.append(avg_val_mse_loss)\n",
    "    # Checking if we improved from the previous best epoch\n",
    "    if avg_val_mse_loss < best_mse:\n",
    "        best_mse = avg_val_mse_loss\n",
    "        best_weights = copy.deepcopy(fully_connected_nn.state_dict())"
   ]
  },
  {
   "cell_type": "code",
   "execution_count": 16,
   "metadata": {},
   "outputs": [],
   "source": [
    "fully_connected_nn.load_state_dict(best_weights)\n",
    "model_path = f'feature_bagging_nn_models/fully_connected_nn_best_model'\n",
    "torch.save(fully_connected_nn.state_dict(), model_path)\n"
   ]
  },
  {
   "cell_type": "code",
   "execution_count": 17,
   "metadata": {},
   "outputs": [
    {
     "name": "stdout",
     "output_type": "stream",
     "text": [
      "Best Validation MSE: 0.8147574216127396\n"
     ]
    },
    {
     "data": {
      "image/png": "[encoded data removed]",
      "text/plain": [
       "<Figure size 800x500 with 1 Axes>"
      ]
     },
     "metadata": {},
     "output_type": "display_data"
    }
   ],
   "source": [
    "print(f'Best Validation MSE: {best_mse}')\n",
    "fig, ax = plt.subplots(figsize=(8, 5))\n",
    "ax.plot(train_losses, color='blue', label='Training Losses')\n",
    "ax.plot(val_losses, color='red', label='Validation Losses')\n",
    "ax.legend()\n",
    "ax.set(xlabel='Epochs', ylabel='MSE Loss', title='Learning Curves')\n",
    "plt.show()"
   ]
  },
  {
   "cell_type": "code",
   "execution_count": 27,
   "metadata": {},
   "outputs": [],
   "source": [
    "def calc_nn_metrics(y_true, y_pred, type='TRAIN'):\n",
    "    r2 = r2_score(y_true=y_true, y_pred=y_pred).round(4)\n",
    "    mse = mean_squared_error(y_true=y_true, y_pred=y_pred).round(4)\n",
    "    rmse = np.sqrt(mse).round(4)\n",
    "    mae = mean_absolute_error(y_true=y_true, y_pred=y_pred).round(4)\n",
    "\n",
    "    print(f'{type} METRICS')\n",
    "    print(f'R2: {r2}\\tMSE: {mse}\\tRMSE: {rmse}\\tMAE: {mae}')"
   ]
  },
  {
   "cell_type": "code",
   "execution_count": 25,
   "metadata": {},
   "outputs": [],
   "source": [
    "train_preds = fully_connected_nn(torch.tensor(X_train.to_numpy(), dtype=torch.float32)).detach().numpy()\n",
    "val_preds = fully_connected_nn(torch.tensor(X_val.to_numpy(), dtype=torch.float32)).detach().numpy()"
   ]
  },
  {
   "cell_type": "code",
   "execution_count": 28,
   "metadata": {},
   "outputs": [
    {
     "name": "stdout",
     "output_type": "stream",
     "text": [
      "TRAIN METRICS\n",
      "R2: 0.0975\tMSE: 0.8913\tRMSE: 0.9441\tMAE: 0.6666\n"
     ]
    }
   ],
   "source": [
    "calc_nn_metrics(y_true=y_train, y_pred=train_preds, type='TRAIN')"
   ]
  },
  {
   "cell_type": "code",
   "execution_count": 29,
   "metadata": {},
   "outputs": [
    {
     "name": "stdout",
     "output_type": "stream",
     "text": [
      "VALIDATION METRICS\n",
      "R2: 0.1544\tMSE: 0.9327\tRMSE: 0.9658\tMAE: 0.7285\n"
     ]
    }
   ],
   "source": [
    "calc_nn_metrics(y_true=y_val, y_pred=val_preds, type='VALIDATION')"
   ]
  },
  {
   "attachments": {},
   "cell_type": "markdown",
   "metadata": {},
   "source": [
    "# Sparsely Connected Neural Network"
   ]
  },
  {
   "attachments": {},
   "cell_type": "markdown",
   "metadata": {},
   "source": [
    "## Data Prep"
   ]
  },
  {
   "attachments": {},
   "cell_type": "markdown",
   "metadata": {},
   "source": [
    "### Defining set of features"
   ]
  },
  {
   "attachments": {},
   "cell_type": "markdown",
   "metadata": {},
   "source": [
    "The following features are to be excluded (they are either not present in the feature groupings or in the training datasets)"
   ]
  },
  {
   "cell_type": "code",
   "execution_count": 42,
   "metadata": {},
   "outputs": [
    {
     "name": "stdout",
     "output_type": "stream",
     "text": [
      "min_present_tense\n",
      "average_present_tense\n",
      "discursive_diversity\n",
      "stdev_present_tense\n",
      "max_present_tense\n",
      "variance_in_DD\n",
      "within_person_disc_range\n",
      "incongruent_modulation\n"
     ]
    }
   ],
   "source": [
    "for feature in X_train.columns:\n",
    "    if feature not in feature_groupings['Feature Name'].to_list():\n",
    "        print(feature)"
   ]
  },
  {
   "cell_type": "code",
   "execution_count": 41,
   "metadata": {},
   "outputs": [
    {
     "name": "stdout",
     "output_type": "stream",
     "text": [
      "min_dale_chall_classification\n",
      "max_dale_chall_classification\n",
      "stdev_dale_chall_classification\n",
      "average_dale_chall_classification\n",
      "min_time_diff\n",
      "max_time_diff\n",
      "stdev_time_diff\n",
      "average_time_diff\n"
     ]
    }
   ],
   "source": [
    "for feature in feature_groupings['Feature Name'].to_list():\n",
    "    if feature not in X_train.columns:\n",
    "        print(feature)"
   ]
  },
  {
   "cell_type": "code",
   "execution_count": 46,
   "metadata": {},
   "outputs": [],
   "source": [
    "feature_subset = list(set(X_train.columns).intersection(set(feature_groupings['Feature Name'].to_list())))\n",
    "feature_subset.sort()"
   ]
  },
  {
   "attachments": {},
   "cell_type": "markdown",
   "metadata": {},
   "source": [
    "### Preparing Mask"
   ]
  },
  {
   "cell_type": "code",
   "execution_count": 77,
   "metadata": {},
   "outputs": [
    {
     "data": {
      "text/plain": [
       "(378, 15)"
      ]
     },
     "execution_count": 77,
     "metadata": {},
     "output_type": "execute_result"
    }
   ],
   "source": [
    "feature_groupings_subset = feature_groupings[\n",
    "    feature_groupings['Feature Name'].isin(feature_subset)\n",
    "].drop_duplicates().sort_values(by=['Feature Name'])\n",
    "mask = feature_groupings_subset.iloc[:, 1:].to_numpy()\n",
    "mask.shape"
   ]
  },
  {
   "attachments": {},
   "cell_type": "markdown",
   "metadata": {},
   "source": [
    "### Preparing Dataset"
   ]
  },
  {
   "cell_type": "code",
   "execution_count": 74,
   "metadata": {},
   "outputs": [],
   "source": [
    "X_train_subset = X_train.loc[:, feature_subset]\n",
    "X_val_subset = X_val.loc[:, feature_subset]\n",
    "X_test_subset = X_test.loc[:, feature_subset]\n",
    "\n",
    "train_dataset_subset = CSOPDataset(X=X_train_subset.to_numpy(), y=y_train.to_numpy())\n",
    "val_dataset_subset = CSOPDataset(X=X_val_subset.to_numpy(), y=y_val.to_numpy())\n",
    "\n",
    "train_dataloader_subset = DataLoader(dataset=train_dataset_subset, batch_size=64, shuffle=True)\n",
    "val_dataloader_subset = DataLoader(dataset=val_dataset_subset, batch_size=64, shuffle=True)"
   ]
  },
  {
   "attachments": {},
   "cell_type": "markdown",
   "metadata": {},
   "source": [
    "## Model Definition"
   ]
  },
  {
   "cell_type": "code",
   "execution_count": 133,
   "metadata": {},
   "outputs": [],
   "source": [
    "class MaskedLinear(nn.Linear):\n",
    "    def __init__(self, mask, *args, **kwargs) -> None:\n",
    "        super().__init__(*args, **kwargs)\n",
    "        self.mask = torch.tensor(mask, requires_grad=False, dtype=torch.float32)\n",
    "    \n",
    "    def forward(self, X):\n",
    "        return F.linear(input=X, weight=self.weight, bias=self.bias)@self.mask"
   ]
  },
  {
   "cell_type": "code",
   "execution_count": 134,
   "metadata": {},
   "outputs": [],
   "source": [
    "class CSOPSparselyConnectedNN(nn.Module):\n",
    "    def __init__(self, num_input_features, mask, *args, **kwargs) -> None:\n",
    "        super().__init__(*args, **kwargs)\n",
    "        self.net = nn.Sequential(\n",
    "            MaskedLinear(in_features=num_input_features, out_features=num_input_features, mask=mask),\n",
    "            nn.ReLU(),\n",
    "            nn.Linear(in_features=15, out_features=8),\n",
    "            nn.ReLU(),\n",
    "            nn.Linear(in_features=8, out_features=4),\n",
    "            nn.ReLU(),\n",
    "            nn.Linear(in_features=4, out_features=1)\n",
    "        )\n",
    "\n",
    "    def forward(self, X):\n",
    "        return self.net(X)"
   ]
  },
  {
   "cell_type": "code",
   "execution_count": 135,
   "metadata": {},
   "outputs": [],
   "source": [
    "sparsely_connected_nn = CSOPSparselyConnectedNN(num_input_features=X_train_subset.shape[1], mask=mask)"
   ]
  },
  {
   "cell_type": "code",
   "execution_count": 136,
   "metadata": {},
   "outputs": [
    {
     "data": {
      "text/plain": [
       "CSOPSparselyConnectedNN(\n",
       "  (net): Sequential(\n",
       "    (0): MaskedLinear(in_features=378, out_features=378, bias=True)\n",
       "    (1): ReLU()\n",
       "    (2): Linear(in_features=15, out_features=8, bias=True)\n",
       "    (3): ReLU()\n",
       "    (4): Linear(in_features=8, out_features=4, bias=True)\n",
       "    (5): ReLU()\n",
       "    (6): Linear(in_features=4, out_features=1, bias=True)\n",
       "  )\n",
       ")"
      ]
     },
     "execution_count": 136,
     "metadata": {},
     "output_type": "execute_result"
    }
   ],
   "source": [
    "sparsely_connected_nn"
   ]
  },
  {
   "attachments": {},
   "cell_type": "markdown",
   "metadata": {},
   "source": [
    "## Model Training Setup"
   ]
  },
  {
   "cell_type": "code",
   "execution_count": 137,
   "metadata": {},
   "outputs": [],
   "source": [
    "loss_fn = nn.MSELoss()\n",
    "learning_rate = 0.0001\n",
    "optimizer = Adam(params=fully_connected_nn.parameters(), lr=learning_rate)\n",
    "max_epochs = 100\n",
    "\n",
    "best_mse = float('inf')\n",
    "best_weights = None\n",
    "train_losses, val_losses = [], []"
   ]
  },
  {
   "attachments": {},
   "cell_type": "markdown",
   "metadata": {},
   "source": [
    "## Model Training Loop"
   ]
  },
  {
   "cell_type": "code",
   "execution_count": 138,
   "metadata": {},
   "outputs": [
    {
     "name": "stderr",
     "output_type": "stream",
     "text": [
      "Epoch: 0:  93%|█████████▎| 13/14 [00:00<00:00, 186.20batch/s, mse=1.35]\n",
      "Epoch: 1:  93%|█████████▎| 13/14 [00:00<00:00, 192.25batch/s, mse=0.946]\n",
      "Epoch: 2:  93%|█████████▎| 13/14 [00:00<00:00, 224.11batch/s, mse=0.812]\n",
      "Epoch: 3:  93%|█████████▎| 13/14 [00:00<00:00, 199.25batch/s, mse=1.38] \n",
      "Epoch: 4:  93%|█████████▎| 13/14 [00:00<00:00, 224.66batch/s, mse=0.903]\n",
      "Epoch: 5:  93%|█████████▎| 13/14 [00:00<00:00, 240.16batch/s, mse=0.782]\n",
      "Epoch: 6:  93%|█████████▎| 13/14 [00:00<00:00, 227.01batch/s, mse=0.945]\n",
      "Epoch: 7:  93%|█████████▎| 13/14 [00:00<00:00, 231.84batch/s, mse=1.2] \n",
      "Epoch: 8:  93%|█████████▎| 13/14 [00:00<00:00, 216.51batch/s, mse=1.06] \n",
      "Epoch: 9:  93%|█████████▎| 13/14 [00:00<00:00, 233.93batch/s, mse=0.922]\n",
      "Epoch: 10:  93%|█████████▎| 13/14 [00:00<00:00, 236.49batch/s, mse=1.77] \n",
      "Epoch: 11:  93%|█████████▎| 13/14 [00:00<00:00, 174.67batch/s, mse=1.48] \n",
      "Epoch: 12:  93%|█████████▎| 13/14 [00:00<00:00, 189.75batch/s, mse=0.825]\n",
      "Epoch: 13:  93%|█████████▎| 13/14 [00:00<00:00, 230.08batch/s, mse=1.21] \n",
      "Epoch: 14:  93%|█████████▎| 13/14 [00:00<00:00, 236.20batch/s, mse=0.87] \n",
      "Epoch: 15:  93%|█████████▎| 13/14 [00:00<00:00, 238.86batch/s, mse=0.98] \n",
      "Epoch: 16:  93%|█████████▎| 13/14 [00:00<00:00, 203.23batch/s, mse=1.06] \n",
      "Epoch: 17:  93%|█████████▎| 13/14 [00:00<00:00, 234.43batch/s, mse=1.4]  \n",
      "Epoch: 18:  93%|█████████▎| 13/14 [00:00<00:00, 236.96batch/s, mse=1.26]\n",
      "Epoch: 19:  93%|█████████▎| 13/14 [00:00<00:00, 200.21batch/s, mse=0.942]\n",
      "Epoch: 20:  93%|█████████▎| 13/14 [00:00<00:00, 229.27batch/s, mse=0.935]\n",
      "Epoch: 21:  93%|█████████▎| 13/14 [00:00<00:00, 195.75batch/s, mse=1.52] \n",
      "Epoch: 22:  93%|█████████▎| 13/14 [00:00<00:00, 218.72batch/s, mse=1.13] \n",
      "Epoch: 23:  93%|█████████▎| 13/14 [00:00<00:00, 207.47batch/s, mse=1.01] \n",
      "Epoch: 24:  93%|█████████▎| 13/14 [00:00<00:00, 216.48batch/s, mse=1.12] \n",
      "Epoch: 25:  93%|█████████▎| 13/14 [00:00<00:00, 226.41batch/s, mse=0.857]\n",
      "Epoch: 26:  93%|█████████▎| 13/14 [00:00<00:00, 193.29batch/s, mse=1.23]\n",
      "Epoch: 27:  93%|█████████▎| 13/14 [00:00<00:00, 232.59batch/s, mse=0.73]\n",
      "Epoch: 28:  93%|█████████▎| 13/14 [00:00<00:00, 126.19batch/s, mse=0.765]\n",
      "Epoch: 29:  93%|█████████▎| 13/14 [00:00<00:00, 220.59batch/s, mse=1.38] \n",
      "Epoch: 30:  93%|█████████▎| 13/14 [00:00<00:00, 178.89batch/s, mse=0.932]\n",
      "Epoch: 31:  93%|█████████▎| 13/14 [00:00<00:00, 206.67batch/s, mse=1.11] \n",
      "Epoch: 32:  93%|█████████▎| 13/14 [00:00<00:00, 210.19batch/s, mse=0.856]\n",
      "Epoch: 33:  93%|█████████▎| 13/14 [00:00<00:00, 205.73batch/s, mse=0.953]\n",
      "Epoch: 34:  93%|█████████▎| 13/14 [00:00<00:00, 214.70batch/s, mse=0.907]\n",
      "Epoch: 35:  93%|█████████▎| 13/14 [00:00<00:00, 196.73batch/s, mse=0.983]\n",
      "Epoch: 36:  93%|█████████▎| 13/14 [00:00<00:00, 223.56batch/s, mse=0.75] \n",
      "Epoch: 37:  93%|█████████▎| 13/14 [00:00<00:00, 186.01batch/s, mse=1.03]\n",
      "Epoch: 38:  93%|█████████▎| 13/14 [00:00<00:00, 229.77batch/s, mse=0.967]\n",
      "Epoch: 39:  93%|█████████▎| 13/14 [00:00<00:00, 197.47batch/s, mse=0.74] \n",
      "Epoch: 40:  93%|█████████▎| 13/14 [00:00<00:00, 230.02batch/s, mse=1.28]\n",
      "Epoch: 41:  93%|█████████▎| 13/14 [00:00<00:00, 131.31batch/s, mse=1.06] \n",
      "Epoch: 42:  93%|█████████▎| 13/14 [00:00<00:00, 229.18batch/s, mse=1.06] \n",
      "Epoch: 43:  93%|█████████▎| 13/14 [00:00<00:00, 210.75batch/s, mse=0.854]\n",
      "Epoch: 44:  93%|█████████▎| 13/14 [00:00<00:00, 163.34batch/s, mse=1.31] \n",
      "Epoch: 45:  93%|█████████▎| 13/14 [00:00<00:00, 223.15batch/s, mse=0.839]\n",
      "Epoch: 46:  93%|█████████▎| 13/14 [00:00<00:00, 207.47batch/s, mse=1.3]  \n",
      "Epoch: 47:  93%|█████████▎| 13/14 [00:00<00:00, 227.71batch/s, mse=0.754]\n",
      "Epoch: 48:  93%|█████████▎| 13/14 [00:00<00:00, 210.26batch/s, mse=1.62] \n",
      "Epoch: 49:  93%|█████████▎| 13/14 [00:00<00:00, 204.86batch/s, mse=0.823]\n",
      "Epoch: 50:  93%|█████████▎| 13/14 [00:00<00:00, 221.06batch/s, mse=1.57] \n",
      "Epoch: 51:  93%|█████████▎| 13/14 [00:00<00:00, 197.98batch/s, mse=0.81] \n",
      "Epoch: 52:  93%|█████████▎| 13/14 [00:00<00:00, 222.35batch/s, mse=0.957]\n",
      "Epoch: 53:  93%|█████████▎| 13/14 [00:00<00:00, 195.67batch/s, mse=1.12]\n",
      "Epoch: 54:  93%|█████████▎| 13/14 [00:00<00:00, 161.60batch/s, mse=1.12] \n",
      "Epoch: 55:  93%|█████████▎| 13/14 [00:00<00:00, 164.43batch/s, mse=1.33]\n",
      "Epoch: 56:  93%|█████████▎| 13/14 [00:00<00:00, 228.21batch/s, mse=1.14]\n",
      "Epoch: 57:  93%|█████████▎| 13/14 [00:00<00:00, 213.74batch/s, mse=1.38]\n",
      "Epoch: 58:  93%|█████████▎| 13/14 [00:00<00:00, 191.73batch/s, mse=0.995]\n",
      "Epoch: 59:  93%|█████████▎| 13/14 [00:00<00:00, 230.19batch/s, mse=1.2]  \n",
      "Epoch: 60:  93%|█████████▎| 13/14 [00:00<00:00, 197.41batch/s, mse=1.01] \n",
      "Epoch: 61:  93%|█████████▎| 13/14 [00:00<00:00, 219.01batch/s, mse=1.15] \n",
      "Epoch: 62:  93%|█████████▎| 13/14 [00:00<00:00, 196.19batch/s, mse=1.16] \n",
      "Epoch: 63:  93%|█████████▎| 13/14 [00:00<00:00, 204.39batch/s, mse=0.879]\n",
      "Epoch: 64:  93%|█████████▎| 13/14 [00:00<00:00, 204.08batch/s, mse=0.753]\n",
      "Epoch: 65:  93%|█████████▎| 13/14 [00:00<00:00, 199.22batch/s, mse=0.728]\n",
      "Epoch: 66:  93%|█████████▎| 13/14 [00:00<00:00, 142.57batch/s, mse=1.04] \n",
      "Epoch: 67:  93%|█████████▎| 13/14 [00:00<00:00, 204.45batch/s, mse=1.01] \n",
      "Epoch: 68:  93%|█████████▎| 13/14 [00:00<00:00, 221.90batch/s, mse=1.01] \n",
      "Epoch: 69:  93%|█████████▎| 13/14 [00:00<00:00, 184.01batch/s, mse=1.18] \n",
      "Epoch: 70:  93%|█████████▎| 13/14 [00:00<00:00, 221.10batch/s, mse=0.841]\n",
      "Epoch: 71:  93%|█████████▎| 13/14 [00:00<00:00, 195.46batch/s, mse=0.994]\n",
      "Epoch: 72:  93%|█████████▎| 13/14 [00:00<00:00, 219.84batch/s, mse=0.957]\n",
      "Epoch: 73:  93%|█████████▎| 13/14 [00:00<00:00, 199.96batch/s, mse=1.12] \n",
      "Epoch: 74:  93%|█████████▎| 13/14 [00:00<00:00, 204.71batch/s, mse=0.793]\n",
      "Epoch: 75:  93%|█████████▎| 13/14 [00:00<00:00, 215.61batch/s, mse=1.25] \n",
      "Epoch: 76:  93%|█████████▎| 13/14 [00:00<00:00, 194.43batch/s, mse=1.57] \n",
      "Epoch: 77:  93%|█████████▎| 13/14 [00:00<00:00, 221.08batch/s, mse=1.21] \n",
      "Epoch: 78:  93%|█████████▎| 13/14 [00:00<00:00, 118.83batch/s, mse=1.05] \n",
      "Epoch: 79:  93%|█████████▎| 13/14 [00:00<00:00, 208.11batch/s, mse=0.987]\n",
      "Epoch: 80:  93%|█████████▎| 13/14 [00:00<00:00, 165.77batch/s, mse=1.2]  \n",
      "Epoch: 81:  93%|█████████▎| 13/14 [00:00<00:00, 168.71batch/s, mse=1.34] \n",
      "Epoch: 82:  93%|█████████▎| 13/14 [00:00<00:00, 191.62batch/s, mse=1.46] \n",
      "Epoch: 83:  93%|█████████▎| 13/14 [00:00<00:00, 191.38batch/s, mse=0.864]\n",
      "Epoch: 84:  93%|█████████▎| 13/14 [00:00<00:00, 208.83batch/s, mse=0.819]\n",
      "Epoch: 85:  93%|█████████▎| 13/14 [00:00<00:00, 105.63batch/s, mse=1.04] \n",
      "Epoch: 86:  93%|█████████▎| 13/14 [00:00<00:00, 132.48batch/s, mse=1.19] \n",
      "Epoch: 87:  93%|█████████▎| 13/14 [00:00<00:00, 195.39batch/s, mse=0.815]\n",
      "Epoch: 88:  93%|█████████▎| 13/14 [00:00<00:00, 180.36batch/s, mse=1.09] \n",
      "Epoch: 89:  93%|█████████▎| 13/14 [00:00<00:00, 214.93batch/s, mse=1.09] \n",
      "Epoch: 90:  93%|█████████▎| 13/14 [00:00<00:00, 180.52batch/s, mse=0.871]\n",
      "Epoch: 91:  93%|█████████▎| 13/14 [00:00<00:00, 199.49batch/s, mse=1.01] \n",
      "Epoch: 92:  93%|█████████▎| 13/14 [00:00<00:00, 212.01batch/s, mse=1.03] \n",
      "Epoch: 93:  93%|█████████▎| 13/14 [00:00<00:00, 187.61batch/s, mse=1.73] \n",
      "Epoch: 94:  93%|█████████▎| 13/14 [00:00<00:00, 143.93batch/s, mse=0.694]\n",
      "Epoch: 95:  93%|█████████▎| 13/14 [00:00<00:00, 194.07batch/s, mse=1.09] \n",
      "Epoch: 96:  93%|█████████▎| 13/14 [00:00<00:00, 185.72batch/s, mse=1.13]\n",
      "Epoch: 97:  93%|█████████▎| 13/14 [00:00<00:00, 218.51batch/s, mse=1.45] \n",
      "Epoch: 98:  93%|█████████▎| 13/14 [00:00<00:00, 193.11batch/s, mse=0.678]\n",
      "Epoch: 99:  93%|█████████▎| 13/14 [00:00<00:00, 182.53batch/s, mse=0.731]\n"
     ]
    }
   ],
   "source": [
    "for epoch in range(max_epochs):\n",
    "    # Training for one epoch\n",
    "    sparsely_connected_nn.train()\n",
    "    train_loss = 0\n",
    "    with tqdm(list(range(len(train_dataloader_subset))), unit=\"batch\", mininterval=0, disable=False) as bar:\n",
    "        bar.set_description(f'Epoch: {epoch}')\n",
    "        for (X_batch, y_batch), start in zip(train_dataloader_subset, bar):\n",
    "            # Forward Pass\n",
    "            X_batch, y_batch = X_batch.to(torch.float32), y_batch.to(torch.float32)\n",
    "            y_pred = sparsely_connected_nn(X_batch)\n",
    "            loss = loss_fn(y_pred, y_batch)\n",
    "            # Backward Pass\n",
    "            optimizer.zero_grad()\n",
    "            loss.backward()\n",
    "            # Weights Updates\n",
    "            optimizer.step()\n",
    "            # Print Progress\n",
    "            bar.set_postfix(mse=float(loss))\n",
    "            train_loss += float(loss)\n",
    "    # Calculating average training loss after one epoch\n",
    "    avg_train_mse_loss = float(train_loss/len(train_dataloader_subset))\n",
    "    train_losses.append(avg_train_mse_loss)\n",
    "    # Validation after one epoch\n",
    "    sparsely_connected_nn.eval()\n",
    "    val_loss = 0\n",
    "    for X_batch, y_batch in val_dataloader_subset:\n",
    "        # Forward Pass\n",
    "        X_batch, y_batch = X_batch.to(torch.float32), y_batch.to(torch.float32)\n",
    "        y_pred = sparsely_connected_nn(X_batch)\n",
    "        val_mse_loss = loss_fn(y_pred, y_batch)\n",
    "        val_loss += float(val_mse_loss)\n",
    "    # Calculating average validation loss after one epoch\n",
    "    avg_val_mse_loss = float(val_loss/len(val_dataloader_subset))\n",
    "    val_losses.append(avg_val_mse_loss)\n",
    "    # Checking if we improved from the previous best epoch\n",
    "    if avg_val_mse_loss < best_mse:\n",
    "        best_mse = avg_val_mse_loss\n",
    "        best_weights = copy.deepcopy(sparsely_connected_nn.state_dict())"
   ]
  },
  {
   "attachments": {},
   "cell_type": "markdown",
   "metadata": {},
   "source": [
    "## Saving Best Model"
   ]
  },
  {
   "cell_type": "code",
   "execution_count": 139,
   "metadata": {},
   "outputs": [],
   "source": [
    "sparsely_connected_nn.load_state_dict(best_weights)\n",
    "model_path = f'feature_bagging_nn_models/sparsely_connected_nn_best_model'\n",
    "torch.save(sparsely_connected_nn.state_dict(), model_path)"
   ]
  },
  {
   "attachments": {},
   "cell_type": "markdown",
   "metadata": {},
   "source": [
    "## Learning Curves"
   ]
  },
  {
   "cell_type": "code",
   "execution_count": 140,
   "metadata": {},
   "outputs": [
    {
     "name": "stdout",
     "output_type": "stream",
     "text": [
      "Best Validation MSE: 1.1180334091186523\n"
     ]
    },
    {
     "data": {
      "image/png": "[encoded data removed]",
      "text/plain": [
       "<Figure size 800x500 with 1 Axes>"
      ]
     },
     "metadata": {},
     "output_type": "display_data"
    }
   ],
   "source": [
    "print(f'Best Validation MSE: {best_mse}')\n",
    "fig, ax = plt.subplots(figsize=(8, 5))\n",
    "ax.plot(train_losses, color='blue', label='Training Losses')\n",
    "ax.plot(val_losses, color='red', label='Validation Losses')\n",
    "ax.legend()\n",
    "ax.set(xlabel='Epochs', ylabel='MSE Loss', title='Learning Curves')\n",
    "plt.show()"
   ]
  },
  {
   "attachments": {},
   "cell_type": "markdown",
   "metadata": {},
   "source": [
    "## Metrics"
   ]
  },
  {
   "cell_type": "code",
   "execution_count": 141,
   "metadata": {},
   "outputs": [],
   "source": [
    "train_preds = sparsely_connected_nn(torch.tensor(X_train_subset.to_numpy(), dtype=torch.float32)).detach().numpy()\n",
    "val_preds = sparsely_connected_nn(torch.tensor(X_val_subset.to_numpy(), dtype=torch.float32)).detach().numpy()"
   ]
  },
  {
   "cell_type": "code",
   "execution_count": 142,
   "metadata": {},
   "outputs": [
    {
     "name": "stdout",
     "output_type": "stream",
     "text": [
      "TRAIN METRICS\n",
      "R2: -0.0712\tMSE: 1.058\tRMSE: 1.0286\tMAE: 0.8324\n"
     ]
    }
   ],
   "source": [
    "calc_nn_metrics(y_true=y_train, y_pred=train_preds, type='TRAIN')"
   ]
  },
  {
   "cell_type": "code",
   "execution_count": 143,
   "metadata": {},
   "outputs": [
    {
     "name": "stdout",
     "output_type": "stream",
     "text": [
      "VALIDATION METRICS\n",
      "R2: -0.1237\tMSE: 1.2395\tRMSE: 1.1133\tMAE: 0.943\n"
     ]
    }
   ],
   "source": [
    "calc_nn_metrics(y_true=y_val, y_pred=val_preds, type='VALIDATION')"
   ]
  }
 ],
 "metadata": {
  "kernelspec": {
   "display_name": "team_process_map",
   "language": "python",
   "name": "python3"
  },
  "language_info": {
   "codemirror_mode": {
    "name": "ipython",
    "version": 3
   },
   "file_extension": ".py",
   "mimetype": "text/x-python",
   "name": "python",
   "nbconvert_exporter": "python",
   "pygments_lexer": "ipython3",
   "version": "3.8.8"
  },
  "orig_nbformat": 4,
  "vscode": {
   "interpreter": {
    "hash": "4308115ec36d55d4bd05e5164490d17bc30a5f7275b0a0d4f3922ff237a9eaea"
   }
  }
 },
 "nbformat": 4,
 "nbformat_minor": 2
}
