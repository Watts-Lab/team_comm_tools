{
 "cells": [
  {
   "attachments": {},
   "cell_type": "markdown",
   "metadata": {},
   "source": [
    "# Imports"
   ]
  },
  {
   "cell_type": "code",
   "execution_count": 45,
   "metadata": {},
   "outputs": [],
   "source": [
    "import pandas as pd\n",
    "import numpy as np\n",
    "import matplotlib.pyplot as plt\n",
    "import pickle\n",
    "import re"
   ]
  },
  {
   "cell_type": "code",
   "execution_count": 46,
   "metadata": {},
   "outputs": [],
   "source": [
    "data = {\n",
    "    'raw_message': [\n",
    "        'hello',\n",
    "        'hi', # for some reason this triggers really large values in things like 'bio' and 'cognitive mech'\n",
    "        'hi!',\n",
    "        'I am happy today', # first_person is always 0\n",
    "        'i am good', # first_person is always 0\n",
    "        '()()()()', # all symbols leads to the regex returning len(regex),\n",
    "        ':-|', # another all symbol one\n",
    "        'I think perhaps this is maybe fine', # hedge words\n",
    "        'who what when where why',\n",
    "        'I am good happy wonderful great excellent', # lots of positive words\n",
    "        'under the sea and above the waves', # prepositions,\n",
    "        'i can see how the family is upset because they feel the mother was disrespected but i can also understand the guy\\'s feelings. why should he have to work as interpreter for his mother in law?', # TODO - weirdly, the outputs in the real thing differ from the outputs in the test here...\n",
    "        'i was conflicted because i could understand his frustration however i feel he should have maybe discussed strategies with how to approach the mother in law with his wife first.'\n",
    "    ]\n",
    "}\n",
    "\n",
    "def preprocess_text(text):\n",
    "  \t# For each individual message: preprocess to remove anything that is not an alphabet or number from the string\n",
    "\treturn(re.sub(r\"[^a-zA-Z0-9 ]+\", '',text).lower())\n",
    "\n",
    "chat_df = pd.DataFrame(data)\n",
    "\n",
    "chat_df[\"message\"] = chat_df[\"raw_message\"].apply(preprocess_text)"
   ]
  },
  {
   "cell_type": "code",
   "execution_count": 47,
   "metadata": {},
   "outputs": [
    {
     "data": {
      "text/html": [
       "<div>\n",
       "<style scoped>\n",
       "    .dataframe tbody tr th:only-of-type {\n",
       "        vertical-align: middle;\n",
       "    }\n",
       "\n",
       "    .dataframe tbody tr th {\n",
       "        vertical-align: top;\n",
       "    }\n",
       "\n",
       "    .dataframe thead th {\n",
       "        text-align: right;\n",
       "    }\n",
       "</style>\n",
       "<table border=\"1\" class=\"dataframe\">\n",
       "  <thead>\n",
       "    <tr style=\"text-align: right;\">\n",
       "      <th></th>\n",
       "      <th>raw_message</th>\n",
       "      <th>message</th>\n",
       "    </tr>\n",
       "  </thead>\n",
       "  <tbody>\n",
       "    <tr>\n",
       "      <th>0</th>\n",
       "      <td>hello</td>\n",
       "      <td>hello</td>\n",
       "    </tr>\n",
       "    <tr>\n",
       "      <th>1</th>\n",
       "      <td>hi</td>\n",
       "      <td>hi</td>\n",
       "    </tr>\n",
       "    <tr>\n",
       "      <th>2</th>\n",
       "      <td>hi!</td>\n",
       "      <td>hi</td>\n",
       "    </tr>\n",
       "    <tr>\n",
       "      <th>3</th>\n",
       "      <td>I am happy today</td>\n",
       "      <td>i am happy today</td>\n",
       "    </tr>\n",
       "    <tr>\n",
       "      <th>4</th>\n",
       "      <td>i am good</td>\n",
       "      <td>i am good</td>\n",
       "    </tr>\n",
       "    <tr>\n",
       "      <th>5</th>\n",
       "      <td>()()()()</td>\n",
       "      <td></td>\n",
       "    </tr>\n",
       "    <tr>\n",
       "      <th>6</th>\n",
       "      <td>:-|</td>\n",
       "      <td></td>\n",
       "    </tr>\n",
       "    <tr>\n",
       "      <th>7</th>\n",
       "      <td>I think perhaps this is maybe fine</td>\n",
       "      <td>i think perhaps this is maybe fine</td>\n",
       "    </tr>\n",
       "    <tr>\n",
       "      <th>8</th>\n",
       "      <td>who what when where why</td>\n",
       "      <td>who what when where why</td>\n",
       "    </tr>\n",
       "    <tr>\n",
       "      <th>9</th>\n",
       "      <td>I am good happy wonderful great excellent</td>\n",
       "      <td>i am good happy wonderful great excellent</td>\n",
       "    </tr>\n",
       "    <tr>\n",
       "      <th>10</th>\n",
       "      <td>under the sea and above the waves</td>\n",
       "      <td>under the sea and above the waves</td>\n",
       "    </tr>\n",
       "    <tr>\n",
       "      <th>11</th>\n",
       "      <td>i can see how the family is upset because they...</td>\n",
       "      <td>i can see how the family is upset because they...</td>\n",
       "    </tr>\n",
       "    <tr>\n",
       "      <th>12</th>\n",
       "      <td>i was conflicted because i could understand hi...</td>\n",
       "      <td>i was conflicted because i could understand hi...</td>\n",
       "    </tr>\n",
       "  </tbody>\n",
       "</table>\n",
       "</div>"
      ],
      "text/plain": [
       "                                          raw_message  \\\n",
       "0                                               hello   \n",
       "1                                                  hi   \n",
       "2                                                 hi!   \n",
       "3                                    I am happy today   \n",
       "4                                           i am good   \n",
       "5                                            ()()()()   \n",
       "6                                                 :-|   \n",
       "7                  I think perhaps this is maybe fine   \n",
       "8                             who what when where why   \n",
       "9           I am good happy wonderful great excellent   \n",
       "10                  under the sea and above the waves   \n",
       "11  i can see how the family is upset because they...   \n",
       "12  i was conflicted because i could understand hi...   \n",
       "\n",
       "                                              message  \n",
       "0                                               hello  \n",
       "1                                                  hi  \n",
       "2                                                  hi  \n",
       "3                                    i am happy today  \n",
       "4                                           i am good  \n",
       "5                                                      \n",
       "6                                                      \n",
       "7                  i think perhaps this is maybe fine  \n",
       "8                             who what when where why  \n",
       "9           i am good happy wonderful great excellent  \n",
       "10                  under the sea and above the waves  \n",
       "11  i can see how the family is upset because they...  \n",
       "12  i was conflicted because i could understand hi...  "
      ]
     },
     "execution_count": 47,
     "metadata": {},
     "output_type": "execute_result"
    }
   ],
   "source": [
    "chat_df"
   ]
  },
  {
   "cell_type": "code",
   "execution_count": 48,
   "metadata": {},
   "outputs": [],
   "source": [
    "with open(\"../../features/lexicons_dict.pkl\", \"rb\") as lexicons_pickle_file:\n",
    "    lexicons_dict = pickle.load(lexicons_pickle_file)"
   ]
  },
  {
   "cell_type": "code",
   "execution_count": 49,
   "metadata": {},
   "outputs": [],
   "source": [
    "test_df = pd.concat(\n",
    "\t\t# Finding the # of occurances of lexicons of each type for all the messages.\n",
    "\t\t[pd.DataFrame(chat_df[\"message\"].apply(lambda chat: len(re.findall(regex, chat))))\\\n",
    "\t\t\t  \t\t\t\t\t\t\t.rename({\"message\": lexicon_type}, axis=1)\\\n",
    "\t\t\tfor lexicon_type, regex in lexicons_dict.items()], \n",
    "\t\taxis=1\n",
    "\t)"
   ]
  },
  {
   "cell_type": "code",
   "execution_count": 50,
   "metadata": {},
   "outputs": [
    {
     "data": {
      "text/html": [
       "<div>\n",
       "<style scoped>\n",
       "    .dataframe tbody tr th:only-of-type {\n",
       "        vertical-align: middle;\n",
       "    }\n",
       "\n",
       "    .dataframe tbody tr th {\n",
       "        vertical-align: top;\n",
       "    }\n",
       "\n",
       "    .dataframe thead th {\n",
       "        text-align: right;\n",
       "    }\n",
       "</style>\n",
       "<table border=\"1\" class=\"dataframe\">\n",
       "  <thead>\n",
       "    <tr style=\"text-align: right;\">\n",
       "      <th></th>\n",
       "      <th>discrepancies</th>\n",
       "      <th>hear</th>\n",
       "      <th>home</th>\n",
       "      <th>conjunction</th>\n",
       "      <th>certainty</th>\n",
       "      <th>inclusive</th>\n",
       "      <th>bio</th>\n",
       "      <th>achievement</th>\n",
       "      <th>adverbs</th>\n",
       "      <th>anxiety</th>\n",
       "      <th>...</th>\n",
       "      <th>auxiliary_verbs</th>\n",
       "      <th>cognitive_mech</th>\n",
       "      <th>preposition</th>\n",
       "      <th>first_person_plural</th>\n",
       "      <th>percept</th>\n",
       "      <th>second_person</th>\n",
       "      <th>positive_words</th>\n",
       "      <th>first_person</th>\n",
       "      <th>nltk_english_stopwords</th>\n",
       "      <th>hedge_words</th>\n",
       "    </tr>\n",
       "  </thead>\n",
       "  <tbody>\n",
       "    <tr>\n",
       "      <th>0</th>\n",
       "      <td>0</td>\n",
       "      <td>0</td>\n",
       "      <td>0</td>\n",
       "      <td>0</td>\n",
       "      <td>0</td>\n",
       "      <td>0</td>\n",
       "      <td>0</td>\n",
       "      <td>0</td>\n",
       "      <td>0</td>\n",
       "      <td>0</td>\n",
       "      <td>...</td>\n",
       "      <td>0</td>\n",
       "      <td>0</td>\n",
       "      <td>0</td>\n",
       "      <td>0</td>\n",
       "      <td>0</td>\n",
       "      <td>0</td>\n",
       "      <td>0</td>\n",
       "      <td>0</td>\n",
       "      <td>0</td>\n",
       "      <td>0</td>\n",
       "    </tr>\n",
       "    <tr>\n",
       "      <th>1</th>\n",
       "      <td>0</td>\n",
       "      <td>0</td>\n",
       "      <td>0</td>\n",
       "      <td>0</td>\n",
       "      <td>0</td>\n",
       "      <td>0</td>\n",
       "      <td>0</td>\n",
       "      <td>0</td>\n",
       "      <td>0</td>\n",
       "      <td>0</td>\n",
       "      <td>...</td>\n",
       "      <td>0</td>\n",
       "      <td>0</td>\n",
       "      <td>0</td>\n",
       "      <td>0</td>\n",
       "      <td>0</td>\n",
       "      <td>0</td>\n",
       "      <td>0</td>\n",
       "      <td>0</td>\n",
       "      <td>0</td>\n",
       "      <td>0</td>\n",
       "    </tr>\n",
       "    <tr>\n",
       "      <th>2</th>\n",
       "      <td>0</td>\n",
       "      <td>0</td>\n",
       "      <td>0</td>\n",
       "      <td>0</td>\n",
       "      <td>0</td>\n",
       "      <td>0</td>\n",
       "      <td>0</td>\n",
       "      <td>0</td>\n",
       "      <td>0</td>\n",
       "      <td>0</td>\n",
       "      <td>...</td>\n",
       "      <td>0</td>\n",
       "      <td>0</td>\n",
       "      <td>0</td>\n",
       "      <td>0</td>\n",
       "      <td>0</td>\n",
       "      <td>0</td>\n",
       "      <td>0</td>\n",
       "      <td>0</td>\n",
       "      <td>0</td>\n",
       "      <td>0</td>\n",
       "    </tr>\n",
       "    <tr>\n",
       "      <th>3</th>\n",
       "      <td>0</td>\n",
       "      <td>0</td>\n",
       "      <td>0</td>\n",
       "      <td>0</td>\n",
       "      <td>0</td>\n",
       "      <td>0</td>\n",
       "      <td>0</td>\n",
       "      <td>0</td>\n",
       "      <td>0</td>\n",
       "      <td>0</td>\n",
       "      <td>...</td>\n",
       "      <td>1</td>\n",
       "      <td>0</td>\n",
       "      <td>0</td>\n",
       "      <td>0</td>\n",
       "      <td>0</td>\n",
       "      <td>0</td>\n",
       "      <td>1</td>\n",
       "      <td>1</td>\n",
       "      <td>2</td>\n",
       "      <td>0</td>\n",
       "    </tr>\n",
       "    <tr>\n",
       "      <th>4</th>\n",
       "      <td>0</td>\n",
       "      <td>0</td>\n",
       "      <td>0</td>\n",
       "      <td>0</td>\n",
       "      <td>0</td>\n",
       "      <td>0</td>\n",
       "      <td>0</td>\n",
       "      <td>0</td>\n",
       "      <td>0</td>\n",
       "      <td>0</td>\n",
       "      <td>...</td>\n",
       "      <td>1</td>\n",
       "      <td>0</td>\n",
       "      <td>0</td>\n",
       "      <td>0</td>\n",
       "      <td>0</td>\n",
       "      <td>0</td>\n",
       "      <td>1</td>\n",
       "      <td>1</td>\n",
       "      <td>2</td>\n",
       "      <td>0</td>\n",
       "    </tr>\n",
       "    <tr>\n",
       "      <th>5</th>\n",
       "      <td>0</td>\n",
       "      <td>0</td>\n",
       "      <td>0</td>\n",
       "      <td>0</td>\n",
       "      <td>0</td>\n",
       "      <td>0</td>\n",
       "      <td>0</td>\n",
       "      <td>0</td>\n",
       "      <td>0</td>\n",
       "      <td>0</td>\n",
       "      <td>...</td>\n",
       "      <td>0</td>\n",
       "      <td>0</td>\n",
       "      <td>0</td>\n",
       "      <td>0</td>\n",
       "      <td>0</td>\n",
       "      <td>0</td>\n",
       "      <td>0</td>\n",
       "      <td>0</td>\n",
       "      <td>0</td>\n",
       "      <td>0</td>\n",
       "    </tr>\n",
       "    <tr>\n",
       "      <th>6</th>\n",
       "      <td>0</td>\n",
       "      <td>0</td>\n",
       "      <td>0</td>\n",
       "      <td>0</td>\n",
       "      <td>0</td>\n",
       "      <td>0</td>\n",
       "      <td>0</td>\n",
       "      <td>0</td>\n",
       "      <td>0</td>\n",
       "      <td>0</td>\n",
       "      <td>...</td>\n",
       "      <td>0</td>\n",
       "      <td>0</td>\n",
       "      <td>0</td>\n",
       "      <td>0</td>\n",
       "      <td>0</td>\n",
       "      <td>0</td>\n",
       "      <td>0</td>\n",
       "      <td>0</td>\n",
       "      <td>0</td>\n",
       "      <td>0</td>\n",
       "    </tr>\n",
       "    <tr>\n",
       "      <th>7</th>\n",
       "      <td>0</td>\n",
       "      <td>0</td>\n",
       "      <td>0</td>\n",
       "      <td>0</td>\n",
       "      <td>0</td>\n",
       "      <td>0</td>\n",
       "      <td>0</td>\n",
       "      <td>0</td>\n",
       "      <td>2</td>\n",
       "      <td>0</td>\n",
       "      <td>...</td>\n",
       "      <td>1</td>\n",
       "      <td>3</td>\n",
       "      <td>0</td>\n",
       "      <td>0</td>\n",
       "      <td>0</td>\n",
       "      <td>0</td>\n",
       "      <td>1</td>\n",
       "      <td>1</td>\n",
       "      <td>3</td>\n",
       "      <td>1</td>\n",
       "    </tr>\n",
       "    <tr>\n",
       "      <th>8</th>\n",
       "      <td>0</td>\n",
       "      <td>0</td>\n",
       "      <td>0</td>\n",
       "      <td>1</td>\n",
       "      <td>0</td>\n",
       "      <td>0</td>\n",
       "      <td>0</td>\n",
       "      <td>0</td>\n",
       "      <td>2</td>\n",
       "      <td>0</td>\n",
       "      <td>...</td>\n",
       "      <td>0</td>\n",
       "      <td>1</td>\n",
       "      <td>0</td>\n",
       "      <td>0</td>\n",
       "      <td>0</td>\n",
       "      <td>0</td>\n",
       "      <td>0</td>\n",
       "      <td>0</td>\n",
       "      <td>5</td>\n",
       "      <td>0</td>\n",
       "    </tr>\n",
       "    <tr>\n",
       "      <th>9</th>\n",
       "      <td>0</td>\n",
       "      <td>0</td>\n",
       "      <td>0</td>\n",
       "      <td>0</td>\n",
       "      <td>0</td>\n",
       "      <td>0</td>\n",
       "      <td>0</td>\n",
       "      <td>1</td>\n",
       "      <td>0</td>\n",
       "      <td>0</td>\n",
       "      <td>...</td>\n",
       "      <td>1</td>\n",
       "      <td>0</td>\n",
       "      <td>0</td>\n",
       "      <td>0</td>\n",
       "      <td>0</td>\n",
       "      <td>0</td>\n",
       "      <td>5</td>\n",
       "      <td>1</td>\n",
       "      <td>2</td>\n",
       "      <td>0</td>\n",
       "    </tr>\n",
       "    <tr>\n",
       "      <th>10</th>\n",
       "      <td>0</td>\n",
       "      <td>0</td>\n",
       "      <td>0</td>\n",
       "      <td>1</td>\n",
       "      <td>0</td>\n",
       "      <td>1</td>\n",
       "      <td>0</td>\n",
       "      <td>0</td>\n",
       "      <td>0</td>\n",
       "      <td>0</td>\n",
       "      <td>...</td>\n",
       "      <td>0</td>\n",
       "      <td>1</td>\n",
       "      <td>2</td>\n",
       "      <td>0</td>\n",
       "      <td>0</td>\n",
       "      <td>0</td>\n",
       "      <td>0</td>\n",
       "      <td>0</td>\n",
       "      <td>5</td>\n",
       "      <td>0</td>\n",
       "    </tr>\n",
       "    <tr>\n",
       "      <th>11</th>\n",
       "      <td>1</td>\n",
       "      <td>0</td>\n",
       "      <td>1</td>\n",
       "      <td>5</td>\n",
       "      <td>0</td>\n",
       "      <td>0</td>\n",
       "      <td>0</td>\n",
       "      <td>1</td>\n",
       "      <td>2</td>\n",
       "      <td>1</td>\n",
       "      <td>...</td>\n",
       "      <td>6</td>\n",
       "      <td>10</td>\n",
       "      <td>4</td>\n",
       "      <td>0</td>\n",
       "      <td>3</td>\n",
       "      <td>0</td>\n",
       "      <td>1</td>\n",
       "      <td>2</td>\n",
       "      <td>22</td>\n",
       "      <td>0</td>\n",
       "    </tr>\n",
       "    <tr>\n",
       "      <th>12</th>\n",
       "      <td>2</td>\n",
       "      <td>0</td>\n",
       "      <td>0</td>\n",
       "      <td>3</td>\n",
       "      <td>0</td>\n",
       "      <td>2</td>\n",
       "      <td>0</td>\n",
       "      <td>2</td>\n",
       "      <td>3</td>\n",
       "      <td>0</td>\n",
       "      <td>...</td>\n",
       "      <td>4</td>\n",
       "      <td>11</td>\n",
       "      <td>4</td>\n",
       "      <td>0</td>\n",
       "      <td>1</td>\n",
       "      <td>0</td>\n",
       "      <td>0</td>\n",
       "      <td>3</td>\n",
       "      <td>16</td>\n",
       "      <td>1</td>\n",
       "    </tr>\n",
       "  </tbody>\n",
       "</table>\n",
       "<p>13 rows × 55 columns</p>\n",
       "</div>"
      ],
      "text/plain": [
       "    discrepancies  hear  home  conjunction  certainty  inclusive  bio  \\\n",
       "0               0     0     0            0          0          0    0   \n",
       "1               0     0     0            0          0          0    0   \n",
       "2               0     0     0            0          0          0    0   \n",
       "3               0     0     0            0          0          0    0   \n",
       "4               0     0     0            0          0          0    0   \n",
       "5               0     0     0            0          0          0    0   \n",
       "6               0     0     0            0          0          0    0   \n",
       "7               0     0     0            0          0          0    0   \n",
       "8               0     0     0            1          0          0    0   \n",
       "9               0     0     0            0          0          0    0   \n",
       "10              0     0     0            1          0          1    0   \n",
       "11              1     0     1            5          0          0    0   \n",
       "12              2     0     0            3          0          2    0   \n",
       "\n",
       "    achievement  adverbs  anxiety  ...  auxiliary_verbs  cognitive_mech  \\\n",
       "0             0        0        0  ...                0               0   \n",
       "1             0        0        0  ...                0               0   \n",
       "2             0        0        0  ...                0               0   \n",
       "3             0        0        0  ...                1               0   \n",
       "4             0        0        0  ...                1               0   \n",
       "5             0        0        0  ...                0               0   \n",
       "6             0        0        0  ...                0               0   \n",
       "7             0        2        0  ...                1               3   \n",
       "8             0        2        0  ...                0               1   \n",
       "9             1        0        0  ...                1               0   \n",
       "10            0        0        0  ...                0               1   \n",
       "11            1        2        1  ...                6              10   \n",
       "12            2        3        0  ...                4              11   \n",
       "\n",
       "    preposition  first_person_plural  percept  second_person  positive_words  \\\n",
       "0             0                    0        0              0               0   \n",
       "1             0                    0        0              0               0   \n",
       "2             0                    0        0              0               0   \n",
       "3             0                    0        0              0               1   \n",
       "4             0                    0        0              0               1   \n",
       "5             0                    0        0              0               0   \n",
       "6             0                    0        0              0               0   \n",
       "7             0                    0        0              0               1   \n",
       "8             0                    0        0              0               0   \n",
       "9             0                    0        0              0               5   \n",
       "10            2                    0        0              0               0   \n",
       "11            4                    0        3              0               1   \n",
       "12            4                    0        1              0               0   \n",
       "\n",
       "    first_person  nltk_english_stopwords  hedge_words  \n",
       "0              0                       0            0  \n",
       "1              0                       0            0  \n",
       "2              0                       0            0  \n",
       "3              1                       2            0  \n",
       "4              1                       2            0  \n",
       "5              0                       0            0  \n",
       "6              0                       0            0  \n",
       "7              1                       3            1  \n",
       "8              0                       5            0  \n",
       "9              1                       2            0  \n",
       "10             0                       5            0  \n",
       "11             2                      22            0  \n",
       "12             3                      16            1  \n",
       "\n",
       "[13 rows x 55 columns]"
      ]
     },
     "execution_count": 50,
     "metadata": {},
     "output_type": "execute_result"
    }
   ],
   "source": [
    "test_df"
   ]
  },
  {
   "attachments": {},
   "cell_type": "markdown",
   "metadata": {},
   "source": [
    "A few potential error cases below --- it seems we are returning more positives than necessary!"
   ]
  },
  {
   "cell_type": "code",
   "execution_count": 51,
   "metadata": {},
   "outputs": [
    {
     "name": "stdout",
     "output_type": "stream",
     "text": [
      "\\bhow\\b ['how']\n",
      "\\binterpret\\S*\\b ['interpreter']\n",
      "\\bbecause\\b ['because']\n",
      "\\bunderstand\\b ['understand']\n",
      "\\blaw\\b ['law']\n",
      "\\bbut\\b ['but']\n",
      "\\bfeel\\b ['feel']\n",
      "\\bfeeling\\S*\\b ['feelings']\n",
      "\\bwhy\\b ['why']\n",
      "\\bshould\\b ['should']\n"
     ]
    }
   ],
   "source": [
    "text = 'i can see how the family is upset because they feel the mother was disrespected but i can also understand the guy\\'s feelings. why should he have to work as interpreter for his mother in law?'\n",
    "regexs = lexicons_dict[\"cognitive_mech\"].split('|')\n",
    "\n",
    "regexs_to_test = []\n",
    "for regex in regexs:\n",
    "    if re.findall(regex, text) != []:\n",
    "        regexs_to_test.append(regex)\n",
    "        print(regex, re.findall(regex, text))"
   ]
  },
  {
   "attachments": {},
   "cell_type": "markdown",
   "metadata": {},
   "source": [
    "kind (of)"
   ]
  },
  {
   "cell_type": "code",
   "execution_count": 52,
   "metadata": {},
   "outputs": [
    {
     "data": {
      "text/plain": [
       "['because', 'understand']"
      ]
     },
     "execution_count": 52,
     "metadata": {},
     "output_type": "execute_result"
    }
   ],
   "source": [
    "# test_regex = '|'.join(lexicons_dict[\"cognitive_mech\"].split('|')[50:100]) # how\n",
    "\n",
    "test_regex = '|'.join(lexicons_dict[\"cognitive_mech\"].split('|')[360:400])\n",
    "re.findall(test_regex, text)"
   ]
  },
  {
   "cell_type": "code",
   "execution_count": 53,
   "metadata": {},
   "outputs": [
    {
     "data": {
      "text/plain": [
       "'\\\\bbecause\\\\b|\\\\bduti\\\\S*\\\\b|\\\\bkeep\\\\b|\\\\bpurpose\\\\S*\\\\b|\\\\buncertain\\\\S*\\\\b|\\\\bbecome\\\\b|\\\\bduty\\\\b|\\\\bkeeping\\\\S*\\\\b|\\\\bpuzzl\\\\S*\\\\b|\\\\bunclear\\\\S*\\\\b|\\\\bbecomes\\\\b|\\\\beach\\\\b|\\\\bkeeps\\\\b|\\\\bquer\\\\S*\\\\b|\\\\bundecided\\\\S*\\\\b|\\\\bbecoming\\\\b|\\\\beffect\\\\S*\\\\b|\\\\bkept\\\\b|\\\\bquestion\\\\S*\\\\b|\\\\bundeniab\\\\S*\\\\b|\\\\bbelief\\\\S*\\\\b|\\\\beither\\\\b|\\\\bkind of\\\\b|\\\\bquite\\\\b|\\\\bunderstand\\\\b|\\\\bbelieve\\\\b|\\\\belicit\\\\S*\\\\b|\\\\bkinda\\\\b|\\\\brandom\\\\S*\\\\b|\\\\bunderstandab\\\\S*\\\\b|\\\\bbelieved\\\\b|\\\\benclos\\\\S*\\\\b|\\\\bkindof\\\\b|\\\\brather\\\\b|\\\\bunderstanding\\\\S*\\\\b|\\\\bbelieves\\\\b|\\\\benlighten\\\\S*\\\\b|\\\\bknew\\\\b|\\\\brational\\\\S*\\\\b|\\\\bunderstands\\\\b'"
      ]
     },
     "execution_count": 53,
     "metadata": {},
     "output_type": "execute_result"
    }
   ],
   "source": [
    "test_regex"
   ]
  },
  {
   "cell_type": "code",
   "execution_count": 54,
   "metadata": {},
   "outputs": [
    {
     "data": {
      "text/plain": [
       "['\\\\bhow\\\\b',\n",
       " '\\\\binterpret\\\\S*\\\\b',\n",
       " '\\\\bbecause\\\\b',\n",
       " '\\\\bunderstand\\\\b',\n",
       " '\\\\blaw\\\\b',\n",
       " '\\\\bbut\\\\b',\n",
       " '\\\\bfeel\\\\b',\n",
       " '\\\\bfeeling\\\\S*\\\\b',\n",
       " '\\\\bwhy\\\\b',\n",
       " '\\\\bshould\\\\b']"
      ]
     },
     "execution_count": 54,
     "metadata": {},
     "output_type": "execute_result"
    }
   ],
   "source": [
    "regexs_to_test"
   ]
  },
  {
   "cell_type": "code",
   "execution_count": 55,
   "metadata": {},
   "outputs": [
    {
     "data": {
      "text/plain": [
       "'\\\\bhow\\\\b|\\\\binterpret\\\\S*\\\\b|\\\\bbecause\\\\b|\\\\bunderstand\\\\b|\\\\blaw\\\\b|\\\\bbut\\\\b|\\\\bfeel\\\\b|\\\\bfeeling\\\\S*\\\\b|\\\\bwhy\\\\b|\\\\bshould\\\\b'"
      ]
     },
     "execution_count": 55,
     "metadata": {},
     "output_type": "execute_result"
    }
   ],
   "source": [
    "regex_to_test = '|'.join(regexs_to_test)\n",
    "regex_to_test"
   ]
  },
  {
   "cell_type": "code",
   "execution_count": 56,
   "metadata": {},
   "outputs": [
    {
     "data": {
      "text/plain": [
       "['how',\n",
       " 'because',\n",
       " 'feel',\n",
       " 'but',\n",
       " 'understand',\n",
       " 'feelings',\n",
       " 'why',\n",
       " 'should',\n",
       " 'interpreter',\n",
       " 'law']"
      ]
     },
     "execution_count": 56,
     "metadata": {},
     "output_type": "execute_result"
    }
   ],
   "source": [
    "re.findall(regex_to_test, text)\n",
    "re.findall(lexicons_dict[\"cognitive_mech\"], text)"
   ]
  },
  {
   "cell_type": "code",
   "execution_count": 57,
   "metadata": {},
   "outputs": [
    {
     "data": {
      "text/plain": [
       "'\\\\bhow\\\\b|\\\\binterpret\\\\S*\\\\b|\\\\bbecause\\\\b|\\\\bunderstand\\\\b|\\\\blaw\\\\b|\\\\bbut\\\\b|\\\\bfeel\\\\b|\\\\bfeeling\\\\S*\\\\b|\\\\bwhy\\\\b|\\\\bshould\\\\b'"
      ]
     },
     "execution_count": 57,
     "metadata": {},
     "output_type": "execute_result"
    }
   ],
   "source": [
    "regex_to_test"
   ]
  },
  {
   "cell_type": "code",
   "execution_count": 58,
   "metadata": {},
   "outputs": [],
   "source": [
    "re.match(lexicons_dict[\"cognitive_mech\"], text)\n",
    "re.match(regex_to_test, text)"
   ]
  },
  {
   "cell_type": "code",
   "execution_count": 59,
   "metadata": {},
   "outputs": [
    {
     "data": {
      "text/plain": [
       "<re.Match object; span=(10, 13), match='how'>"
      ]
     },
     "execution_count": 59,
     "metadata": {},
     "output_type": "execute_result"
    }
   ],
   "source": [
    "re.search(lexicons_dict[\"cognitive_mech\"], text)"
   ]
  },
  {
   "cell_type": "code",
   "execution_count": 60,
   "metadata": {},
   "outputs": [
    {
     "name": "stdout",
     "output_type": "stream",
     "text": [
      "\\bhow\\b ['how']\n",
      "\\binterpret\\S*\\b ['interpreter']\n",
      "\\bbecause\\b ['because']\n",
      "\\bunderstand\\b ['understand']\n",
      "\\blaw\\b ['law']\n",
      "\\bbut\\b ['but']\n",
      "\\bfeel\\b ['feel']\n",
      "\\bfeeling\\S*\\b ['feelings']\n",
      "\\bwhy\\b ['why']\n",
      "\\bshould\\b ['should']\n"
     ]
    }
   ],
   "source": [
    "for regex in regexs:\n",
    "    if re.findall(regex, text) != []:\n",
    "\n",
    "        print(regex, re.findall(regex, text))"
   ]
  },
  {
   "cell_type": "code",
   "execution_count": 61,
   "metadata": {},
   "outputs": [
    {
     "data": {
      "text/plain": [
       "[]"
      ]
     },
     "execution_count": 61,
     "metadata": {},
     "output_type": "execute_result"
    }
   ],
   "source": [
    "re.findall(\n",
    "    '\\\\bkind (of)\\\\b', \n",
    "    'i can see how the family is upset because they feel the mother was disrespected but i can also understand the guy\\'s feelings. why should he have to work as interpreter for his mother in law?'\n",
    ")"
   ]
  },
  {
   "cell_type": "code",
   "execution_count": 62,
   "metadata": {},
   "outputs": [
    {
     "data": {
      "text/plain": [
       "['how',\n",
       " 'because',\n",
       " 'feel',\n",
       " 'but',\n",
       " 'understand',\n",
       " 'feelings',\n",
       " 'why',\n",
       " 'should',\n",
       " 'interpreter',\n",
       " 'law']"
      ]
     },
     "execution_count": 62,
     "metadata": {},
     "output_type": "execute_result"
    }
   ],
   "source": [
    "re.findall(lexicons_dict[\"cognitive_mech\"], \"i can see how the family is upset because they feel the mother was disrespected but i can also understand the guy\\'s feelings. why should he have to work as interpreter for his mother in law?\")"
   ]
  },
  {
   "cell_type": "code",
   "execution_count": 63,
   "metadata": {},
   "outputs": [
    {
     "data": {
      "text/plain": [
       "['to', 'as', 'for', 'in']"
      ]
     },
     "execution_count": 63,
     "metadata": {},
     "output_type": "execute_result"
    }
   ],
   "source": [
    "re.findall(lexicons_dict[\"preposition\"], \"i can see how the family is upset because they feel the mother was disrespected but i can also understand the guy\\'s feelings. why should he have to work as interpreter for his mother in law?\")"
   ]
  }
 ],
 "metadata": {
  "kernelspec": {
   "display_name": "team_process_map",
   "language": "python",
   "name": "python3"
  },
  "language_info": {
   "codemirror_mode": {
    "name": "ipython",
    "version": 3
   },
   "file_extension": ".py",
   "mimetype": "text/x-python",
   "name": "python",
   "nbconvert_exporter": "python",
   "pygments_lexer": "ipython3",
   "version": "3.9.16"
  },
  "orig_nbformat": 4,
  "vscode": {
   "interpreter": {
    "hash": "4308115ec36d55d4bd05e5164490d17bc30a5f7275b0a0d4f3922ff237a9eaea"
   }
  }
 },
 "nbformat": 4,
 "nbformat_minor": 2
}
