{
 "cells": [
  {
   "attachments": {},
   "cell_type": "markdown",
   "metadata": {},
   "source": [
    "# Imports"
   ]
  },
  {
   "cell_type": "code",
   "execution_count": 33,
   "metadata": {},
   "outputs": [],
   "source": [
    "import pandas as pd\n",
    "import numpy as np\n",
    "import matplotlib.pyplot as plt\n",
    "import pickle\n",
    "import re"
   ]
  },
  {
   "cell_type": "code",
   "execution_count": 34,
   "metadata": {},
   "outputs": [],
   "source": [
    "data = {\n",
    "    'raw_message': [\n",
    "        'hello',\n",
    "        'hi', # for some reason this triggers really large values in things like 'bio' and 'cognitive mech'\n",
    "        'hi!',\n",
    "        'I am happy today', # first_person is always 0\n",
    "        'i am good', # first_person is always 0\n",
    "        '()()()()' # all symbols leads to the regex returning len(regex)\n",
    "    ]\n",
    "}\n",
    "\n",
    "def preprocess_text(text):\n",
    "  \t# For each individual message: preprocess to remove anything that is not an alphabet or number from the string\n",
    "\treturn(re.sub(r\"[^a-zA-Z0-9 ]+\", '',text).lower())\n",
    "\n",
    "chat_df = pd.DataFrame(data)\n",
    "\n",
    "chat_df[\"message\"] = chat_df[\"raw_message\"].apply(preprocess_text)"
   ]
  },
  {
   "cell_type": "code",
   "execution_count": 35,
   "metadata": {},
   "outputs": [
    {
     "data": {
      "text/html": [
       "<div>\n",
       "<style scoped>\n",
       "    .dataframe tbody tr th:only-of-type {\n",
       "        vertical-align: middle;\n",
       "    }\n",
       "\n",
       "    .dataframe tbody tr th {\n",
       "        vertical-align: top;\n",
       "    }\n",
       "\n",
       "    .dataframe thead th {\n",
       "        text-align: right;\n",
       "    }\n",
       "</style>\n",
       "<table border=\"1\" class=\"dataframe\">\n",
       "  <thead>\n",
       "    <tr style=\"text-align: right;\">\n",
       "      <th></th>\n",
       "      <th>raw_message</th>\n",
       "      <th>message</th>\n",
       "    </tr>\n",
       "  </thead>\n",
       "  <tbody>\n",
       "    <tr>\n",
       "      <th>0</th>\n",
       "      <td>hello</td>\n",
       "      <td>hello</td>\n",
       "    </tr>\n",
       "    <tr>\n",
       "      <th>1</th>\n",
       "      <td>hi</td>\n",
       "      <td>hi</td>\n",
       "    </tr>\n",
       "    <tr>\n",
       "      <th>2</th>\n",
       "      <td>hi!</td>\n",
       "      <td>hi</td>\n",
       "    </tr>\n",
       "    <tr>\n",
       "      <th>3</th>\n",
       "      <td>I am happy today</td>\n",
       "      <td>i am happy today</td>\n",
       "    </tr>\n",
       "    <tr>\n",
       "      <th>4</th>\n",
       "      <td>i am good</td>\n",
       "      <td>i am good</td>\n",
       "    </tr>\n",
       "    <tr>\n",
       "      <th>5</th>\n",
       "      <td>()()()()</td>\n",
       "      <td></td>\n",
       "    </tr>\n",
       "  </tbody>\n",
       "</table>\n",
       "</div>"
      ],
      "text/plain": [
       "        raw_message           message\n",
       "0             hello             hello\n",
       "1                hi                hi\n",
       "2               hi!                hi\n",
       "3  I am happy today  i am happy today\n",
       "4         i am good         i am good\n",
       "5          ()()()()                  "
      ]
     },
     "execution_count": 35,
     "metadata": {},
     "output_type": "execute_result"
    }
   ],
   "source": [
    "chat_df"
   ]
  },
  {
   "cell_type": "code",
   "execution_count": 36,
   "metadata": {},
   "outputs": [],
   "source": [
    "with open(\"../../features/lexicons_dict.pkl\", \"rb\") as lexicons_pickle_file:\n",
    "    lexicons_dict = pickle.load(lexicons_pickle_file)"
   ]
  },
  {
   "cell_type": "code",
   "execution_count": 37,
   "metadata": {},
   "outputs": [],
   "source": [
    "test_df = pd.concat(\n",
    "\t\t# Finding the # of occurances of lexicons of each type for all the messages.\n",
    "\t\t[pd.DataFrame(chat_df[\"message\"].apply(lambda chat: len(re.findall(regex, chat))))\\\n",
    "\t\t\t  \t\t\t\t\t\t\t.rename({\"message\": lexicon_type}, axis=1)\\\n",
    "\t\t\tfor lexicon_type, regex in lexicons_dict.items()], \n",
    "\t\taxis=1\n",
    "\t)"
   ]
  },
  {
   "cell_type": "code",
   "execution_count": 47,
   "metadata": {},
   "outputs": [
    {
     "data": {
      "text/plain": [
       "discrepancies            0\n",
       "hear                     0\n",
       "home                     0\n",
       "conjunction              0\n",
       "certainty                0\n",
       "inclusive                0\n",
       "bio                      0\n",
       "achievement              0\n",
       "adverbs                  0\n",
       "anxiety                  0\n",
       "third_person             0\n",
       "negation                 0\n",
       "swear                    0\n",
       "death                    0\n",
       "health                   0\n",
       "see                      0\n",
       "body                     0\n",
       "family                   0\n",
       "negative_affect          0\n",
       "quantifier               0\n",
       "positive_affect          1\n",
       "insight                  0\n",
       "humans                   0\n",
       "present_tense            2\n",
       "future_tense             0\n",
       "past_tense               0\n",
       "relative                 1\n",
       "sexual                   0\n",
       "inhibition               0\n",
       "sadness                  0\n",
       "social                   0\n",
       "indefinite_pronoun       0\n",
       "religion                 0\n",
       "work                     0\n",
       "money                    0\n",
       "causation                0\n",
       "anger                    0\n",
       "first_person_singular    1\n",
       "feel                     0\n",
       "tentativeness            0\n",
       "exclusive                0\n",
       "verbs                    2\n",
       "friends                  0\n",
       "article                  1\n",
       "argue                    0\n",
       "auxiliary_verbs          1\n",
       "cognitive_mech           0\n",
       "preposition              0\n",
       "first_person_plural      0\n",
       "percept                  0\n",
       "second_person            0\n",
       "Name: 4, dtype: int64"
      ]
     },
     "execution_count": 47,
     "metadata": {},
     "output_type": "execute_result"
    }
   ],
   "source": [
    "test_df.loc[4, :]"
   ]
  },
  {
   "cell_type": "code",
   "execution_count": 29,
   "metadata": {},
   "outputs": [
    {
     "name": "stdout",
     "output_type": "stream",
     "text": [
      "discrepancies\n",
      "['hi']\n"
     ]
    }
   ],
   "source": [
    "for lexicon_type, regex in lexicons_dict.items():\n",
    "    print(lexicon_type)\n",
    "    text = \"hi\"\n",
    "    search_hits = re.findall(text, regex)\n",
    "    print(search_hits)\n",
    "    break"
   ]
  },
  {
   "cell_type": "code",
   "execution_count": 30,
   "metadata": {},
   "outputs": [
    {
     "data": {
      "text/plain": [
       "\"\\\\bbesides\\\\S*\\\\b|\\\\bcould\\\\S*\\\\b|\\\\bcouldnt\\\\S*\\\\b|\\\\bcouldn't\\\\S*\\\\b|\\\\bcouldve\\\\S*\\\\b|\\\\bcould've\\\\S*\\\\b|\\\\bdesir\\\\S*\\\\b|\\\\bexpect\\\\S*\\\\b|\\\\bhope\\\\S*\\\\b|\\\\bhoped\\\\S*\\\\b|\\\\bhopeful\\\\S*\\\\b|\\\\bhopefully\\\\S*\\\\b|\\\\bhopefulness\\\\S*\\\\b|\\\\bhopes\\\\S*\\\\b|\\\\bhoping\\\\S*\\\\b|\\\\bideal\\\\S*\\\\b|\\\\bif\\\\S*\\\\b|\\\\bimpossib\\\\S*\\\\b|\\\\binadequa\\\\S*\\\\b|\\\\black\\\\S*\\\\b|\\\\bliabilit\\\\S*\\\\b|\\\\bmistak\\\\S*\\\\b|\\\\bmust\\\\S*\\\\b|\\\\bmustnt\\\\S*\\\\b|\\\\bmust'nt\\\\S*\\\\b|\\\\bmustn't\\\\S*\\\\b|\\\\bmustve\\\\S*\\\\b|\\\\bmust've\\\\S*\\\\b|\\\\bneed\\\\S*\\\\b|\\\\bneeded\\\\S*\\\\b|\\\\bneeding\\\\S*\\\\b|\\\\bneednt\\\\S*\\\\b|\\\\bneed'nt\\\\S*\\\\b|\\\\bneedn't\\\\S*\\\\b|\\\\bneeds\\\\S*\\\\b|\\\\bnormal\\\\S*\\\\b|\\\\bought\\\\S*\\\\b|\\\\boughta\\\\S*\\\\b|\\\\boughtnt\\\\S*\\\\b|\\\\bought'nt\\\\S*\\\\b|\\\\boughtn't\\\\S*\\\\b|\\\\boughtve\\\\S*\\\\b|\\\\bought've\\\\S*\\\\b|\\\\boutstanding\\\\S*\\\\b|\\\\bprefer\\\\S*\\\\b|\\\\bproblem\\\\S*\\\\b|\\\\brather\\\\S*\\\\b|\\\\bregardless\\\\S*\\\\b|\\\\bregret\\\\S*\\\\b|\\\\bshould\\\\S*\\\\b|\\\\bshouldnt\\\\S*\\\\b|\\\\bshould'nt\\\\S*\\\\b|\\\\bshouldn't\\\\S*\\\\b|\\\\bshoulds\\\\S*\\\\b|\\\\bshouldve\\\\S*\\\\b|\\\\bshould've\\\\S*\\\\b|\\\\bundesire\\\\S*\\\\b|\\\\bundo\\\\S*\\\\b|\\\\bunneccess\\\\S*\\\\b|\\\\bunneed\\\\S*\\\\b|\\\\bunwant\\\\S*\\\\b|\\\\bwanna\\\\S*\\\\b|\\\\bwant\\\\S*\\\\b|\\\\bwanted\\\\S*\\\\b|\\\\bwanting\\\\S*\\\\b|\\\\bwants\\\\S*\\\\b|\\\\bwish\\\\S*\\\\b|\\\\bwished\\\\S*\\\\b|\\\\bwishes\\\\S*\\\\b|\\\\bwishing\\\\S*\\\\b|\\\\bwould\\\\S*\\\\b|\\\\bwouldnt\\\\S*\\\\b|\\\\bwouldn't\\\\S*\\\\b|\\\\bwouldve\\\\S*\\\\b|\\\\bwould've\\\\S*\\\\b|\\\\byearn\\\\S*\\\\b\""
      ]
     },
     "execution_count": 30,
     "metadata": {},
     "output_type": "execute_result"
    }
   ],
   "source": [
    "regex"
   ]
  },
  {
   "cell_type": "code",
   "execution_count": 31,
   "metadata": {},
   "outputs": [],
   "source": [
    "re.match(\"hi\", regex)"
   ]
  },
  {
   "cell_type": "code",
   "execution_count": 32,
   "metadata": {},
   "outputs": [
    {
     "data": {
      "text/plain": [
       "[]"
      ]
     },
     "execution_count": 32,
     "metadata": {},
     "output_type": "execute_result"
    }
   ],
   "source": [
    "re.findall(regex, \"hi\")"
   ]
  },
  {
   "cell_type": "code",
   "execution_count": null,
   "metadata": {},
   "outputs": [],
   "source": []
  }
 ],
 "metadata": {
  "kernelspec": {
   "display_name": "team_process_map",
   "language": "python",
   "name": "python3"
  },
  "language_info": {
   "codemirror_mode": {
    "name": "ipython",
    "version": 3
   },
   "file_extension": ".py",
   "mimetype": "text/x-python",
   "name": "python",
   "nbconvert_exporter": "python",
   "pygments_lexer": "ipython3",
   "version": "3.8.8"
  },
  "orig_nbformat": 4,
  "vscode": {
   "interpreter": {
    "hash": "4308115ec36d55d4bd05e5164490d17bc30a5f7275b0a0d4f3922ff237a9eaea"
   }
  }
 },
 "nbformat": 4,
 "nbformat_minor": 2
}
