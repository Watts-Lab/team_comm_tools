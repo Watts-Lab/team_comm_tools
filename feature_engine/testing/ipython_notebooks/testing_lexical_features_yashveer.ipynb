{
 "cells": [
  {
   "attachments": {},
   "cell_type": "markdown",
   "metadata": {},
   "source": [
    "# Imports"
   ]
  },
  {
   "cell_type": "code",
   "execution_count": 1,
   "metadata": {},
   "outputs": [],
   "source": [
    "import pandas as pd\n",
    "import numpy as np\n",
    "import matplotlib.pyplot as plt\n",
    "import pickle\n",
    "import re"
   ]
  },
  {
   "cell_type": "code",
   "execution_count": 2,
   "metadata": {},
   "outputs": [],
   "source": [
    "data = {\n",
    "    'raw_message': [\n",
    "        'hello',\n",
    "        'hi', # for some reason this triggers really large values in things like 'bio' and 'cognitive mech'\n",
    "        'hi!',\n",
    "        'I am happy today', # first_person is always 0\n",
    "        'i am good', # first_person is always 0\n",
    "        '()()()()' # all symbols leads to the regex returning len(regex)\n",
    "    ]\n",
    "}\n",
    "\n",
    "def preprocess_text(text):\n",
    "  \t# For each individual message: preprocess to remove anything that is not an alphabet or number from the string\n",
    "\treturn(re.sub(r\"[^a-zA-Z0-9 ]+\", '',text).lower())\n",
    "\n",
    "chat_df = pd.DataFrame(data)\n",
    "\n",
    "chat_df[\"message\"] = chat_df[\"raw_message\"].apply(preprocess_text)"
   ]
  },
  {
   "cell_type": "code",
   "execution_count": 3,
   "metadata": {},
   "outputs": [
    {
     "data": {
      "text/html": [
       "<div>\n",
       "<style scoped>\n",
       "    .dataframe tbody tr th:only-of-type {\n",
       "        vertical-align: middle;\n",
       "    }\n",
       "\n",
       "    .dataframe tbody tr th {\n",
       "        vertical-align: top;\n",
       "    }\n",
       "\n",
       "    .dataframe thead th {\n",
       "        text-align: right;\n",
       "    }\n",
       "</style>\n",
       "<table border=\"1\" class=\"dataframe\">\n",
       "  <thead>\n",
       "    <tr style=\"text-align: right;\">\n",
       "      <th></th>\n",
       "      <th>raw_message</th>\n",
       "      <th>message</th>\n",
       "    </tr>\n",
       "  </thead>\n",
       "  <tbody>\n",
       "    <tr>\n",
       "      <th>0</th>\n",
       "      <td>hello</td>\n",
       "      <td>hello</td>\n",
       "    </tr>\n",
       "    <tr>\n",
       "      <th>1</th>\n",
       "      <td>hi</td>\n",
       "      <td>hi</td>\n",
       "    </tr>\n",
       "    <tr>\n",
       "      <th>2</th>\n",
       "      <td>hi!</td>\n",
       "      <td>hi</td>\n",
       "    </tr>\n",
       "    <tr>\n",
       "      <th>3</th>\n",
       "      <td>I am happy today</td>\n",
       "      <td>i am happy today</td>\n",
       "    </tr>\n",
       "    <tr>\n",
       "      <th>4</th>\n",
       "      <td>i am good</td>\n",
       "      <td>i am good</td>\n",
       "    </tr>\n",
       "    <tr>\n",
       "      <th>5</th>\n",
       "      <td>()()()()</td>\n",
       "      <td></td>\n",
       "    </tr>\n",
       "  </tbody>\n",
       "</table>\n",
       "</div>"
      ],
      "text/plain": [
       "        raw_message           message\n",
       "0             hello             hello\n",
       "1                hi                hi\n",
       "2               hi!                hi\n",
       "3  I am happy today  i am happy today\n",
       "4         i am good         i am good\n",
       "5          ()()()()                  "
      ]
     },
     "execution_count": 3,
     "metadata": {},
     "output_type": "execute_result"
    }
   ],
   "source": [
    "chat_df"
   ]
  },
  {
   "cell_type": "code",
   "execution_count": 4,
   "metadata": {},
   "outputs": [],
   "source": [
    "with open(\"../../features/lexicons_dict.pkl\", \"rb\") as lexicons_pickle_file:\n",
    "    lexicons_dict = pickle.load(lexicons_pickle_file)"
   ]
  },
  {
   "cell_type": "code",
   "execution_count": 5,
   "metadata": {},
   "outputs": [],
   "source": [
    "test_df = pd.concat(\n",
    "\t\t# Finding the # of occurances of lexicons of each type for all the messages.\n",
    "\t\t[pd.DataFrame(chat_df[\"message\"].apply(lambda chat: len(re.findall(regex, chat))))\\\n",
    "\t\t\t  \t\t\t\t\t\t\t.rename({\"message\": lexicon_type}, axis=1)\\\n",
    "\t\t\tfor lexicon_type, regex in lexicons_dict.items()], \n",
    "\t\taxis=1\n",
    "\t)"
   ]
  }
 ],
 "metadata": {
  "kernelspec": {
   "display_name": "team_process_map",
   "language": "python",
   "name": "python3"
  },
  "language_info": {
   "codemirror_mode": {
    "name": "ipython",
    "version": 3
   },
   "file_extension": ".py",
   "mimetype": "text/x-python",
   "name": "python",
   "nbconvert_exporter": "python",
   "pygments_lexer": "ipython3",
   "version": "3.8.8"
  },
  "orig_nbformat": 4,
  "vscode": {
   "interpreter": {
    "hash": "4308115ec36d55d4bd05e5164490d17bc30a5f7275b0a0d4f3922ff237a9eaea"
   }
  }
 },
 "nbformat": 4,
 "nbformat_minor": 2
}
