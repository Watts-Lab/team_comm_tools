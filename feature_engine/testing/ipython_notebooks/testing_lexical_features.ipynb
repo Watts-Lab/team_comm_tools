{
 "cells": [
  {
   "attachments": {},
   "cell_type": "markdown",
   "metadata": {},
   "source": [
    "# Imports"
   ]
  },
  {
   "cell_type": "code",
   "execution_count": 85,
   "metadata": {},
   "outputs": [],
   "source": [
    "import pandas as pd\n",
    "import numpy as np\n",
    "import matplotlib.pyplot as plt"
   ]
  },
  {
   "attachments": {},
   "cell_type": "markdown",
   "metadata": {},
   "source": [
    "# Lexicon Helper Functions"
   ]
  },
  {
   "cell_type": "code",
   "execution_count": 86,
   "metadata": {},
   "outputs": [],
   "source": [
    "import itertools\n",
    "import re\n",
    "import os,glob\n",
    "\n",
    "\"\"\"\n",
    "file: lexical_features.py\n",
    "---\n",
    "Defines features that involve bag-of-words counts from a lexicon.\n",
    "\"\"\"\n",
    "\n",
    "'''\n",
    "function: get_lexicon_list_from_txt\n",
    "\n",
    "Takes in a .txt file, in which each line is a lexicon term, and reads it into a list.\n",
    "\n",
    "@param txt_file: name of the text file\n",
    "'''\n",
    "def get_lexicon_list_from_txt(txt_file):\n",
    "\twith open(txt_file) as lexicon:\n",
    "\t\t# return list of each word\n",
    "\n",
    "\t\t'''\n",
    "\t\tThis list comprehension is a bit complicated, since it embeds some preprocessing.\n",
    "\t\t- What we really want to do is return line.rstrip(). However, we have to also do the following:\n",
    "\t\t- We want to capture each word, so we have to append the string start (^) and string end ($) characters\n",
    "\t\t- We have to replace any cases where \"**\" occurs, as python throws an error\n",
    "\t\t- The escape character, backslash, also breaks python's regex , so we have to remove it\n",
    "\t\t'''\n",
    "\t\treturn([\"^\" + re.sub(\"\\\\\\\\\", \"\", re.sub(\"\\*\", \".\\*\", re.sub(\"\\*\\*\", \"\\*\", line.rstrip()))) + \"$\" for line in lexicon])\n",
    "\n",
    "'''\n",
    "function: get_lexical_value_from_text\n",
    "\n",
    "Takes in a lexicon list, and returns the number of matches within a given message or string.\n",
    "\n",
    "@param text: the message/text that we are searching for lexicon words in.\n",
    "@param lexicon_list: output of `get_lexicon_list_from_text`; a list of regexes or words that \n",
    "we are searching for inside the text.\n",
    "'''\n",
    "def get_lexical_value_from_text(text, lexicon_list):\n",
    "\n",
    "\t# preprocess to remove special characters\n",
    "\t# TODO -- remove any feature-level preprocessing, as we are combining them into preprocess.py\n",
    "\ttext = re.sub('[^a-zA-Z ]+', '', text).lower()\n",
    "\n",
    "\t# Finds all matches from the lexicon, and flattens into a single list\n",
    "\tmatches = list(itertools.chain(*[re.findall(regex, word) for word in text.split(' ') for regex in lexicon_list]))\n",
    "\treturn(len(matches))\n",
    "\n",
    "\"\"\"\n",
    "LIWC Features\n",
    "\n",
    "Create features drawn from the LIWC lexicons.\n",
    "\n",
    "@ param text: the text being evaluated.\n",
    "@ return value: a dictionary, in which each key is the name of the feature, and each value\n",
    "is the leixcal value (count) within the text.\n",
    "\"\"\"\n",
    "def liwc_features(text):\n",
    "\n",
    "\tlexical_feature_dictionary = {}\n",
    "\n",
    "\t# Open every file in the folder\n",
    "\tdirectory = '../../features/lexicons/liwc_lexicons/'\n",
    "\tfor filename in os.listdir(directory):\n",
    "\t\tlexicon_list = get_lexicon_list_from_txt(directory + filename)\n",
    "\t\tlexical_value = get_lexical_value_from_text(text, lexicon_list)\n",
    "\t\tlexical_feature_dictionary[filename] = lexical_value\n",
    "\n",
    "\treturn(lexical_feature_dictionary)\n"
   ]
  },
  {
   "attachments": {},
   "cell_type": "markdown",
   "metadata": {},
   "source": [
    "# Dataset"
   ]
  },
  {
   "cell_type": "code",
   "execution_count": 87,
   "metadata": {},
   "outputs": [
    {
     "name": "stdout",
     "output_type": "stream",
     "text": [
      "(97, 10)\n"
     ]
    },
    {
     "data": {
      "text/html": [
       "<div>\n",
       "<style scoped>\n",
       "    .dataframe tbody tr th:only-of-type {\n",
       "        vertical-align: middle;\n",
       "    }\n",
       "\n",
       "    .dataframe tbody tr th {\n",
       "        vertical-align: top;\n",
       "    }\n",
       "\n",
       "    .dataframe thead th {\n",
       "        text-align: right;\n",
       "    }\n",
       "</style>\n",
       "<table border=\"1\" class=\"dataframe\">\n",
       "  <thead>\n",
       "    <tr style=\"text-align: right;\">\n",
       "      <th></th>\n",
       "      <th>batch_num</th>\n",
       "      <th>round_num</th>\n",
       "      <th>speaker_hash</th>\n",
       "      <th>speaker_nickname</th>\n",
       "      <th>timestamp</th>\n",
       "      <th>message</th>\n",
       "      <th>majority_pct</th>\n",
       "      <th>num_flipped</th>\n",
       "      <th>flipped_pct</th>\n",
       "      <th>num_votes</th>\n",
       "    </tr>\n",
       "  </thead>\n",
       "  <tbody>\n",
       "    <tr>\n",
       "      <th>0</th>\n",
       "      <td>0</td>\n",
       "      <td>0</td>\n",
       "      <td>5e7e1e0031f4e454e196c30b</td>\n",
       "      <td>niceRhino</td>\n",
       "      <td>2020-04-20T18:27:20.125Z</td>\n",
       "      <td>Hello!</td>\n",
       "      <td>1.0</td>\n",
       "      <td>1</td>\n",
       "      <td>0.333333</td>\n",
       "      <td>3</td>\n",
       "    </tr>\n",
       "    <tr>\n",
       "      <th>1</th>\n",
       "      <td>0</td>\n",
       "      <td>0</td>\n",
       "      <td>5e31d6e4e31c5304c46f1413</td>\n",
       "      <td>culturedCow</td>\n",
       "      <td>2020-04-20T18:27:23.764Z</td>\n",
       "      <td>Hi!</td>\n",
       "      <td>1.0</td>\n",
       "      <td>1</td>\n",
       "      <td>0.333333</td>\n",
       "      <td>3</td>\n",
       "    </tr>\n",
       "    <tr>\n",
       "      <th>2</th>\n",
       "      <td>0</td>\n",
       "      <td>0</td>\n",
       "      <td>5e7e4f4c31f4e454e196c9c4</td>\n",
       "      <td>spryBison</td>\n",
       "      <td>2020-04-20T18:27:27.724Z</td>\n",
       "      <td>Hello</td>\n",
       "      <td>1.0</td>\n",
       "      <td>1</td>\n",
       "      <td>0.333333</td>\n",
       "      <td>3</td>\n",
       "    </tr>\n",
       "    <tr>\n",
       "      <th>3</th>\n",
       "      <td>0</td>\n",
       "      <td>0</td>\n",
       "      <td>5d482ea421c9be351f762255</td>\n",
       "      <td>youngLion</td>\n",
       "      <td>2020-04-20T18:27:30.410Z</td>\n",
       "      <td>Hi</td>\n",
       "      <td>1.0</td>\n",
       "      <td>1</td>\n",
       "      <td>0.333333</td>\n",
       "      <td>3</td>\n",
       "    </tr>\n",
       "    <tr>\n",
       "      <th>4</th>\n",
       "      <td>0</td>\n",
       "      <td>0</td>\n",
       "      <td>5e84cc3c50f6e364321d6265</td>\n",
       "      <td>smallGiraffe</td>\n",
       "      <td>2020-04-20T18:27:35.506Z</td>\n",
       "      <td>hi</td>\n",
       "      <td>1.0</td>\n",
       "      <td>1</td>\n",
       "      <td>0.333333</td>\n",
       "      <td>3</td>\n",
       "    </tr>\n",
       "  </tbody>\n",
       "</table>\n",
       "</div>"
      ],
      "text/plain": [
       "   batch_num  round_num              speaker_hash speaker_nickname   \n",
       "0          0          0  5e7e1e0031f4e454e196c30b        niceRhino  \\\n",
       "1          0          0  5e31d6e4e31c5304c46f1413      culturedCow   \n",
       "2          0          0  5e7e4f4c31f4e454e196c9c4        spryBison   \n",
       "3          0          0  5d482ea421c9be351f762255        youngLion   \n",
       "4          0          0  5e84cc3c50f6e364321d6265     smallGiraffe   \n",
       "\n",
       "                  timestamp  message  majority_pct  num_flipped  flipped_pct   \n",
       "0  2020-04-20T18:27:20.125Z  Hello!            1.0            1     0.333333  \\\n",
       "1  2020-04-20T18:27:23.764Z      Hi!           1.0            1     0.333333   \n",
       "2  2020-04-20T18:27:27.724Z    Hello           1.0            1     0.333333   \n",
       "3  2020-04-20T18:27:30.410Z       Hi           1.0            1     0.333333   \n",
       "4  2020-04-20T18:27:35.506Z       hi           1.0            1     0.333333   \n",
       "\n",
       "   num_votes  \n",
       "0          3  \n",
       "1          3  \n",
       "2          3  \n",
       "3          3  \n",
       "4          3  "
      ]
     },
     "execution_count": 87,
     "metadata": {},
     "output_type": "execute_result"
    }
   ],
   "source": [
    "data = pd.read_csv(\"../../data/raw_data/juries_tiny_for_testing.csv\")\n",
    "print(data.shape)\n",
    "data.head()"
   ]
  },
  {
   "cell_type": "code",
   "execution_count": 88,
   "metadata": {},
   "outputs": [
    {
     "data": {
      "text/html": [
       "<div>\n",
       "<style scoped>\n",
       "    .dataframe tbody tr th:only-of-type {\n",
       "        vertical-align: middle;\n",
       "    }\n",
       "\n",
       "    .dataframe tbody tr th {\n",
       "        vertical-align: top;\n",
       "    }\n",
       "\n",
       "    .dataframe thead th {\n",
       "        text-align: right;\n",
       "    }\n",
       "</style>\n",
       "<table border=\"1\" class=\"dataframe\">\n",
       "  <thead>\n",
       "    <tr style=\"text-align: right;\">\n",
       "      <th></th>\n",
       "      <th>batch_num</th>\n",
       "      <th>round_num</th>\n",
       "      <th>speaker_nickname</th>\n",
       "    </tr>\n",
       "  </thead>\n",
       "  <tbody>\n",
       "    <tr>\n",
       "      <th>0</th>\n",
       "      <td>0</td>\n",
       "      <td>0</td>\n",
       "      <td>52</td>\n",
       "    </tr>\n",
       "    <tr>\n",
       "      <th>1</th>\n",
       "      <td>0</td>\n",
       "      <td>2</td>\n",
       "      <td>45</td>\n",
       "    </tr>\n",
       "    <tr>\n",
       "      <th>2</th>\n",
       "      <td>1</td>\n",
       "      <td>0</td>\n",
       "      <td>44</td>\n",
       "    </tr>\n",
       "    <tr>\n",
       "      <th>3</th>\n",
       "      <td>1</td>\n",
       "      <td>3</td>\n",
       "      <td>42</td>\n",
       "    </tr>\n",
       "    <tr>\n",
       "      <th>4</th>\n",
       "      <td>2</td>\n",
       "      <td>2</td>\n",
       "      <td>48</td>\n",
       "    </tr>\n",
       "    <tr>\n",
       "      <th>...</th>\n",
       "      <td>...</td>\n",
       "      <td>...</td>\n",
       "      <td>...</td>\n",
       "    </tr>\n",
       "    <tr>\n",
       "      <th>343</th>\n",
       "      <td>173</td>\n",
       "      <td>2</td>\n",
       "      <td>28</td>\n",
       "    </tr>\n",
       "    <tr>\n",
       "      <th>344</th>\n",
       "      <td>175</td>\n",
       "      <td>1</td>\n",
       "      <td>96</td>\n",
       "    </tr>\n",
       "    <tr>\n",
       "      <th>345</th>\n",
       "      <td>175</td>\n",
       "      <td>3</td>\n",
       "      <td>102</td>\n",
       "    </tr>\n",
       "    <tr>\n",
       "      <th>346</th>\n",
       "      <td>177</td>\n",
       "      <td>2</td>\n",
       "      <td>54</td>\n",
       "    </tr>\n",
       "    <tr>\n",
       "      <th>347</th>\n",
       "      <td>177</td>\n",
       "      <td>3</td>\n",
       "      <td>64</td>\n",
       "    </tr>\n",
       "  </tbody>\n",
       "</table>\n",
       "<p>348 rows × 3 columns</p>\n",
       "</div>"
      ],
      "text/plain": [
       "     batch_num  round_num  speaker_nickname\n",
       "0            0          0                52\n",
       "1            0          2                45\n",
       "2            1          0                44\n",
       "3            1          3                42\n",
       "4            2          2                48\n",
       "..         ...        ...               ...\n",
       "343        173          2                28\n",
       "344        175          1                96\n",
       "345        175          3               102\n",
       "346        177          2                54\n",
       "347        177          3                64\n",
       "\n",
       "[348 rows x 3 columns]"
      ]
     },
     "execution_count": 88,
     "metadata": {},
     "output_type": "execute_result"
    }
   ],
   "source": [
    "big_data = pd.read_csv(\"../../data/raw_data/jury_conversations_with_outcome_var.csv\")\n",
    "big_data.groupby(by=[\"batch_num\", \"round_num\"]).count().iloc[:, 1].reset_index()"
   ]
  },
  {
   "cell_type": "code",
   "execution_count": 89,
   "metadata": {},
   "outputs": [
    {
     "data": {
      "text/plain": [
       "15.742268041237113"
      ]
     },
     "execution_count": 89,
     "metadata": {},
     "output_type": "execute_result"
    }
   ],
   "source": [
    "len_messages = []\n",
    "for message in data[\"message\"].str.split(\" \"):\n",
    "    len_messages.append(len(message))\n",
    "sum(len_messages)/len(len_messages)"
   ]
  },
  {
   "cell_type": "code",
   "execution_count": 90,
   "metadata": {},
   "outputs": [
    {
     "data": {
      "text/plain": [
       "51"
      ]
     },
     "execution_count": 90,
     "metadata": {},
     "output_type": "execute_result"
    }
   ],
   "source": [
    "len(os.listdir(\"../../features/lexicons/liwc_lexicons/\"))"
   ]
  },
  {
   "cell_type": "code",
   "execution_count": 91,
   "metadata": {},
   "outputs": [],
   "source": [
    "lexical_feature_dictionary = {}\n",
    "for filename in os.listdir(\"../../features/lexicons/liwc_lexicons/\"):\n",
    "    filepath = \"../../features/lexicons/liwc_lexicons/\"+filename\n",
    "    lexicon_list = get_lexicon_list_from_txt(filepath)\n",
    "    lexical_value = get_lexical_value_from_text('Hello! How are you?', lexicon_list)\n",
    "    lexical_feature_dictionary[filename] = lexical_value"
   ]
  },
  {
   "cell_type": "code",
   "execution_count": 92,
   "metadata": {},
   "outputs": [
    {
     "data": {
      "text/plain": [
       "149.64705882352942"
      ]
     },
     "execution_count": 92,
     "metadata": {},
     "output_type": "execute_result"
    }
   ],
   "source": [
    "len_lex = []\n",
    "for filename in os.listdir(\"../../features/lexicons/liwc_lexicons/\"):\n",
    "    filepath = \"../../features/lexicons/liwc_lexicons/\"+filename\n",
    "    lexicon_list = get_lexicon_list_from_txt(filepath)\n",
    "    len_lex.append(len(lexicon_list))\n",
    "sum(len_lex)/len(len_lex)    "
   ]
  },
  {
   "cell_type": "code",
   "execution_count": 93,
   "metadata": {},
   "outputs": [
    {
     "data": {
      "text/plain": [
       "2"
      ]
     },
     "execution_count": 93,
     "metadata": {},
     "output_type": "execute_result"
    }
   ],
   "source": [
    "get_lexical_value_from_text('Hello! How are you?', get_lexicon_list_from_txt(\"../../features/lexicons/liwc_lexicons/\"+\"social\"))"
   ]
  },
  {
   "cell_type": "code",
   "execution_count": 94,
   "metadata": {},
   "outputs": [
    {
     "data": {
      "text/plain": [
       "'i believe that i am thinking about me ourselves and us'"
      ]
     },
     "execution_count": 94,
     "metadata": {},
     "output_type": "execute_result"
    }
   ],
   "source": [
    "#text = \"Hello! How are you?\"\n",
    "text = \"I believe that I am thinking about me, ourselves, and us\"\n",
    "text = re.sub('[^a-zA-Z ]+', '', text).lower()\n",
    "text"
   ]
  },
  {
   "cell_type": "code",
   "execution_count": 95,
   "metadata": {},
   "outputs": [],
   "source": [
    "#lexicon_list = get_lexicon_list_from_txt(\"../../features/lexicons/liwc_lexicons/\"+\"social\")\n",
    "lexicon_list = get_lexicon_list_from_txt(\"../../features/lexicons/other_lexicons/\"+\"first_person.txt\")"
   ]
  },
  {
   "cell_type": "code",
   "execution_count": 96,
   "metadata": {},
   "outputs": [
    {
     "name": "stdout",
     "output_type": "stream",
     "text": [
      "^i$ i ['i']\n",
      "^i$ i ['i']\n",
      "^me$ me ['me']\n",
      "^ourselves$ ourselves ['ourselves']\n"
     ]
    }
   ],
   "source": [
    "for word in text.split(\" \"):\n",
    "    for regex in lexicon_list:\n",
    "        if re.search(regex, word):\n",
    "            print(regex, word, re.findall(regex, word))"
   ]
  },
  {
   "cell_type": "code",
   "execution_count": 97,
   "metadata": {},
   "outputs": [],
   "source": [
    "master_regex = \"|\".join(lexicon_list)"
   ]
  },
  {
   "cell_type": "code",
   "execution_count": 98,
   "metadata": {},
   "outputs": [
    {
     "data": {
      "text/plain": [
       "'^i$|^me$|^my$|^myself$|^mine$|^we$|^our$|^ours$|^ourselves$|^lets$'"
      ]
     },
     "execution_count": 98,
     "metadata": {},
     "output_type": "execute_result"
    }
   ],
   "source": [
    "master_regex"
   ]
  },
  {
   "cell_type": "code",
   "execution_count": 99,
   "metadata": {},
   "outputs": [
    {
     "data": {
      "text/plain": [
       "4"
      ]
     },
     "execution_count": 99,
     "metadata": {},
     "output_type": "execute_result"
    }
   ],
   "source": [
    "value = 0\n",
    "for word in text.split(\" \"):\n",
    "    if re.search(master_regex, word):\n",
    "        value+=1\n",
    "value"
   ]
  },
  {
   "cell_type": "code",
   "execution_count": 100,
   "metadata": {},
   "outputs": [],
   "source": [
    "master_regex_new = master_regex.replace(\"^\", \"\").replace(\"$\", \"\")"
   ]
  },
  {
   "cell_type": "code",
   "execution_count": 101,
   "metadata": {},
   "outputs": [
    {
     "data": {
      "text/plain": [
       "'i|me|my|myself|mine|we|our|ours|ourselves|lets'"
      ]
     },
     "execution_count": 101,
     "metadata": {},
     "output_type": "execute_result"
    }
   ],
   "source": [
    "master_regex_new"
   ]
  },
  {
   "cell_type": "code",
   "execution_count": 102,
   "metadata": {},
   "outputs": [
    {
     "data": {
      "text/plain": [
       "7"
      ]
     },
     "execution_count": 102,
     "metadata": {},
     "output_type": "execute_result"
    }
   ],
   "source": [
    "len(re.findall(master_regex_new, text))"
   ]
  },
  {
   "cell_type": "code",
   "execution_count": 103,
   "metadata": {},
   "outputs": [
    {
     "data": {
      "text/plain": [
       "{'discrepancies': 0,\n",
       " 'hear': 0,\n",
       " 'home': 0,\n",
       " 'conjunction': 1,\n",
       " 'certainty': 0,\n",
       " 'inclusive': 0,\n",
       " 'bio': 0,\n",
       " 'achievement': 0,\n",
       " 'adverbs': 1,\n",
       " 'anxiety': 0,\n",
       " 'third_person': 0,\n",
       " 'negation': 0,\n",
       " 'swear': 0,\n",
       " 'death': 0,\n",
       " 'health': 0,\n",
       " 'see': 0,\n",
       " 'body': 0,\n",
       " 'family': 0,\n",
       " 'negative_affect': 0,\n",
       " 'quantifier': 0,\n",
       " 'positive_affect': 0,\n",
       " 'insight': 0,\n",
       " 'humans': 0,\n",
       " 'present_tense': 1,\n",
       " 'future_tense': 0,\n",
       " 'past_tense': 0,\n",
       " 'relative': 0,\n",
       " 'sexual': 0,\n",
       " 'inhibition': 0,\n",
       " 'sadness': 0,\n",
       " 'social': 2,\n",
       " 'indefinite_pronoun': 0,\n",
       " 'religion': 0,\n",
       " 'work': 0,\n",
       " 'money': 0,\n",
       " 'causation': 1,\n",
       " 'anger': 0,\n",
       " 'first_person_singular': 0,\n",
       " 'feel': 0,\n",
       " 'tentativeness': 0,\n",
       " 'exclusive': 0,\n",
       " 'verbs': 1,\n",
       " 'friends': 0,\n",
       " 'article': 0,\n",
       " 'argue': 0,\n",
       " 'auxiliary_verbs': 1,\n",
       " 'cognitive_mech': 1,\n",
       " 'preposition': 0,\n",
       " 'first_person_plural': 0,\n",
       " 'percept': 0,\n",
       " 'second_person': 1}"
      ]
     },
     "execution_count": 103,
     "metadata": {},
     "output_type": "execute_result"
    }
   ],
   "source": [
    "lexical_feature_dictionary"
   ]
  },
  {
   "cell_type": "code",
   "execution_count": 104,
   "metadata": {},
   "outputs": [
    {
     "data": {
      "text/plain": [
       "'Hello! '"
      ]
     },
     "execution_count": 104,
     "metadata": {},
     "output_type": "execute_result"
    }
   ],
   "source": [
    "data.iloc[0, list(data.columns).index(\"message\")]"
   ]
  },
  {
   "cell_type": "code",
   "execution_count": 105,
   "metadata": {},
   "outputs": [],
   "source": [
    "# Test liwc_features directly\n"
   ]
  }
 ],
 "metadata": {
  "kernelspec": {
   "display_name": "team_process_map",
   "language": "python",
   "name": "python3"
  },
  "language_info": {
   "codemirror_mode": {
    "name": "ipython",
    "version": 3
   },
   "file_extension": ".py",
   "mimetype": "text/x-python",
   "name": "python",
   "nbconvert_exporter": "python",
   "pygments_lexer": "ipython3",
   "version": "3.8.8"
  },
  "orig_nbformat": 4,
  "vscode": {
   "interpreter": {
    "hash": "4308115ec36d55d4bd05e5164490d17bc30a5f7275b0a0d4f3922ff237a9eaea"
   }
  }
 },
 "nbformat": 4,
 "nbformat_minor": 2
}
