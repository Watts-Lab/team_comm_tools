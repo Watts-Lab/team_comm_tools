{
  "nbformat": 4,
  "nbformat_minor": 0,
  "metadata": {
    "colab": {
      "provenance": [],
      "authorship_tag": "ABX9TyMLzsD8hnAvkPq8YDhYdlao",
      "include_colab_link": true
    },
    "kernelspec": {
      "name": "python3",
      "display_name": "Python 3"
    },
    "language_info": {
      "name": "python"
    }
  },
  "cells": [
    {
      "cell_type": "markdown",
      "metadata": {
        "id": "view-in-github",
        "colab_type": "text"
      },
      "source": [
        "<a href=\"https://colab.research.google.com/github/Watts-Lab/team-process-map/blob/main/PositivityFeature.ipynb\" target=\"_parent\"><img src=\"https://colab.research.google.com/assets/colab-badge.svg\" alt=\"Open In Colab\"/></a>"
      ]
    },
    {
      "cell_type": "code",
      "source": [
        "'''\n",
        "This class will be used to measure positivity in a conversation\n",
        "Positivity is computed by calculating the z score of positive words in a sentence\n",
        "As we do not have labelled data currently, I am using a set ~2000 of positive words from GitHub. https://gist.github.com/mkulakowski2/4289437\n",
        "\n",
        "Paper E.24 refers to [Ref 28]: https://journals-sagepub-com.proxy.library.upenn.edu/doi/epdf/10.1177/0261927X09351676, \n",
        "which does not adequately describe measuring positivity\n",
        "\n",
        "Approach Followed Here (Based on my understanding of A.24):\n",
        "1. Calculate the total number of positive words appearing the the chat data\n",
        "2. Convert them into Z-scores\n",
        "3. Rate the sentences as positive or not using the following scale.\n",
        "'''"
      ],
      "metadata": {
        "id": "8sJGFIgJJL0U"
      },
      "execution_count": null,
      "outputs": []
    },
    {
      "cell_type": "code",
      "execution_count": null,
      "metadata": {
        "id": "O7tWNv1VJERJ"
      },
      "outputs": [],
      "source": [
        "import pandas as pd\n",
        "import numpy as np\n",
        "import sys\n",
        "import csv\n",
        "import collections\n",
        "import scipy.stats as stats"
      ]
    },
    {
      "cell_type": "code",
      "source": [
        "juryurl = 'https://raw.githubusercontent.com/Watts-Lab/team-process-map/main/feature_engine/data/raw_data/jury_conversations_with_outcome_var.csv'\n",
        "df = pd.read_csv(juryurl)\n",
        "juryconversation = df[df['message'].notnull()].iloc[:,5].values"
      ],
      "metadata": {
        "id": "f79GxWiWSTDt"
      },
      "execution_count": null,
      "outputs": []
    },
    {
      "cell_type": "code",
      "source": [
        "#GitHub Link to the list of positive words\n",
        "positivewordsurl = 'https://raw.githubusercontent.com/Watts-Lab/team-process-map/main/feature_engine/data/raw_data/PositiveWords.csv'\n",
        "positivewords = pd.read_csv(positivewordsurl)"
      ],
      "metadata": {
        "id": "XWS9thXfKCim"
      },
      "execution_count": null,
      "outputs": []
    },
    {
      "cell_type": "code",
      "source": [
        "#checking how many positive words are contain in a particular conversation\n",
        "totalposwords = 0\n",
        "for message in juryconversation:\n",
        "  posword = 0\n",
        "  words = message.split()\n",
        "  for word in words:\n",
        "    if word in positivewords:\n",
        "      posword = posword+1\n",
        "totalposwords = totalposwords+posword\n",
        "print(totalposwords)"
      ],
      "metadata": {
        "colab": {
          "base_uri": "https://localhost:8080/"
        },
        "id": "_QTmodvBMI-s",
        "outputId": "04f2a276-bb32-4ee4-ae6f-a533742dec80"
      },
      "execution_count": null,
      "outputs": [
        {
          "output_type": "stream",
          "name": "stdout",
          "text": [
            "0\n"
          ]
        }
      ]
    },
    {
      "cell_type": "code",
      "source": [
        "#calcuate a z-score\n",
        "stats.zscore(juryconversation[poswords])"
      ],
      "metadata": {
        "id": "A51ayiPMMJHV"
      },
      "execution_count": null,
      "outputs": []
    },
    {
      "cell_type": "code",
      "source": [],
      "metadata": {
        "id": "cD8nE4-gMJKW"
      },
      "execution_count": null,
      "outputs": []
    },
    {
      "cell_type": "code",
      "source": [],
      "metadata": {
        "id": "3PuQL4A4MJMy"
      },
      "execution_count": null,
      "outputs": []
    }
  ]
}