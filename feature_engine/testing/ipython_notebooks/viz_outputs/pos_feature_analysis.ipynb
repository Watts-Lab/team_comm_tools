{
 "cells": [
  {
   "cell_type": "code",
   "execution_count": 11,
   "metadata": {},
   "outputs": [],
   "source": [
    "import pandas as pd\n",
    "import numpy as np\n",
    "\n",
    "feature = 'average_positivity_wordcount'\n",
    "dataset = 'jury'\n",
    "conv_fields = ['conversation_num', feature]\n",
    "chat_fields = ['conversation_num', 'message']\n",
    "\n",
    "\n",
    "jury_conv = pd.read_csv(f'output/{dataset}_output_conversation_level.csv', skipinitialspace=True, usecols=conv_fields)\n",
    "jury_conv.sort_values(feature, inplace=True)\n",
    "jury_top_50 = jury_conv.tail(10).iloc[::-1]\n",
    "\n",
    "jury_chat = pd.read_csv(f'output/{dataset}_output_chat_level.csv', skipinitialspace=True, usecols=chat_fields)\n",
    "\n",
    "jury = pd.merge(\n",
    "        left=jury_top_50,\n",
    "        right=jury_chat,\n",
    "        on=['conversation_num'],\n",
    "        how=\"inner\"\n",
    ")\n",
    "\n",
    "with open(f'{dataset}_{feature}.txt', 'w') as f:\n",
    "    \n",
    "    for index, group in jury.groupby('conversation_num'):\n",
    "        f.write(f'\\nCONVERSATION {index} \\n')\n",
    "        messages = group['message'].to_frame()\n",
    "        f.write(messages.to_string(header=False, index=False))\n",
    "\n",
    "# jury['message'].values\n"
   ]
  },
  {
   "cell_type": "code",
   "execution_count": 12,
   "metadata": {},
   "outputs": [],
   "source": [
    "feature = 'average_positivity_wordcount'\n",
    "conv_fields = ['conversation_num', feature]\n",
    "chat_fields = ['conversation_num', 'message']\n",
    "\n",
    "\n",
    "jury_conv = pd.read_csv(f'output/{dataset}_output_conversation_level.csv', skipinitialspace=True, usecols=conv_fields)\n",
    "jury_conv.sort_values(feature, inplace=True)\n",
    "jury_top_50 = jury_conv.tail(10).iloc[::-1]\n",
    "\n",
    "jury_chat = pd.read_csv(f'output/{dataset}_output_chat_level.csv', skipinitialspace=True, usecols=chat_fields)\n",
    "\n",
    "\n",
    "jury = pd.merge(\n",
    "        left=jury_top_50,\n",
    "        right=jury_chat,\n",
    "        on=['conversation_num'],\n",
    "        how=\"inner\"\n",
    ")\n",
    "\n",
    "with open(f'{dataset}_{feature}.txt', 'w') as f:\n",
    "    \n",
    "    for index, group in jury.groupby('conversation_num'):\n",
    "        f.write(f'\\nCONVERSATION {index} \\n')\n",
    "        messages = group['message'].to_frame()\n",
    "        f.write(messages.to_string(header=False, index=False))"
   ]
  }
 ],
 "metadata": {
  "kernelspec": {
   "display_name": "Python 3",
   "language": "python",
   "name": "python3"
  },
  "language_info": {
   "codemirror_mode": {
    "name": "ipython",
    "version": 3
   },
   "file_extension": ".py",
   "mimetype": "text/x-python",
   "name": "python",
   "nbconvert_exporter": "python",
   "pygments_lexer": "ipython3",
   "version": "3.11.3"
  },
  "orig_nbformat": 4
 },
 "nbformat": 4,
 "nbformat_minor": 2
}
