{
 "cells": [
  {
   "cell_type": "code",
   "execution_count": 2,
   "metadata": {},
   "outputs": [],
   "source": [
    "import pandas as pd\n",
    "import itertools\n",
    "import sys \n",
    "import os, glob\n",
    "import re\n",
    "\n",
    "sys.path.append('/Users/xehu/Desktop/Team Process Map/team-process-map/feature_engine/')\n",
    "\n",
    "from features.Entropy import *\n",
    "from features.NgramSimilarity import *\n",
    "from features.hedge import *"
   ]
  },
  {
   "cell_type": "code",
   "execution_count": 5,
   "metadata": {},
   "outputs": [],
   "source": [
    "data = {\n",
    "    \"name\": [\"I am sort of\",\"I guess I am crazy\"]\n",
    "}   \n",
    "\n",
    "df = pd.DataFrame(data)\n",
    "\n",
    "get_ngrams(df, \"name\", 2)\n",
    "\n",
    "#ngram_dialog_act_entropy(df,\"name\",2)"
   ]
  }
 ],
 "metadata": {
  "kernelspec": {
   "display_name": "Python 3",
   "language": "python",
   "name": "python3"
  },
  "language_info": {
   "codemirror_mode": {
    "name": "ipython",
    "version": 3
   },
   "file_extension": ".py",
   "mimetype": "text/x-python",
   "name": "python",
   "nbconvert_exporter": "python",
   "pygments_lexer": "ipython3",
   "version": "3.9.5"
  },
  "orig_nbformat": 4,
  "vscode": {
   "interpreter": {
    "hash": "7812ea015bdcee6f23a998adcdd2ef97c151c0c241b7b7070987d9313e41299d"
   }
  }
 },
 "nbformat": 4,
 "nbformat_minor": 2
}
