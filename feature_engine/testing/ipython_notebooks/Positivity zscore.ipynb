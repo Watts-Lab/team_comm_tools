{
 "cells": [
  {
   "cell_type": "code",
   "execution_count": 16,
   "metadata": {},
   "outputs": [],
   "source": [
    "import numpy as np\n",
    "import pandas as pd\n",
    "import scipy.stats as stats\n",
    "import nltk\n",
    "import csv\n",
    "from nltk.corpus import stopwords"
   ]
  },
  {
   "cell_type": "code",
   "execution_count": null,
   "metadata": {},
   "outputs": [],
   "source": []
  },
  {
   "cell_type": "code",
   "execution_count": 18,
   "metadata": {},
   "outputs": [],
   "source": [
    "#get the total number of positive words\n",
    "'''\n",
    "@param text_input = entire text data\n",
    "@return total positive words in the conversation excluding stopwords (filler words)\n",
    "'''\n",
    "def positive_words(text_input):\n",
    "    stop_words = len([word for word in text_input.split() if word.lower() in stopwords])\n",
    "    pos_words = len([word for word in text_input.split() if word.lower() in stopwords])\n",
    "\n",
    "    return (pos_words-stopwords)"
   ]
  },
  {
   "cell_type": "code",
   "execution_count": 6,
   "metadata": {},
   "outputs": [],
   "source": [
    "# Get the z-score of each message at the chat level: compute z-score for each message\n",
    "'''\n",
    "@param chat_row = one row/utterance of data\n",
    "@param col_name = the name of the col for z score calculation.It will be the positive words count\n",
    "@return z score of positive words at a chat level\n",
    "'''\n",
    "def chat_pos_zscore():\n",
    "    chat_row['zscore_chats'] = stats.zscore(chats_data[col_name])\n",
    "    return (chat_row)\n"
   ]
  },
  {
   "cell_type": "code",
   "execution_count": 7,
   "metadata": {},
   "outputs": [],
   "source": [
    "#get the z-score of positive words at the conversation level\n",
    "'''\n",
    "@param conversation = each row contains the entire chat level data\n",
    "@param col_name = the name of the col for z score calculation.It will be the positive words count\n",
    "@return z score of positive words at a conversation level\n",
    "'''\n",
    "def convo_pos_zscore():\n",
    "    convo_row = convo_row[[\"batch_num\", \"round_num\", on_column]].groupby([\"batch_num\", \"round_num\"]).groupby([\"batch_num\", \"round_num\"]).resetIndex()\n",
    "    convo_row ['zscore_conversation'] = stats.zscore(convo_row [on_column])\n",
    "    return convo_row"
   ]
  }
 ],
 "metadata": {
  "kernelspec": {
   "display_name": "Python 3.10.7 64-bit",
   "language": "python",
   "name": "python3"
  },
  "language_info": {
   "codemirror_mode": {
    "name": "ipython",
    "version": 3
   },
   "file_extension": ".py",
   "mimetype": "text/x-python",
   "name": "python",
   "nbconvert_exporter": "python",
   "pygments_lexer": "ipython3",
   "version": "3.10.7"
  },
  "orig_nbformat": 4,
  "vscode": {
   "interpreter": {
    "hash": "aee8b7b246df8f9039afb4144a1f6fd8d2ca17a180786b69acc140d282b71a49"
   }
  }
 },
 "nbformat": 4,
 "nbformat_minor": 2
}
