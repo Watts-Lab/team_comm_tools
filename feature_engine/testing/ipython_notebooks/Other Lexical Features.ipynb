{
 "cells": [
  {
   "cell_type": "code",
   "execution_count": 1,
   "metadata": {},
   "outputs": [],
   "source": [
    "import pandas as pd\n",
    "import itertools\n",
    "import sys \n",
    "import os, glob\n",
    "import re"
   ]
  },
  {
   "cell_type": "code",
   "execution_count": 2,
   "id": "2355b89a",
   "metadata": {},
   "outputs": [],
   "source": [
    "sys.path.append('/Users/xehu/Desktop/Team Process Map/team-process-map/feature_engine/')"
   ]
  },
  {
   "cell_type": "code",
   "execution_count": 3,
   "id": "04094ab4",
   "metadata": {},
   "outputs": [],
   "source": [
    "from features.other_LIWC_features import *\n",
    "from features.word_mimicry import *\n",
    "from utils.preprocess import *"
   ]
  },
  {
   "cell_type": "code",
   "execution_count": 4,
   "id": "c0c07233",
   "metadata": {},
   "outputs": [],
   "source": [
    "# test file\n",
    "INPUT_FILE_PATH = '../../data/raw_data/juries_tiny_for_testing.csv'\n",
    "chat_data = pd.read_csv(INPUT_FILE_PATH)\n",
    "\n",
    "chat_data['message'] = chat_data['message'].astype(str).apply(preprocess_text)"
   ]
  },
  {
   "cell_type": "code",
   "execution_count": 5,
   "id": "8891088a",
   "metadata": {},
   "outputs": [
    {
     "data": {
      "text/html": [
       "<div>\n",
       "<style scoped>\n",
       "    .dataframe tbody tr th:only-of-type {\n",
       "        vertical-align: middle;\n",
       "    }\n",
       "\n",
       "    .dataframe tbody tr th {\n",
       "        vertical-align: top;\n",
       "    }\n",
       "\n",
       "    .dataframe thead th {\n",
       "        text-align: right;\n",
       "    }\n",
       "</style>\n",
       "<table border=\"1\" class=\"dataframe\">\n",
       "  <thead>\n",
       "    <tr style=\"text-align: right;\">\n",
       "      <th></th>\n",
       "      <th>batch_num</th>\n",
       "      <th>round_num</th>\n",
       "      <th>speaker_hash</th>\n",
       "      <th>speaker_nickname</th>\n",
       "      <th>timestamp</th>\n",
       "      <th>message</th>\n",
       "      <th>majority_pct</th>\n",
       "      <th>num_flipped</th>\n",
       "      <th>flipped_pct</th>\n",
       "      <th>num_votes</th>\n",
       "    </tr>\n",
       "  </thead>\n",
       "  <tbody>\n",
       "    <tr>\n",
       "      <th>0</th>\n",
       "      <td>0</td>\n",
       "      <td>0</td>\n",
       "      <td>5e7e1e0031f4e454e196c30b</td>\n",
       "      <td>niceRhino</td>\n",
       "      <td>2020-04-20T18:27:20.125Z</td>\n",
       "      <td>hello</td>\n",
       "      <td>1.0</td>\n",
       "      <td>1</td>\n",
       "      <td>0.333333</td>\n",
       "      <td>3</td>\n",
       "    </tr>\n",
       "    <tr>\n",
       "      <th>1</th>\n",
       "      <td>0</td>\n",
       "      <td>0</td>\n",
       "      <td>5e31d6e4e31c5304c46f1413</td>\n",
       "      <td>culturedCow</td>\n",
       "      <td>2020-04-20T18:27:23.764Z</td>\n",
       "      <td>hi</td>\n",
       "      <td>1.0</td>\n",
       "      <td>1</td>\n",
       "      <td>0.333333</td>\n",
       "      <td>3</td>\n",
       "    </tr>\n",
       "    <tr>\n",
       "      <th>2</th>\n",
       "      <td>0</td>\n",
       "      <td>0</td>\n",
       "      <td>5e7e4f4c31f4e454e196c9c4</td>\n",
       "      <td>spryBison</td>\n",
       "      <td>2020-04-20T18:27:27.724Z</td>\n",
       "      <td>hello</td>\n",
       "      <td>1.0</td>\n",
       "      <td>1</td>\n",
       "      <td>0.333333</td>\n",
       "      <td>3</td>\n",
       "    </tr>\n",
       "    <tr>\n",
       "      <th>3</th>\n",
       "      <td>0</td>\n",
       "      <td>0</td>\n",
       "      <td>5d482ea421c9be351f762255</td>\n",
       "      <td>youngLion</td>\n",
       "      <td>2020-04-20T18:27:30.410Z</td>\n",
       "      <td>hi</td>\n",
       "      <td>1.0</td>\n",
       "      <td>1</td>\n",
       "      <td>0.333333</td>\n",
       "      <td>3</td>\n",
       "    </tr>\n",
       "    <tr>\n",
       "      <th>4</th>\n",
       "      <td>0</td>\n",
       "      <td>0</td>\n",
       "      <td>5e84cc3c50f6e364321d6265</td>\n",
       "      <td>smallGiraffe</td>\n",
       "      <td>2020-04-20T18:27:35.506Z</td>\n",
       "      <td>hi</td>\n",
       "      <td>1.0</td>\n",
       "      <td>1</td>\n",
       "      <td>0.333333</td>\n",
       "      <td>3</td>\n",
       "    </tr>\n",
       "  </tbody>\n",
       "</table>\n",
       "</div>"
      ],
      "text/plain": [
       "   batch_num  round_num              speaker_hash speaker_nickname  \\\n",
       "0          0          0  5e7e1e0031f4e454e196c30b        niceRhino   \n",
       "1          0          0  5e31d6e4e31c5304c46f1413      culturedCow   \n",
       "2          0          0  5e7e4f4c31f4e454e196c9c4        spryBison   \n",
       "3          0          0  5d482ea421c9be351f762255        youngLion   \n",
       "4          0          0  5e84cc3c50f6e364321d6265     smallGiraffe   \n",
       "\n",
       "                  timestamp message  majority_pct  num_flipped  flipped_pct  \\\n",
       "0  2020-04-20T18:27:20.125Z  hello            1.0            1     0.333333   \n",
       "1  2020-04-20T18:27:23.764Z      hi           1.0            1     0.333333   \n",
       "2  2020-04-20T18:27:27.724Z   hello           1.0            1     0.333333   \n",
       "3  2020-04-20T18:27:30.410Z      hi           1.0            1     0.333333   \n",
       "4  2020-04-20T18:27:35.506Z      hi           1.0            1     0.333333   \n",
       "\n",
       "   num_votes  \n",
       "0          3  \n",
       "1          3  \n",
       "2          3  \n",
       "3          3  \n",
       "4          3  "
      ]
     },
     "execution_count": 5,
     "metadata": {},
     "output_type": "execute_result"
    }
   ],
   "source": [
    "chat_data.head()"
   ]
  },
  {
   "cell_type": "code",
   "execution_count": 8,
   "id": "88dfc5a7",
   "metadata": {},
   "outputs": [
    {
     "data": {
      "text/plain": [
       "4"
      ]
     },
     "execution_count": 8,
     "metadata": {},
     "output_type": "execute_result"
    }
   ],
   "source": [
    "num_question_naive(\"what? who? why? when?\")"
   ]
  },
  {
   "cell_type": "code",
   "execution_count": null,
   "id": "a1e09dcc",
   "metadata": {},
   "outputs": [
    {
     "data": {
      "text/plain": [
       "0.6666666666666666"
      ]
     },
     "execution_count": 7,
     "metadata": {},
     "output_type": "execute_result"
    }
   ],
   "source": [
    "get_word_TTR(\"what? who? why? when? why? why?\")"
   ]
  },
  {
   "cell_type": "code",
   "execution_count": null,
   "id": "e4b076e6",
   "metadata": {},
   "outputs": [
    {
     "data": {
      "text/plain": [
       "1"
      ]
     },
     "execution_count": 8,
     "metadata": {},
     "output_type": "execute_result"
    }
   ],
   "source": [
    "classify_NTRI(\"what? say it again?\")"
   ]
  },
  {
   "cell_type": "code",
   "execution_count": null,
   "id": "10677e71",
   "metadata": {},
   "outputs": [
    {
     "data": {
      "text/plain": [
       "0"
      ]
     },
     "execution_count": 9,
     "metadata": {},
     "output_type": "execute_result"
    }
   ],
   "source": [
    "classify_NTRI(\"foobar\")"
   ]
  },
  {
   "cell_type": "code",
   "execution_count": null,
   "id": "4a427c26",
   "metadata": {},
   "outputs": [
    {
     "data": {
      "text/plain": [
       "1"
      ]
     },
     "execution_count": 10,
     "metadata": {},
     "output_type": "execute_result"
    }
   ],
   "source": [
    "classify_NTRI(\"pardon me, are you aaron burr, sir?\")"
   ]
  },
  {
   "cell_type": "code",
   "execution_count": 7,
   "id": "eca5a8ad",
   "metadata": {},
   "outputs": [
    {
     "data": {
      "text/plain": [
       "0"
      ]
     },
     "execution_count": 7,
     "metadata": {},
     "output_type": "execute_result"
    }
   ],
   "source": [
    "classify_NTRI(\"what is your thought on this issue\")"
   ]
  },
  {
   "cell_type": "code",
   "execution_count": null,
   "id": "07602cf0",
   "metadata": {},
   "outputs": [
    {
     "data": {
      "text/plain": [
       "2"
      ]
     },
     "execution_count": 14,
     "metadata": {},
     "output_type": "execute_result"
    }
   ],
   "source": [
    "num_question(\"that depends, who\\'s asking?\")"
   ]
  }
 ],
 "metadata": {
  "kernelspec": {
   "display_name": "Python 3.9.5 64-bit",
   "language": "python",
   "name": "python3"
  },
  "language_info": {
   "codemirror_mode": {
    "name": "ipython",
    "version": 3
   },
   "file_extension": ".py",
   "mimetype": "text/x-python",
   "name": "python",
   "nbconvert_exporter": "python",
   "pygments_lexer": "ipython3",
   "version": "3.9.5"
  },
  "vscode": {
   "interpreter": {
    "hash": "7812ea015bdcee6f23a998adcdd2ef97c151c0c241b7b7070987d9313e41299d"
   }
  }
 },
 "nbformat": 4,
 "nbformat_minor": 5
}
