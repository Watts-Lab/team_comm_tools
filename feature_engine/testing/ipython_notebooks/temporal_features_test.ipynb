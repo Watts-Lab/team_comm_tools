{
 "cells": [
  {
   "cell_type": "code",
   "execution_count": 1,
   "metadata": {},
   "outputs": [],
   "source": [
    "import pandas as pd\n",
    "import sys \n",
    "import os, glob"
   ]
  },
  {
   "cell_type": "code",
   "execution_count": 2,
   "metadata": {},
   "outputs": [],
   "source": [
    "sys.path.append('/Users/xehu/Desktop/Team Process Map/team-process-map/feature_engine/')"
   ]
  },
  {
   "cell_type": "code",
   "execution_count": 3,
   "metadata": {},
   "outputs": [],
   "source": [
    "from features.temporal_features import *"
   ]
  },
  {
   "cell_type": "code",
   "execution_count": 4,
   "metadata": {},
   "outputs": [
    {
     "name": "stdout",
     "output_type": "stream",
     "text": [
      "0      0.0\n",
      "1    300.0\n",
      "2    300.0\n",
      "Name: time_diff, dtype: float64\n"
     ]
    }
   ],
   "source": [
    "df = pd.DataFrame({'timestamp': ['2023-02-20 09:00:00', '2023-02-20 09:05:00', '2023-02-20 09:10:00'],\n",
    "                   'conversation_num': ['1', '1', '1'],\n",
    "                   'speaker_nickname': ['a', 'b', 'c']})\n",
    "df[\"time_diff\"] = get_time_diff(df,'timestamp')   \n",
    "print(df['time_diff'])"
   ]
  },
  {
   "cell_type": "code",
   "execution_count": 5,
   "metadata": {},
   "outputs": [
    {
     "name": "stdout",
     "output_type": "stream",
     "text": [
      "0      0.000\n",
      "1     43.730\n",
      "2    276.027\n",
      "Name: time_diff, dtype: float64\n"
     ]
    }
   ],
   "source": [
    "# GMT: Friday, February 24, 2023 6:08:32.288 PM\n",
    "# GMT: Friday, February 24, 2023 6:09:16.018 PM\n",
    "# GMT: Friday, February 24, 2023 6:13:52.045 PM\n",
    "\n",
    "df = pd.DataFrame({'timestamp': [1677262112288, 1677262156018, 1677262432045],\n",
    "                   'conversation_num': ['1', '1', '1'],\n",
    "                   'speaker_nickname': ['a', 'b', 'c']})\n",
    "df[\"time_diff\"] = get_time_diff(df,'timestamp')   \n",
    "print(df['time_diff'])"
   ]
  }
 ],
 "metadata": {
  "kernelspec": {
   "display_name": "Python 3.10.7 64-bit",
   "language": "python",
   "name": "python3"
  },
  "language_info": {
   "codemirror_mode": {
    "name": "ipython",
    "version": 3
   },
   "file_extension": ".py",
   "mimetype": "text/x-python",
   "name": "python",
   "nbconvert_exporter": "python",
   "pygments_lexer": "ipython3",
   "version": "3.11.3"
  },
  "orig_nbformat": 4,
  "vscode": {
   "interpreter": {
    "hash": "aee8b7b246df8f9039afb4144a1f6fd8d2ca17a180786b69acc140d282b71a49"
   }
  }
 },
 "nbformat": 4,
 "nbformat_minor": 2
}
