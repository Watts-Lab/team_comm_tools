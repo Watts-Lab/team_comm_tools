{
 "cells": [
  {
   "cell_type": "code",
   "execution_count": 4,
   "metadata": {},
   "outputs": [],
   "source": [
    "import pandas as pd\n",
    "import sys \n",
    "import os, glob"
   ]
  },
  {
   "cell_type": "code",
   "execution_count": 10,
   "metadata": {},
   "outputs": [],
   "source": [
    "sys.path.append('/Users/xehu/Desktop/Team Process Map/team-process-map/feature_engine/')"
   ]
  },
  {
   "cell_type": "code",
   "execution_count": 11,
   "metadata": {},
   "outputs": [],
   "source": [
    "from features.temporal_features import *"
   ]
  },
  {
   "cell_type": "code",
   "execution_count": 12,
   "metadata": {},
   "outputs": [],
   "source": [
    "import utils.summarize_chat_level_features as summary"
   ]
  },
  {
   "cell_type": "code",
   "execution_count": 13,
   "metadata": {},
   "outputs": [],
   "source": [
    "def mean_msg_duration(df,on_column):\n",
    "\n",
    "    #convert timestamp column to datetime type (in minutes)\n",
    "    df[on_column] = pd.to_datetime(df[on_column])\n",
    "\n",
    "    # calculate difference between consecutive timestamps\n",
    "    df['time_diff'] = df[on_column].diff().dt.total_seconds()/60\n",
    "    \n",
    "    return summary.get_average(df, 'time_diff', 'avg_time')\n"
   ]
  },
  {
   "cell_type": "code",
   "execution_count": 14,
   "metadata": {},
   "outputs": [],
   "source": [
    "def stddev_msg_duration(df,on_column):\n",
    "\n",
    "    #convert timestamp column to datetime type (in minutes)\n",
    "    df[on_column] = pd.to_datetime(df[on_column])\n",
    "\n",
    "    # calculate difference between consecutive timestamps\n",
    "    df['time_diff'] = df[on_column].diff().dt.total_seconds()/60\n",
    "\n",
    "    return summary.get_stdev(df, 'time_diff', 'std_dev_time')"
   ]
  },
  {
   "cell_type": "code",
   "execution_count": 15,
   "metadata": {},
   "outputs": [
    {
     "data": {
      "text/plain": [
       "0    0.0\n",
       "1    0.0\n",
       "2    0.0\n",
       "Name: std_dev_time, dtype: float64"
      ]
     },
     "execution_count": 15,
     "metadata": {},
     "output_type": "execute_result"
    }
   ],
   "source": [
    "df = pd.DataFrame({'timestamp': ['2023-02-20 09:00:00', '2023-02-20 09:05:00', '2023-02-20 09:10:00'],\n",
    "                   'conversation_num': ['1', '2', '3'],\n",
    "                   'speaker_nickname': ['a', 'b', 'c']})\n",
    "df1 = mean_msg_duration(df,'timestamp')   \n",
    "df1['avg_time']\n",
    "\n",
    "df = stddev_msg_duration(df,'timestamp')   \n",
    "df['std_dev_time']    "
   ]
  },
  {
   "cell_type": "code",
   "execution_count": 16,
   "metadata": {},
   "outputs": [
    {
     "data": {
      "text/plain": [
       "0    0.0\n",
       "1    0.0\n",
       "2    0.0\n",
       "Name: std_dev_time, dtype: float64"
      ]
     },
     "execution_count": 16,
     "metadata": {},
     "output_type": "execute_result"
    }
   ],
   "source": [
    "df = pd.DataFrame({'timestamp': [1677262112288, 1677262432045, 1677262156018],\n",
    "                   'conversation_num': ['1', '2', '3'],\n",
    "                   'speaker_nickname': ['a', 'b', 'c']})\n",
    "df1 = mean_msg_duration(df,'timestamp')   \n",
    "df1['avg_time']\n",
    "\n",
    "df = stddev_msg_duration(df,'timestamp')   \n",
    "df['std_dev_time']  "
   ]
  }
 ],
 "metadata": {
  "kernelspec": {
   "display_name": "Python 3.10.7 64-bit",
   "language": "python",
   "name": "python3"
  },
  "language_info": {
   "codemirror_mode": {
    "name": "ipython",
    "version": 3
   },
   "file_extension": ".py",
   "mimetype": "text/x-python",
   "name": "python",
   "nbconvert_exporter": "python",
   "pygments_lexer": "ipython3",
   "version": "3.11.3"
  },
  "orig_nbformat": 4,
  "vscode": {
   "interpreter": {
    "hash": "aee8b7b246df8f9039afb4144a1f6fd8d2ca17a180786b69acc140d282b71a49"
   }
  }
 },
 "nbformat": 4,
 "nbformat_minor": 2
}
