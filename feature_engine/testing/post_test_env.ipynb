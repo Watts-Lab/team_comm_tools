{
 "cells": [
  {
   "cell_type": "code",
   "execution_count": 15,
   "metadata": {},
   "outputs": [
    {
     "name": "stdout",
     "output_type": "stream",
     "text": [
      "Tested 12 features out of 112 chat level features: 10.71% Coverage!\n"
     ]
    }
   ],
   "source": [
    "# log coverage of tests\n",
    "# tested X features out of Y features (analyze testing datasets)\n",
    "import pandas as pd\n",
    "chat_df = pd.read_csv('../output/chat/test_chat_level_chat.csv')\n",
    "num_features = chat_df.columns.size - 7\n",
    "num_tested = chat_df['expected_column'].nunique()\n",
    "print(f'Tested {num_tested} features out of {num_features} chat level features: {num_tested/num_features * 100:.2f}% Coverage!')"
   ]
  },
  {
   "cell_type": "code",
   "execution_count": 16,
   "metadata": {},
   "outputs": [
    {
     "name": "stdout",
     "output_type": "stream",
     "text": [
      "Tested 1 features out of 1332 chat level features: 0.08% Coverage!\n"
     ]
    }
   ],
   "source": [
    "conv_df = pd.read_csv('../output/conv/test_conv_level_conv.csv')\n",
    "num_features = conv_df.columns.size - 7\n",
    "num_tested = conv_df['expected_column'].nunique()\n",
    "print(f'Tested {num_tested} features out of {num_features} chat level features: {num_tested/num_features * 100:.2f}% Coverage!')"
   ]
  },
  {
   "cell_type": "code",
   "execution_count": null,
   "metadata": {},
   "outputs": [],
   "source": [
    "# write print to file\n",
    "with open('../output/coverage.txt', 'w') as f:\n",
    "    f.write(f'Tested {num_tested} features out of {num_features} chat level features: {num_tested/num_features * 100:.2f}% Coverage!\\n')\n",
    "    f.write(f'Tested {num_tested} features out of {num_features} conv level features: {num_tested/num_features * 100:.2f}% Coverage!\\n')"
   ]
  }
 ],
 "metadata": {
  "kernelspec": {
   "display_name": "Python 3",
   "language": "python",
   "name": "python3"
  },
  "language_info": {
   "codemirror_mode": {
    "name": "ipython",
    "version": 3
   },
   "file_extension": ".py",
   "mimetype": "text/x-python",
   "name": "python",
   "nbconvert_exporter": "python",
   "pygments_lexer": "ipython3",
   "version": "3.11.6"
  }
 },
 "nbformat": 4,
 "nbformat_minor": 2
}
